{
 "cells": [
  {
   "cell_type": "code",
   "execution_count": null,
   "metadata": {},
   "outputs": [],
   "source": [
    "import ee\n",
    "\n",
    "# 简化初始化逻辑\n",
    "try:\n",
    "    ee.Initialize(project='gee-satellite-data-456115')\n",
    "    print(\"Earth Engine 已成功初始化!\")\n",
    "except Exception as e:\n",
    "    print(\"初始化失败，请先在命令行运行 'earthengine authenticate'\")\n",
    "    print(f\"错误信息: {str(e)}\")"
   ]
  },
  {
   "cell_type": "code",
   "execution_count": 2,
   "metadata": {},
   "outputs": [],
   "source": [
    "import geemap\n",
    "import os\n",
    "import datetime\n",
    "import numpy as np\n",
    "import pandas as pd\n",
    "import geopandas as gpd\n",
    "import matplotlib.pyplot as plt\n",
    "import geedim as gd\n",
    "\n",
    "from satellite_indices_new import get_roi_from_shapefile, download_satellite_data"
   ]
  },
  {
   "cell_type": "code",
   "execution_count": null,
   "metadata": {},
   "outputs": [],
   "source": [
    "shapefile_path = 'shapefile/GeldersePoort_cliped.shp' # 确保路径正确\n",
    "roi = get_roi_from_shapefile(shapefile_path)"
   ]
  },
  {
   "cell_type": "code",
   "execution_count": null,
   "metadata": {},
   "outputs": [],
   "source": [
    "# yearly data\n",
    "download_satellite_data(\n",
    "        roi=roi, # 将加载的 roi 作为参数传递\n",
    "        start_year=1993,\n",
    "        end_year=2024,\n",
    "        parent_folder='GEEpreprocessing/yearly', # 输出文件夹\n",
    "        monthly=False # 设置为 True 下载月度数据\n",
    "        # months=[6, 7, 8] # 如果 monthly=True，可以指定月份\n",
    "    )"
   ]
  },
  {
   "cell_type": "code",
   "execution_count": 7,
   "metadata": {},
   "outputs": [
    {
     "data": {
      "text/html": [
       "\n",
       "            <style>\n",
       "                .geemap-dark {\n",
       "                    --jp-widgets-color: white;\n",
       "                    --jp-widgets-label-color: white;\n",
       "                    --jp-ui-font-color1: white;\n",
       "                    --jp-layout-color2: #454545;\n",
       "                    background-color: #383838;\n",
       "                }\n",
       "\n",
       "                .geemap-dark .jupyter-button {\n",
       "                    --jp-layout-color3: #383838;\n",
       "                }\n",
       "\n",
       "                .geemap-colab {\n",
       "                    background-color: var(--colab-primary-surface-color, white);\n",
       "                }\n",
       "\n",
       "                .geemap-colab .jupyter-button {\n",
       "                    --jp-layout-color3: var(--colab-primary-surface-color, white);\n",
       "                }\n",
       "            </style>\n",
       "            "
      ],
      "text/plain": [
       "<IPython.core.display.HTML object>"
      ]
     },
     "metadata": {},
     "output_type": "display_data"
    },
    {
     "name": "stdout",
     "output_type": "stream",
     "text": [
      "--- Starting Monthly (Max Coverage Mode) Download (1996-2024) ---\n",
      "🔧 Maximum coverage mode enabled: Prioritizing data continuity\n",
      "--- Output Directory: GEEpreprocessing/monthly\\monthly_maxcov ---\n",
      "\n",
      "--- Processing 1996_01 ---\n",
      "    🛰️  Falling back to Landsat...\n",
      "      📅 Expanding time window ±7 days: 1995-12-25 to 1996-02-07\n",
      "      ✅ Found 1 images\n",
      "      🔧 Using relaxed masking mode (clouds only)\n",
      "      🔧 Using relaxed masking mode (clouds only)\n",
      "      🔧 Using relaxed masking mode (clouds only)\n",
      "   📤 Preparing to export NDVI: NDVI_1996_01.tif\n"
     ]
    },
    {
     "data": {
      "application/vnd.jupyter.widget-view+json": {
       "model_id": "bd744df3d35f40e997eaa77347e75044",
       "version_major": 2,
       "version_minor": 0
      },
      "text/plain": [
       "NDVI_1996_01.tif: |          | 0.00/1.82M (raw) [  0.0%] in 00:00 (eta:     ?)"
      ]
     },
     "metadata": {},
     "output_type": "display_data"
    },
    {
     "name": "stdout",
     "output_type": "stream",
     "text": [
      "   ✅ NDVI export completed: NDVI_1996_01.tif\n",
      "   📤 Preparing to export NIRv: NIRv_1996_01.tif\n"
     ]
    },
    {
     "data": {
      "application/vnd.jupyter.widget-view+json": {
       "model_id": "4c893928b4944fbca59f7b088f766724",
       "version_major": 2,
       "version_minor": 0
      },
      "text/plain": [
       "NIRv_1996_01.tif: |          | 0.00/3.64M (raw) [  0.0%] in 00:00 (eta:     ?)"
      ]
     },
     "metadata": {},
     "output_type": "display_data"
    },
    {
     "name": "stdout",
     "output_type": "stream",
     "text": [
      "   ✅ NIRv export completed: NIRv_1996_01.tif\n",
      "✅ 1996_01 successfully exported\n",
      "\n",
      "--- Processing 1996_02 ---\n",
      "    🛰️  Falling back to Landsat...\n",
      "      📅 Expanding time window ±7 days: 1996-01-25 to 1996-03-07\n",
      "      ✅ Found 1 images\n",
      "      🔧 Using relaxed masking mode (clouds only)\n",
      "      🔧 Using relaxed masking mode (clouds only)\n",
      "      🔧 Using relaxed masking mode (clouds only)\n",
      "   📤 Preparing to export NDVI: NDVI_1996_02.tif\n"
     ]
    },
    {
     "data": {
      "application/vnd.jupyter.widget-view+json": {
       "model_id": "ed9246327f3d45d294bd84ef74dc8cf7",
       "version_major": 2,
       "version_minor": 0
      },
      "text/plain": [
       "NDVI_1996_02.tif: |          | 0.00/1.82M (raw) [  0.0%] in 00:00 (eta:     ?)"
      ]
     },
     "metadata": {},
     "output_type": "display_data"
    },
    {
     "name": "stdout",
     "output_type": "stream",
     "text": [
      "   ✅ NDVI export completed: NDVI_1996_02.tif\n",
      "   📤 Preparing to export NIRv: NIRv_1996_02.tif\n"
     ]
    },
    {
     "data": {
      "application/vnd.jupyter.widget-view+json": {
       "model_id": "6432a4ec4c2b49e182cfb11866ea8fe3",
       "version_major": 2,
       "version_minor": 0
      },
      "text/plain": [
       "NIRv_1996_02.tif: |          | 0.00/3.64M (raw) [  0.0%] in 00:00 (eta:     ?)"
      ]
     },
     "metadata": {},
     "output_type": "display_data"
    },
    {
     "name": "stdout",
     "output_type": "stream",
     "text": [
      "   ✅ NIRv export completed: NIRv_1996_02.tif\n",
      "✅ 1996_02 successfully exported\n",
      "\n",
      "--- Processing 1996_03 ---\n",
      "    🛰️  Falling back to Landsat...\n",
      "      📅 Expanding time window ±7 days: 1996-02-23 to 1996-04-07\n",
      "      ✅ Found 1 images\n",
      "      🔧 Using relaxed masking mode (clouds only)\n",
      "      🔧 Using relaxed masking mode (clouds only)\n",
      "      🔧 Using relaxed masking mode (clouds only)\n",
      "   📤 Preparing to export NDVI: NDVI_1996_03.tif\n"
     ]
    },
    {
     "data": {
      "application/vnd.jupyter.widget-view+json": {
       "model_id": "e952627d1b6449cd8bfdd50526da35c7",
       "version_major": 2,
       "version_minor": 0
      },
      "text/plain": [
       "NDVI_1996_03.tif: |          | 0.00/1.82M (raw) [  0.0%] in 00:00 (eta:     ?)"
      ]
     },
     "metadata": {},
     "output_type": "display_data"
    },
    {
     "name": "stdout",
     "output_type": "stream",
     "text": [
      "   ✅ NDVI export completed: NDVI_1996_03.tif\n",
      "   📤 Preparing to export NIRv: NIRv_1996_03.tif\n"
     ]
    },
    {
     "data": {
      "application/vnd.jupyter.widget-view+json": {
       "model_id": "ae7c4d9371074645ba952f2e0c786dbc",
       "version_major": 2,
       "version_minor": 0
      },
      "text/plain": [
       "NIRv_1996_03.tif: |          | 0.00/3.64M (raw) [  0.0%] in 00:00 (eta:     ?)"
      ]
     },
     "metadata": {},
     "output_type": "display_data"
    },
    {
     "name": "stdout",
     "output_type": "stream",
     "text": [
      "   ✅ NIRv export completed: NIRv_1996_03.tif\n",
      "✅ 1996_03 successfully exported\n",
      "\n",
      "--- Processing 1996_04 ---\n",
      "    🛰️  Falling back to Landsat...\n",
      "      📅 Expanding time window ±7 days: 1996-03-25 to 1996-05-07\n",
      "      ✅ Found 1 images\n",
      "      🔧 Using relaxed masking mode (clouds only)\n",
      "      🔧 Using relaxed masking mode (clouds only)\n",
      "      🔧 Using relaxed masking mode (clouds only)\n",
      "   📤 Preparing to export NDVI: NDVI_1996_04.tif\n"
     ]
    },
    {
     "data": {
      "application/vnd.jupyter.widget-view+json": {
       "model_id": "08b1c80e29824397a67b95635ccfdef1",
       "version_major": 2,
       "version_minor": 0
      },
      "text/plain": [
       "NDVI_1996_04.tif: |          | 0.00/1.82M (raw) [  0.0%] in 00:00 (eta:     ?)"
      ]
     },
     "metadata": {},
     "output_type": "display_data"
    },
    {
     "name": "stdout",
     "output_type": "stream",
     "text": [
      "   ✅ NDVI export completed: NDVI_1996_04.tif\n",
      "   📤 Preparing to export NIRv: NIRv_1996_04.tif\n"
     ]
    },
    {
     "data": {
      "application/vnd.jupyter.widget-view+json": {
       "model_id": "d7452c8ababb469a9f21c300ece58562",
       "version_major": 2,
       "version_minor": 0
      },
      "text/plain": [
       "NIRv_1996_04.tif: |          | 0.00/3.64M (raw) [  0.0%] in 00:00 (eta:     ?)"
      ]
     },
     "metadata": {},
     "output_type": "display_data"
    },
    {
     "name": "stdout",
     "output_type": "stream",
     "text": [
      "   ✅ NIRv export completed: NIRv_1996_04.tif\n",
      "✅ 1996_04 successfully exported\n",
      "\n",
      "--- Processing 1996_05 ---\n",
      "    🛰️  Falling back to Landsat...\n",
      "      📅 Expanding time window ±7 days: 1996-04-24 to 1996-06-07\n",
      "      ✅ Found 2 images\n",
      "      🔧 Using relaxed masking mode (clouds only)\n",
      "      🔧 Using relaxed masking mode (clouds only)\n",
      "      🔧 Using relaxed masking mode (clouds only)\n",
      "   📤 Preparing to export NDVI: NDVI_1996_05.tif\n"
     ]
    },
    {
     "data": {
      "application/vnd.jupyter.widget-view+json": {
       "model_id": "dbde498b8f6c471e9fd44235dd054a6d",
       "version_major": 2,
       "version_minor": 0
      },
      "text/plain": [
       "NDVI_1996_05.tif: |          | 0.00/1.82M (raw) [  0.0%] in 00:00 (eta:     ?)"
      ]
     },
     "metadata": {},
     "output_type": "display_data"
    },
    {
     "name": "stdout",
     "output_type": "stream",
     "text": [
      "   ✅ NDVI export completed: NDVI_1996_05.tif\n",
      "   📤 Preparing to export NIRv: NIRv_1996_05.tif\n"
     ]
    },
    {
     "data": {
      "application/vnd.jupyter.widget-view+json": {
       "model_id": "13a28565d37a4e39b4a5498191c8fced",
       "version_major": 2,
       "version_minor": 0
      },
      "text/plain": [
       "NIRv_1996_05.tif: |          | 0.00/3.64M (raw) [  0.0%] in 00:00 (eta:     ?)"
      ]
     },
     "metadata": {},
     "output_type": "display_data"
    },
    {
     "name": "stdout",
     "output_type": "stream",
     "text": [
      "   ✅ NIRv export completed: NIRv_1996_05.tif\n",
      "✅ 1996_05 successfully exported\n",
      "\n",
      "--- Processing 1996_06 ---\n",
      "    🛰️  Falling back to Landsat...\n",
      "      📅 Expanding time window ±5 days: 1996-05-27 to 1996-07-05\n",
      "      ✅ Found 1 images\n",
      "   📤 Preparing to export NDVI: NDVI_1996_06.tif\n"
     ]
    },
    {
     "data": {
      "application/vnd.jupyter.widget-view+json": {
       "model_id": "954f752ec209487993d0dccedfc7353c",
       "version_major": 2,
       "version_minor": 0
      },
      "text/plain": [
       "NDVI_1996_06.tif: |          | 0.00/1.82M (raw) [  0.0%] in 00:00 (eta:     ?)"
      ]
     },
     "metadata": {},
     "output_type": "display_data"
    },
    {
     "name": "stdout",
     "output_type": "stream",
     "text": [
      "   ✅ NDVI export completed: NDVI_1996_06.tif\n",
      "   📤 Preparing to export NIRv: NIRv_1996_06.tif\n"
     ]
    },
    {
     "data": {
      "application/vnd.jupyter.widget-view+json": {
       "model_id": "b5d82aa46fd04bffb6e6bf647ab2edb0",
       "version_major": 2,
       "version_minor": 0
      },
      "text/plain": [
       "NIRv_1996_06.tif: |          | 0.00/3.64M (raw) [  0.0%] in 00:00 (eta:     ?)"
      ]
     },
     "metadata": {},
     "output_type": "display_data"
    },
    {
     "name": "stdout",
     "output_type": "stream",
     "text": [
      "   ✅ NIRv export completed: NIRv_1996_06.tif\n",
      "✅ 1996_06 successfully exported\n",
      "\n",
      "--- Processing 1996_07 ---\n",
      "    🛰️  Falling back to Landsat...\n",
      "      📅 Expanding time window ±5 days: 1996-06-26 to 1996-08-05\n",
      "      ✅ Found 1 images\n",
      "   📤 Preparing to export NDVI: NDVI_1996_07.tif\n"
     ]
    },
    {
     "data": {
      "application/vnd.jupyter.widget-view+json": {
       "model_id": "a6cb1c7c0ee54230b83ba4e990255a26",
       "version_major": 2,
       "version_minor": 0
      },
      "text/plain": [
       "NDVI_1996_07.tif: |          | 0.00/1.82M (raw) [  0.0%] in 00:00 (eta:     ?)"
      ]
     },
     "metadata": {},
     "output_type": "display_data"
    },
    {
     "name": "stdout",
     "output_type": "stream",
     "text": [
      "   ✅ NDVI export completed: NDVI_1996_07.tif\n",
      "   📤 Preparing to export NIRv: NIRv_1996_07.tif\n"
     ]
    },
    {
     "data": {
      "application/vnd.jupyter.widget-view+json": {
       "model_id": "b4fe7940cf5a471fa253e800147238f2",
       "version_major": 2,
       "version_minor": 0
      },
      "text/plain": [
       "NIRv_1996_07.tif: |          | 0.00/3.64M (raw) [  0.0%] in 00:00 (eta:     ?)"
      ]
     },
     "metadata": {},
     "output_type": "display_data"
    },
    {
     "name": "stdout",
     "output_type": "stream",
     "text": [
      "   ✅ NIRv export completed: NIRv_1996_07.tif\n",
      "✅ 1996_07 successfully exported\n",
      "\n",
      "--- Processing 1996_08 ---\n",
      "    🛰️  Falling back to Landsat...\n",
      "      📅 Expanding time window ±5 days: 1996-07-27 to 1996-09-05\n",
      "      ✅ Found 1 images\n",
      "   📤 Preparing to export NDVI: NDVI_1996_08.tif\n"
     ]
    },
    {
     "data": {
      "application/vnd.jupyter.widget-view+json": {
       "model_id": "d510bdc76f9742b8afd5f9cf5cbdc1a3",
       "version_major": 2,
       "version_minor": 0
      },
      "text/plain": [
       "NDVI_1996_08.tif: |          | 0.00/1.82M (raw) [  0.0%] in 00:00 (eta:     ?)"
      ]
     },
     "metadata": {},
     "output_type": "display_data"
    },
    {
     "name": "stdout",
     "output_type": "stream",
     "text": [
      "   ✅ NDVI export completed: NDVI_1996_08.tif\n",
      "   📤 Preparing to export NIRv: NIRv_1996_08.tif\n"
     ]
    },
    {
     "data": {
      "application/vnd.jupyter.widget-view+json": {
       "model_id": "e5420065a984476580b38226ae20a20d",
       "version_major": 2,
       "version_minor": 0
      },
      "text/plain": [
       "NIRv_1996_08.tif: |          | 0.00/3.64M (raw) [  0.0%] in 00:00 (eta:     ?)"
      ]
     },
     "metadata": {},
     "output_type": "display_data"
    },
    {
     "name": "stdout",
     "output_type": "stream",
     "text": [
      "   ✅ NIRv export completed: NIRv_1996_08.tif\n",
      "✅ 1996_08 successfully exported\n",
      "\n",
      "--- Processing 1996_09 ---\n",
      "    🛰️  Falling back to Landsat...\n",
      "      📅 Expanding time window ±7 days: 1996-08-25 to 1996-10-07\n",
      "      ✅ Found 2 images\n",
      "      🔧 Using relaxed masking mode (clouds only)\n",
      "      🔧 Using relaxed masking mode (clouds only)\n",
      "      🔧 Using relaxed masking mode (clouds only)\n",
      "   📤 Preparing to export NDVI: NDVI_1996_09.tif\n"
     ]
    },
    {
     "data": {
      "application/vnd.jupyter.widget-view+json": {
       "model_id": "1cf06402c4ac41359df7aba685a4b65c",
       "version_major": 2,
       "version_minor": 0
      },
      "text/plain": [
       "NDVI_1996_09.tif: |          | 0.00/1.82M (raw) [  0.0%] in 00:00 (eta:     ?)"
      ]
     },
     "metadata": {},
     "output_type": "display_data"
    },
    {
     "name": "stdout",
     "output_type": "stream",
     "text": [
      "   ✅ NDVI export completed: NDVI_1996_09.tif\n",
      "   📤 Preparing to export NIRv: NIRv_1996_09.tif\n"
     ]
    },
    {
     "data": {
      "application/vnd.jupyter.widget-view+json": {
       "model_id": "f2c5c3eab9d749e18a1d6bfe4d6e29be",
       "version_major": 2,
       "version_minor": 0
      },
      "text/plain": [
       "NIRv_1996_09.tif: |          | 0.00/3.64M (raw) [  0.0%] in 00:00 (eta:     ?)"
      ]
     },
     "metadata": {},
     "output_type": "display_data"
    },
    {
     "name": "stdout",
     "output_type": "stream",
     "text": [
      "   ✅ NIRv export completed: NIRv_1996_09.tif\n",
      "✅ 1996_09 successfully exported\n",
      "\n",
      "--- Processing 1996_10 ---\n",
      "    🛰️  Falling back to Landsat...\n",
      "      📅 Expanding time window ±7 days: 1996-09-24 to 1996-11-07\n",
      "      ✅ Found 1 images\n",
      "      🔧 Using relaxed masking mode (clouds only)\n",
      "      🔧 Using relaxed masking mode (clouds only)\n",
      "      🔧 Using relaxed masking mode (clouds only)\n",
      "   📤 Preparing to export NDVI: NDVI_1996_10.tif\n"
     ]
    },
    {
     "data": {
      "application/vnd.jupyter.widget-view+json": {
       "model_id": "635cf153f9dc48819bda6293d4baf049",
       "version_major": 2,
       "version_minor": 0
      },
      "text/plain": [
       "NDVI_1996_10.tif: |          | 0.00/1.82M (raw) [  0.0%] in 00:00 (eta:     ?)"
      ]
     },
     "metadata": {},
     "output_type": "display_data"
    },
    {
     "name": "stdout",
     "output_type": "stream",
     "text": [
      "   ✅ NDVI export completed: NDVI_1996_10.tif\n",
      "   📤 Preparing to export NIRv: NIRv_1996_10.tif\n"
     ]
    },
    {
     "data": {
      "application/vnd.jupyter.widget-view+json": {
       "model_id": "ef851b6b1f9e456ebeeab4d2a2f26298",
       "version_major": 2,
       "version_minor": 0
      },
      "text/plain": [
       "NIRv_1996_10.tif: |          | 0.00/3.64M (raw) [  0.0%] in 00:00 (eta:     ?)"
      ]
     },
     "metadata": {},
     "output_type": "display_data"
    },
    {
     "name": "stdout",
     "output_type": "stream",
     "text": [
      "   ✅ NIRv export completed: NIRv_1996_10.tif\n",
      "✅ 1996_10 successfully exported\n",
      "\n",
      "--- Processing 1996_11 ---\n",
      "    🛰️  Falling back to Landsat...\n",
      "      📅 Expanding time window ±7 days: 1996-10-25 to 1996-12-07\n",
      "      ⚠️  Attempt 1: Only found 0 images\n",
      "      📅 Expanding time window ±14 days: 1996-10-18 to 1996-12-14\n",
      "      🚨 Using final threshold 97%\n",
      "      ⚠️  Attempt 2: Only found 0 images\n",
      "      📅 Expanding time window ±25 days: 1996-10-07 to 1996-12-25\n",
      "      ✅ Found 1 images\n",
      "      🔧 Using relaxed masking mode (clouds only)\n",
      "      🔧 Using relaxed masking mode (clouds only)\n",
      "      🔧 Using relaxed masking mode (clouds only)\n",
      "   📤 Preparing to export NDVI: NDVI_1996_11.tif\n"
     ]
    },
    {
     "data": {
      "application/vnd.jupyter.widget-view+json": {
       "model_id": "9629ebc3207f4dcda14e0dcbc4a22687",
       "version_major": 2,
       "version_minor": 0
      },
      "text/plain": [
       "NDVI_1996_11.tif: |          | 0.00/1.82M (raw) [  0.0%] in 00:00 (eta:     ?)"
      ]
     },
     "metadata": {},
     "output_type": "display_data"
    },
    {
     "name": "stdout",
     "output_type": "stream",
     "text": [
      "   ✅ NDVI export completed: NDVI_1996_11.tif\n",
      "   📤 Preparing to export NIRv: NIRv_1996_11.tif\n"
     ]
    },
    {
     "data": {
      "application/vnd.jupyter.widget-view+json": {
       "model_id": "7525cf33487149cb8859b632c56bf2d8",
       "version_major": 2,
       "version_minor": 0
      },
      "text/plain": [
       "NIRv_1996_11.tif: |          | 0.00/3.64M (raw) [  0.0%] in 00:00 (eta:     ?)"
      ]
     },
     "metadata": {},
     "output_type": "display_data"
    },
    {
     "name": "stdout",
     "output_type": "stream",
     "text": [
      "   ✅ NIRv export completed: NIRv_1996_11.tif\n",
      "✅ 1996_11 successfully exported\n",
      "\n",
      "--- Processing 1996_12 ---\n",
      "    🛰️  Falling back to Landsat...\n",
      "      📅 Expanding time window ±7 days: 1996-11-24 to 1997-01-07\n",
      "      ⚠️  Attempt 1: Only found 0 images\n",
      "      📅 Expanding time window ±15 days: 1996-11-16 to 1997-01-15\n",
      "      🚨 Using final threshold 99%\n",
      "      ⚠️  Attempt 2: Only found 0 images\n",
      "      📅 Expanding time window ±30 days: 1996-11-01 to 1997-01-30\n",
      "      ✅ Found 1 images\n",
      "      🔧 Using relaxed masking mode (clouds only)\n",
      "      🔧 Using relaxed masking mode (clouds only)\n",
      "      🔧 Using relaxed masking mode (clouds only)\n",
      "   📤 Preparing to export NDVI: NDVI_1996_12.tif\n"
     ]
    },
    {
     "data": {
      "application/vnd.jupyter.widget-view+json": {
       "model_id": "3d0f8b053b2549e290a763f019ab7b61",
       "version_major": 2,
       "version_minor": 0
      },
      "text/plain": [
       "NDVI_1996_12.tif: |          | 0.00/1.82M (raw) [  0.0%] in 00:00 (eta:     ?)"
      ]
     },
     "metadata": {},
     "output_type": "display_data"
    },
    {
     "name": "stdout",
     "output_type": "stream",
     "text": [
      "   ✅ NDVI export completed: NDVI_1996_12.tif\n",
      "   📤 Preparing to export NIRv: NIRv_1996_12.tif\n"
     ]
    },
    {
     "data": {
      "application/vnd.jupyter.widget-view+json": {
       "model_id": "720de906048847b086148d6f4a7f1c1e",
       "version_major": 2,
       "version_minor": 0
      },
      "text/plain": [
       "NIRv_1996_12.tif: |          | 0.00/3.64M (raw) [  0.0%] in 00:00 (eta:     ?)"
      ]
     },
     "metadata": {},
     "output_type": "display_data"
    },
    {
     "name": "stdout",
     "output_type": "stream",
     "text": [
      "   ✅ NIRv export completed: NIRv_1996_12.tif\n",
      "✅ 1996_12 successfully exported\n",
      "\n",
      "--- Processing 1997_01 ---\n",
      "    🛰️  Falling back to Landsat...\n",
      "      📅 Expanding time window ±7 days: 1996-12-25 to 1997-02-07\n",
      "      ✅ Found 1 images\n",
      "      🔧 Using relaxed masking mode (clouds only)\n",
      "      🔧 Using relaxed masking mode (clouds only)\n",
      "      🔧 Using relaxed masking mode (clouds only)\n",
      "   📤 Preparing to export NDVI: NDVI_1997_01.tif\n"
     ]
    },
    {
     "data": {
      "application/vnd.jupyter.widget-view+json": {
       "model_id": "a6dca829917f4135950fbba4be2e9228",
       "version_major": 2,
       "version_minor": 0
      },
      "text/plain": [
       "NDVI_1997_01.tif: |          | 0.00/1.82M (raw) [  0.0%] in 00:00 (eta:     ?)"
      ]
     },
     "metadata": {},
     "output_type": "display_data"
    },
    {
     "name": "stdout",
     "output_type": "stream",
     "text": [
      "   ✅ NDVI export completed: NDVI_1997_01.tif\n",
      "   📤 Preparing to export NIRv: NIRv_1997_01.tif\n"
     ]
    },
    {
     "data": {
      "application/vnd.jupyter.widget-view+json": {
       "model_id": "d93d842e8fac40ffafad223aee07824f",
       "version_major": 2,
       "version_minor": 0
      },
      "text/plain": [
       "NIRv_1997_01.tif: |          | 0.00/3.64M (raw) [  0.0%] in 00:00 (eta:     ?)"
      ]
     },
     "metadata": {},
     "output_type": "display_data"
    },
    {
     "name": "stdout",
     "output_type": "stream",
     "text": [
      "   ✅ NIRv export completed: NIRv_1997_01.tif\n",
      "✅ 1997_01 successfully exported\n",
      "\n",
      "--- Processing 1997_02 ---\n",
      "    🛰️  Falling back to Landsat...\n",
      "      📅 Expanding time window ±7 days: 1997-01-25 to 1997-03-07\n",
      "      ✅ Found 1 images\n",
      "      🔧 Using relaxed masking mode (clouds only)\n",
      "      🔧 Using relaxed masking mode (clouds only)\n",
      "      🔧 Using relaxed masking mode (clouds only)\n",
      "   📤 Preparing to export NDVI: NDVI_1997_02.tif\n"
     ]
    },
    {
     "data": {
      "application/vnd.jupyter.widget-view+json": {
       "model_id": "f7c72d2c7023454899e460891423df2c",
       "version_major": 2,
       "version_minor": 0
      },
      "text/plain": [
       "NDVI_1997_02.tif: |          | 0.00/1.82M (raw) [  0.0%] in 00:00 (eta:     ?)"
      ]
     },
     "metadata": {},
     "output_type": "display_data"
    },
    {
     "name": "stdout",
     "output_type": "stream",
     "text": [
      "   ✅ NDVI export completed: NDVI_1997_02.tif\n",
      "   📤 Preparing to export NIRv: NIRv_1997_02.tif\n"
     ]
    },
    {
     "data": {
      "application/vnd.jupyter.widget-view+json": {
       "model_id": "77d6d4a87a9c4aea9a0efdbfc9f60c07",
       "version_major": 2,
       "version_minor": 0
      },
      "text/plain": [
       "NIRv_1997_02.tif: |          | 0.00/3.64M (raw) [  0.0%] in 00:00 (eta:     ?)"
      ]
     },
     "metadata": {},
     "output_type": "display_data"
    },
    {
     "name": "stdout",
     "output_type": "stream",
     "text": [
      "   ✅ NIRv export completed: NIRv_1997_02.tif\n",
      "✅ 1997_02 successfully exported\n",
      "\n",
      "--- Processing 1997_03 ---\n",
      "    🛰️  Falling back to Landsat...\n",
      "      📅 Expanding time window ±7 days: 1997-02-22 to 1997-04-07\n",
      "      ✅ Found 1 images\n",
      "      🔧 Using relaxed masking mode (clouds only)\n",
      "      🔧 Using relaxed masking mode (clouds only)\n",
      "      🔧 Using relaxed masking mode (clouds only)\n",
      "   📤 Preparing to export NDVI: NDVI_1997_03.tif\n"
     ]
    },
    {
     "data": {
      "application/vnd.jupyter.widget-view+json": {
       "model_id": "0e6d3257fd4645c1baa9f8ce422bd917",
       "version_major": 2,
       "version_minor": 0
      },
      "text/plain": [
       "NDVI_1997_03.tif: |          | 0.00/1.82M (raw) [  0.0%] in 00:00 (eta:     ?)"
      ]
     },
     "metadata": {},
     "output_type": "display_data"
    },
    {
     "name": "stdout",
     "output_type": "stream",
     "text": [
      "   ✅ NDVI export completed: NDVI_1997_03.tif\n",
      "   📤 Preparing to export NIRv: NIRv_1997_03.tif\n"
     ]
    },
    {
     "data": {
      "application/vnd.jupyter.widget-view+json": {
       "model_id": "5ab297d2ec0840e9868bcd33250c139c",
       "version_major": 2,
       "version_minor": 0
      },
      "text/plain": [
       "NIRv_1997_03.tif: |          | 0.00/3.64M (raw) [  0.0%] in 00:00 (eta:     ?)"
      ]
     },
     "metadata": {},
     "output_type": "display_data"
    },
    {
     "name": "stdout",
     "output_type": "stream",
     "text": [
      "   ✅ NIRv export completed: NIRv_1997_03.tif\n",
      "✅ 1997_03 successfully exported\n",
      "\n",
      "--- Processing 1997_04 ---\n",
      "    🛰️  Falling back to Landsat...\n",
      "      📅 Expanding time window ±7 days: 1997-03-25 to 1997-05-07\n",
      "      ✅ Found 1 images\n",
      "      🔧 Using relaxed masking mode (clouds only)\n",
      "      🔧 Using relaxed masking mode (clouds only)\n",
      "      🔧 Using relaxed masking mode (clouds only)\n",
      "   📤 Preparing to export NDVI: NDVI_1997_04.tif\n"
     ]
    },
    {
     "data": {
      "application/vnd.jupyter.widget-view+json": {
       "model_id": "72657b3b45464fa98b623669eb8f8830",
       "version_major": 2,
       "version_minor": 0
      },
      "text/plain": [
       "NDVI_1997_04.tif: |          | 0.00/1.82M (raw) [  0.0%] in 00:00 (eta:     ?)"
      ]
     },
     "metadata": {},
     "output_type": "display_data"
    },
    {
     "name": "stdout",
     "output_type": "stream",
     "text": [
      "   ✅ NDVI export completed: NDVI_1997_04.tif\n",
      "   📤 Preparing to export NIRv: NIRv_1997_04.tif\n"
     ]
    },
    {
     "data": {
      "application/vnd.jupyter.widget-view+json": {
       "model_id": "08c30da593d7476e90854104048deb95",
       "version_major": 2,
       "version_minor": 0
      },
      "text/plain": [
       "NIRv_1997_04.tif: |          | 0.00/3.64M (raw) [  0.0%] in 00:00 (eta:     ?)"
      ]
     },
     "metadata": {},
     "output_type": "display_data"
    },
    {
     "name": "stdout",
     "output_type": "stream",
     "text": [
      "   ✅ NIRv export completed: NIRv_1997_04.tif\n",
      "✅ 1997_04 successfully exported\n",
      "\n",
      "--- Processing 1997_05 ---\n",
      "    🛰️  Falling back to Landsat...\n",
      "      📅 Expanding time window ±7 days: 1997-04-24 to 1997-06-07\n",
      "      ✅ Found 2 images\n",
      "      🔧 Using relaxed masking mode (clouds only)\n",
      "      🔧 Using relaxed masking mode (clouds only)\n",
      "      🔧 Using relaxed masking mode (clouds only)\n",
      "   📤 Preparing to export NDVI: NDVI_1997_05.tif\n"
     ]
    },
    {
     "data": {
      "application/vnd.jupyter.widget-view+json": {
       "model_id": "f19350fdc22d46af97df940c42ab9694",
       "version_major": 2,
       "version_minor": 0
      },
      "text/plain": [
       "NDVI_1997_05.tif: |          | 0.00/1.82M (raw) [  0.0%] in 00:00 (eta:     ?)"
      ]
     },
     "metadata": {},
     "output_type": "display_data"
    },
    {
     "name": "stdout",
     "output_type": "stream",
     "text": [
      "   ✅ NDVI export completed: NDVI_1997_05.tif\n",
      "   📤 Preparing to export NIRv: NIRv_1997_05.tif\n"
     ]
    },
    {
     "data": {
      "application/vnd.jupyter.widget-view+json": {
       "model_id": "89d9ab0cfdb7448a89b74cc8080d5327",
       "version_major": 2,
       "version_minor": 0
      },
      "text/plain": [
       "NIRv_1997_05.tif: |          | 0.00/3.64M (raw) [  0.0%] in 00:00 (eta:     ?)"
      ]
     },
     "metadata": {},
     "output_type": "display_data"
    },
    {
     "name": "stdout",
     "output_type": "stream",
     "text": [
      "   ✅ NIRv export completed: NIRv_1997_05.tif\n",
      "✅ 1997_05 successfully exported\n",
      "\n",
      "--- Processing 1997_06 ---\n",
      "    🛰️  Falling back to Landsat...\n",
      "      📅 Expanding time window ±5 days: 1997-05-27 to 1997-07-05\n",
      "      ✅ Found 2 images\n",
      "   📤 Preparing to export NDVI: NDVI_1997_06.tif\n"
     ]
    },
    {
     "data": {
      "application/vnd.jupyter.widget-view+json": {
       "model_id": "1b0c17fa2be746938bc5556e1eb2b1c8",
       "version_major": 2,
       "version_minor": 0
      },
      "text/plain": [
       "NDVI_1997_06.tif: |          | 0.00/1.82M (raw) [  0.0%] in 00:00 (eta:     ?)"
      ]
     },
     "metadata": {},
     "output_type": "display_data"
    },
    {
     "name": "stdout",
     "output_type": "stream",
     "text": [
      "   ✅ NDVI export completed: NDVI_1997_06.tif\n",
      "   📤 Preparing to export NIRv: NIRv_1997_06.tif\n"
     ]
    },
    {
     "data": {
      "application/vnd.jupyter.widget-view+json": {
       "model_id": "de96447b996d449fa130cc3dc5825452",
       "version_major": 2,
       "version_minor": 0
      },
      "text/plain": [
       "NIRv_1997_06.tif: |          | 0.00/3.64M (raw) [  0.0%] in 00:00 (eta:     ?)"
      ]
     },
     "metadata": {},
     "output_type": "display_data"
    },
    {
     "name": "stdout",
     "output_type": "stream",
     "text": [
      "   ✅ NIRv export completed: NIRv_1997_06.tif\n",
      "✅ 1997_06 successfully exported\n",
      "\n",
      "--- Processing 1997_07 ---\n",
      "    🛰️  Falling back to Landsat...\n",
      "      📅 Expanding time window ±5 days: 1997-06-26 to 1997-08-05\n",
      "      ⚠️  Attempt 1: Only found 0 images\n",
      "      📅 Expanding time window ±10 days: 1997-06-21 to 1997-08-10\n",
      "      🚨 Using final threshold 95%\n",
      "      ✅ Found 1 images\n",
      "   📤 Preparing to export NDVI: NDVI_1997_07.tif\n"
     ]
    },
    {
     "data": {
      "application/vnd.jupyter.widget-view+json": {
       "model_id": "b5356524244c494b94b185c4b41d236e",
       "version_major": 2,
       "version_minor": 0
      },
      "text/plain": [
       "NDVI_1997_07.tif: |          | 0.00/1.82M (raw) [  0.0%] in 00:00 (eta:     ?)"
      ]
     },
     "metadata": {},
     "output_type": "display_data"
    },
    {
     "name": "stdout",
     "output_type": "stream",
     "text": [
      "   ✅ NDVI export completed: NDVI_1997_07.tif\n",
      "   📤 Preparing to export NIRv: NIRv_1997_07.tif\n"
     ]
    },
    {
     "data": {
      "application/vnd.jupyter.widget-view+json": {
       "model_id": "cf9439ee0bbe45bda09200880bd4dae9",
       "version_major": 2,
       "version_minor": 0
      },
      "text/plain": [
       "NIRv_1997_07.tif: |          | 0.00/3.64M (raw) [  0.0%] in 00:00 (eta:     ?)"
      ]
     },
     "metadata": {},
     "output_type": "display_data"
    },
    {
     "name": "stdout",
     "output_type": "stream",
     "text": [
      "   ✅ NIRv export completed: NIRv_1997_07.tif\n",
      "✅ 1997_07 successfully exported\n",
      "\n",
      "--- Processing 1997_08 ---\n",
      "    🛰️  Falling back to Landsat...\n",
      "      📅 Expanding time window ±5 days: 1997-07-27 to 1997-09-05\n",
      "      ✅ Found 2 images\n",
      "   📤 Preparing to export NDVI: NDVI_1997_08.tif\n"
     ]
    },
    {
     "data": {
      "application/vnd.jupyter.widget-view+json": {
       "model_id": "afc21a7d3d8e4bd1abe339bc2e7229b3",
       "version_major": 2,
       "version_minor": 0
      },
      "text/plain": [
       "NDVI_1997_08.tif: |          | 0.00/1.82M (raw) [  0.0%] in 00:00 (eta:     ?)"
      ]
     },
     "metadata": {},
     "output_type": "display_data"
    },
    {
     "name": "stdout",
     "output_type": "stream",
     "text": [
      "   ✅ NDVI export completed: NDVI_1997_08.tif\n",
      "   📤 Preparing to export NIRv: NIRv_1997_08.tif\n"
     ]
    },
    {
     "data": {
      "application/vnd.jupyter.widget-view+json": {
       "model_id": "0e37cdd5e1994371b85143b24fb111c5",
       "version_major": 2,
       "version_minor": 0
      },
      "text/plain": [
       "NIRv_1997_08.tif: |          | 0.00/3.64M (raw) [  0.0%] in 00:00 (eta:     ?)"
      ]
     },
     "metadata": {},
     "output_type": "display_data"
    },
    {
     "name": "stdout",
     "output_type": "stream",
     "text": [
      "   ✅ NIRv export completed: NIRv_1997_08.tif\n",
      "✅ 1997_08 successfully exported\n",
      "\n",
      "--- Processing 1997_09 ---\n",
      "    🛰️  Falling back to Landsat...\n",
      "      📅 Expanding time window ±7 days: 1997-08-25 to 1997-10-07\n",
      "      ✅ Found 1 images\n",
      "      🔧 Using relaxed masking mode (clouds only)\n",
      "      🔧 Using relaxed masking mode (clouds only)\n",
      "      🔧 Using relaxed masking mode (clouds only)\n",
      "   📤 Preparing to export NDVI: NDVI_1997_09.tif\n"
     ]
    },
    {
     "data": {
      "application/vnd.jupyter.widget-view+json": {
       "model_id": "f152b79f7d5c4ac38ca8cf192fc2e4c3",
       "version_major": 2,
       "version_minor": 0
      },
      "text/plain": [
       "NDVI_1997_09.tif: |          | 0.00/1.82M (raw) [  0.0%] in 00:00 (eta:     ?)"
      ]
     },
     "metadata": {},
     "output_type": "display_data"
    },
    {
     "name": "stdout",
     "output_type": "stream",
     "text": [
      "   ✅ NDVI export completed: NDVI_1997_09.tif\n",
      "   📤 Preparing to export NIRv: NIRv_1997_09.tif\n"
     ]
    },
    {
     "data": {
      "application/vnd.jupyter.widget-view+json": {
       "model_id": "bb25bd9a8f794556a30074dd3e2122c3",
       "version_major": 2,
       "version_minor": 0
      },
      "text/plain": [
       "NIRv_1997_09.tif: |          | 0.00/3.64M (raw) [  0.0%] in 00:00 (eta:     ?)"
      ]
     },
     "metadata": {},
     "output_type": "display_data"
    },
    {
     "name": "stdout",
     "output_type": "stream",
     "text": [
      "   ✅ NIRv export completed: NIRv_1997_09.tif\n",
      "✅ 1997_09 successfully exported\n",
      "\n",
      "--- Processing 1997_10 ---\n",
      "    🛰️  Falling back to Landsat...\n",
      "      📅 Expanding time window ±7 days: 1997-09-24 to 1997-11-07\n",
      "      ✅ Found 1 images\n",
      "      🔧 Using relaxed masking mode (clouds only)\n",
      "      🔧 Using relaxed masking mode (clouds only)\n",
      "      🔧 Using relaxed masking mode (clouds only)\n",
      "   📤 Preparing to export NDVI: NDVI_1997_10.tif\n"
     ]
    },
    {
     "data": {
      "application/vnd.jupyter.widget-view+json": {
       "model_id": "7aedbf723ba94a87b8a8dd211c3b95ee",
       "version_major": 2,
       "version_minor": 0
      },
      "text/plain": [
       "NDVI_1997_10.tif: |          | 0.00/1.82M (raw) [  0.0%] in 00:00 (eta:     ?)"
      ]
     },
     "metadata": {},
     "output_type": "display_data"
    },
    {
     "name": "stdout",
     "output_type": "stream",
     "text": [
      "   ✅ NDVI export completed: NDVI_1997_10.tif\n",
      "   📤 Preparing to export NIRv: NIRv_1997_10.tif\n"
     ]
    },
    {
     "data": {
      "application/vnd.jupyter.widget-view+json": {
       "model_id": "5d51c9d3fbcf401c8a24cabb4f651e58",
       "version_major": 2,
       "version_minor": 0
      },
      "text/plain": [
       "NIRv_1997_10.tif: |          | 0.00/3.64M (raw) [  0.0%] in 00:00 (eta:     ?)"
      ]
     },
     "metadata": {},
     "output_type": "display_data"
    },
    {
     "name": "stdout",
     "output_type": "stream",
     "text": [
      "   ✅ NIRv export completed: NIRv_1997_10.tif\n",
      "✅ 1997_10 successfully exported\n",
      "\n",
      "--- Processing 1997_11 ---\n",
      "    🛰️  Falling back to Landsat...\n",
      "      📅 Expanding time window ±7 days: 1997-10-25 to 1997-12-07\n",
      "      ✅ Found 2 images\n",
      "      🔧 Using relaxed masking mode (clouds only)\n",
      "      🔧 Using relaxed masking mode (clouds only)\n",
      "      🔧 Using relaxed masking mode (clouds only)\n",
      "   📤 Preparing to export NDVI: NDVI_1997_11.tif\n"
     ]
    },
    {
     "data": {
      "application/vnd.jupyter.widget-view+json": {
       "model_id": "3eb12d2f17b24772a1c3a19f1f23dccd",
       "version_major": 2,
       "version_minor": 0
      },
      "text/plain": [
       "NDVI_1997_11.tif: |          | 0.00/1.82M (raw) [  0.0%] in 00:00 (eta:     ?)"
      ]
     },
     "metadata": {},
     "output_type": "display_data"
    },
    {
     "name": "stdout",
     "output_type": "stream",
     "text": [
      "   ✅ NDVI export completed: NDVI_1997_11.tif\n",
      "   📤 Preparing to export NIRv: NIRv_1997_11.tif\n"
     ]
    },
    {
     "data": {
      "application/vnd.jupyter.widget-view+json": {
       "model_id": "bd50c425bb3c4f158098f6793709dd0c",
       "version_major": 2,
       "version_minor": 0
      },
      "text/plain": [
       "NIRv_1997_11.tif: |          | 0.00/3.64M (raw) [  0.0%] in 00:00 (eta:     ?)"
      ]
     },
     "metadata": {},
     "output_type": "display_data"
    },
    {
     "name": "stdout",
     "output_type": "stream",
     "text": [
      "   ✅ NIRv export completed: NIRv_1997_11.tif\n",
      "✅ 1997_11 successfully exported\n",
      "\n",
      "--- Processing 1997_12 ---\n",
      "    🛰️  Falling back to Landsat...\n",
      "      📅 Expanding time window ±7 days: 1997-11-24 to 1998-01-07\n",
      "      ⚠️  Attempt 1: Only found 0 images\n",
      "      📅 Expanding time window ±15 days: 1997-11-16 to 1998-01-15\n",
      "      ✅ Found 1 images\n",
      "      🔧 Using relaxed masking mode (clouds only)\n",
      "      🔧 Using relaxed masking mode (clouds only)\n",
      "      🔧 Using relaxed masking mode (clouds only)\n",
      "   📤 Preparing to export NDVI: NDVI_1997_12.tif\n"
     ]
    },
    {
     "data": {
      "application/vnd.jupyter.widget-view+json": {
       "model_id": "6aa3f920573e496c85b33029ec386827",
       "version_major": 2,
       "version_minor": 0
      },
      "text/plain": [
       "NDVI_1997_12.tif: |          | 0.00/1.82M (raw) [  0.0%] in 00:00 (eta:     ?)"
      ]
     },
     "metadata": {},
     "output_type": "display_data"
    },
    {
     "name": "stdout",
     "output_type": "stream",
     "text": [
      "   ✅ NDVI export completed: NDVI_1997_12.tif\n",
      "   📤 Preparing to export NIRv: NIRv_1997_12.tif\n"
     ]
    },
    {
     "data": {
      "application/vnd.jupyter.widget-view+json": {
       "model_id": "49d7218200c84dfcb78224f9a01e27da",
       "version_major": 2,
       "version_minor": 0
      },
      "text/plain": [
       "NIRv_1997_12.tif: |          | 0.00/3.64M (raw) [  0.0%] in 00:00 (eta:     ?)"
      ]
     },
     "metadata": {},
     "output_type": "display_data"
    },
    {
     "name": "stdout",
     "output_type": "stream",
     "text": [
      "   ✅ NIRv export completed: NIRv_1997_12.tif\n",
      "✅ 1997_12 successfully exported\n",
      "\n",
      "--- Processing 1998_01 ---\n",
      "    🛰️  Falling back to Landsat...\n",
      "      📅 Expanding time window ±7 days: 1997-12-25 to 1998-02-07\n",
      "      ✅ Found 1 images\n",
      "      🔧 Using relaxed masking mode (clouds only)\n",
      "      🔧 Using relaxed masking mode (clouds only)\n",
      "      🔧 Using relaxed masking mode (clouds only)\n",
      "   📤 Preparing to export NDVI: NDVI_1998_01.tif\n"
     ]
    },
    {
     "data": {
      "application/vnd.jupyter.widget-view+json": {
       "model_id": "ae8b555007864590bcc164e4bd671256",
       "version_major": 2,
       "version_minor": 0
      },
      "text/plain": [
       "NDVI_1998_01.tif: |          | 0.00/1.82M (raw) [  0.0%] in 00:00 (eta:     ?)"
      ]
     },
     "metadata": {},
     "output_type": "display_data"
    },
    {
     "name": "stdout",
     "output_type": "stream",
     "text": [
      "   ✅ NDVI export completed: NDVI_1998_01.tif\n",
      "   📤 Preparing to export NIRv: NIRv_1998_01.tif\n"
     ]
    },
    {
     "data": {
      "application/vnd.jupyter.widget-view+json": {
       "model_id": "943ff846276148d98d654236066aa552",
       "version_major": 2,
       "version_minor": 0
      },
      "text/plain": [
       "NIRv_1998_01.tif: |          | 0.00/3.64M (raw) [  0.0%] in 00:00 (eta:     ?)"
      ]
     },
     "metadata": {},
     "output_type": "display_data"
    },
    {
     "name": "stdout",
     "output_type": "stream",
     "text": [
      "   ✅ NIRv export completed: NIRv_1998_01.tif\n",
      "✅ 1998_01 successfully exported\n",
      "\n",
      "--- Processing 1998_02 ---\n",
      "    🛰️  Falling back to Landsat...\n",
      "      📅 Expanding time window ±7 days: 1998-01-25 to 1998-03-07\n",
      "      ✅ Found 3 images\n",
      "      🔧 Using relaxed masking mode (clouds only)\n",
      "      🔧 Using relaxed masking mode (clouds only)\n",
      "      🔧 Using relaxed masking mode (clouds only)\n",
      "   📤 Preparing to export NDVI: NDVI_1998_02.tif\n"
     ]
    },
    {
     "data": {
      "application/vnd.jupyter.widget-view+json": {
       "model_id": "b9b95f717c634528aeb37bb99359b7f5",
       "version_major": 2,
       "version_minor": 0
      },
      "text/plain": [
       "NDVI_1998_02.tif: |          | 0.00/1.82M (raw) [  0.0%] in 00:00 (eta:     ?)"
      ]
     },
     "metadata": {},
     "output_type": "display_data"
    },
    {
     "name": "stdout",
     "output_type": "stream",
     "text": [
      "   ✅ NDVI export completed: NDVI_1998_02.tif\n",
      "   📤 Preparing to export NIRv: NIRv_1998_02.tif\n"
     ]
    },
    {
     "data": {
      "application/vnd.jupyter.widget-view+json": {
       "model_id": "6d2f8e48fcec4e0e83f3801e9415116f",
       "version_major": 2,
       "version_minor": 0
      },
      "text/plain": [
       "NIRv_1998_02.tif: |          | 0.00/3.64M (raw) [  0.0%] in 00:00 (eta:     ?)"
      ]
     },
     "metadata": {},
     "output_type": "display_data"
    },
    {
     "name": "stdout",
     "output_type": "stream",
     "text": [
      "   ✅ NIRv export completed: NIRv_1998_02.tif\n",
      "✅ 1998_02 successfully exported\n",
      "\n",
      "--- Processing 1998_03 ---\n",
      "    🛰️  Falling back to Landsat...\n",
      "      📅 Expanding time window ±7 days: 1998-02-22 to 1998-04-07\n",
      "      ✅ Found 1 images\n",
      "      🔧 Using relaxed masking mode (clouds only)\n",
      "      🔧 Using relaxed masking mode (clouds only)\n",
      "      🔧 Using relaxed masking mode (clouds only)\n",
      "   📤 Preparing to export NDVI: NDVI_1998_03.tif\n"
     ]
    },
    {
     "data": {
      "application/vnd.jupyter.widget-view+json": {
       "model_id": "469240569d504f35b7f3b40af697db17",
       "version_major": 2,
       "version_minor": 0
      },
      "text/plain": [
       "NDVI_1998_03.tif: |          | 0.00/1.82M (raw) [  0.0%] in 00:00 (eta:     ?)"
      ]
     },
     "metadata": {},
     "output_type": "display_data"
    },
    {
     "name": "stdout",
     "output_type": "stream",
     "text": [
      "   ✅ NDVI export completed: NDVI_1998_03.tif\n",
      "   📤 Preparing to export NIRv: NIRv_1998_03.tif\n"
     ]
    },
    {
     "data": {
      "application/vnd.jupyter.widget-view+json": {
       "model_id": "3f8b23c69bbd41c7ad9bf1045015b913",
       "version_major": 2,
       "version_minor": 0
      },
      "text/plain": [
       "NIRv_1998_03.tif: |          | 0.00/3.64M (raw) [  0.0%] in 00:00 (eta:     ?)"
      ]
     },
     "metadata": {},
     "output_type": "display_data"
    },
    {
     "name": "stdout",
     "output_type": "stream",
     "text": [
      "   ✅ NIRv export completed: NIRv_1998_03.tif\n",
      "✅ 1998_03 successfully exported\n",
      "\n",
      "--- Processing 1998_04 ---\n",
      "    🛰️  Falling back to Landsat...\n",
      "      📅 Expanding time window ±7 days: 1998-03-25 to 1998-05-07\n",
      "      ✅ Found 1 images\n",
      "      🔧 Using relaxed masking mode (clouds only)\n",
      "      🔧 Using relaxed masking mode (clouds only)\n",
      "      🔧 Using relaxed masking mode (clouds only)\n",
      "   📤 Preparing to export NDVI: NDVI_1998_04.tif\n"
     ]
    },
    {
     "data": {
      "application/vnd.jupyter.widget-view+json": {
       "model_id": "30559e16395c43e58f0f402a7cf0c082",
       "version_major": 2,
       "version_minor": 0
      },
      "text/plain": [
       "NDVI_1998_04.tif: |          | 0.00/1.82M (raw) [  0.0%] in 00:00 (eta:     ?)"
      ]
     },
     "metadata": {},
     "output_type": "display_data"
    },
    {
     "name": "stdout",
     "output_type": "stream",
     "text": [
      "   ✅ NDVI export completed: NDVI_1998_04.tif\n",
      "   📤 Preparing to export NIRv: NIRv_1998_04.tif\n"
     ]
    },
    {
     "data": {
      "application/vnd.jupyter.widget-view+json": {
       "model_id": "a363452c8a69470d992eda28f9c4e6a5",
       "version_major": 2,
       "version_minor": 0
      },
      "text/plain": [
       "NIRv_1998_04.tif: |          | 0.00/3.64M (raw) [  0.0%] in 00:00 (eta:     ?)"
      ]
     },
     "metadata": {},
     "output_type": "display_data"
    },
    {
     "name": "stdout",
     "output_type": "stream",
     "text": [
      "   ✅ NIRv export completed: NIRv_1998_04.tif\n",
      "✅ 1998_04 successfully exported\n",
      "\n",
      "--- Processing 1998_05 ---\n",
      "    🛰️  Falling back to Landsat...\n",
      "      📅 Expanding time window ±7 days: 1998-04-24 to 1998-06-07\n",
      "      ✅ Found 2 images\n",
      "      🔧 Using relaxed masking mode (clouds only)\n",
      "      🔧 Using relaxed masking mode (clouds only)\n",
      "      🔧 Using relaxed masking mode (clouds only)\n",
      "   📤 Preparing to export NDVI: NDVI_1998_05.tif\n"
     ]
    },
    {
     "data": {
      "application/vnd.jupyter.widget-view+json": {
       "model_id": "5c7fc943b4044568a3f389bda86a06d9",
       "version_major": 2,
       "version_minor": 0
      },
      "text/plain": [
       "NDVI_1998_05.tif: |          | 0.00/1.82M (raw) [  0.0%] in 00:00 (eta:     ?)"
      ]
     },
     "metadata": {},
     "output_type": "display_data"
    },
    {
     "name": "stdout",
     "output_type": "stream",
     "text": [
      "   ✅ NDVI export completed: NDVI_1998_05.tif\n",
      "   📤 Preparing to export NIRv: NIRv_1998_05.tif\n"
     ]
    },
    {
     "data": {
      "application/vnd.jupyter.widget-view+json": {
       "model_id": "58a144d92c804251a2b50b0a0c9362a3",
       "version_major": 2,
       "version_minor": 0
      },
      "text/plain": [
       "NIRv_1998_05.tif: |          | 0.00/3.64M (raw) [  0.0%] in 00:00 (eta:     ?)"
      ]
     },
     "metadata": {},
     "output_type": "display_data"
    },
    {
     "name": "stdout",
     "output_type": "stream",
     "text": [
      "   ✅ NIRv export completed: NIRv_1998_05.tif\n",
      "✅ 1998_05 successfully exported\n",
      "\n",
      "--- Processing 1998_06 ---\n",
      "    🛰️  Falling back to Landsat...\n",
      "      📅 Expanding time window ±5 days: 1998-05-27 to 1998-07-05\n",
      "      ✅ Found 1 images\n",
      "   📤 Preparing to export NDVI: NDVI_1998_06.tif\n"
     ]
    },
    {
     "data": {
      "application/vnd.jupyter.widget-view+json": {
       "model_id": "baf3951a22a14a85945f4e30de8b65d7",
       "version_major": 2,
       "version_minor": 0
      },
      "text/plain": [
       "NDVI_1998_06.tif: |          | 0.00/1.82M (raw) [  0.0%] in 00:00 (eta:     ?)"
      ]
     },
     "metadata": {},
     "output_type": "display_data"
    },
    {
     "name": "stdout",
     "output_type": "stream",
     "text": [
      "   ✅ NDVI export completed: NDVI_1998_06.tif\n",
      "   📤 Preparing to export NIRv: NIRv_1998_06.tif\n"
     ]
    },
    {
     "data": {
      "application/vnd.jupyter.widget-view+json": {
       "model_id": "f8f1d44d3020491c8d5d7c773f41b871",
       "version_major": 2,
       "version_minor": 0
      },
      "text/plain": [
       "NIRv_1998_06.tif: |          | 0.00/3.64M (raw) [  0.0%] in 00:00 (eta:     ?)"
      ]
     },
     "metadata": {},
     "output_type": "display_data"
    },
    {
     "name": "stdout",
     "output_type": "stream",
     "text": [
      "   ✅ NIRv export completed: NIRv_1998_06.tif\n",
      "✅ 1998_06 successfully exported\n",
      "\n",
      "--- Processing 1998_07 ---\n",
      "    🛰️  Falling back to Landsat...\n",
      "      📅 Expanding time window ±5 days: 1998-06-26 to 1998-08-05\n",
      "      ✅ Found 1 images\n",
      "   📤 Preparing to export NDVI: NDVI_1998_07.tif\n"
     ]
    },
    {
     "data": {
      "application/vnd.jupyter.widget-view+json": {
       "model_id": "f982013be2144b579c6a9cd3b5041d3b",
       "version_major": 2,
       "version_minor": 0
      },
      "text/plain": [
       "NDVI_1998_07.tif: |          | 0.00/1.82M (raw) [  0.0%] in 00:00 (eta:     ?)"
      ]
     },
     "metadata": {},
     "output_type": "display_data"
    },
    {
     "name": "stdout",
     "output_type": "stream",
     "text": [
      "   ✅ NDVI export completed: NDVI_1998_07.tif\n",
      "   📤 Preparing to export NIRv: NIRv_1998_07.tif\n"
     ]
    },
    {
     "data": {
      "application/vnd.jupyter.widget-view+json": {
       "model_id": "34955635d49c4b37aa71245c839b5880",
       "version_major": 2,
       "version_minor": 0
      },
      "text/plain": [
       "NIRv_1998_07.tif: |          | 0.00/3.64M (raw) [  0.0%] in 00:00 (eta:     ?)"
      ]
     },
     "metadata": {},
     "output_type": "display_data"
    },
    {
     "name": "stdout",
     "output_type": "stream",
     "text": [
      "   ✅ NIRv export completed: NIRv_1998_07.tif\n",
      "✅ 1998_07 successfully exported\n",
      "\n",
      "--- Processing 1998_08 ---\n",
      "    🛰️  Falling back to Landsat...\n",
      "      📅 Expanding time window ±5 days: 1998-07-27 to 1998-09-05\n",
      "      ✅ Found 1 images\n",
      "   📤 Preparing to export NDVI: NDVI_1998_08.tif\n"
     ]
    },
    {
     "data": {
      "application/vnd.jupyter.widget-view+json": {
       "model_id": "30744221c4c94b1099fb3f630ba81cd5",
       "version_major": 2,
       "version_minor": 0
      },
      "text/plain": [
       "NDVI_1998_08.tif: |          | 0.00/1.82M (raw) [  0.0%] in 00:00 (eta:     ?)"
      ]
     },
     "metadata": {},
     "output_type": "display_data"
    },
    {
     "name": "stdout",
     "output_type": "stream",
     "text": [
      "   ✅ NDVI export completed: NDVI_1998_08.tif\n",
      "   📤 Preparing to export NIRv: NIRv_1998_08.tif\n"
     ]
    },
    {
     "data": {
      "application/vnd.jupyter.widget-view+json": {
       "model_id": "2d35ee1360ea41f4b72c7956f1653299",
       "version_major": 2,
       "version_minor": 0
      },
      "text/plain": [
       "NIRv_1998_08.tif: |          | 0.00/3.64M (raw) [  0.0%] in 00:00 (eta:     ?)"
      ]
     },
     "metadata": {},
     "output_type": "display_data"
    },
    {
     "name": "stdout",
     "output_type": "stream",
     "text": [
      "   ✅ NIRv export completed: NIRv_1998_08.tif\n",
      "✅ 1998_08 successfully exported\n",
      "\n",
      "--- Processing 1998_09 ---\n",
      "    🛰️  Falling back to Landsat...\n",
      "      📅 Expanding time window ±7 days: 1998-08-25 to 1998-10-07\n",
      "      ✅ Found 1 images\n",
      "      🔧 Using relaxed masking mode (clouds only)\n",
      "      🔧 Using relaxed masking mode (clouds only)\n",
      "      🔧 Using relaxed masking mode (clouds only)\n",
      "   📤 Preparing to export NDVI: NDVI_1998_09.tif\n"
     ]
    },
    {
     "data": {
      "application/vnd.jupyter.widget-view+json": {
       "model_id": "afc198ee87094fc1a90cc85d5725026c",
       "version_major": 2,
       "version_minor": 0
      },
      "text/plain": [
       "NDVI_1998_09.tif: |          | 0.00/1.82M (raw) [  0.0%] in 00:00 (eta:     ?)"
      ]
     },
     "metadata": {},
     "output_type": "display_data"
    },
    {
     "name": "stdout",
     "output_type": "stream",
     "text": [
      "   ✅ NDVI export completed: NDVI_1998_09.tif\n",
      "   📤 Preparing to export NIRv: NIRv_1998_09.tif\n"
     ]
    },
    {
     "data": {
      "application/vnd.jupyter.widget-view+json": {
       "model_id": "fa640fd1325048b3b332d051ecf64ac8",
       "version_major": 2,
       "version_minor": 0
      },
      "text/plain": [
       "NIRv_1998_09.tif: |          | 0.00/3.64M (raw) [  0.0%] in 00:00 (eta:     ?)"
      ]
     },
     "metadata": {},
     "output_type": "display_data"
    },
    {
     "name": "stdout",
     "output_type": "stream",
     "text": [
      "   ✅ NIRv export completed: NIRv_1998_09.tif\n",
      "✅ 1998_09 successfully exported\n",
      "\n",
      "--- Processing 1998_10 ---\n",
      "    🛰️  Falling back to Landsat...\n",
      "      📅 Expanding time window ±7 days: 1998-09-24 to 1998-11-07\n",
      "      ✅ Found 2 images\n",
      "      🔧 Using relaxed masking mode (clouds only)\n",
      "      🔧 Using relaxed masking mode (clouds only)\n",
      "      🔧 Using relaxed masking mode (clouds only)\n",
      "   📤 Preparing to export NDVI: NDVI_1998_10.tif\n"
     ]
    },
    {
     "data": {
      "application/vnd.jupyter.widget-view+json": {
       "model_id": "4cae966c7ed84daca3b5f8731d0e4e2c",
       "version_major": 2,
       "version_minor": 0
      },
      "text/plain": [
       "NDVI_1998_10.tif: |          | 0.00/1.82M (raw) [  0.0%] in 00:00 (eta:     ?)"
      ]
     },
     "metadata": {},
     "output_type": "display_data"
    },
    {
     "name": "stdout",
     "output_type": "stream",
     "text": [
      "   ✅ NDVI export completed: NDVI_1998_10.tif\n",
      "   📤 Preparing to export NIRv: NIRv_1998_10.tif\n"
     ]
    },
    {
     "data": {
      "application/vnd.jupyter.widget-view+json": {
       "model_id": "8be17ae53c3347e49aae93a0c65c32ef",
       "version_major": 2,
       "version_minor": 0
      },
      "text/plain": [
       "NIRv_1998_10.tif: |          | 0.00/3.64M (raw) [  0.0%] in 00:00 (eta:     ?)"
      ]
     },
     "metadata": {},
     "output_type": "display_data"
    },
    {
     "name": "stdout",
     "output_type": "stream",
     "text": [
      "   ✅ NIRv export completed: NIRv_1998_10.tif\n",
      "✅ 1998_10 successfully exported\n",
      "\n",
      "--- Processing 1998_11 ---\n",
      "    🛰️  Falling back to Landsat...\n",
      "      📅 Expanding time window ±7 days: 1998-10-25 to 1998-12-07\n",
      "      ✅ Found 1 images\n",
      "      🔧 Using relaxed masking mode (clouds only)\n",
      "      🔧 Using relaxed masking mode (clouds only)\n",
      "      🔧 Using relaxed masking mode (clouds only)\n",
      "   📤 Preparing to export NDVI: NDVI_1998_11.tif\n"
     ]
    },
    {
     "data": {
      "application/vnd.jupyter.widget-view+json": {
       "model_id": "708dadeeadb1490a820fbc00c3f9767e",
       "version_major": 2,
       "version_minor": 0
      },
      "text/plain": [
       "NDVI_1998_11.tif: |          | 0.00/1.82M (raw) [  0.0%] in 00:00 (eta:     ?)"
      ]
     },
     "metadata": {},
     "output_type": "display_data"
    },
    {
     "name": "stdout",
     "output_type": "stream",
     "text": [
      "   ✅ NDVI export completed: NDVI_1998_11.tif\n",
      "   📤 Preparing to export NIRv: NIRv_1998_11.tif\n"
     ]
    },
    {
     "data": {
      "application/vnd.jupyter.widget-view+json": {
       "model_id": "9e20503275b14baea9c0b35e8cc71cea",
       "version_major": 2,
       "version_minor": 0
      },
      "text/plain": [
       "NIRv_1998_11.tif: |          | 0.00/3.64M (raw) [  0.0%] in 00:00 (eta:     ?)"
      ]
     },
     "metadata": {},
     "output_type": "display_data"
    },
    {
     "name": "stdout",
     "output_type": "stream",
     "text": [
      "   ✅ NIRv export completed: NIRv_1998_11.tif\n",
      "✅ 1998_11 successfully exported\n",
      "\n",
      "--- Processing 1998_12 ---\n",
      "    🛰️  Falling back to Landsat...\n",
      "      📅 Expanding time window ±7 days: 1998-11-24 to 1999-01-07\n",
      "      ⚠️  Attempt 1: Only found 0 images\n",
      "      📅 Expanding time window ±15 days: 1998-11-16 to 1999-01-15\n",
      "      🚨 Using final threshold 99%\n",
      "      ⚠️  Attempt 2: Only found 0 images\n",
      "      📅 Expanding time window ±30 days: 1998-11-01 to 1999-01-30\n",
      "      ✅ Found 2 images\n",
      "      🔧 Using relaxed masking mode (clouds only)\n",
      "      🔧 Using relaxed masking mode (clouds only)\n",
      "      🔧 Using relaxed masking mode (clouds only)\n",
      "   📤 Preparing to export NDVI: NDVI_1998_12.tif\n"
     ]
    },
    {
     "data": {
      "application/vnd.jupyter.widget-view+json": {
       "model_id": "08af40084349426d8ef5efa7fc80472e",
       "version_major": 2,
       "version_minor": 0
      },
      "text/plain": [
       "NDVI_1998_12.tif: |          | 0.00/1.82M (raw) [  0.0%] in 00:00 (eta:     ?)"
      ]
     },
     "metadata": {},
     "output_type": "display_data"
    },
    {
     "name": "stdout",
     "output_type": "stream",
     "text": [
      "   ✅ NDVI export completed: NDVI_1998_12.tif\n",
      "   📤 Preparing to export NIRv: NIRv_1998_12.tif\n"
     ]
    },
    {
     "data": {
      "application/vnd.jupyter.widget-view+json": {
       "model_id": "1f7f06c8985948b499f3b8b400098eec",
       "version_major": 2,
       "version_minor": 0
      },
      "text/plain": [
       "NIRv_1998_12.tif: |          | 0.00/3.64M (raw) [  0.0%] in 00:00 (eta:     ?)"
      ]
     },
     "metadata": {},
     "output_type": "display_data"
    },
    {
     "name": "stdout",
     "output_type": "stream",
     "text": [
      "   ✅ NIRv export completed: NIRv_1998_12.tif\n",
      "✅ 1998_12 successfully exported\n",
      "\n",
      "--- Processing 1999_01 ---\n",
      "    🛰️  Falling back to Landsat...\n",
      "      📅 Expanding time window ±7 days: 1998-12-25 to 1999-02-07\n",
      "      ⚠️  Attempt 1: Only found 0 images\n",
      "      📅 Expanding time window ±15 days: 1998-12-17 to 1999-02-15\n",
      "      🚨 Using final threshold 99%\n",
      "      ⚠️  Attempt 2: Only found 0 images\n",
      "      📅 Expanding time window ±30 days: 1998-12-02 to 1999-03-02\n",
      "      🚨 Using final threshold 99%\n",
      "      ⚠️  Attempt 3: Only found 0 images\n",
      "      ❌ All attempts failed\n",
      "⏩ Skipping export for 1999_01: No valid data.\n",
      "\n",
      "--- Processing 1999_02 ---\n",
      "    🛰️  Falling back to Landsat...\n",
      "      📅 Expanding time window ±7 days: 1999-01-25 to 1999-03-07\n",
      "      ⚠️  Attempt 1: Only found 0 images\n",
      "      📅 Expanding time window ±15 days: 1999-01-17 to 1999-03-15\n",
      "      🚨 Using final threshold 99%\n",
      "      ⚠️  Attempt 2: Only found 0 images\n",
      "      📅 Expanding time window ±30 days: 1999-01-02 to 1999-03-30\n",
      "      🚨 Using final threshold 99%\n",
      "      ⚠️  Attempt 3: Only found 0 images\n",
      "      ❌ All attempts failed\n",
      "⏩ Skipping export for 1999_02: No valid data.\n",
      "\n",
      "--- Processing 1999_03 ---\n",
      "    🛰️  Falling back to Landsat...\n",
      "      📅 Expanding time window ±7 days: 1999-02-22 to 1999-04-07\n",
      "      ⚠️  Attempt 1: Only found 0 images\n",
      "      📅 Expanding time window ±14 days: 1999-02-15 to 1999-04-14\n",
      "      🚨 Using final threshold 97%\n",
      "      ⚠️  Attempt 2: Only found 0 images\n",
      "      📅 Expanding time window ±25 days: 1999-02-04 to 1999-04-25\n",
      "      🚨 Using final threshold 97%\n",
      "      ⚠️  Attempt 3: Only found 0 images\n",
      "      ❌ All attempts failed\n",
      "⏩ Skipping export for 1999_03: No valid data.\n",
      "\n",
      "--- Processing 1999_04 ---\n",
      "    🛰️  Falling back to Landsat...\n",
      "      📅 Expanding time window ±7 days: 1999-03-25 to 1999-05-07\n",
      "      ⚠️  Attempt 1: Only found 0 images\n",
      "      📅 Expanding time window ±14 days: 1999-03-18 to 1999-05-14\n",
      "      🚨 Using final threshold 97%\n",
      "      ⚠️  Attempt 2: Only found 0 images\n",
      "      📅 Expanding time window ±25 days: 1999-03-07 to 1999-05-25\n",
      "      🚨 Using final threshold 97%\n",
      "      ⚠️  Attempt 3: Only found 0 images\n",
      "      ❌ All attempts failed\n",
      "⏩ Skipping export for 1999_04: No valid data.\n",
      "\n",
      "--- Processing 1999_05 ---\n",
      "    🛰️  Falling back to Landsat...\n",
      "      📅 Expanding time window ±7 days: 1999-04-24 to 1999-06-07\n",
      "      ⚠️  Attempt 1: Only found 0 images\n",
      "      📅 Expanding time window ±14 days: 1999-04-17 to 1999-06-14\n",
      "      🚨 Using final threshold 97%\n",
      "      ⚠️  Attempt 2: Only found 0 images\n",
      "      📅 Expanding time window ±25 days: 1999-04-06 to 1999-06-25\n",
      "      🚨 Using final threshold 97%\n",
      "      ⚠️  Attempt 3: Only found 0 images\n",
      "      ❌ All attempts failed\n",
      "⏩ Skipping export for 1999_05: No valid data.\n",
      "\n",
      "--- Processing 1999_06 ---\n",
      "    🛰️  Falling back to Landsat...\n",
      "      📅 Expanding time window ±5 days: 1999-05-27 to 1999-07-05\n",
      "      ⚠️  Attempt 1: Only found 0 images\n",
      "      📅 Expanding time window ±10 days: 1999-05-22 to 1999-07-10\n",
      "      🚨 Using final threshold 95%\n",
      "      ⚠️  Attempt 2: Only found 0 images\n",
      "      📅 Expanding time window ±21 days: 1999-05-11 to 1999-07-21\n",
      "      ✅ Found 1 images\n",
      "   📤 Preparing to export NDVI: NDVI_1999_06.tif\n"
     ]
    },
    {
     "data": {
      "application/vnd.jupyter.widget-view+json": {
       "model_id": "35453f191ea1421c9d612db1d89f0d00",
       "version_major": 2,
       "version_minor": 0
      },
      "text/plain": [
       "NDVI_1999_06.tif: |          | 0.00/1.82M (raw) [  0.0%] in 00:00 (eta:     ?)"
      ]
     },
     "metadata": {},
     "output_type": "display_data"
    },
    {
     "name": "stdout",
     "output_type": "stream",
     "text": [
      "   ✅ NDVI export completed: NDVI_1999_06.tif\n",
      "   📤 Preparing to export NIRv: NIRv_1999_06.tif\n"
     ]
    },
    {
     "data": {
      "application/vnd.jupyter.widget-view+json": {
       "model_id": "87529644d505450894715a1abc350e26",
       "version_major": 2,
       "version_minor": 0
      },
      "text/plain": [
       "NIRv_1999_06.tif: |          | 0.00/3.64M (raw) [  0.0%] in 00:00 (eta:     ?)"
      ]
     },
     "metadata": {},
     "output_type": "display_data"
    },
    {
     "name": "stdout",
     "output_type": "stream",
     "text": [
      "   ✅ NIRv export completed: NIRv_1999_06.tif\n",
      "✅ 1999_06 successfully exported\n",
      "\n",
      "--- Processing 1999_07 ---\n",
      "    🛰️  Falling back to Landsat...\n",
      "      📅 Expanding time window ±5 days: 1999-06-26 to 1999-08-05\n",
      "      ✅ Found 1 images\n",
      "   📤 Preparing to export NDVI: NDVI_1999_07.tif\n"
     ]
    },
    {
     "data": {
      "application/vnd.jupyter.widget-view+json": {
       "model_id": "8709322af90941dc8a2d1b44b91a47f1",
       "version_major": 2,
       "version_minor": 0
      },
      "text/plain": [
       "NDVI_1999_07.tif: |          | 0.00/1.82M (raw) [  0.0%] in 00:00 (eta:     ?)"
      ]
     },
     "metadata": {},
     "output_type": "display_data"
    },
    {
     "name": "stdout",
     "output_type": "stream",
     "text": [
      "   ✅ NDVI export completed: NDVI_1999_07.tif\n",
      "   📤 Preparing to export NIRv: NIRv_1999_07.tif\n"
     ]
    },
    {
     "data": {
      "application/vnd.jupyter.widget-view+json": {
       "model_id": "04b9e1444fbc4f31b1776fef653303cb",
       "version_major": 2,
       "version_minor": 0
      },
      "text/plain": [
       "NIRv_1999_07.tif: |          | 0.00/3.64M (raw) [  0.0%] in 00:00 (eta:     ?)"
      ]
     },
     "metadata": {},
     "output_type": "display_data"
    },
    {
     "name": "stdout",
     "output_type": "stream",
     "text": [
      "   ✅ NIRv export completed: NIRv_1999_07.tif\n",
      "✅ 1999_07 successfully exported\n",
      "\n",
      "--- Processing 1999_08 ---\n",
      "    🛰️  Falling back to Landsat...\n",
      "      📅 Expanding time window ±5 days: 1999-07-27 to 1999-09-05\n",
      "      ✅ Found 1 images\n",
      "   📤 Preparing to export NDVI: NDVI_1999_08.tif\n"
     ]
    },
    {
     "data": {
      "application/vnd.jupyter.widget-view+json": {
       "model_id": "3a8b0b462f494fc1918eb32b3f92f323",
       "version_major": 2,
       "version_minor": 0
      },
      "text/plain": [
       "NDVI_1999_08.tif: |          | 0.00/1.82M (raw) [  0.0%] in 00:00 (eta:     ?)"
      ]
     },
     "metadata": {},
     "output_type": "display_data"
    },
    {
     "name": "stdout",
     "output_type": "stream",
     "text": [
      "   ✅ NDVI export completed: NDVI_1999_08.tif\n",
      "   📤 Preparing to export NIRv: NIRv_1999_08.tif\n"
     ]
    },
    {
     "data": {
      "application/vnd.jupyter.widget-view+json": {
       "model_id": "5d298a639281497aa8d4de74ce0fcf0d",
       "version_major": 2,
       "version_minor": 0
      },
      "text/plain": [
       "NIRv_1999_08.tif: |          | 0.00/3.64M (raw) [  0.0%] in 00:00 (eta:     ?)"
      ]
     },
     "metadata": {},
     "output_type": "display_data"
    },
    {
     "name": "stdout",
     "output_type": "stream",
     "text": [
      "   ✅ NIRv export completed: NIRv_1999_08.tif\n",
      "✅ 1999_08 successfully exported\n",
      "\n",
      "--- Processing 1999_09 ---\n",
      "    🛰️  Falling back to Landsat...\n",
      "      📅 Expanding time window ±7 days: 1999-08-25 to 1999-10-07\n",
      "      ✅ Found 2 images\n",
      "      🔧 Using relaxed masking mode (clouds only)\n",
      "      🔧 Using relaxed masking mode (clouds only)\n",
      "      🔧 Using relaxed masking mode (clouds only)\n",
      "   📤 Preparing to export NDVI: NDVI_1999_09.tif\n"
     ]
    },
    {
     "data": {
      "application/vnd.jupyter.widget-view+json": {
       "model_id": "c677cf4780ea410d9634c0c86faa5b14",
       "version_major": 2,
       "version_minor": 0
      },
      "text/plain": [
       "NDVI_1999_09.tif: |          | 0.00/1.82M (raw) [  0.0%] in 00:00 (eta:     ?)"
      ]
     },
     "metadata": {},
     "output_type": "display_data"
    },
    {
     "name": "stdout",
     "output_type": "stream",
     "text": [
      "   ✅ NDVI export completed: NDVI_1999_09.tif\n",
      "   📤 Preparing to export NIRv: NIRv_1999_09.tif\n"
     ]
    },
    {
     "data": {
      "application/vnd.jupyter.widget-view+json": {
       "model_id": "ccb89f46358a4953b085a1952417fbb5",
       "version_major": 2,
       "version_minor": 0
      },
      "text/plain": [
       "NIRv_1999_09.tif: |          | 0.00/3.64M (raw) [  0.0%] in 00:00 (eta:     ?)"
      ]
     },
     "metadata": {},
     "output_type": "display_data"
    },
    {
     "name": "stdout",
     "output_type": "stream",
     "text": [
      "   ✅ NIRv export completed: NIRv_1999_09.tif\n",
      "✅ 1999_09 successfully exported\n",
      "\n",
      "--- Processing 1999_10 ---\n",
      "    🛰️  Falling back to Landsat...\n",
      "      📅 Expanding time window ±7 days: 1999-09-24 to 1999-11-07\n",
      "      ✅ Found 2 images\n",
      "      🔧 Using relaxed masking mode (clouds only)\n",
      "      🔧 Using relaxed masking mode (clouds only)\n",
      "      🔧 Using relaxed masking mode (clouds only)\n",
      "   📤 Preparing to export NDVI: NDVI_1999_10.tif\n"
     ]
    },
    {
     "data": {
      "application/vnd.jupyter.widget-view+json": {
       "model_id": "4d41cfdafe8b442fb4039328f74f1ce8",
       "version_major": 2,
       "version_minor": 0
      },
      "text/plain": [
       "NDVI_1999_10.tif: |          | 0.00/1.82M (raw) [  0.0%] in 00:00 (eta:     ?)"
      ]
     },
     "metadata": {},
     "output_type": "display_data"
    },
    {
     "name": "stdout",
     "output_type": "stream",
     "text": [
      "   ✅ NDVI export completed: NDVI_1999_10.tif\n",
      "   📤 Preparing to export NIRv: NIRv_1999_10.tif\n"
     ]
    },
    {
     "data": {
      "application/vnd.jupyter.widget-view+json": {
       "model_id": "ec36552adc8f4a15bd3938e140ece15b",
       "version_major": 2,
       "version_minor": 0
      },
      "text/plain": [
       "NIRv_1999_10.tif: |          | 0.00/3.64M (raw) [  0.0%] in 00:00 (eta:     ?)"
      ]
     },
     "metadata": {},
     "output_type": "display_data"
    },
    {
     "name": "stdout",
     "output_type": "stream",
     "text": [
      "   ✅ NIRv export completed: NIRv_1999_10.tif\n",
      "✅ 1999_10 successfully exported\n",
      "\n",
      "--- Processing 1999_11 ---\n",
      "    🛰️  Falling back to Landsat...\n",
      "      📅 Expanding time window ±7 days: 1999-10-25 to 1999-12-07\n",
      "      ✅ Found 3 images\n",
      "      🔧 Using relaxed masking mode (clouds only)\n",
      "      🔧 Using relaxed masking mode (clouds only)\n",
      "      🔧 Using relaxed masking mode (clouds only)\n",
      "   📤 Preparing to export NDVI: NDVI_1999_11.tif\n"
     ]
    },
    {
     "data": {
      "application/vnd.jupyter.widget-view+json": {
       "model_id": "d8e82523a4624e58bab6e38749b91b39",
       "version_major": 2,
       "version_minor": 0
      },
      "text/plain": [
       "NDVI_1999_11.tif: |          | 0.00/1.82M (raw) [  0.0%] in 00:00 (eta:     ?)"
      ]
     },
     "metadata": {},
     "output_type": "display_data"
    },
    {
     "name": "stdout",
     "output_type": "stream",
     "text": [
      "   ✅ NDVI export completed: NDVI_1999_11.tif\n",
      "   📤 Preparing to export NIRv: NIRv_1999_11.tif\n"
     ]
    },
    {
     "data": {
      "application/vnd.jupyter.widget-view+json": {
       "model_id": "707ecb91219b4917afe32694eabeaf0a",
       "version_major": 2,
       "version_minor": 0
      },
      "text/plain": [
       "NIRv_1999_11.tif: |          | 0.00/3.64M (raw) [  0.0%] in 00:00 (eta:     ?)"
      ]
     },
     "metadata": {},
     "output_type": "display_data"
    },
    {
     "name": "stdout",
     "output_type": "stream",
     "text": [
      "   ✅ NIRv export completed: NIRv_1999_11.tif\n",
      "✅ 1999_11 successfully exported\n",
      "\n",
      "--- Processing 1999_12 ---\n",
      "    🛰️  Falling back to Landsat...\n",
      "      📅 Expanding time window ±7 days: 1999-11-24 to 2000-01-07\n",
      "      ✅ Found 1 images\n",
      "      🔧 Using relaxed masking mode (clouds only)\n",
      "      🔧 Using relaxed masking mode (clouds only)\n",
      "      🔧 Using relaxed masking mode (clouds only)\n",
      "   📤 Preparing to export NDVI: NDVI_1999_12.tif\n"
     ]
    },
    {
     "data": {
      "application/vnd.jupyter.widget-view+json": {
       "model_id": "ba1a10807ae4441f90d58abb5f8b5385",
       "version_major": 2,
       "version_minor": 0
      },
      "text/plain": [
       "NDVI_1999_12.tif: |          | 0.00/1.82M (raw) [  0.0%] in 00:00 (eta:     ?)"
      ]
     },
     "metadata": {},
     "output_type": "display_data"
    },
    {
     "name": "stdout",
     "output_type": "stream",
     "text": [
      "   ✅ NDVI export completed: NDVI_1999_12.tif\n",
      "   📤 Preparing to export NIRv: NIRv_1999_12.tif\n"
     ]
    },
    {
     "data": {
      "application/vnd.jupyter.widget-view+json": {
       "model_id": "c320d6bfa482424fa8294d1792229c70",
       "version_major": 2,
       "version_minor": 0
      },
      "text/plain": [
       "NIRv_1999_12.tif: |          | 0.00/3.64M (raw) [  0.0%] in 00:00 (eta:     ?)"
      ]
     },
     "metadata": {},
     "output_type": "display_data"
    },
    {
     "name": "stdout",
     "output_type": "stream",
     "text": [
      "   ✅ NIRv export completed: NIRv_1999_12.tif\n",
      "✅ 1999_12 successfully exported\n",
      "\n",
      "--- Processing 2000_01 ---\n",
      "    🛰️  Falling back to Landsat...\n",
      "      📅 Expanding time window ±7 days: 1999-12-25 to 2000-02-07\n",
      "      ✅ Found 1 images\n",
      "      🔧 Using relaxed masking mode (clouds only)\n",
      "      🔧 Using relaxed masking mode (clouds only)\n",
      "      🔧 Using relaxed masking mode (clouds only)\n",
      "   📤 Preparing to export NDVI: NDVI_2000_01.tif\n"
     ]
    },
    {
     "data": {
      "application/vnd.jupyter.widget-view+json": {
       "model_id": "213bbd4b9c464efa8df4c1a416a0b0c3",
       "version_major": 2,
       "version_minor": 0
      },
      "text/plain": [
       "NDVI_2000_01.tif: |          | 0.00/1.82M (raw) [  0.0%] in 00:00 (eta:     ?)"
      ]
     },
     "metadata": {},
     "output_type": "display_data"
    },
    {
     "name": "stdout",
     "output_type": "stream",
     "text": [
      "   ✅ NDVI export completed: NDVI_2000_01.tif\n",
      "   📤 Preparing to export NIRv: NIRv_2000_01.tif\n"
     ]
    },
    {
     "data": {
      "application/vnd.jupyter.widget-view+json": {
       "model_id": "a42534a7d44e44fe977cb3539d2e7f2b",
       "version_major": 2,
       "version_minor": 0
      },
      "text/plain": [
       "NIRv_2000_01.tif: |          | 0.00/3.64M (raw) [  0.0%] in 00:00 (eta:     ?)"
      ]
     },
     "metadata": {},
     "output_type": "display_data"
    },
    {
     "name": "stdout",
     "output_type": "stream",
     "text": [
      "   ✅ NIRv export completed: NIRv_2000_01.tif\n",
      "✅ 2000_01 successfully exported\n",
      "\n",
      "--- Processing 2000_02 ---\n",
      "    🛰️  Falling back to Landsat...\n",
      "      📅 Expanding time window ±7 days: 2000-01-25 to 2000-03-07\n",
      "      ✅ Found 1 images\n",
      "      🔧 Using relaxed masking mode (clouds only)\n",
      "      🔧 Using relaxed masking mode (clouds only)\n",
      "      🔧 Using relaxed masking mode (clouds only)\n",
      "   📤 Preparing to export NDVI: NDVI_2000_02.tif\n"
     ]
    },
    {
     "data": {
      "application/vnd.jupyter.widget-view+json": {
       "model_id": "62a5b291674349bebcb39991eaa0a7c6",
       "version_major": 2,
       "version_minor": 0
      },
      "text/plain": [
       "NDVI_2000_02.tif: |          | 0.00/1.82M (raw) [  0.0%] in 00:00 (eta:     ?)"
      ]
     },
     "metadata": {},
     "output_type": "display_data"
    },
    {
     "name": "stdout",
     "output_type": "stream",
     "text": [
      "   ✅ NDVI export completed: NDVI_2000_02.tif\n",
      "   📤 Preparing to export NIRv: NIRv_2000_02.tif\n"
     ]
    },
    {
     "data": {
      "application/vnd.jupyter.widget-view+json": {
       "model_id": "c0c74858491f499e95c020bf2042dc73",
       "version_major": 2,
       "version_minor": 0
      },
      "text/plain": [
       "NIRv_2000_02.tif: |          | 0.00/3.64M (raw) [  0.0%] in 00:00 (eta:     ?)"
      ]
     },
     "metadata": {},
     "output_type": "display_data"
    },
    {
     "name": "stdout",
     "output_type": "stream",
     "text": [
      "   ✅ NIRv export completed: NIRv_2000_02.tif\n",
      "✅ 2000_02 successfully exported\n",
      "\n",
      "--- Processing 2000_03 ---\n",
      "    🛰️  Falling back to Landsat...\n",
      "      📅 Expanding time window ±7 days: 2000-02-23 to 2000-04-07\n",
      "      ✅ Found 1 images\n",
      "      🔧 Using relaxed masking mode (clouds only)\n",
      "      🔧 Using relaxed masking mode (clouds only)\n",
      "      🔧 Using relaxed masking mode (clouds only)\n",
      "   📤 Preparing to export NDVI: NDVI_2000_03.tif\n"
     ]
    },
    {
     "data": {
      "application/vnd.jupyter.widget-view+json": {
       "model_id": "2eba47ba39ac42dfac1730b1717c3022",
       "version_major": 2,
       "version_minor": 0
      },
      "text/plain": [
       "NDVI_2000_03.tif: |          | 0.00/1.82M (raw) [  0.0%] in 00:00 (eta:     ?)"
      ]
     },
     "metadata": {},
     "output_type": "display_data"
    },
    {
     "name": "stdout",
     "output_type": "stream",
     "text": [
      "   ✅ NDVI export completed: NDVI_2000_03.tif\n",
      "   📤 Preparing to export NIRv: NIRv_2000_03.tif\n"
     ]
    },
    {
     "data": {
      "application/vnd.jupyter.widget-view+json": {
       "model_id": "18a5b125dc4a4c8a96f290873027021a",
       "version_major": 2,
       "version_minor": 0
      },
      "text/plain": [
       "NIRv_2000_03.tif: |          | 0.00/3.64M (raw) [  0.0%] in 00:00 (eta:     ?)"
      ]
     },
     "metadata": {},
     "output_type": "display_data"
    },
    {
     "name": "stdout",
     "output_type": "stream",
     "text": [
      "   ✅ NIRv export completed: NIRv_2000_03.tif\n",
      "✅ 2000_03 successfully exported\n",
      "\n",
      "--- Processing 2000_04 ---\n",
      "    🛰️  Falling back to Landsat...\n",
      "      📅 Expanding time window ±7 days: 2000-03-25 to 2000-05-07\n",
      "      ✅ Found 2 images\n",
      "      🔧 Using relaxed masking mode (clouds only)\n",
      "      🔧 Using relaxed masking mode (clouds only)\n",
      "      🔧 Using relaxed masking mode (clouds only)\n",
      "   📤 Preparing to export NDVI: NDVI_2000_04.tif\n"
     ]
    },
    {
     "data": {
      "application/vnd.jupyter.widget-view+json": {
       "model_id": "504723f3254f4119b0fb7cfcd863eded",
       "version_major": 2,
       "version_minor": 0
      },
      "text/plain": [
       "NDVI_2000_04.tif: |          | 0.00/1.82M (raw) [  0.0%] in 00:00 (eta:     ?)"
      ]
     },
     "metadata": {},
     "output_type": "display_data"
    },
    {
     "name": "stdout",
     "output_type": "stream",
     "text": [
      "   ✅ NDVI export completed: NDVI_2000_04.tif\n",
      "   📤 Preparing to export NIRv: NIRv_2000_04.tif\n"
     ]
    },
    {
     "data": {
      "application/vnd.jupyter.widget-view+json": {
       "model_id": "77c83ab46d39462cb51b3ba2f7d39e47",
       "version_major": 2,
       "version_minor": 0
      },
      "text/plain": [
       "NIRv_2000_04.tif: |          | 0.00/3.64M (raw) [  0.0%] in 00:00 (eta:     ?)"
      ]
     },
     "metadata": {},
     "output_type": "display_data"
    },
    {
     "name": "stdout",
     "output_type": "stream",
     "text": [
      "   ✅ NIRv export completed: NIRv_2000_04.tif\n",
      "✅ 2000_04 successfully exported\n",
      "\n",
      "--- Processing 2000_05 ---\n",
      "    🛰️  Falling back to Landsat...\n",
      "      📅 Expanding time window ±7 days: 2000-04-24 to 2000-06-07\n",
      "      ✅ Found 2 images\n",
      "      🔧 Using relaxed masking mode (clouds only)\n",
      "      🔧 Using relaxed masking mode (clouds only)\n",
      "      🔧 Using relaxed masking mode (clouds only)\n",
      "   📤 Preparing to export NDVI: NDVI_2000_05.tif\n"
     ]
    },
    {
     "data": {
      "application/vnd.jupyter.widget-view+json": {
       "model_id": "865efdbde6d2451a88855f52be23bc2c",
       "version_major": 2,
       "version_minor": 0
      },
      "text/plain": [
       "NDVI_2000_05.tif: |          | 0.00/1.82M (raw) [  0.0%] in 00:00 (eta:     ?)"
      ]
     },
     "metadata": {},
     "output_type": "display_data"
    },
    {
     "name": "stdout",
     "output_type": "stream",
     "text": [
      "   ✅ NDVI export completed: NDVI_2000_05.tif\n",
      "   📤 Preparing to export NIRv: NIRv_2000_05.tif\n"
     ]
    },
    {
     "data": {
      "application/vnd.jupyter.widget-view+json": {
       "model_id": "cde56c028c4249a891f0f6ca4e18c3e9",
       "version_major": 2,
       "version_minor": 0
      },
      "text/plain": [
       "NIRv_2000_05.tif: |          | 0.00/3.64M (raw) [  0.0%] in 00:00 (eta:     ?)"
      ]
     },
     "metadata": {},
     "output_type": "display_data"
    },
    {
     "name": "stdout",
     "output_type": "stream",
     "text": [
      "   ✅ NIRv export completed: NIRv_2000_05.tif\n",
      "✅ 2000_05 successfully exported\n",
      "\n",
      "--- Processing 2000_06 ---\n",
      "    🛰️  Falling back to Landsat...\n",
      "      📅 Expanding time window ±5 days: 2000-05-27 to 2000-07-05\n",
      "      ✅ Found 2 images\n",
      "   📤 Preparing to export NDVI: NDVI_2000_06.tif\n"
     ]
    },
    {
     "data": {
      "application/vnd.jupyter.widget-view+json": {
       "model_id": "525b9abf5d2f4efcb00fecc6b94b9fe2",
       "version_major": 2,
       "version_minor": 0
      },
      "text/plain": [
       "NDVI_2000_06.tif: |          | 0.00/1.82M (raw) [  0.0%] in 00:00 (eta:     ?)"
      ]
     },
     "metadata": {},
     "output_type": "display_data"
    },
    {
     "name": "stdout",
     "output_type": "stream",
     "text": [
      "   ✅ NDVI export completed: NDVI_2000_06.tif\n",
      "   📤 Preparing to export NIRv: NIRv_2000_06.tif\n"
     ]
    },
    {
     "data": {
      "application/vnd.jupyter.widget-view+json": {
       "model_id": "e9fa9bf7febb43bcb6e524ab2144449b",
       "version_major": 2,
       "version_minor": 0
      },
      "text/plain": [
       "NIRv_2000_06.tif: |          | 0.00/3.64M (raw) [  0.0%] in 00:00 (eta:     ?)"
      ]
     },
     "metadata": {},
     "output_type": "display_data"
    },
    {
     "name": "stdout",
     "output_type": "stream",
     "text": [
      "   ✅ NIRv export completed: NIRv_2000_06.tif\n",
      "✅ 2000_06 successfully exported\n",
      "\n",
      "--- Processing 2000_07 ---\n",
      "    🛰️  Falling back to Landsat...\n",
      "      📅 Expanding time window ±5 days: 2000-06-26 to 2000-08-05\n",
      "      ✅ Found 1 images\n",
      "   📤 Preparing to export NDVI: NDVI_2000_07.tif\n"
     ]
    },
    {
     "data": {
      "application/vnd.jupyter.widget-view+json": {
       "model_id": "61c98ab5256c455b89e84bd4fdb329a0",
       "version_major": 2,
       "version_minor": 0
      },
      "text/plain": [
       "NDVI_2000_07.tif: |          | 0.00/1.82M (raw) [  0.0%] in 00:00 (eta:     ?)"
      ]
     },
     "metadata": {},
     "output_type": "display_data"
    },
    {
     "name": "stdout",
     "output_type": "stream",
     "text": [
      "   ✅ NDVI export completed: NDVI_2000_07.tif\n",
      "   📤 Preparing to export NIRv: NIRv_2000_07.tif\n"
     ]
    },
    {
     "data": {
      "application/vnd.jupyter.widget-view+json": {
       "model_id": "6c2bf839a67f4e07ab37b510e1841d6e",
       "version_major": 2,
       "version_minor": 0
      },
      "text/plain": [
       "NIRv_2000_07.tif: |          | 0.00/3.64M (raw) [  0.0%] in 00:00 (eta:     ?)"
      ]
     },
     "metadata": {},
     "output_type": "display_data"
    },
    {
     "name": "stdout",
     "output_type": "stream",
     "text": [
      "   ✅ NIRv export completed: NIRv_2000_07.tif\n",
      "✅ 2000_07 successfully exported\n",
      "\n",
      "--- Processing 2000_08 ---\n",
      "    🛰️  Falling back to Landsat...\n",
      "      📅 Expanding time window ±5 days: 2000-07-27 to 2000-09-05\n",
      "      ✅ Found 2 images\n",
      "   📤 Preparing to export NDVI: NDVI_2000_08.tif\n"
     ]
    },
    {
     "data": {
      "application/vnd.jupyter.widget-view+json": {
       "model_id": "285f144168b5471c8ea8dcc80bc95b29",
       "version_major": 2,
       "version_minor": 0
      },
      "text/plain": [
       "NDVI_2000_08.tif: |          | 0.00/1.82M (raw) [  0.0%] in 00:00 (eta:     ?)"
      ]
     },
     "metadata": {},
     "output_type": "display_data"
    },
    {
     "name": "stdout",
     "output_type": "stream",
     "text": [
      "   ✅ NDVI export completed: NDVI_2000_08.tif\n",
      "   📤 Preparing to export NIRv: NIRv_2000_08.tif\n"
     ]
    },
    {
     "data": {
      "application/vnd.jupyter.widget-view+json": {
       "model_id": "1f3078cba2924e9eb072ad7fc3ba1cc7",
       "version_major": 2,
       "version_minor": 0
      },
      "text/plain": [
       "NIRv_2000_08.tif: |          | 0.00/3.64M (raw) [  0.0%] in 00:00 (eta:     ?)"
      ]
     },
     "metadata": {},
     "output_type": "display_data"
    },
    {
     "name": "stdout",
     "output_type": "stream",
     "text": [
      "   ✅ NIRv export completed: NIRv_2000_08.tif\n",
      "✅ 2000_08 successfully exported\n",
      "\n",
      "--- Processing 2000_09 ---\n",
      "    🛰️  Falling back to Landsat...\n",
      "      📅 Expanding time window ±7 days: 2000-08-25 to 2000-10-07\n",
      "      ✅ Found 2 images\n",
      "      🔧 Using relaxed masking mode (clouds only)\n",
      "      🔧 Using relaxed masking mode (clouds only)\n",
      "      🔧 Using relaxed masking mode (clouds only)\n",
      "   📤 Preparing to export NDVI: NDVI_2000_09.tif\n"
     ]
    },
    {
     "data": {
      "application/vnd.jupyter.widget-view+json": {
       "model_id": "72d7ededf4684ac4be9ef1287618ea3b",
       "version_major": 2,
       "version_minor": 0
      },
      "text/plain": [
       "NDVI_2000_09.tif: |          | 0.00/1.82M (raw) [  0.0%] in 00:00 (eta:     ?)"
      ]
     },
     "metadata": {},
     "output_type": "display_data"
    },
    {
     "name": "stdout",
     "output_type": "stream",
     "text": [
      "   ✅ NDVI export completed: NDVI_2000_09.tif\n",
      "   📤 Preparing to export NIRv: NIRv_2000_09.tif\n"
     ]
    },
    {
     "data": {
      "application/vnd.jupyter.widget-view+json": {
       "model_id": "0fe19d80db0a473d93031c3615d5baa7",
       "version_major": 2,
       "version_minor": 0
      },
      "text/plain": [
       "NIRv_2000_09.tif: |          | 0.00/3.64M (raw) [  0.0%] in 00:00 (eta:     ?)"
      ]
     },
     "metadata": {},
     "output_type": "display_data"
    },
    {
     "name": "stdout",
     "output_type": "stream",
     "text": [
      "   ✅ NIRv export completed: NIRv_2000_09.tif\n",
      "✅ 2000_09 successfully exported\n",
      "\n",
      "--- Processing 2000_10 ---\n",
      "    🛰️  Falling back to Landsat...\n",
      "      📅 Expanding time window ±7 days: 2000-09-24 to 2000-11-07\n",
      "      ✅ Found 4 images\n",
      "      🔧 Using relaxed masking mode (clouds only)\n",
      "      🔧 Using relaxed masking mode (clouds only)\n",
      "      🔧 Using relaxed masking mode (clouds only)\n",
      "   📤 Preparing to export NDVI: NDVI_2000_10.tif\n"
     ]
    },
    {
     "data": {
      "application/vnd.jupyter.widget-view+json": {
       "model_id": "b73a0a7acb6a4246ae1e97ec2318ee44",
       "version_major": 2,
       "version_minor": 0
      },
      "text/plain": [
       "NDVI_2000_10.tif: |          | 0.00/1.82M (raw) [  0.0%] in 00:00 (eta:     ?)"
      ]
     },
     "metadata": {},
     "output_type": "display_data"
    },
    {
     "name": "stdout",
     "output_type": "stream",
     "text": [
      "   ✅ NDVI export completed: NDVI_2000_10.tif\n",
      "   📤 Preparing to export NIRv: NIRv_2000_10.tif\n"
     ]
    },
    {
     "data": {
      "application/vnd.jupyter.widget-view+json": {
       "model_id": "ab4d943550bd452c909b7f30968ce9bc",
       "version_major": 2,
       "version_minor": 0
      },
      "text/plain": [
       "NIRv_2000_10.tif: |          | 0.00/3.64M (raw) [  0.0%] in 00:00 (eta:     ?)"
      ]
     },
     "metadata": {},
     "output_type": "display_data"
    },
    {
     "name": "stdout",
     "output_type": "stream",
     "text": [
      "   ✅ NIRv export completed: NIRv_2000_10.tif\n",
      "✅ 2000_10 successfully exported\n",
      "\n",
      "--- Processing 2000_11 ---\n",
      "    🛰️  Falling back to Landsat...\n",
      "      📅 Expanding time window ±7 days: 2000-10-25 to 2000-12-07\n",
      "      ✅ Found 1 images\n",
      "      🔧 Using relaxed masking mode (clouds only)\n",
      "      🔧 Using relaxed masking mode (clouds only)\n",
      "      🔧 Using relaxed masking mode (clouds only)\n",
      "   📤 Preparing to export NDVI: NDVI_2000_11.tif\n"
     ]
    },
    {
     "data": {
      "application/vnd.jupyter.widget-view+json": {
       "model_id": "4086b4726adb45e69f1179266b3fa56e",
       "version_major": 2,
       "version_minor": 0
      },
      "text/plain": [
       "NDVI_2000_11.tif: |          | 0.00/1.82M (raw) [  0.0%] in 00:00 (eta:     ?)"
      ]
     },
     "metadata": {},
     "output_type": "display_data"
    },
    {
     "name": "stdout",
     "output_type": "stream",
     "text": [
      "   ✅ NDVI export completed: NDVI_2000_11.tif\n",
      "   📤 Preparing to export NIRv: NIRv_2000_11.tif\n"
     ]
    },
    {
     "data": {
      "application/vnd.jupyter.widget-view+json": {
       "model_id": "4b4b0d8581704e229ecbdcf8deb10c5a",
       "version_major": 2,
       "version_minor": 0
      },
      "text/plain": [
       "NIRv_2000_11.tif: |          | 0.00/3.64M (raw) [  0.0%] in 00:00 (eta:     ?)"
      ]
     },
     "metadata": {},
     "output_type": "display_data"
    },
    {
     "name": "stdout",
     "output_type": "stream",
     "text": [
      "   ✅ NIRv export completed: NIRv_2000_11.tif\n",
      "✅ 2000_11 successfully exported\n",
      "\n",
      "--- Processing 2000_12 ---\n",
      "    🛰️  Falling back to Landsat...\n",
      "      📅 Expanding time window ±7 days: 2000-11-24 to 2001-01-07\n",
      "      ✅ Found 1 images\n",
      "      🔧 Using relaxed masking mode (clouds only)\n",
      "      🔧 Using relaxed masking mode (clouds only)\n",
      "      🔧 Using relaxed masking mode (clouds only)\n",
      "   📤 Preparing to export NDVI: NDVI_2000_12.tif\n"
     ]
    },
    {
     "data": {
      "application/vnd.jupyter.widget-view+json": {
       "model_id": "1621c443efb84cacb2fec14b6501ea34",
       "version_major": 2,
       "version_minor": 0
      },
      "text/plain": [
       "NDVI_2000_12.tif: |          | 0.00/1.82M (raw) [  0.0%] in 00:00 (eta:     ?)"
      ]
     },
     "metadata": {},
     "output_type": "display_data"
    },
    {
     "name": "stdout",
     "output_type": "stream",
     "text": [
      "   ✅ NDVI export completed: NDVI_2000_12.tif\n",
      "   📤 Preparing to export NIRv: NIRv_2000_12.tif\n"
     ]
    },
    {
     "data": {
      "application/vnd.jupyter.widget-view+json": {
       "model_id": "54249268f4d14760b35f06d6d6c1f852",
       "version_major": 2,
       "version_minor": 0
      },
      "text/plain": [
       "NIRv_2000_12.tif: |          | 0.00/3.64M (raw) [  0.0%] in 00:00 (eta:     ?)"
      ]
     },
     "metadata": {},
     "output_type": "display_data"
    },
    {
     "name": "stdout",
     "output_type": "stream",
     "text": [
      "   ✅ NIRv export completed: NIRv_2000_12.tif\n",
      "✅ 2000_12 successfully exported\n",
      "\n",
      "--- Processing 2001_01 ---\n",
      "    🛰️  Falling back to Landsat...\n",
      "      📅 Expanding time window ±7 days: 2000-12-25 to 2001-02-07\n",
      "      ✅ Found 1 images\n",
      "      🔧 Using relaxed masking mode (clouds only)\n",
      "      🔧 Using relaxed masking mode (clouds only)\n",
      "      🔧 Using relaxed masking mode (clouds only)\n",
      "   📤 Preparing to export NDVI: NDVI_2001_01.tif\n"
     ]
    },
    {
     "data": {
      "application/vnd.jupyter.widget-view+json": {
       "model_id": "dd1c8c44816642dbafbba0cf52924c55",
       "version_major": 2,
       "version_minor": 0
      },
      "text/plain": [
       "NDVI_2001_01.tif: |          | 0.00/1.82M (raw) [  0.0%] in 00:00 (eta:     ?)"
      ]
     },
     "metadata": {},
     "output_type": "display_data"
    },
    {
     "name": "stdout",
     "output_type": "stream",
     "text": [
      "   ✅ NDVI export completed: NDVI_2001_01.tif\n",
      "   📤 Preparing to export NIRv: NIRv_2001_01.tif\n"
     ]
    },
    {
     "data": {
      "application/vnd.jupyter.widget-view+json": {
       "model_id": "727cf17c50f84e57b2b9a2a46eb5cd74",
       "version_major": 2,
       "version_minor": 0
      },
      "text/plain": [
       "NIRv_2001_01.tif: |          | 0.00/3.64M (raw) [  0.0%] in 00:00 (eta:     ?)"
      ]
     },
     "metadata": {},
     "output_type": "display_data"
    },
    {
     "name": "stdout",
     "output_type": "stream",
     "text": [
      "   ✅ NIRv export completed: NIRv_2001_01.tif\n",
      "✅ 2001_01 successfully exported\n",
      "\n",
      "--- Processing 2001_02 ---\n",
      "    🛰️  Falling back to Landsat...\n",
      "      📅 Expanding time window ±7 days: 2001-01-25 to 2001-03-07\n",
      "      ✅ Found 2 images\n",
      "      🔧 Using relaxed masking mode (clouds only)\n",
      "      🔧 Using relaxed masking mode (clouds only)\n",
      "      🔧 Using relaxed masking mode (clouds only)\n",
      "   📤 Preparing to export NDVI: NDVI_2001_02.tif\n"
     ]
    },
    {
     "data": {
      "application/vnd.jupyter.widget-view+json": {
       "model_id": "f7f4acf74e344d49be55bfeb56cc157f",
       "version_major": 2,
       "version_minor": 0
      },
      "text/plain": [
       "NDVI_2001_02.tif: |          | 0.00/1.82M (raw) [  0.0%] in 00:00 (eta:     ?)"
      ]
     },
     "metadata": {},
     "output_type": "display_data"
    },
    {
     "name": "stdout",
     "output_type": "stream",
     "text": [
      "   ✅ NDVI export completed: NDVI_2001_02.tif\n",
      "   📤 Preparing to export NIRv: NIRv_2001_02.tif\n"
     ]
    },
    {
     "data": {
      "application/vnd.jupyter.widget-view+json": {
       "model_id": "765b6b493f6a40e6a608d4d79dd13fe5",
       "version_major": 2,
       "version_minor": 0
      },
      "text/plain": [
       "NIRv_2001_02.tif: |          | 0.00/3.64M (raw) [  0.0%] in 00:00 (eta:     ?)"
      ]
     },
     "metadata": {},
     "output_type": "display_data"
    },
    {
     "name": "stdout",
     "output_type": "stream",
     "text": [
      "   ✅ NIRv export completed: NIRv_2001_02.tif\n",
      "✅ 2001_02 successfully exported\n",
      "\n",
      "--- Processing 2001_03 ---\n",
      "    🛰️  Falling back to Landsat...\n",
      "      📅 Expanding time window ±7 days: 2001-02-22 to 2001-04-07\n",
      "      ✅ Found 1 images\n",
      "      🔧 Using relaxed masking mode (clouds only)\n",
      "      🔧 Using relaxed masking mode (clouds only)\n",
      "      🔧 Using relaxed masking mode (clouds only)\n",
      "   📤 Preparing to export NDVI: NDVI_2001_03.tif\n"
     ]
    },
    {
     "data": {
      "application/vnd.jupyter.widget-view+json": {
       "model_id": "978be6ce263b43b1975df692adfc8ea1",
       "version_major": 2,
       "version_minor": 0
      },
      "text/plain": [
       "NDVI_2001_03.tif: |          | 0.00/1.82M (raw) [  0.0%] in 00:00 (eta:     ?)"
      ]
     },
     "metadata": {},
     "output_type": "display_data"
    },
    {
     "name": "stdout",
     "output_type": "stream",
     "text": [
      "   ✅ NDVI export completed: NDVI_2001_03.tif\n",
      "   📤 Preparing to export NIRv: NIRv_2001_03.tif\n"
     ]
    },
    {
     "data": {
      "application/vnd.jupyter.widget-view+json": {
       "model_id": "2bdd350234af477bbed2fb50476a8932",
       "version_major": 2,
       "version_minor": 0
      },
      "text/plain": [
       "NIRv_2001_03.tif: |          | 0.00/3.64M (raw) [  0.0%] in 00:00 (eta:     ?)"
      ]
     },
     "metadata": {},
     "output_type": "display_data"
    },
    {
     "name": "stdout",
     "output_type": "stream",
     "text": [
      "   ✅ NIRv export completed: NIRv_2001_03.tif\n",
      "✅ 2001_03 successfully exported\n",
      "\n",
      "--- Processing 2001_04 ---\n",
      "    🛰️  Falling back to Landsat...\n",
      "      📅 Expanding time window ±7 days: 2001-03-25 to 2001-05-07\n",
      "      ✅ Found 3 images\n",
      "      🔧 Using relaxed masking mode (clouds only)\n",
      "      🔧 Using relaxed masking mode (clouds only)\n",
      "      🔧 Using relaxed masking mode (clouds only)\n",
      "   📤 Preparing to export NDVI: NDVI_2001_04.tif\n"
     ]
    },
    {
     "data": {
      "application/vnd.jupyter.widget-view+json": {
       "model_id": "7bca9c770b784617bc0abd70d10c850d",
       "version_major": 2,
       "version_minor": 0
      },
      "text/plain": [
       "NDVI_2001_04.tif: |          | 0.00/1.82M (raw) [  0.0%] in 00:00 (eta:     ?)"
      ]
     },
     "metadata": {},
     "output_type": "display_data"
    },
    {
     "name": "stdout",
     "output_type": "stream",
     "text": [
      "   ✅ NDVI export completed: NDVI_2001_04.tif\n",
      "   📤 Preparing to export NIRv: NIRv_2001_04.tif\n"
     ]
    },
    {
     "data": {
      "application/vnd.jupyter.widget-view+json": {
       "model_id": "6a9fa4a350b1421d99f5c53d29d4ec34",
       "version_major": 2,
       "version_minor": 0
      },
      "text/plain": [
       "NIRv_2001_04.tif: |          | 0.00/3.64M (raw) [  0.0%] in 00:00 (eta:     ?)"
      ]
     },
     "metadata": {},
     "output_type": "display_data"
    },
    {
     "name": "stdout",
     "output_type": "stream",
     "text": [
      "   ✅ NIRv export completed: NIRv_2001_04.tif\n",
      "✅ 2001_04 successfully exported\n",
      "\n",
      "--- Processing 2001_05 ---\n",
      "    🛰️  Falling back to Landsat...\n",
      "      📅 Expanding time window ±7 days: 2001-04-24 to 2001-06-07\n",
      "      ✅ Found 2 images\n",
      "      🔧 Using relaxed masking mode (clouds only)\n",
      "      🔧 Using relaxed masking mode (clouds only)\n",
      "      🔧 Using relaxed masking mode (clouds only)\n",
      "   📤 Preparing to export NDVI: NDVI_2001_05.tif\n"
     ]
    },
    {
     "data": {
      "application/vnd.jupyter.widget-view+json": {
       "model_id": "f5713bdd31914b27a2efd5c462b8412a",
       "version_major": 2,
       "version_minor": 0
      },
      "text/plain": [
       "NDVI_2001_05.tif: |          | 0.00/1.82M (raw) [  0.0%] in 00:00 (eta:     ?)"
      ]
     },
     "metadata": {},
     "output_type": "display_data"
    },
    {
     "name": "stdout",
     "output_type": "stream",
     "text": [
      "   ✅ NDVI export completed: NDVI_2001_05.tif\n",
      "   📤 Preparing to export NIRv: NIRv_2001_05.tif\n"
     ]
    },
    {
     "data": {
      "application/vnd.jupyter.widget-view+json": {
       "model_id": "1cedc7d60eec4bc991b0779a1372687f",
       "version_major": 2,
       "version_minor": 0
      },
      "text/plain": [
       "NIRv_2001_05.tif: |          | 0.00/3.64M (raw) [  0.0%] in 00:00 (eta:     ?)"
      ]
     },
     "metadata": {},
     "output_type": "display_data"
    },
    {
     "name": "stdout",
     "output_type": "stream",
     "text": [
      "   ✅ NIRv export completed: NIRv_2001_05.tif\n",
      "✅ 2001_05 successfully exported\n",
      "\n",
      "--- Processing 2001_06 ---\n",
      "    🛰️  Falling back to Landsat...\n",
      "      📅 Expanding time window ±5 days: 2001-05-27 to 2001-07-05\n",
      "      ✅ Found 1 images\n",
      "   📤 Preparing to export NDVI: NDVI_2001_06.tif\n"
     ]
    },
    {
     "data": {
      "application/vnd.jupyter.widget-view+json": {
       "model_id": "6d083ee7045b4075b1be0444d0036ddd",
       "version_major": 2,
       "version_minor": 0
      },
      "text/plain": [
       "NDVI_2001_06.tif: |          | 0.00/1.82M (raw) [  0.0%] in 00:00 (eta:     ?)"
      ]
     },
     "metadata": {},
     "output_type": "display_data"
    },
    {
     "name": "stdout",
     "output_type": "stream",
     "text": [
      "   ✅ NDVI export completed: NDVI_2001_06.tif\n",
      "   📤 Preparing to export NIRv: NIRv_2001_06.tif\n"
     ]
    },
    {
     "data": {
      "application/vnd.jupyter.widget-view+json": {
       "model_id": "32906afc29054a9d9f93fd8aa4657575",
       "version_major": 2,
       "version_minor": 0
      },
      "text/plain": [
       "NIRv_2001_06.tif: |          | 0.00/3.64M (raw) [  0.0%] in 00:00 (eta:     ?)"
      ]
     },
     "metadata": {},
     "output_type": "display_data"
    },
    {
     "name": "stdout",
     "output_type": "stream",
     "text": [
      "   ✅ NIRv export completed: NIRv_2001_06.tif\n",
      "✅ 2001_06 successfully exported\n",
      "\n",
      "--- Processing 2001_07 ---\n",
      "    🛰️  Falling back to Landsat...\n",
      "      📅 Expanding time window ±5 days: 2001-06-26 to 2001-08-05\n",
      "      ✅ Found 2 images\n",
      "   📤 Preparing to export NDVI: NDVI_2001_07.tif\n"
     ]
    },
    {
     "data": {
      "application/vnd.jupyter.widget-view+json": {
       "model_id": "659b4b6acd0e47368011eda2c110d765",
       "version_major": 2,
       "version_minor": 0
      },
      "text/plain": [
       "NDVI_2001_07.tif: |          | 0.00/1.82M (raw) [  0.0%] in 00:00 (eta:     ?)"
      ]
     },
     "metadata": {},
     "output_type": "display_data"
    },
    {
     "name": "stdout",
     "output_type": "stream",
     "text": [
      "   ✅ NDVI export completed: NDVI_2001_07.tif\n",
      "   📤 Preparing to export NIRv: NIRv_2001_07.tif\n"
     ]
    },
    {
     "data": {
      "application/vnd.jupyter.widget-view+json": {
       "model_id": "c8cc63eec48a4acbb9e047850aa93956",
       "version_major": 2,
       "version_minor": 0
      },
      "text/plain": [
       "NIRv_2001_07.tif: |          | 0.00/3.64M (raw) [  0.0%] in 00:00 (eta:     ?)"
      ]
     },
     "metadata": {},
     "output_type": "display_data"
    },
    {
     "name": "stdout",
     "output_type": "stream",
     "text": [
      "   ✅ NIRv export completed: NIRv_2001_07.tif\n",
      "✅ 2001_07 successfully exported\n",
      "\n",
      "--- Processing 2001_08 ---\n",
      "    🛰️  Falling back to Landsat...\n",
      "      📅 Expanding time window ±5 days: 2001-07-27 to 2001-09-05\n",
      "      ✅ Found 2 images\n",
      "   📤 Preparing to export NDVI: NDVI_2001_08.tif\n"
     ]
    },
    {
     "data": {
      "application/vnd.jupyter.widget-view+json": {
       "model_id": "c251945d4598477a8c0d7b89edb271f7",
       "version_major": 2,
       "version_minor": 0
      },
      "text/plain": [
       "NDVI_2001_08.tif: |          | 0.00/1.82M (raw) [  0.0%] in 00:00 (eta:     ?)"
      ]
     },
     "metadata": {},
     "output_type": "display_data"
    },
    {
     "name": "stdout",
     "output_type": "stream",
     "text": [
      "   ✅ NDVI export completed: NDVI_2001_08.tif\n",
      "   📤 Preparing to export NIRv: NIRv_2001_08.tif\n"
     ]
    },
    {
     "data": {
      "application/vnd.jupyter.widget-view+json": {
       "model_id": "3688a2d65a9149cdb374b171d386239b",
       "version_major": 2,
       "version_minor": 0
      },
      "text/plain": [
       "NIRv_2001_08.tif: |          | 0.00/3.64M (raw) [  0.0%] in 00:00 (eta:     ?)"
      ]
     },
     "metadata": {},
     "output_type": "display_data"
    },
    {
     "name": "stdout",
     "output_type": "stream",
     "text": [
      "   ✅ NIRv export completed: NIRv_2001_08.tif\n",
      "✅ 2001_08 successfully exported\n",
      "\n",
      "--- Processing 2001_09 ---\n",
      "    🛰️  Falling back to Landsat...\n",
      "      📅 Expanding time window ±7 days: 2001-08-25 to 2001-10-07\n",
      "      ✅ Found 1 images\n",
      "      🔧 Using relaxed masking mode (clouds only)\n",
      "      🔧 Using relaxed masking mode (clouds only)\n",
      "      🔧 Using relaxed masking mode (clouds only)\n",
      "   📤 Preparing to export NDVI: NDVI_2001_09.tif\n"
     ]
    },
    {
     "data": {
      "application/vnd.jupyter.widget-view+json": {
       "model_id": "038d48e71d324cef823aa5c0191216b0",
       "version_major": 2,
       "version_minor": 0
      },
      "text/plain": [
       "NDVI_2001_09.tif: |          | 0.00/1.82M (raw) [  0.0%] in 00:00 (eta:     ?)"
      ]
     },
     "metadata": {},
     "output_type": "display_data"
    },
    {
     "name": "stdout",
     "output_type": "stream",
     "text": [
      "   ✅ NDVI export completed: NDVI_2001_09.tif\n",
      "   📤 Preparing to export NIRv: NIRv_2001_09.tif\n"
     ]
    },
    {
     "data": {
      "application/vnd.jupyter.widget-view+json": {
       "model_id": "8bd13639063644bea85199eaa7daee74",
       "version_major": 2,
       "version_minor": 0
      },
      "text/plain": [
       "NIRv_2001_09.tif: |          | 0.00/3.64M (raw) [  0.0%] in 00:00 (eta:     ?)"
      ]
     },
     "metadata": {},
     "output_type": "display_data"
    },
    {
     "name": "stdout",
     "output_type": "stream",
     "text": [
      "   ✅ NIRv export completed: NIRv_2001_09.tif\n",
      "✅ 2001_09 successfully exported\n",
      "\n",
      "--- Processing 2001_10 ---\n",
      "    🛰️  Falling back to Landsat...\n",
      "      📅 Expanding time window ±7 days: 2001-09-24 to 2001-11-07\n",
      "      ✅ Found 1 images\n",
      "      🔧 Using relaxed masking mode (clouds only)\n",
      "      🔧 Using relaxed masking mode (clouds only)\n",
      "      🔧 Using relaxed masking mode (clouds only)\n",
      "   📤 Preparing to export NDVI: NDVI_2001_10.tif\n"
     ]
    },
    {
     "data": {
      "application/vnd.jupyter.widget-view+json": {
       "model_id": "033a53d457b04659b01000eb1e24a024",
       "version_major": 2,
       "version_minor": 0
      },
      "text/plain": [
       "NDVI_2001_10.tif: |          | 0.00/1.82M (raw) [  0.0%] in 00:00 (eta:     ?)"
      ]
     },
     "metadata": {},
     "output_type": "display_data"
    },
    {
     "name": "stdout",
     "output_type": "stream",
     "text": [
      "   ✅ NDVI export completed: NDVI_2001_10.tif\n",
      "   📤 Preparing to export NIRv: NIRv_2001_10.tif\n"
     ]
    },
    {
     "data": {
      "application/vnd.jupyter.widget-view+json": {
       "model_id": "8aa951b8b27340888fffb8f2db4b8e3a",
       "version_major": 2,
       "version_minor": 0
      },
      "text/plain": [
       "NIRv_2001_10.tif: |          | 0.00/3.64M (raw) [  0.0%] in 00:00 (eta:     ?)"
      ]
     },
     "metadata": {},
     "output_type": "display_data"
    },
    {
     "name": "stdout",
     "output_type": "stream",
     "text": [
      "   ✅ NIRv export completed: NIRv_2001_10.tif\n",
      "✅ 2001_10 successfully exported\n",
      "\n",
      "--- Processing 2001_11 ---\n",
      "    🛰️  Falling back to Landsat...\n",
      "      📅 Expanding time window ±7 days: 2001-10-25 to 2001-12-07\n",
      "      ✅ Found 2 images\n",
      "      🔧 Using relaxed masking mode (clouds only)\n",
      "      🔧 Using relaxed masking mode (clouds only)\n",
      "      🔧 Using relaxed masking mode (clouds only)\n",
      "   📤 Preparing to export NDVI: NDVI_2001_11.tif\n"
     ]
    },
    {
     "data": {
      "application/vnd.jupyter.widget-view+json": {
       "model_id": "5d0e88c390d04dc5a2a28727c4d060c6",
       "version_major": 2,
       "version_minor": 0
      },
      "text/plain": [
       "NDVI_2001_11.tif: |          | 0.00/1.82M (raw) [  0.0%] in 00:00 (eta:     ?)"
      ]
     },
     "metadata": {},
     "output_type": "display_data"
    },
    {
     "name": "stdout",
     "output_type": "stream",
     "text": [
      "   ✅ NDVI export completed: NDVI_2001_11.tif\n",
      "   📤 Preparing to export NIRv: NIRv_2001_11.tif\n"
     ]
    },
    {
     "data": {
      "application/vnd.jupyter.widget-view+json": {
       "model_id": "dea3686d50984299b30656daa0d18cab",
       "version_major": 2,
       "version_minor": 0
      },
      "text/plain": [
       "NIRv_2001_11.tif: |          | 0.00/3.64M (raw) [  0.0%] in 00:00 (eta:     ?)"
      ]
     },
     "metadata": {},
     "output_type": "display_data"
    },
    {
     "name": "stdout",
     "output_type": "stream",
     "text": [
      "   ✅ NIRv export completed: NIRv_2001_11.tif\n",
      "✅ 2001_11 successfully exported\n",
      "\n",
      "--- Processing 2001_12 ---\n",
      "    🛰️  Falling back to Landsat...\n",
      "      📅 Expanding time window ±7 days: 2001-11-24 to 2002-01-07\n",
      "      ⚠️  Attempt 1: Only found 0 images\n",
      "      📅 Expanding time window ±15 days: 2001-11-16 to 2002-01-15\n",
      "      🚨 Using final threshold 99%\n",
      "      ⚠️  Attempt 2: Only found 0 images\n",
      "      📅 Expanding time window ±30 days: 2001-11-01 to 2002-01-30\n",
      "      ✅ Found 2 images\n",
      "      🔧 Using relaxed masking mode (clouds only)\n",
      "      🔧 Using relaxed masking mode (clouds only)\n",
      "      🔧 Using relaxed masking mode (clouds only)\n",
      "   📤 Preparing to export NDVI: NDVI_2001_12.tif\n"
     ]
    },
    {
     "data": {
      "application/vnd.jupyter.widget-view+json": {
       "model_id": "1568dfba1ccf421e977b0252e116caeb",
       "version_major": 2,
       "version_minor": 0
      },
      "text/plain": [
       "NDVI_2001_12.tif: |          | 0.00/1.82M (raw) [  0.0%] in 00:00 (eta:     ?)"
      ]
     },
     "metadata": {},
     "output_type": "display_data"
    },
    {
     "name": "stdout",
     "output_type": "stream",
     "text": [
      "   ✅ NDVI export completed: NDVI_2001_12.tif\n",
      "   📤 Preparing to export NIRv: NIRv_2001_12.tif\n"
     ]
    },
    {
     "data": {
      "application/vnd.jupyter.widget-view+json": {
       "model_id": "3f085301142f45d491ebb067a8ff77fb",
       "version_major": 2,
       "version_minor": 0
      },
      "text/plain": [
       "NIRv_2001_12.tif: |          | 0.00/3.64M (raw) [  0.0%] in 00:00 (eta:     ?)"
      ]
     },
     "metadata": {},
     "output_type": "display_data"
    },
    {
     "name": "stdout",
     "output_type": "stream",
     "text": [
      "   ✅ NIRv export completed: NIRv_2001_12.tif\n",
      "✅ 2001_12 successfully exported\n",
      "\n",
      "--- Processing 2002_01 ---\n",
      "    🛰️  Falling back to Landsat...\n",
      "      📅 Expanding time window ±7 days: 2001-12-25 to 2002-02-07\n",
      "      ⚠️  Attempt 1: Only found 0 images\n",
      "      📅 Expanding time window ±15 days: 2001-12-17 to 2002-02-15\n",
      "      ✅ Found 1 images\n",
      "      🔧 Using relaxed masking mode (clouds only)\n",
      "      🔧 Using relaxed masking mode (clouds only)\n",
      "      🔧 Using relaxed masking mode (clouds only)\n",
      "   📤 Preparing to export NDVI: NDVI_2002_01.tif\n"
     ]
    },
    {
     "data": {
      "application/vnd.jupyter.widget-view+json": {
       "model_id": "b11522625c6f44f69293412d9083314d",
       "version_major": 2,
       "version_minor": 0
      },
      "text/plain": [
       "NDVI_2002_01.tif: |          | 0.00/1.82M (raw) [  0.0%] in 00:00 (eta:     ?)"
      ]
     },
     "metadata": {},
     "output_type": "display_data"
    },
    {
     "name": "stdout",
     "output_type": "stream",
     "text": [
      "   ✅ NDVI export completed: NDVI_2002_01.tif\n",
      "   📤 Preparing to export NIRv: NIRv_2002_01.tif\n"
     ]
    },
    {
     "data": {
      "application/vnd.jupyter.widget-view+json": {
       "model_id": "2b07e8a2575b432c985ee1f8ff9fe37a",
       "version_major": 2,
       "version_minor": 0
      },
      "text/plain": [
       "NIRv_2002_01.tif: |          | 0.00/3.64M (raw) [  0.0%] in 00:00 (eta:     ?)"
      ]
     },
     "metadata": {},
     "output_type": "display_data"
    },
    {
     "name": "stdout",
     "output_type": "stream",
     "text": [
      "   ✅ NIRv export completed: NIRv_2002_01.tif\n",
      "✅ 2002_01 successfully exported\n",
      "\n",
      "--- Processing 2002_02 ---\n",
      "    🛰️  Falling back to Landsat...\n",
      "      📅 Expanding time window ±7 days: 2002-01-25 to 2002-03-07\n",
      "      ✅ Found 1 images\n",
      "      🔧 Using relaxed masking mode (clouds only)\n",
      "      🔧 Using relaxed masking mode (clouds only)\n",
      "      🔧 Using relaxed masking mode (clouds only)\n",
      "   📤 Preparing to export NDVI: NDVI_2002_02.tif\n"
     ]
    },
    {
     "data": {
      "application/vnd.jupyter.widget-view+json": {
       "model_id": "d452a0dce5344b8eb2ba65117cea9cbb",
       "version_major": 2,
       "version_minor": 0
      },
      "text/plain": [
       "NDVI_2002_02.tif: |          | 0.00/1.82M (raw) [  0.0%] in 00:00 (eta:     ?)"
      ]
     },
     "metadata": {},
     "output_type": "display_data"
    },
    {
     "name": "stdout",
     "output_type": "stream",
     "text": [
      "   ✅ NDVI export completed: NDVI_2002_02.tif\n",
      "   📤 Preparing to export NIRv: NIRv_2002_02.tif\n"
     ]
    },
    {
     "data": {
      "application/vnd.jupyter.widget-view+json": {
       "model_id": "bc3ab0eb1b164a33953c32ddb9e31092",
       "version_major": 2,
       "version_minor": 0
      },
      "text/plain": [
       "NIRv_2002_02.tif: |          | 0.00/3.64M (raw) [  0.0%] in 00:00 (eta:     ?)"
      ]
     },
     "metadata": {},
     "output_type": "display_data"
    },
    {
     "name": "stdout",
     "output_type": "stream",
     "text": [
      "   ✅ NIRv export completed: NIRv_2002_02.tif\n",
      "✅ 2002_02 successfully exported\n",
      "\n",
      "--- Processing 2002_03 ---\n",
      "    🛰️  Falling back to Landsat...\n",
      "      📅 Expanding time window ±7 days: 2002-02-22 to 2002-04-07\n",
      "      ✅ Found 2 images\n",
      "      🔧 Using relaxed masking mode (clouds only)\n",
      "      🔧 Using relaxed masking mode (clouds only)\n",
      "      🔧 Using relaxed masking mode (clouds only)\n",
      "   📤 Preparing to export NDVI: NDVI_2002_03.tif\n"
     ]
    },
    {
     "data": {
      "application/vnd.jupyter.widget-view+json": {
       "model_id": "2239b7b25fc44ac2b6ffac1642a30430",
       "version_major": 2,
       "version_minor": 0
      },
      "text/plain": [
       "NDVI_2002_03.tif: |          | 0.00/1.82M (raw) [  0.0%] in 00:00 (eta:     ?)"
      ]
     },
     "metadata": {},
     "output_type": "display_data"
    },
    {
     "name": "stdout",
     "output_type": "stream",
     "text": [
      "   ✅ NDVI export completed: NDVI_2002_03.tif\n",
      "   📤 Preparing to export NIRv: NIRv_2002_03.tif\n"
     ]
    },
    {
     "data": {
      "application/vnd.jupyter.widget-view+json": {
       "model_id": "72d30196bebf4217a45ad8e7aff10217",
       "version_major": 2,
       "version_minor": 0
      },
      "text/plain": [
       "NIRv_2002_03.tif: |          | 0.00/3.64M (raw) [  0.0%] in 00:00 (eta:     ?)"
      ]
     },
     "metadata": {},
     "output_type": "display_data"
    },
    {
     "name": "stdout",
     "output_type": "stream",
     "text": [
      "   ✅ NIRv export completed: NIRv_2002_03.tif\n",
      "✅ 2002_03 successfully exported\n",
      "\n",
      "--- Processing 2002_04 ---\n",
      "    🛰️  Falling back to Landsat...\n",
      "      📅 Expanding time window ±7 days: 2002-03-25 to 2002-05-07\n",
      "      ✅ Found 3 images\n",
      "      🔧 Using relaxed masking mode (clouds only)\n",
      "      🔧 Using relaxed masking mode (clouds only)\n",
      "      🔧 Using relaxed masking mode (clouds only)\n",
      "   📤 Preparing to export NDVI: NDVI_2002_04.tif\n"
     ]
    },
    {
     "data": {
      "application/vnd.jupyter.widget-view+json": {
       "model_id": "7cc188b388ce462188eb008dd36bac14",
       "version_major": 2,
       "version_minor": 0
      },
      "text/plain": [
       "NDVI_2002_04.tif: |          | 0.00/1.82M (raw) [  0.0%] in 00:00 (eta:     ?)"
      ]
     },
     "metadata": {},
     "output_type": "display_data"
    },
    {
     "name": "stdout",
     "output_type": "stream",
     "text": [
      "   ✅ NDVI export completed: NDVI_2002_04.tif\n",
      "   📤 Preparing to export NIRv: NIRv_2002_04.tif\n"
     ]
    },
    {
     "data": {
      "application/vnd.jupyter.widget-view+json": {
       "model_id": "6d91dc10d788463296ebb1f1818031ff",
       "version_major": 2,
       "version_minor": 0
      },
      "text/plain": [
       "NIRv_2002_04.tif: |          | 0.00/3.64M (raw) [  0.0%] in 00:00 (eta:     ?)"
      ]
     },
     "metadata": {},
     "output_type": "display_data"
    },
    {
     "name": "stdout",
     "output_type": "stream",
     "text": [
      "   ✅ NIRv export completed: NIRv_2002_04.tif\n",
      "✅ 2002_04 successfully exported\n",
      "\n",
      "--- Processing 2002_05 ---\n",
      "    🛰️  Falling back to Landsat...\n",
      "      📅 Expanding time window ±7 days: 2002-04-24 to 2002-06-07\n",
      "      ✅ Found 4 images\n",
      "      🔧 Using relaxed masking mode (clouds only)\n",
      "      🔧 Using relaxed masking mode (clouds only)\n",
      "      🔧 Using relaxed masking mode (clouds only)\n",
      "   📤 Preparing to export NDVI: NDVI_2002_05.tif\n"
     ]
    },
    {
     "data": {
      "application/vnd.jupyter.widget-view+json": {
       "model_id": "736bd0980c19425fab444cd481e4f884",
       "version_major": 2,
       "version_minor": 0
      },
      "text/plain": [
       "NDVI_2002_05.tif: |          | 0.00/1.82M (raw) [  0.0%] in 00:00 (eta:     ?)"
      ]
     },
     "metadata": {},
     "output_type": "display_data"
    },
    {
     "name": "stdout",
     "output_type": "stream",
     "text": [
      "   ✅ NDVI export completed: NDVI_2002_05.tif\n",
      "   📤 Preparing to export NIRv: NIRv_2002_05.tif\n"
     ]
    },
    {
     "data": {
      "application/vnd.jupyter.widget-view+json": {
       "model_id": "044de103ee5743fd92ee029b5b578d78",
       "version_major": 2,
       "version_minor": 0
      },
      "text/plain": [
       "NIRv_2002_05.tif: |          | 0.00/3.64M (raw) [  0.0%] in 00:00 (eta:     ?)"
      ]
     },
     "metadata": {},
     "output_type": "display_data"
    },
    {
     "name": "stdout",
     "output_type": "stream",
     "text": [
      "   ✅ NIRv export completed: NIRv_2002_05.tif\n",
      "✅ 2002_05 successfully exported\n",
      "\n",
      "--- Processing 2002_06 ---\n",
      "    🛰️  Falling back to Landsat...\n",
      "      📅 Expanding time window ±5 days: 2002-05-27 to 2002-07-05\n",
      "      ✅ Found 3 images\n",
      "   📤 Preparing to export NDVI: NDVI_2002_06.tif\n"
     ]
    },
    {
     "data": {
      "application/vnd.jupyter.widget-view+json": {
       "model_id": "2241010ec208464cad35f922cc9fbf8e",
       "version_major": 2,
       "version_minor": 0
      },
      "text/plain": [
       "NDVI_2002_06.tif: |          | 0.00/1.82M (raw) [  0.0%] in 00:00 (eta:     ?)"
      ]
     },
     "metadata": {},
     "output_type": "display_data"
    },
    {
     "name": "stdout",
     "output_type": "stream",
     "text": [
      "   ✅ NDVI export completed: NDVI_2002_06.tif\n",
      "   📤 Preparing to export NIRv: NIRv_2002_06.tif\n"
     ]
    },
    {
     "data": {
      "application/vnd.jupyter.widget-view+json": {
       "model_id": "3534038954f443debf815ce42aa5aea6",
       "version_major": 2,
       "version_minor": 0
      },
      "text/plain": [
       "NIRv_2002_06.tif: |          | 0.00/3.64M (raw) [  0.0%] in 00:00 (eta:     ?)"
      ]
     },
     "metadata": {},
     "output_type": "display_data"
    },
    {
     "name": "stdout",
     "output_type": "stream",
     "text": [
      "   ✅ NIRv export completed: NIRv_2002_06.tif\n",
      "✅ 2002_06 successfully exported\n",
      "\n",
      "--- Processing 2002_07 ---\n",
      "    🛰️  Falling back to Landsat...\n",
      "      📅 Expanding time window ±5 days: 2002-06-26 to 2002-08-05\n",
      "      ✅ Found 4 images\n",
      "   📤 Preparing to export NDVI: NDVI_2002_07.tif\n"
     ]
    },
    {
     "data": {
      "application/vnd.jupyter.widget-view+json": {
       "model_id": "b492ac415aa74dc3bc47ab02acacf7fa",
       "version_major": 2,
       "version_minor": 0
      },
      "text/plain": [
       "NDVI_2002_07.tif: |          | 0.00/1.82M (raw) [  0.0%] in 00:00 (eta:     ?)"
      ]
     },
     "metadata": {},
     "output_type": "display_data"
    },
    {
     "name": "stdout",
     "output_type": "stream",
     "text": [
      "   ✅ NDVI export completed: NDVI_2002_07.tif\n",
      "   📤 Preparing to export NIRv: NIRv_2002_07.tif\n"
     ]
    },
    {
     "data": {
      "application/vnd.jupyter.widget-view+json": {
       "model_id": "b8095cc19f054871bd3685f29597ca80",
       "version_major": 2,
       "version_minor": 0
      },
      "text/plain": [
       "NIRv_2002_07.tif: |          | 0.00/3.64M (raw) [  0.0%] in 00:00 (eta:     ?)"
      ]
     },
     "metadata": {},
     "output_type": "display_data"
    },
    {
     "name": "stdout",
     "output_type": "stream",
     "text": [
      "   ✅ NIRv export completed: NIRv_2002_07.tif\n",
      "✅ 2002_07 successfully exported\n",
      "\n",
      "--- Processing 2002_08 ---\n",
      "    🛰️  Falling back to Landsat...\n",
      "      📅 Expanding time window ±5 days: 2002-07-27 to 2002-09-05\n",
      "      ✅ Found 1 images\n",
      "   📤 Preparing to export NDVI: NDVI_2002_08.tif\n"
     ]
    },
    {
     "data": {
      "application/vnd.jupyter.widget-view+json": {
       "model_id": "f35bb87ca5e84d44b910dc6654aca1d2",
       "version_major": 2,
       "version_minor": 0
      },
      "text/plain": [
       "NDVI_2002_08.tif: |          | 0.00/1.82M (raw) [  0.0%] in 00:00 (eta:     ?)"
      ]
     },
     "metadata": {},
     "output_type": "display_data"
    },
    {
     "name": "stdout",
     "output_type": "stream",
     "text": [
      "   ✅ NDVI export completed: NDVI_2002_08.tif\n",
      "   📤 Preparing to export NIRv: NIRv_2002_08.tif\n"
     ]
    },
    {
     "data": {
      "application/vnd.jupyter.widget-view+json": {
       "model_id": "89e862edf0fa4c39b1cafe438261732f",
       "version_major": 2,
       "version_minor": 0
      },
      "text/plain": [
       "NIRv_2002_08.tif: |          | 0.00/3.64M (raw) [  0.0%] in 00:00 (eta:     ?)"
      ]
     },
     "metadata": {},
     "output_type": "display_data"
    },
    {
     "name": "stdout",
     "output_type": "stream",
     "text": [
      "   ✅ NIRv export completed: NIRv_2002_08.tif\n",
      "✅ 2002_08 successfully exported\n",
      "\n",
      "--- Processing 2002_09 ---\n",
      "    🛰️  Falling back to Landsat...\n",
      "      📅 Expanding time window ±7 days: 2002-08-25 to 2002-10-07\n",
      "      ✅ Found 2 images\n",
      "      🔧 Using relaxed masking mode (clouds only)\n",
      "      🔧 Using relaxed masking mode (clouds only)\n",
      "      🔧 Using relaxed masking mode (clouds only)\n",
      "   📤 Preparing to export NDVI: NDVI_2002_09.tif\n"
     ]
    },
    {
     "data": {
      "application/vnd.jupyter.widget-view+json": {
       "model_id": "51e2f596688d42748deb73c68e32edf5",
       "version_major": 2,
       "version_minor": 0
      },
      "text/plain": [
       "NDVI_2002_09.tif: |          | 0.00/1.82M (raw) [  0.0%] in 00:00 (eta:     ?)"
      ]
     },
     "metadata": {},
     "output_type": "display_data"
    },
    {
     "name": "stdout",
     "output_type": "stream",
     "text": [
      "   ✅ NDVI export completed: NDVI_2002_09.tif\n",
      "   📤 Preparing to export NIRv: NIRv_2002_09.tif\n"
     ]
    },
    {
     "data": {
      "application/vnd.jupyter.widget-view+json": {
       "model_id": "2ccc33f2b6ea4cf9a27cf0243d0d3cae",
       "version_major": 2,
       "version_minor": 0
      },
      "text/plain": [
       "NIRv_2002_09.tif: |          | 0.00/3.64M (raw) [  0.0%] in 00:00 (eta:     ?)"
      ]
     },
     "metadata": {},
     "output_type": "display_data"
    },
    {
     "name": "stdout",
     "output_type": "stream",
     "text": [
      "   ✅ NIRv export completed: NIRv_2002_09.tif\n",
      "✅ 2002_09 successfully exported\n",
      "\n",
      "--- Processing 2002_10 ---\n",
      "    🛰️  Falling back to Landsat...\n",
      "      📅 Expanding time window ±7 days: 2002-09-24 to 2002-11-07\n",
      "      ✅ Found 1 images\n",
      "      🔧 Using relaxed masking mode (clouds only)\n",
      "      🔧 Using relaxed masking mode (clouds only)\n",
      "      🔧 Using relaxed masking mode (clouds only)\n",
      "   📤 Preparing to export NDVI: NDVI_2002_10.tif\n"
     ]
    },
    {
     "data": {
      "application/vnd.jupyter.widget-view+json": {
       "model_id": "458e60f96fc34e10876f46395cce11a6",
       "version_major": 2,
       "version_minor": 0
      },
      "text/plain": [
       "NDVI_2002_10.tif: |          | 0.00/1.82M (raw) [  0.0%] in 00:00 (eta:     ?)"
      ]
     },
     "metadata": {},
     "output_type": "display_data"
    },
    {
     "name": "stdout",
     "output_type": "stream",
     "text": [
      "   ✅ NDVI export completed: NDVI_2002_10.tif\n",
      "   📤 Preparing to export NIRv: NIRv_2002_10.tif\n"
     ]
    },
    {
     "data": {
      "application/vnd.jupyter.widget-view+json": {
       "model_id": "94103efb29b941fdb2e4b349e5730adf",
       "version_major": 2,
       "version_minor": 0
      },
      "text/plain": [
       "NIRv_2002_10.tif: |          | 0.00/3.64M (raw) [  0.0%] in 00:00 (eta:     ?)"
      ]
     },
     "metadata": {},
     "output_type": "display_data"
    },
    {
     "name": "stdout",
     "output_type": "stream",
     "text": [
      "   ✅ NIRv export completed: NIRv_2002_10.tif\n",
      "✅ 2002_10 successfully exported\n",
      "\n",
      "--- Processing 2002_11 ---\n",
      "    🛰️  Falling back to Landsat...\n",
      "      📅 Expanding time window ±7 days: 2002-10-25 to 2002-12-07\n",
      "      ✅ Found 5 images\n",
      "      🔧 Using relaxed masking mode (clouds only)\n",
      "      🔧 Using relaxed masking mode (clouds only)\n",
      "      🔧 Using relaxed masking mode (clouds only)\n",
      "   📤 Preparing to export NDVI: NDVI_2002_11.tif\n"
     ]
    },
    {
     "data": {
      "application/vnd.jupyter.widget-view+json": {
       "model_id": "cac43a59778a4bbab191ff50d60fa448",
       "version_major": 2,
       "version_minor": 0
      },
      "text/plain": [
       "NDVI_2002_11.tif: |          | 0.00/1.82M (raw) [  0.0%] in 00:00 (eta:     ?)"
      ]
     },
     "metadata": {},
     "output_type": "display_data"
    },
    {
     "name": "stdout",
     "output_type": "stream",
     "text": [
      "   ✅ NDVI export completed: NDVI_2002_11.tif\n",
      "   📤 Preparing to export NIRv: NIRv_2002_11.tif\n"
     ]
    },
    {
     "data": {
      "application/vnd.jupyter.widget-view+json": {
       "model_id": "fc9aa377c1e04714b52ab39724707089",
       "version_major": 2,
       "version_minor": 0
      },
      "text/plain": [
       "NIRv_2002_11.tif: |          | 0.00/3.64M (raw) [  0.0%] in 00:00 (eta:     ?)"
      ]
     },
     "metadata": {},
     "output_type": "display_data"
    },
    {
     "name": "stdout",
     "output_type": "stream",
     "text": [
      "   ✅ NIRv export completed: NIRv_2002_11.tif\n",
      "✅ 2002_11 successfully exported\n",
      "\n",
      "--- Processing 2002_12 ---\n",
      "    🛰️  Falling back to Landsat...\n",
      "      📅 Expanding time window ±7 days: 2002-11-24 to 2003-01-07\n",
      "      ✅ Found 1 images\n",
      "      🔧 Using relaxed masking mode (clouds only)\n",
      "      🔧 Using relaxed masking mode (clouds only)\n",
      "      🔧 Using relaxed masking mode (clouds only)\n",
      "   📤 Preparing to export NDVI: NDVI_2002_12.tif\n"
     ]
    },
    {
     "data": {
      "application/vnd.jupyter.widget-view+json": {
       "model_id": "5eb32aea876943c59e470fe001c29b98",
       "version_major": 2,
       "version_minor": 0
      },
      "text/plain": [
       "NDVI_2002_12.tif: |          | 0.00/1.82M (raw) [  0.0%] in 00:00 (eta:     ?)"
      ]
     },
     "metadata": {},
     "output_type": "display_data"
    },
    {
     "name": "stdout",
     "output_type": "stream",
     "text": [
      "   ✅ NDVI export completed: NDVI_2002_12.tif\n",
      "   📤 Preparing to export NIRv: NIRv_2002_12.tif\n"
     ]
    },
    {
     "data": {
      "application/vnd.jupyter.widget-view+json": {
       "model_id": "ec37c73c874640c380e57812b53bc1bf",
       "version_major": 2,
       "version_minor": 0
      },
      "text/plain": [
       "NIRv_2002_12.tif: |          | 0.00/3.64M (raw) [  0.0%] in 00:00 (eta:     ?)"
      ]
     },
     "metadata": {},
     "output_type": "display_data"
    },
    {
     "name": "stdout",
     "output_type": "stream",
     "text": [
      "   ✅ NIRv export completed: NIRv_2002_12.tif\n",
      "✅ 2002_12 successfully exported\n",
      "\n",
      "--- Processing 2003_01 ---\n",
      "    🛰️  Falling back to Landsat...\n",
      "      📅 Expanding time window ±7 days: 2002-12-25 to 2003-02-07\n",
      "      ✅ Found 1 images\n",
      "      🔧 Using relaxed masking mode (clouds only)\n",
      "      🔧 Using relaxed masking mode (clouds only)\n",
      "      🔧 Using relaxed masking mode (clouds only)\n",
      "   📤 Preparing to export NDVI: NDVI_2003_01.tif\n"
     ]
    },
    {
     "data": {
      "application/vnd.jupyter.widget-view+json": {
       "model_id": "12df181cf3b84f77a5c6b47d94306e81",
       "version_major": 2,
       "version_minor": 0
      },
      "text/plain": [
       "NDVI_2003_01.tif: |          | 0.00/1.82M (raw) [  0.0%] in 00:00 (eta:     ?)"
      ]
     },
     "metadata": {},
     "output_type": "display_data"
    },
    {
     "name": "stdout",
     "output_type": "stream",
     "text": [
      "   ✅ NDVI export completed: NDVI_2003_01.tif\n",
      "   📤 Preparing to export NIRv: NIRv_2003_01.tif\n"
     ]
    },
    {
     "data": {
      "application/vnd.jupyter.widget-view+json": {
       "model_id": "9c812d6617c84274aad7c411f57f0a65",
       "version_major": 2,
       "version_minor": 0
      },
      "text/plain": [
       "NIRv_2003_01.tif: |          | 0.00/3.64M (raw) [  0.0%] in 00:00 (eta:     ?)"
      ]
     },
     "metadata": {},
     "output_type": "display_data"
    },
    {
     "name": "stdout",
     "output_type": "stream",
     "text": [
      "   ✅ NIRv export completed: NIRv_2003_01.tif\n",
      "✅ 2003_01 successfully exported\n",
      "\n",
      "--- Processing 2003_02 ---\n",
      "    🛰️  Falling back to Landsat...\n",
      "      📅 Expanding time window ±7 days: 2003-01-25 to 2003-03-07\n",
      "      ✅ Found 1 images\n",
      "      🔧 Using relaxed masking mode (clouds only)\n",
      "      🔧 Using relaxed masking mode (clouds only)\n",
      "      🔧 Using relaxed masking mode (clouds only)\n",
      "   📤 Preparing to export NDVI: NDVI_2003_02.tif\n"
     ]
    },
    {
     "data": {
      "application/vnd.jupyter.widget-view+json": {
       "model_id": "cce566c96baf46f3a9c1443ef82859a3",
       "version_major": 2,
       "version_minor": 0
      },
      "text/plain": [
       "NDVI_2003_02.tif: |          | 0.00/1.82M (raw) [  0.0%] in 00:00 (eta:     ?)"
      ]
     },
     "metadata": {},
     "output_type": "display_data"
    },
    {
     "name": "stdout",
     "output_type": "stream",
     "text": [
      "   ✅ NDVI export completed: NDVI_2003_02.tif\n",
      "   📤 Preparing to export NIRv: NIRv_2003_02.tif\n"
     ]
    },
    {
     "data": {
      "application/vnd.jupyter.widget-view+json": {
       "model_id": "8cfca27801b54db196ea081996fd16d3",
       "version_major": 2,
       "version_minor": 0
      },
      "text/plain": [
       "NIRv_2003_02.tif: |          | 0.00/3.64M (raw) [  0.0%] in 00:00 (eta:     ?)"
      ]
     },
     "metadata": {},
     "output_type": "display_data"
    },
    {
     "name": "stdout",
     "output_type": "stream",
     "text": [
      "   ✅ NIRv export completed: NIRv_2003_02.tif\n",
      "✅ 2003_02 successfully exported\n",
      "\n",
      "--- Processing 2003_03 ---\n",
      "    🛰️  Falling back to Landsat...\n",
      "      📅 Expanding time window ±7 days: 2003-02-22 to 2003-04-07\n",
      "      ✅ Found 3 images\n",
      "      🔧 Using relaxed masking mode (clouds only)\n",
      "      🔧 Using relaxed masking mode (clouds only)\n",
      "      🔧 Using relaxed masking mode (clouds only)\n",
      "   📤 Preparing to export NDVI: NDVI_2003_03.tif\n"
     ]
    },
    {
     "data": {
      "application/vnd.jupyter.widget-view+json": {
       "model_id": "e4df2e16ad504d08a56190b26a89a335",
       "version_major": 2,
       "version_minor": 0
      },
      "text/plain": [
       "NDVI_2003_03.tif: |          | 0.00/1.82M (raw) [  0.0%] in 00:00 (eta:     ?)"
      ]
     },
     "metadata": {},
     "output_type": "display_data"
    },
    {
     "name": "stdout",
     "output_type": "stream",
     "text": [
      "   ✅ NDVI export completed: NDVI_2003_03.tif\n",
      "   📤 Preparing to export NIRv: NIRv_2003_03.tif\n"
     ]
    },
    {
     "data": {
      "application/vnd.jupyter.widget-view+json": {
       "model_id": "1b26355b7c744fcdacbb14a62cab31a3",
       "version_major": 2,
       "version_minor": 0
      },
      "text/plain": [
       "NIRv_2003_03.tif: |          | 0.00/3.64M (raw) [  0.0%] in 00:00 (eta:     ?)"
      ]
     },
     "metadata": {},
     "output_type": "display_data"
    },
    {
     "name": "stdout",
     "output_type": "stream",
     "text": [
      "   ✅ NIRv export completed: NIRv_2003_03.tif\n",
      "✅ 2003_03 successfully exported\n",
      "\n",
      "--- Processing 2003_04 ---\n",
      "    🛰️  Falling back to Landsat...\n",
      "      📅 Expanding time window ±7 days: 2003-03-25 to 2003-05-07\n",
      "      ✅ Found 3 images\n",
      "      🔧 Using relaxed masking mode (clouds only)\n",
      "      🔧 Using relaxed masking mode (clouds only)\n",
      "      🔧 Using relaxed masking mode (clouds only)\n",
      "   📤 Preparing to export NDVI: NDVI_2003_04.tif\n"
     ]
    },
    {
     "data": {
      "application/vnd.jupyter.widget-view+json": {
       "model_id": "51686c9ae4ec4f4da69a29840f488b08",
       "version_major": 2,
       "version_minor": 0
      },
      "text/plain": [
       "NDVI_2003_04.tif: |          | 0.00/1.82M (raw) [  0.0%] in 00:00 (eta:     ?)"
      ]
     },
     "metadata": {},
     "output_type": "display_data"
    },
    {
     "name": "stdout",
     "output_type": "stream",
     "text": [
      "   ✅ NDVI export completed: NDVI_2003_04.tif\n",
      "   📤 Preparing to export NIRv: NIRv_2003_04.tif\n"
     ]
    },
    {
     "data": {
      "application/vnd.jupyter.widget-view+json": {
       "model_id": "3cb4570ca8754578b83d33cd32813d76",
       "version_major": 2,
       "version_minor": 0
      },
      "text/plain": [
       "NIRv_2003_04.tif: |          | 0.00/3.64M (raw) [  0.0%] in 00:00 (eta:     ?)"
      ]
     },
     "metadata": {},
     "output_type": "display_data"
    },
    {
     "name": "stdout",
     "output_type": "stream",
     "text": [
      "   ✅ NIRv export completed: NIRv_2003_04.tif\n",
      "✅ 2003_04 successfully exported\n",
      "\n",
      "--- Processing 2003_05 ---\n",
      "    🛰️  Falling back to Landsat...\n",
      "      📅 Expanding time window ±7 days: 2003-04-24 to 2003-06-07\n",
      "      ✅ Found 1 images\n",
      "      🔧 Using relaxed masking mode (clouds only)\n",
      "      🔧 Using relaxed masking mode (clouds only)\n",
      "      🔧 Using relaxed masking mode (clouds only)\n",
      "   📤 Preparing to export NDVI: NDVI_2003_05.tif\n"
     ]
    },
    {
     "data": {
      "application/vnd.jupyter.widget-view+json": {
       "model_id": "69752f8c59ed4eb1a8f07b10bd219cf5",
       "version_major": 2,
       "version_minor": 0
      },
      "text/plain": [
       "NDVI_2003_05.tif: |          | 0.00/1.82M (raw) [  0.0%] in 00:00 (eta:     ?)"
      ]
     },
     "metadata": {},
     "output_type": "display_data"
    },
    {
     "name": "stdout",
     "output_type": "stream",
     "text": [
      "   ✅ NDVI export completed: NDVI_2003_05.tif\n",
      "   📤 Preparing to export NIRv: NIRv_2003_05.tif\n"
     ]
    },
    {
     "data": {
      "application/vnd.jupyter.widget-view+json": {
       "model_id": "6084cd9c00254cc8b9388f84d11ffc92",
       "version_major": 2,
       "version_minor": 0
      },
      "text/plain": [
       "NIRv_2003_05.tif: |          | 0.00/3.64M (raw) [  0.0%] in 00:00 (eta:     ?)"
      ]
     },
     "metadata": {},
     "output_type": "display_data"
    },
    {
     "name": "stdout",
     "output_type": "stream",
     "text": [
      "   ✅ NIRv export completed: NIRv_2003_05.tif\n",
      "✅ 2003_05 successfully exported\n",
      "\n",
      "--- Processing 2003_06 ---\n",
      "    🛰️  Falling back to Landsat...\n",
      "      📅 Expanding time window ±5 days: 2003-05-27 to 2003-07-05\n",
      "      ✅ Found 1 images\n",
      "   📤 Preparing to export NDVI: NDVI_2003_06.tif\n"
     ]
    },
    {
     "data": {
      "application/vnd.jupyter.widget-view+json": {
       "model_id": "58cf365d25fc48a1900348e0265b4d85",
       "version_major": 2,
       "version_minor": 0
      },
      "text/plain": [
       "NDVI_2003_06.tif: |          | 0.00/1.82M (raw) [  0.0%] in 00:00 (eta:     ?)"
      ]
     },
     "metadata": {},
     "output_type": "display_data"
    },
    {
     "name": "stdout",
     "output_type": "stream",
     "text": [
      "   ✅ NDVI export completed: NDVI_2003_06.tif\n",
      "   📤 Preparing to export NIRv: NIRv_2003_06.tif\n"
     ]
    },
    {
     "data": {
      "application/vnd.jupyter.widget-view+json": {
       "model_id": "99103193ef88470d81bb4f941de09344",
       "version_major": 2,
       "version_minor": 0
      },
      "text/plain": [
       "NIRv_2003_06.tif: |          | 0.00/3.64M (raw) [  0.0%] in 00:00 (eta:     ?)"
      ]
     },
     "metadata": {},
     "output_type": "display_data"
    },
    {
     "name": "stdout",
     "output_type": "stream",
     "text": [
      "   ✅ NIRv export completed: NIRv_2003_06.tif\n",
      "✅ 2003_06 successfully exported\n",
      "\n",
      "--- Processing 2003_07 ---\n",
      "    🛰️  Falling back to Landsat...\n",
      "      📅 Expanding time window ±5 days: 2003-06-26 to 2003-08-05\n",
      "      ⚠️  Attempt 1: Only found 0 images\n",
      "      📅 Expanding time window ±10 days: 2003-06-21 to 2003-08-10\n",
      "      🚨 Using final threshold 95%\n",
      "      ⚠️  Attempt 2: Only found 0 images\n",
      "      📅 Expanding time window ±21 days: 2003-06-10 to 2003-08-21\n",
      "      ✅ Found 1 images\n",
      "   📤 Preparing to export NDVI: NDVI_2003_07.tif\n"
     ]
    },
    {
     "data": {
      "application/vnd.jupyter.widget-view+json": {
       "model_id": "c4d6e1e0038a4d9baf4a1b787f04a8bb",
       "version_major": 2,
       "version_minor": 0
      },
      "text/plain": [
       "NDVI_2003_07.tif: |          | 0.00/1.82M (raw) [  0.0%] in 00:00 (eta:     ?)"
      ]
     },
     "metadata": {},
     "output_type": "display_data"
    },
    {
     "name": "stdout",
     "output_type": "stream",
     "text": [
      "   ✅ NDVI export completed: NDVI_2003_07.tif\n",
      "   📤 Preparing to export NIRv: NIRv_2003_07.tif\n"
     ]
    },
    {
     "data": {
      "application/vnd.jupyter.widget-view+json": {
       "model_id": "3c0346f0be9f4124b51fedd84524cc3a",
       "version_major": 2,
       "version_minor": 0
      },
      "text/plain": [
       "NIRv_2003_07.tif: |          | 0.00/3.64M (raw) [  0.0%] in 00:00 (eta:     ?)"
      ]
     },
     "metadata": {},
     "output_type": "display_data"
    },
    {
     "name": "stdout",
     "output_type": "stream",
     "text": [
      "   ✅ NIRv export completed: NIRv_2003_07.tif\n",
      "✅ 2003_07 successfully exported\n",
      "\n",
      "--- Processing 2003_08 ---\n",
      "    🛰️  Falling back to Landsat...\n",
      "      📅 Expanding time window ±5 days: 2003-07-27 to 2003-09-05\n",
      "      ✅ Found 1 images\n",
      "   📤 Preparing to export NDVI: NDVI_2003_08.tif\n"
     ]
    },
    {
     "data": {
      "application/vnd.jupyter.widget-view+json": {
       "model_id": "2d4cd3948fce4aa783762a1d6631d534",
       "version_major": 2,
       "version_minor": 0
      },
      "text/plain": [
       "NDVI_2003_08.tif: |          | 0.00/1.82M (raw) [  0.0%] in 00:00 (eta:     ?)"
      ]
     },
     "metadata": {},
     "output_type": "display_data"
    },
    {
     "name": "stdout",
     "output_type": "stream",
     "text": [
      "   ✅ NDVI export completed: NDVI_2003_08.tif\n",
      "   📤 Preparing to export NIRv: NIRv_2003_08.tif\n"
     ]
    },
    {
     "data": {
      "application/vnd.jupyter.widget-view+json": {
       "model_id": "dff7928e34924f8c956c57f3e776d742",
       "version_major": 2,
       "version_minor": 0
      },
      "text/plain": [
       "NIRv_2003_08.tif: |          | 0.00/3.64M (raw) [  0.0%] in 00:00 (eta:     ?)"
      ]
     },
     "metadata": {},
     "output_type": "display_data"
    },
    {
     "name": "stdout",
     "output_type": "stream",
     "text": [
      "   ✅ NIRv export completed: NIRv_2003_08.tif\n",
      "✅ 2003_08 successfully exported\n",
      "\n",
      "--- Processing 2003_09 ---\n",
      "    🛰️  Falling back to Landsat...\n",
      "      📅 Expanding time window ±7 days: 2003-08-25 to 2003-10-07\n",
      "      ✅ Found 1 images\n",
      "      🔧 Using relaxed masking mode (clouds only)\n",
      "      🔧 Using relaxed masking mode (clouds only)\n",
      "      🔧 Using relaxed masking mode (clouds only)\n",
      "   📤 Preparing to export NDVI: NDVI_2003_09.tif\n"
     ]
    },
    {
     "data": {
      "application/vnd.jupyter.widget-view+json": {
       "model_id": "b54d44c2ad2b4ddd8a799ee6d4329907",
       "version_major": 2,
       "version_minor": 0
      },
      "text/plain": [
       "NDVI_2003_09.tif: |          | 0.00/1.82M (raw) [  0.0%] in 00:00 (eta:     ?)"
      ]
     },
     "metadata": {},
     "output_type": "display_data"
    },
    {
     "name": "stdout",
     "output_type": "stream",
     "text": [
      "   ✅ NDVI export completed: NDVI_2003_09.tif\n",
      "   📤 Preparing to export NIRv: NIRv_2003_09.tif\n"
     ]
    },
    {
     "data": {
      "application/vnd.jupyter.widget-view+json": {
       "model_id": "60d2e1b1d59e4858b75228b1d81fab89",
       "version_major": 2,
       "version_minor": 0
      },
      "text/plain": [
       "NIRv_2003_09.tif: |          | 0.00/3.64M (raw) [  0.0%] in 00:00 (eta:     ?)"
      ]
     },
     "metadata": {},
     "output_type": "display_data"
    },
    {
     "name": "stdout",
     "output_type": "stream",
     "text": [
      "   ✅ NIRv export completed: NIRv_2003_09.tif\n",
      "✅ 2003_09 successfully exported\n",
      "\n",
      "--- Processing 2003_10 ---\n",
      "    🛰️  Falling back to Landsat...\n",
      "      📅 Expanding time window ±7 days: 2003-09-24 to 2003-11-07\n",
      "      ⚠️  Attempt 1: Only found 0 images\n",
      "      📅 Expanding time window ±14 days: 2003-09-17 to 2003-11-14\n",
      "      ✅ Found 2 images\n",
      "      🔧 Using relaxed masking mode (clouds only)\n",
      "      🔧 Using relaxed masking mode (clouds only)\n",
      "      🔧 Using relaxed masking mode (clouds only)\n",
      "   📤 Preparing to export NDVI: NDVI_2003_10.tif\n"
     ]
    },
    {
     "data": {
      "application/vnd.jupyter.widget-view+json": {
       "model_id": "afd513bb9fdf456488fe096553bdf38d",
       "version_major": 2,
       "version_minor": 0
      },
      "text/plain": [
       "NDVI_2003_10.tif: |          | 0.00/1.82M (raw) [  0.0%] in 00:00 (eta:     ?)"
      ]
     },
     "metadata": {},
     "output_type": "display_data"
    },
    {
     "name": "stdout",
     "output_type": "stream",
     "text": [
      "   ✅ NDVI export completed: NDVI_2003_10.tif\n",
      "   📤 Preparing to export NIRv: NIRv_2003_10.tif\n"
     ]
    },
    {
     "data": {
      "application/vnd.jupyter.widget-view+json": {
       "model_id": "e15d80ecb80b41e193e53d6c9e18ad82",
       "version_major": 2,
       "version_minor": 0
      },
      "text/plain": [
       "NIRv_2003_10.tif: |          | 0.00/3.64M (raw) [  0.0%] in 00:00 (eta:     ?)"
      ]
     },
     "metadata": {},
     "output_type": "display_data"
    },
    {
     "name": "stdout",
     "output_type": "stream",
     "text": [
      "   ✅ NIRv export completed: NIRv_2003_10.tif\n",
      "✅ 2003_10 successfully exported\n",
      "\n",
      "--- Processing 2003_11 ---\n",
      "    🛰️  Falling back to Landsat...\n",
      "      📅 Expanding time window ±7 days: 2003-10-25 to 2003-12-07\n",
      "      ✅ Found 1 images\n",
      "      🔧 Using relaxed masking mode (clouds only)\n",
      "      🔧 Using relaxed masking mode (clouds only)\n",
      "      🔧 Using relaxed masking mode (clouds only)\n",
      "   📤 Preparing to export NDVI: NDVI_2003_11.tif\n"
     ]
    },
    {
     "data": {
      "application/vnd.jupyter.widget-view+json": {
       "model_id": "554513e3bad04acda53d194034c0eb99",
       "version_major": 2,
       "version_minor": 0
      },
      "text/plain": [
       "NDVI_2003_11.tif: |          | 0.00/1.82M (raw) [  0.0%] in 00:00 (eta:     ?)"
      ]
     },
     "metadata": {},
     "output_type": "display_data"
    },
    {
     "name": "stdout",
     "output_type": "stream",
     "text": [
      "   ✅ NDVI export completed: NDVI_2003_11.tif\n",
      "   📤 Preparing to export NIRv: NIRv_2003_11.tif\n"
     ]
    },
    {
     "data": {
      "application/vnd.jupyter.widget-view+json": {
       "model_id": "682189c695f444f1a52813fe863a05ab",
       "version_major": 2,
       "version_minor": 0
      },
      "text/plain": [
       "NIRv_2003_11.tif: |          | 0.00/3.64M (raw) [  0.0%] in 00:00 (eta:     ?)"
      ]
     },
     "metadata": {},
     "output_type": "display_data"
    },
    {
     "name": "stdout",
     "output_type": "stream",
     "text": [
      "   ✅ NIRv export completed: NIRv_2003_11.tif\n",
      "✅ 2003_11 successfully exported\n",
      "\n",
      "--- Processing 2003_12 ---\n",
      "    🛰️  Falling back to Landsat...\n",
      "      📅 Expanding time window ±7 days: 2003-11-24 to 2004-01-07\n",
      "      ⚠️  Attempt 1: Only found 0 images\n",
      "      📅 Expanding time window ±15 days: 2003-11-16 to 2004-01-15\n",
      "      🚨 Using final threshold 99%\n",
      "      ⚠️  Attempt 2: Only found 0 images\n",
      "      📅 Expanding time window ±30 days: 2003-11-01 to 2004-01-30\n",
      "      ✅ Found 1 images\n",
      "      🔧 Using relaxed masking mode (clouds only)\n",
      "      🔧 Using relaxed masking mode (clouds only)\n",
      "      🔧 Using relaxed masking mode (clouds only)\n",
      "   📤 Preparing to export NDVI: NDVI_2003_12.tif\n"
     ]
    },
    {
     "data": {
      "application/vnd.jupyter.widget-view+json": {
       "model_id": "9115916e68444143b1273098ac327017",
       "version_major": 2,
       "version_minor": 0
      },
      "text/plain": [
       "NDVI_2003_12.tif: |          | 0.00/1.82M (raw) [  0.0%] in 00:00 (eta:     ?)"
      ]
     },
     "metadata": {},
     "output_type": "display_data"
    },
    {
     "name": "stdout",
     "output_type": "stream",
     "text": [
      "   ✅ NDVI export completed: NDVI_2003_12.tif\n",
      "   📤 Preparing to export NIRv: NIRv_2003_12.tif\n"
     ]
    },
    {
     "data": {
      "application/vnd.jupyter.widget-view+json": {
       "model_id": "cf4f7b02eac14f5fbf23886ba9156692",
       "version_major": 2,
       "version_minor": 0
      },
      "text/plain": [
       "NIRv_2003_12.tif: |          | 0.00/3.64M (raw) [  0.0%] in 00:00 (eta:     ?)"
      ]
     },
     "metadata": {},
     "output_type": "display_data"
    },
    {
     "name": "stdout",
     "output_type": "stream",
     "text": [
      "   ✅ NIRv export completed: NIRv_2003_12.tif\n",
      "✅ 2003_12 successfully exported\n",
      "\n",
      "--- Processing 2004_01 ---\n",
      "    🛰️  Falling back to Landsat...\n",
      "      📅 Expanding time window ±7 days: 2003-12-25 to 2004-02-07\n",
      "      ⚠️  Attempt 1: Only found 0 images\n",
      "      📅 Expanding time window ±15 days: 2003-12-17 to 2004-02-15\n",
      "      🚨 Using final threshold 99%\n",
      "      ⚠️  Attempt 2: Only found 0 images\n",
      "      📅 Expanding time window ±30 days: 2003-12-02 to 2004-03-01\n",
      "      ✅ Found 1 images\n",
      "      🔧 Using relaxed masking mode (clouds only)\n",
      "      🔧 Using relaxed masking mode (clouds only)\n",
      "      🔧 Using relaxed masking mode (clouds only)\n",
      "   📤 Preparing to export NDVI: NDVI_2004_01.tif\n"
     ]
    },
    {
     "data": {
      "application/vnd.jupyter.widget-view+json": {
       "model_id": "139c0bb555ff4ac6af55908e308a843e",
       "version_major": 2,
       "version_minor": 0
      },
      "text/plain": [
       "NDVI_2004_01.tif: |          | 0.00/1.82M (raw) [  0.0%] in 00:00 (eta:     ?)"
      ]
     },
     "metadata": {},
     "output_type": "display_data"
    },
    {
     "name": "stdout",
     "output_type": "stream",
     "text": [
      "   ✅ NDVI export completed: NDVI_2004_01.tif\n",
      "   📤 Preparing to export NIRv: NIRv_2004_01.tif\n"
     ]
    },
    {
     "data": {
      "application/vnd.jupyter.widget-view+json": {
       "model_id": "f2d7d20b579f4cfd8fb6d1e04a42f937",
       "version_major": 2,
       "version_minor": 0
      },
      "text/plain": [
       "NIRv_2004_01.tif: |          | 0.00/3.64M (raw) [  0.0%] in 00:00 (eta:     ?)"
      ]
     },
     "metadata": {},
     "output_type": "display_data"
    },
    {
     "name": "stdout",
     "output_type": "stream",
     "text": [
      "   ✅ NIRv export completed: NIRv_2004_01.tif\n",
      "✅ 2004_01 successfully exported\n",
      "\n",
      "--- Processing 2004_02 ---\n",
      "    🛰️  Falling back to Landsat...\n",
      "      📅 Expanding time window ±7 days: 2004-01-25 to 2004-03-07\n",
      "      ✅ Found 1 images\n",
      "      🔧 Using relaxed masking mode (clouds only)\n",
      "      🔧 Using relaxed masking mode (clouds only)\n",
      "      🔧 Using relaxed masking mode (clouds only)\n",
      "   📤 Preparing to export NDVI: NDVI_2004_02.tif\n"
     ]
    },
    {
     "data": {
      "application/vnd.jupyter.widget-view+json": {
       "model_id": "8f65864315164ac78047c5a06ed2cd1f",
       "version_major": 2,
       "version_minor": 0
      },
      "text/plain": [
       "NDVI_2004_02.tif: |          | 0.00/1.82M (raw) [  0.0%] in 00:00 (eta:     ?)"
      ]
     },
     "metadata": {},
     "output_type": "display_data"
    },
    {
     "name": "stdout",
     "output_type": "stream",
     "text": [
      "   ✅ NDVI export completed: NDVI_2004_02.tif\n",
      "   📤 Preparing to export NIRv: NIRv_2004_02.tif\n"
     ]
    },
    {
     "data": {
      "application/vnd.jupyter.widget-view+json": {
       "model_id": "5b38b665200b401ba5bbb0db9e79e35f",
       "version_major": 2,
       "version_minor": 0
      },
      "text/plain": [
       "NIRv_2004_02.tif: |          | 0.00/3.64M (raw) [  0.0%] in 00:00 (eta:     ?)"
      ]
     },
     "metadata": {},
     "output_type": "display_data"
    },
    {
     "name": "stdout",
     "output_type": "stream",
     "text": [
      "   ✅ NIRv export completed: NIRv_2004_02.tif\n",
      "✅ 2004_02 successfully exported\n",
      "\n",
      "--- Processing 2004_03 ---\n",
      "    🛰️  Falling back to Landsat...\n",
      "      📅 Expanding time window ±7 days: 2004-02-23 to 2004-04-07\n",
      "      ✅ Found 1 images\n",
      "      🔧 Using relaxed masking mode (clouds only)\n",
      "      🔧 Using relaxed masking mode (clouds only)\n",
      "      🔧 Using relaxed masking mode (clouds only)\n",
      "   📤 Preparing to export NDVI: NDVI_2004_03.tif\n"
     ]
    },
    {
     "data": {
      "application/vnd.jupyter.widget-view+json": {
       "model_id": "56cf6b8bd1a64521b744ef2310203264",
       "version_major": 2,
       "version_minor": 0
      },
      "text/plain": [
       "NDVI_2004_03.tif: |          | 0.00/1.82M (raw) [  0.0%] in 00:00 (eta:     ?)"
      ]
     },
     "metadata": {},
     "output_type": "display_data"
    },
    {
     "name": "stdout",
     "output_type": "stream",
     "text": [
      "   ✅ NDVI export completed: NDVI_2004_03.tif\n",
      "   📤 Preparing to export NIRv: NIRv_2004_03.tif\n"
     ]
    },
    {
     "data": {
      "application/vnd.jupyter.widget-view+json": {
       "model_id": "0f30533210db4c30bef9cecdd761598e",
       "version_major": 2,
       "version_minor": 0
      },
      "text/plain": [
       "NIRv_2004_03.tif: |          | 0.00/3.64M (raw) [  0.0%] in 00:00 (eta:     ?)"
      ]
     },
     "metadata": {},
     "output_type": "display_data"
    },
    {
     "name": "stdout",
     "output_type": "stream",
     "text": [
      "   ✅ NIRv export completed: NIRv_2004_03.tif\n",
      "✅ 2004_03 successfully exported\n",
      "\n",
      "--- Processing 2004_04 ---\n",
      "    🛰️  Falling back to Landsat...\n",
      "      📅 Expanding time window ±7 days: 2004-03-25 to 2004-05-07\n",
      "      ✅ Found 2 images\n",
      "      🔧 Using relaxed masking mode (clouds only)\n",
      "      🔧 Using relaxed masking mode (clouds only)\n",
      "      🔧 Using relaxed masking mode (clouds only)\n",
      "   📤 Preparing to export NDVI: NDVI_2004_04.tif\n"
     ]
    },
    {
     "data": {
      "application/vnd.jupyter.widget-view+json": {
       "model_id": "ddb441e68a9d4d7e8005e8529ca6ab4e",
       "version_major": 2,
       "version_minor": 0
      },
      "text/plain": [
       "NDVI_2004_04.tif: |          | 0.00/1.82M (raw) [  0.0%] in 00:00 (eta:     ?)"
      ]
     },
     "metadata": {},
     "output_type": "display_data"
    },
    {
     "name": "stdout",
     "output_type": "stream",
     "text": [
      "   ✅ NDVI export completed: NDVI_2004_04.tif\n",
      "   📤 Preparing to export NIRv: NIRv_2004_04.tif\n"
     ]
    },
    {
     "data": {
      "application/vnd.jupyter.widget-view+json": {
       "model_id": "61cf95a51efa4b9b9df5541ab86d1c2a",
       "version_major": 2,
       "version_minor": 0
      },
      "text/plain": [
       "NIRv_2004_04.tif: |          | 0.00/3.64M (raw) [  0.0%] in 00:00 (eta:     ?)"
      ]
     },
     "metadata": {},
     "output_type": "display_data"
    },
    {
     "name": "stdout",
     "output_type": "stream",
     "text": [
      "   ✅ NIRv export completed: NIRv_2004_04.tif\n",
      "✅ 2004_04 successfully exported\n",
      "\n",
      "--- Processing 2004_05 ---\n",
      "    🛰️  Falling back to Landsat...\n",
      "      📅 Expanding time window ±7 days: 2004-04-24 to 2004-06-07\n",
      "      ✅ Found 1 images\n",
      "      🔧 Using relaxed masking mode (clouds only)\n",
      "      🔧 Using relaxed masking mode (clouds only)\n",
      "      🔧 Using relaxed masking mode (clouds only)\n",
      "   📤 Preparing to export NDVI: NDVI_2004_05.tif\n"
     ]
    },
    {
     "data": {
      "application/vnd.jupyter.widget-view+json": {
       "model_id": "826c9266847e4d85a98d0f3efe1d5089",
       "version_major": 2,
       "version_minor": 0
      },
      "text/plain": [
       "NDVI_2004_05.tif: |          | 0.00/1.82M (raw) [  0.0%] in 00:00 (eta:     ?)"
      ]
     },
     "metadata": {},
     "output_type": "display_data"
    },
    {
     "name": "stdout",
     "output_type": "stream",
     "text": [
      "   ✅ NDVI export completed: NDVI_2004_05.tif\n",
      "   📤 Preparing to export NIRv: NIRv_2004_05.tif\n"
     ]
    },
    {
     "data": {
      "application/vnd.jupyter.widget-view+json": {
       "model_id": "d15a61306c44495092db98a20c411ee8",
       "version_major": 2,
       "version_minor": 0
      },
      "text/plain": [
       "NIRv_2004_05.tif: |          | 0.00/3.64M (raw) [  0.0%] in 00:00 (eta:     ?)"
      ]
     },
     "metadata": {},
     "output_type": "display_data"
    },
    {
     "name": "stdout",
     "output_type": "stream",
     "text": [
      "   ✅ NIRv export completed: NIRv_2004_05.tif\n",
      "✅ 2004_05 successfully exported\n",
      "\n",
      "--- Processing 2004_06 ---\n",
      "    🛰️  Falling back to Landsat...\n",
      "      📅 Expanding time window ±5 days: 2004-05-27 to 2004-07-05\n",
      "      ⚠️  Attempt 1: Only found 0 images\n",
      "      📅 Expanding time window ±10 days: 2004-05-22 to 2004-07-10\n",
      "      🚨 Using final threshold 95%\n",
      "      ⚠️  Attempt 2: Only found 0 images\n",
      "      📅 Expanding time window ±21 days: 2004-05-11 to 2004-07-21\n",
      "      ✅ Found 1 images\n",
      "   📤 Preparing to export NDVI: NDVI_2004_06.tif\n"
     ]
    },
    {
     "data": {
      "application/vnd.jupyter.widget-view+json": {
       "model_id": "afc20a9dfca54044b41face78f2c33d6",
       "version_major": 2,
       "version_minor": 0
      },
      "text/plain": [
       "NDVI_2004_06.tif: |          | 0.00/1.82M (raw) [  0.0%] in 00:00 (eta:     ?)"
      ]
     },
     "metadata": {},
     "output_type": "display_data"
    },
    {
     "name": "stdout",
     "output_type": "stream",
     "text": [
      "   ✅ NDVI export completed: NDVI_2004_06.tif\n",
      "   📤 Preparing to export NIRv: NIRv_2004_06.tif\n"
     ]
    },
    {
     "data": {
      "application/vnd.jupyter.widget-view+json": {
       "model_id": "c6b715b2c9764be4baade511a5af8d8f",
       "version_major": 2,
       "version_minor": 0
      },
      "text/plain": [
       "NIRv_2004_06.tif: |          | 0.00/3.64M (raw) [  0.0%] in 00:00 (eta:     ?)"
      ]
     },
     "metadata": {},
     "output_type": "display_data"
    },
    {
     "name": "stdout",
     "output_type": "stream",
     "text": [
      "   ✅ NIRv export completed: NIRv_2004_06.tif\n",
      "✅ 2004_06 successfully exported\n",
      "\n",
      "--- Processing 2004_07 ---\n",
      "    🛰️  Falling back to Landsat...\n",
      "      📅 Expanding time window ±5 days: 2004-06-26 to 2004-08-05\n",
      "      ✅ Found 1 images\n",
      "   📤 Preparing to export NDVI: NDVI_2004_07.tif\n"
     ]
    },
    {
     "data": {
      "application/vnd.jupyter.widget-view+json": {
       "model_id": "ef46cb3257504cf5809ac56022e465d0",
       "version_major": 2,
       "version_minor": 0
      },
      "text/plain": [
       "NDVI_2004_07.tif: |          | 0.00/1.82M (raw) [  0.0%] in 00:00 (eta:     ?)"
      ]
     },
     "metadata": {},
     "output_type": "display_data"
    },
    {
     "name": "stdout",
     "output_type": "stream",
     "text": [
      "   ✅ NDVI export completed: NDVI_2004_07.tif\n",
      "   📤 Preparing to export NIRv: NIRv_2004_07.tif\n"
     ]
    },
    {
     "data": {
      "application/vnd.jupyter.widget-view+json": {
       "model_id": "3a76ba4ab6e84ecc86acabc6fdb421b4",
       "version_major": 2,
       "version_minor": 0
      },
      "text/plain": [
       "NIRv_2004_07.tif: |          | 0.00/3.64M (raw) [  0.0%] in 00:00 (eta:     ?)"
      ]
     },
     "metadata": {},
     "output_type": "display_data"
    },
    {
     "name": "stdout",
     "output_type": "stream",
     "text": [
      "   ✅ NIRv export completed: NIRv_2004_07.tif\n",
      "✅ 2004_07 successfully exported\n",
      "\n",
      "--- Processing 2004_08 ---\n",
      "    🛰️  Falling back to Landsat...\n",
      "      📅 Expanding time window ±5 days: 2004-07-27 to 2004-09-05\n",
      "      ✅ Found 1 images\n",
      "   📤 Preparing to export NDVI: NDVI_2004_08.tif\n"
     ]
    },
    {
     "data": {
      "application/vnd.jupyter.widget-view+json": {
       "model_id": "992a9b59f8564dda854712be7b544a8a",
       "version_major": 2,
       "version_minor": 0
      },
      "text/plain": [
       "NDVI_2004_08.tif: |          | 0.00/1.82M (raw) [  0.0%] in 00:00 (eta:     ?)"
      ]
     },
     "metadata": {},
     "output_type": "display_data"
    },
    {
     "name": "stdout",
     "output_type": "stream",
     "text": [
      "   ✅ NDVI export completed: NDVI_2004_08.tif\n",
      "   📤 Preparing to export NIRv: NIRv_2004_08.tif\n"
     ]
    },
    {
     "data": {
      "application/vnd.jupyter.widget-view+json": {
       "model_id": "408b390c16bc445b8c8e57a72baacafb",
       "version_major": 2,
       "version_minor": 0
      },
      "text/plain": [
       "NIRv_2004_08.tif: |          | 0.00/3.64M (raw) [  0.0%] in 00:00 (eta:     ?)"
      ]
     },
     "metadata": {},
     "output_type": "display_data"
    },
    {
     "name": "stdout",
     "output_type": "stream",
     "text": [
      "   ✅ NIRv export completed: NIRv_2004_08.tif\n",
      "✅ 2004_08 successfully exported\n",
      "\n",
      "--- Processing 2004_09 ---\n",
      "    🛰️  Falling back to Landsat...\n",
      "      📅 Expanding time window ±7 days: 2004-08-25 to 2004-10-07\n",
      "      ✅ Found 1 images\n",
      "      🔧 Using relaxed masking mode (clouds only)\n",
      "      🔧 Using relaxed masking mode (clouds only)\n",
      "      🔧 Using relaxed masking mode (clouds only)\n",
      "   📤 Preparing to export NDVI: NDVI_2004_09.tif\n"
     ]
    },
    {
     "data": {
      "application/vnd.jupyter.widget-view+json": {
       "model_id": "d783877691d3492795f900448e9e3b36",
       "version_major": 2,
       "version_minor": 0
      },
      "text/plain": [
       "NDVI_2004_09.tif: |          | 0.00/1.82M (raw) [  0.0%] in 00:00 (eta:     ?)"
      ]
     },
     "metadata": {},
     "output_type": "display_data"
    },
    {
     "name": "stdout",
     "output_type": "stream",
     "text": [
      "   ✅ NDVI export completed: NDVI_2004_09.tif\n",
      "   📤 Preparing to export NIRv: NIRv_2004_09.tif\n"
     ]
    },
    {
     "data": {
      "application/vnd.jupyter.widget-view+json": {
       "model_id": "15bdc31ee526408f964685a37e3cdb22",
       "version_major": 2,
       "version_minor": 0
      },
      "text/plain": [
       "NIRv_2004_09.tif: |          | 0.00/3.64M (raw) [  0.0%] in 00:00 (eta:     ?)"
      ]
     },
     "metadata": {},
     "output_type": "display_data"
    },
    {
     "name": "stdout",
     "output_type": "stream",
     "text": [
      "   ✅ NIRv export completed: NIRv_2004_09.tif\n",
      "✅ 2004_09 successfully exported\n",
      "\n",
      "--- Processing 2004_10 ---\n",
      "    🛰️  Falling back to Landsat...\n",
      "      📅 Expanding time window ±7 days: 2004-09-24 to 2004-11-07\n",
      "      ⚠️  Attempt 1: Only found 0 images\n",
      "      📅 Expanding time window ±14 days: 2004-09-17 to 2004-11-14\n",
      "      ✅ Found 1 images\n",
      "      🔧 Using relaxed masking mode (clouds only)\n",
      "      🔧 Using relaxed masking mode (clouds only)\n",
      "      🔧 Using relaxed masking mode (clouds only)\n",
      "   📤 Preparing to export NDVI: NDVI_2004_10.tif\n"
     ]
    },
    {
     "data": {
      "application/vnd.jupyter.widget-view+json": {
       "model_id": "05cef45cd6c041c5ab5c9fd5b6128629",
       "version_major": 2,
       "version_minor": 0
      },
      "text/plain": [
       "NDVI_2004_10.tif: |          | 0.00/1.82M (raw) [  0.0%] in 00:00 (eta:     ?)"
      ]
     },
     "metadata": {},
     "output_type": "display_data"
    },
    {
     "name": "stdout",
     "output_type": "stream",
     "text": [
      "   ✅ NDVI export completed: NDVI_2004_10.tif\n",
      "   📤 Preparing to export NIRv: NIRv_2004_10.tif\n"
     ]
    },
    {
     "data": {
      "application/vnd.jupyter.widget-view+json": {
       "model_id": "bd115b2ddbc3418bb8f5cdc813c68cc1",
       "version_major": 2,
       "version_minor": 0
      },
      "text/plain": [
       "NIRv_2004_10.tif: |          | 0.00/3.64M (raw) [  0.0%] in 00:00 (eta:     ?)"
      ]
     },
     "metadata": {},
     "output_type": "display_data"
    },
    {
     "name": "stdout",
     "output_type": "stream",
     "text": [
      "   ✅ NIRv export completed: NIRv_2004_10.tif\n",
      "✅ 2004_10 successfully exported\n",
      "\n",
      "--- Processing 2004_11 ---\n",
      "    🛰️  Falling back to Landsat...\n",
      "      📅 Expanding time window ±7 days: 2004-10-25 to 2004-12-07\n",
      "      ✅ Found 2 images\n",
      "      🔧 Using relaxed masking mode (clouds only)\n",
      "      🔧 Using relaxed masking mode (clouds only)\n",
      "      🔧 Using relaxed masking mode (clouds only)\n",
      "   📤 Preparing to export NDVI: NDVI_2004_11.tif\n"
     ]
    },
    {
     "data": {
      "application/vnd.jupyter.widget-view+json": {
       "model_id": "f76deab0795048f7b3e7dd7c8b4304b5",
       "version_major": 2,
       "version_minor": 0
      },
      "text/plain": [
       "NDVI_2004_11.tif: |          | 0.00/1.82M (raw) [  0.0%] in 00:00 (eta:     ?)"
      ]
     },
     "metadata": {},
     "output_type": "display_data"
    },
    {
     "name": "stdout",
     "output_type": "stream",
     "text": [
      "   ✅ NDVI export completed: NDVI_2004_11.tif\n",
      "   📤 Preparing to export NIRv: NIRv_2004_11.tif\n"
     ]
    },
    {
     "data": {
      "application/vnd.jupyter.widget-view+json": {
       "model_id": "139c615f40be4c259c8101298a3f800e",
       "version_major": 2,
       "version_minor": 0
      },
      "text/plain": [
       "NIRv_2004_11.tif: |          | 0.00/3.64M (raw) [  0.0%] in 00:00 (eta:     ?)"
      ]
     },
     "metadata": {},
     "output_type": "display_data"
    },
    {
     "name": "stdout",
     "output_type": "stream",
     "text": [
      "   ✅ NIRv export completed: NIRv_2004_11.tif\n",
      "✅ 2004_11 successfully exported\n",
      "\n",
      "--- Processing 2004_12 ---\n",
      "    🛰️  Falling back to Landsat...\n",
      "      📅 Expanding time window ±7 days: 2004-11-24 to 2005-01-07\n",
      "      ✅ Found 1 images\n",
      "      🔧 Using relaxed masking mode (clouds only)\n",
      "      🔧 Using relaxed masking mode (clouds only)\n",
      "      🔧 Using relaxed masking mode (clouds only)\n",
      "   📤 Preparing to export NDVI: NDVI_2004_12.tif\n"
     ]
    },
    {
     "data": {
      "application/vnd.jupyter.widget-view+json": {
       "model_id": "186ec0a5addf4e698c630a2828bae115",
       "version_major": 2,
       "version_minor": 0
      },
      "text/plain": [
       "NDVI_2004_12.tif: |          | 0.00/1.82M (raw) [  0.0%] in 00:00 (eta:     ?)"
      ]
     },
     "metadata": {},
     "output_type": "display_data"
    },
    {
     "name": "stdout",
     "output_type": "stream",
     "text": [
      "   ✅ NDVI export completed: NDVI_2004_12.tif\n",
      "   📤 Preparing to export NIRv: NIRv_2004_12.tif\n"
     ]
    },
    {
     "data": {
      "application/vnd.jupyter.widget-view+json": {
       "model_id": "a6e2bb2245034ff58b641b69cd6fe650",
       "version_major": 2,
       "version_minor": 0
      },
      "text/plain": [
       "NIRv_2004_12.tif: |          | 0.00/3.64M (raw) [  0.0%] in 00:00 (eta:     ?)"
      ]
     },
     "metadata": {},
     "output_type": "display_data"
    },
    {
     "name": "stdout",
     "output_type": "stream",
     "text": [
      "   ✅ NIRv export completed: NIRv_2004_12.tif\n",
      "✅ 2004_12 successfully exported\n",
      "\n",
      "--- Processing 2005_01 ---\n",
      "    🛰️  Falling back to Landsat...\n",
      "      📅 Expanding time window ±7 days: 2004-12-25 to 2005-02-07\n",
      "      ⚠️  Attempt 1: Only found 0 images\n",
      "      📅 Expanding time window ±15 days: 2004-12-17 to 2005-02-15\n",
      "      🚨 Using final threshold 99%\n",
      "      ⚠️  Attempt 2: Only found 0 images\n",
      "      📅 Expanding time window ±30 days: 2004-12-02 to 2005-03-02\n",
      "      🚨 Using final threshold 99%\n",
      "      ⚠️  Attempt 3: Only found 0 images\n",
      "      ❌ All attempts failed\n",
      "⏩ Skipping export for 2005_01: No valid data.\n",
      "\n",
      "--- Processing 2005_02 ---\n",
      "    🛰️  Falling back to Landsat...\n",
      "      📅 Expanding time window ±7 days: 2005-01-25 to 2005-03-07\n",
      "      ⚠️  Attempt 1: Only found 0 images\n",
      "      📅 Expanding time window ±15 days: 2005-01-17 to 2005-03-15\n",
      "      🚨 Using final threshold 99%\n",
      "      ⚠️  Attempt 2: Only found 0 images\n",
      "      📅 Expanding time window ±30 days: 2005-01-02 to 2005-03-30\n",
      "      🚨 Using final threshold 99%\n",
      "      ⚠️  Attempt 3: Only found 0 images\n",
      "      ❌ All attempts failed\n",
      "⏩ Skipping export for 2005_02: No valid data.\n",
      "\n",
      "--- Processing 2005_03 ---\n",
      "    🛰️  Falling back to Landsat...\n",
      "      📅 Expanding time window ±7 days: 2005-02-22 to 2005-04-07\n",
      "      ✅ Found 1 images\n",
      "      🔧 Using relaxed masking mode (clouds only)\n",
      "      🔧 Using relaxed masking mode (clouds only)\n",
      "      🔧 Using relaxed masking mode (clouds only)\n",
      "   📤 Preparing to export NDVI: NDVI_2005_03.tif\n"
     ]
    },
    {
     "data": {
      "application/vnd.jupyter.widget-view+json": {
       "model_id": "0be93778718a4c6dbec7d8379f251344",
       "version_major": 2,
       "version_minor": 0
      },
      "text/plain": [
       "NDVI_2005_03.tif: |          | 0.00/1.82M (raw) [  0.0%] in 00:00 (eta:     ?)"
      ]
     },
     "metadata": {},
     "output_type": "display_data"
    },
    {
     "name": "stdout",
     "output_type": "stream",
     "text": [
      "   ✅ NDVI export completed: NDVI_2005_03.tif\n",
      "   📤 Preparing to export NIRv: NIRv_2005_03.tif\n"
     ]
    },
    {
     "data": {
      "application/vnd.jupyter.widget-view+json": {
       "model_id": "09227ad4948f47d48076d7d6ee98c2f7",
       "version_major": 2,
       "version_minor": 0
      },
      "text/plain": [
       "NIRv_2005_03.tif: |          | 0.00/3.64M (raw) [  0.0%] in 00:00 (eta:     ?)"
      ]
     },
     "metadata": {},
     "output_type": "display_data"
    },
    {
     "name": "stdout",
     "output_type": "stream",
     "text": [
      "   ✅ NIRv export completed: NIRv_2005_03.tif\n",
      "✅ 2005_03 successfully exported\n",
      "\n",
      "--- Processing 2005_04 ---\n",
      "    🛰️  Falling back to Landsat...\n",
      "      📅 Expanding time window ±7 days: 2005-03-25 to 2005-05-07\n",
      "      ✅ Found 1 images\n",
      "      🔧 Using relaxed masking mode (clouds only)\n",
      "      🔧 Using relaxed masking mode (clouds only)\n",
      "      🔧 Using relaxed masking mode (clouds only)\n",
      "   📤 Preparing to export NDVI: NDVI_2005_04.tif\n"
     ]
    },
    {
     "data": {
      "application/vnd.jupyter.widget-view+json": {
       "model_id": "7ba9a873abcb482c85ccc198bb73a166",
       "version_major": 2,
       "version_minor": 0
      },
      "text/plain": [
       "NDVI_2005_04.tif: |          | 0.00/1.82M (raw) [  0.0%] in 00:00 (eta:     ?)"
      ]
     },
     "metadata": {},
     "output_type": "display_data"
    },
    {
     "name": "stdout",
     "output_type": "stream",
     "text": [
      "   ✅ NDVI export completed: NDVI_2005_04.tif\n",
      "   📤 Preparing to export NIRv: NIRv_2005_04.tif\n"
     ]
    },
    {
     "data": {
      "application/vnd.jupyter.widget-view+json": {
       "model_id": "8ecae90de1fe4d90ae3867baba9e8c16",
       "version_major": 2,
       "version_minor": 0
      },
      "text/plain": [
       "NIRv_2005_04.tif: |          | 0.00/3.64M (raw) [  0.0%] in 00:00 (eta:     ?)"
      ]
     },
     "metadata": {},
     "output_type": "display_data"
    },
    {
     "name": "stdout",
     "output_type": "stream",
     "text": [
      "   ✅ NIRv export completed: NIRv_2005_04.tif\n",
      "✅ 2005_04 successfully exported\n",
      "\n",
      "--- Processing 2005_05 ---\n",
      "    🛰️  Falling back to Landsat...\n",
      "      📅 Expanding time window ±7 days: 2005-04-24 to 2005-06-07\n",
      "      ✅ Found 1 images\n",
      "      🔧 Using relaxed masking mode (clouds only)\n",
      "      🔧 Using relaxed masking mode (clouds only)\n",
      "      🔧 Using relaxed masking mode (clouds only)\n",
      "   📤 Preparing to export NDVI: NDVI_2005_05.tif\n"
     ]
    },
    {
     "data": {
      "application/vnd.jupyter.widget-view+json": {
       "model_id": "a4b67e58c97746caa1a0b90f908ccaa7",
       "version_major": 2,
       "version_minor": 0
      },
      "text/plain": [
       "NDVI_2005_05.tif: |          | 0.00/1.82M (raw) [  0.0%] in 00:00 (eta:     ?)"
      ]
     },
     "metadata": {},
     "output_type": "display_data"
    },
    {
     "name": "stdout",
     "output_type": "stream",
     "text": [
      "   ✅ NDVI export completed: NDVI_2005_05.tif\n",
      "   📤 Preparing to export NIRv: NIRv_2005_05.tif\n"
     ]
    },
    {
     "data": {
      "application/vnd.jupyter.widget-view+json": {
       "model_id": "aa434e2bce1c4ada9895484fea12fac5",
       "version_major": 2,
       "version_minor": 0
      },
      "text/plain": [
       "NIRv_2005_05.tif: |          | 0.00/3.64M (raw) [  0.0%] in 00:00 (eta:     ?)"
      ]
     },
     "metadata": {},
     "output_type": "display_data"
    },
    {
     "name": "stdout",
     "output_type": "stream",
     "text": [
      "   ✅ NIRv export completed: NIRv_2005_05.tif\n",
      "✅ 2005_05 successfully exported\n",
      "\n",
      "--- Processing 2005_06 ---\n",
      "    🛰️  Falling back to Landsat...\n",
      "      📅 Expanding time window ±5 days: 2005-05-27 to 2005-07-05\n",
      "      ✅ Found 2 images\n",
      "   📤 Preparing to export NDVI: NDVI_2005_06.tif\n"
     ]
    },
    {
     "data": {
      "application/vnd.jupyter.widget-view+json": {
       "model_id": "ce05449ff0974370b27072cefa78795f",
       "version_major": 2,
       "version_minor": 0
      },
      "text/plain": [
       "NDVI_2005_06.tif: |          | 0.00/1.82M (raw) [  0.0%] in 00:00 (eta:     ?)"
      ]
     },
     "metadata": {},
     "output_type": "display_data"
    },
    {
     "name": "stdout",
     "output_type": "stream",
     "text": [
      "   ✅ NDVI export completed: NDVI_2005_06.tif\n",
      "   📤 Preparing to export NIRv: NIRv_2005_06.tif\n"
     ]
    },
    {
     "data": {
      "application/vnd.jupyter.widget-view+json": {
       "model_id": "de121b6c75c047dabca47fa0f5ca413f",
       "version_major": 2,
       "version_minor": 0
      },
      "text/plain": [
       "NIRv_2005_06.tif: |          | 0.00/3.64M (raw) [  0.0%] in 00:00 (eta:     ?)"
      ]
     },
     "metadata": {},
     "output_type": "display_data"
    },
    {
     "name": "stdout",
     "output_type": "stream",
     "text": [
      "   ✅ NIRv export completed: NIRv_2005_06.tif\n",
      "✅ 2005_06 successfully exported\n",
      "\n",
      "--- Processing 2005_07 ---\n",
      "    🛰️  Falling back to Landsat...\n",
      "      📅 Expanding time window ±5 days: 2005-06-26 to 2005-08-05\n",
      "      ✅ Found 2 images\n",
      "   📤 Preparing to export NDVI: NDVI_2005_07.tif\n"
     ]
    },
    {
     "data": {
      "application/vnd.jupyter.widget-view+json": {
       "model_id": "258e6084b8fb44828501b9609653e1c9",
       "version_major": 2,
       "version_minor": 0
      },
      "text/plain": [
       "NDVI_2005_07.tif: |          | 0.00/1.82M (raw) [  0.0%] in 00:00 (eta:     ?)"
      ]
     },
     "metadata": {},
     "output_type": "display_data"
    },
    {
     "name": "stdout",
     "output_type": "stream",
     "text": [
      "   ✅ NDVI export completed: NDVI_2005_07.tif\n",
      "   📤 Preparing to export NIRv: NIRv_2005_07.tif\n"
     ]
    },
    {
     "data": {
      "application/vnd.jupyter.widget-view+json": {
       "model_id": "a6466678ca834f3c92c97f83488d4918",
       "version_major": 2,
       "version_minor": 0
      },
      "text/plain": [
       "NIRv_2005_07.tif: |          | 0.00/3.64M (raw) [  0.0%] in 00:00 (eta:     ?)"
      ]
     },
     "metadata": {},
     "output_type": "display_data"
    },
    {
     "name": "stdout",
     "output_type": "stream",
     "text": [
      "   ✅ NIRv export completed: NIRv_2005_07.tif\n",
      "✅ 2005_07 successfully exported\n",
      "\n",
      "--- Processing 2005_08 ---\n",
      "    🛰️  Falling back to Landsat...\n",
      "      📅 Expanding time window ±5 days: 2005-07-27 to 2005-09-05\n",
      "      ✅ Found 2 images\n",
      "   📤 Preparing to export NDVI: NDVI_2005_08.tif\n"
     ]
    },
    {
     "data": {
      "application/vnd.jupyter.widget-view+json": {
       "model_id": "8687c39a15434b6bb691400035597dab",
       "version_major": 2,
       "version_minor": 0
      },
      "text/plain": [
       "NDVI_2005_08.tif: |          | 0.00/1.82M (raw) [  0.0%] in 00:00 (eta:     ?)"
      ]
     },
     "metadata": {},
     "output_type": "display_data"
    },
    {
     "name": "stdout",
     "output_type": "stream",
     "text": [
      "   ✅ NDVI export completed: NDVI_2005_08.tif\n",
      "   📤 Preparing to export NIRv: NIRv_2005_08.tif\n"
     ]
    },
    {
     "data": {
      "application/vnd.jupyter.widget-view+json": {
       "model_id": "6f2fc50c8b9d4bb888b5a7770ae2e81b",
       "version_major": 2,
       "version_minor": 0
      },
      "text/plain": [
       "NIRv_2005_08.tif: |          | 0.00/3.64M (raw) [  0.0%] in 00:00 (eta:     ?)"
      ]
     },
     "metadata": {},
     "output_type": "display_data"
    },
    {
     "name": "stdout",
     "output_type": "stream",
     "text": [
      "   ✅ NIRv export completed: NIRv_2005_08.tif\n",
      "✅ 2005_08 successfully exported\n",
      "\n",
      "--- Processing 2005_09 ---\n",
      "    🛰️  Falling back to Landsat...\n",
      "      📅 Expanding time window ±7 days: 2005-08-25 to 2005-10-07\n",
      "      ✅ Found 1 images\n",
      "      🔧 Using relaxed masking mode (clouds only)\n",
      "      🔧 Using relaxed masking mode (clouds only)\n",
      "      🔧 Using relaxed masking mode (clouds only)\n",
      "   📤 Preparing to export NDVI: NDVI_2005_09.tif\n"
     ]
    },
    {
     "data": {
      "application/vnd.jupyter.widget-view+json": {
       "model_id": "8ea928da51ee4d809c1445c0c08348d6",
       "version_major": 2,
       "version_minor": 0
      },
      "text/plain": [
       "NDVI_2005_09.tif: |          | 0.00/1.82M (raw) [  0.0%] in 00:00 (eta:     ?)"
      ]
     },
     "metadata": {},
     "output_type": "display_data"
    },
    {
     "name": "stdout",
     "output_type": "stream",
     "text": [
      "   ✅ NDVI export completed: NDVI_2005_09.tif\n",
      "   📤 Preparing to export NIRv: NIRv_2005_09.tif\n"
     ]
    },
    {
     "data": {
      "application/vnd.jupyter.widget-view+json": {
       "model_id": "9f33d890f85e4fceba83c0559ba01017",
       "version_major": 2,
       "version_minor": 0
      },
      "text/plain": [
       "NIRv_2005_09.tif: |          | 0.00/3.64M (raw) [  0.0%] in 00:00 (eta:     ?)"
      ]
     },
     "metadata": {},
     "output_type": "display_data"
    },
    {
     "name": "stdout",
     "output_type": "stream",
     "text": [
      "   ✅ NIRv export completed: NIRv_2005_09.tif\n",
      "✅ 2005_09 successfully exported\n",
      "\n",
      "--- Processing 2005_10 ---\n",
      "    🛰️  Falling back to Landsat...\n",
      "      📅 Expanding time window ±7 days: 2005-09-24 to 2005-11-07\n",
      "      ✅ Found 3 images\n",
      "      🔧 Using relaxed masking mode (clouds only)\n",
      "      🔧 Using relaxed masking mode (clouds only)\n",
      "      🔧 Using relaxed masking mode (clouds only)\n",
      "   📤 Preparing to export NDVI: NDVI_2005_10.tif\n"
     ]
    },
    {
     "data": {
      "application/vnd.jupyter.widget-view+json": {
       "model_id": "42c94279f3254156a222ef3b5c4c0a4b",
       "version_major": 2,
       "version_minor": 0
      },
      "text/plain": [
       "NDVI_2005_10.tif: |          | 0.00/1.82M (raw) [  0.0%] in 00:00 (eta:     ?)"
      ]
     },
     "metadata": {},
     "output_type": "display_data"
    },
    {
     "name": "stdout",
     "output_type": "stream",
     "text": [
      "   ✅ NDVI export completed: NDVI_2005_10.tif\n",
      "   📤 Preparing to export NIRv: NIRv_2005_10.tif\n"
     ]
    },
    {
     "data": {
      "application/vnd.jupyter.widget-view+json": {
       "model_id": "f662a847faa94a4798144ac4b15fc364",
       "version_major": 2,
       "version_minor": 0
      },
      "text/plain": [
       "NIRv_2005_10.tif: |          | 0.00/3.64M (raw) [  0.0%] in 00:00 (eta:     ?)"
      ]
     },
     "metadata": {},
     "output_type": "display_data"
    },
    {
     "name": "stdout",
     "output_type": "stream",
     "text": [
      "   ✅ NIRv export completed: NIRv_2005_10.tif\n",
      "✅ 2005_10 successfully exported\n",
      "\n",
      "--- Processing 2005_11 ---\n",
      "    🛰️  Falling back to Landsat...\n",
      "      📅 Expanding time window ±7 days: 2005-10-25 to 2005-12-07\n",
      "      ✅ Found 2 images\n",
      "      🔧 Using relaxed masking mode (clouds only)\n",
      "      🔧 Using relaxed masking mode (clouds only)\n",
      "      🔧 Using relaxed masking mode (clouds only)\n",
      "   📤 Preparing to export NDVI: NDVI_2005_11.tif\n"
     ]
    },
    {
     "data": {
      "application/vnd.jupyter.widget-view+json": {
       "model_id": "fd99b17e799a49548520bda71492de6a",
       "version_major": 2,
       "version_minor": 0
      },
      "text/plain": [
       "NDVI_2005_11.tif: |          | 0.00/1.82M (raw) [  0.0%] in 00:00 (eta:     ?)"
      ]
     },
     "metadata": {},
     "output_type": "display_data"
    },
    {
     "name": "stdout",
     "output_type": "stream",
     "text": [
      "   ✅ NDVI export completed: NDVI_2005_11.tif\n",
      "   📤 Preparing to export NIRv: NIRv_2005_11.tif\n"
     ]
    },
    {
     "data": {
      "application/vnd.jupyter.widget-view+json": {
       "model_id": "dee623cf518549f79ac3e193625b5972",
       "version_major": 2,
       "version_minor": 0
      },
      "text/plain": [
       "NIRv_2005_11.tif: |          | 0.00/3.64M (raw) [  0.0%] in 00:00 (eta:     ?)"
      ]
     },
     "metadata": {},
     "output_type": "display_data"
    },
    {
     "name": "stdout",
     "output_type": "stream",
     "text": [
      "   ✅ NIRv export completed: NIRv_2005_11.tif\n",
      "✅ 2005_11 successfully exported\n",
      "\n",
      "--- Processing 2005_12 ---\n",
      "    🛰️  Falling back to Landsat...\n",
      "      📅 Expanding time window ±7 days: 2005-11-24 to 2006-01-07\n",
      "      ⚠️  Attempt 1: Only found 0 images\n",
      "      📅 Expanding time window ±15 days: 2005-11-16 to 2006-01-15\n",
      "      🚨 Using final threshold 99%\n",
      "      ⚠️  Attempt 2: Only found 0 images\n",
      "      📅 Expanding time window ±30 days: 2005-11-01 to 2006-01-30\n",
      "      ✅ Found 1 images\n",
      "      🔧 Using relaxed masking mode (clouds only)\n",
      "      🔧 Using relaxed masking mode (clouds only)\n",
      "      🔧 Using relaxed masking mode (clouds only)\n",
      "   📤 Preparing to export NDVI: NDVI_2005_12.tif\n"
     ]
    },
    {
     "data": {
      "application/vnd.jupyter.widget-view+json": {
       "model_id": "93cb4c5eb701468a938812c492f63e99",
       "version_major": 2,
       "version_minor": 0
      },
      "text/plain": [
       "NDVI_2005_12.tif: |          | 0.00/1.82M (raw) [  0.0%] in 00:00 (eta:     ?)"
      ]
     },
     "metadata": {},
     "output_type": "display_data"
    },
    {
     "name": "stdout",
     "output_type": "stream",
     "text": [
      "   ✅ NDVI export completed: NDVI_2005_12.tif\n",
      "   📤 Preparing to export NIRv: NIRv_2005_12.tif\n"
     ]
    },
    {
     "data": {
      "application/vnd.jupyter.widget-view+json": {
       "model_id": "a968acfd6e84482aa57dd240213d1bec",
       "version_major": 2,
       "version_minor": 0
      },
      "text/plain": [
       "NIRv_2005_12.tif: |          | 0.00/3.64M (raw) [  0.0%] in 00:00 (eta:     ?)"
      ]
     },
     "metadata": {},
     "output_type": "display_data"
    },
    {
     "name": "stdout",
     "output_type": "stream",
     "text": [
      "   ✅ NIRv export completed: NIRv_2005_12.tif\n",
      "✅ 2005_12 successfully exported\n",
      "\n",
      "--- Processing 2006_01 ---\n",
      "    🛰️  Falling back to Landsat...\n",
      "      📅 Expanding time window ±7 days: 2005-12-25 to 2006-02-07\n",
      "      ⚠️  Attempt 1: Only found 0 images\n",
      "      📅 Expanding time window ±15 days: 2005-12-17 to 2006-02-15\n",
      "      🚨 Using final threshold 99%\n",
      "      ⚠️  Attempt 2: Only found 0 images\n",
      "      📅 Expanding time window ±30 days: 2005-12-02 to 2006-03-02\n",
      "      🚨 Using final threshold 99%\n",
      "      ⚠️  Attempt 3: Only found 0 images\n",
      "      ❌ All attempts failed\n",
      "⏩ Skipping export for 2006_01: No valid data.\n",
      "\n",
      "--- Processing 2006_02 ---\n",
      "    🛰️  Falling back to Landsat...\n",
      "      📅 Expanding time window ±7 days: 2006-01-25 to 2006-03-07\n",
      "      ⚠️  Attempt 1: Only found 0 images\n",
      "      📅 Expanding time window ±15 days: 2006-01-17 to 2006-03-15\n",
      "      🚨 Using final threshold 99%\n",
      "      ⚠️  Attempt 2: Only found 0 images\n",
      "      📅 Expanding time window ±30 days: 2006-01-02 to 2006-03-30\n",
      "      ✅ Found 1 images\n",
      "      🔧 Using relaxed masking mode (clouds only)\n",
      "      🔧 Using relaxed masking mode (clouds only)\n",
      "      🔧 Using relaxed masking mode (clouds only)\n",
      "   📤 Preparing to export NDVI: NDVI_2006_02.tif\n"
     ]
    },
    {
     "data": {
      "application/vnd.jupyter.widget-view+json": {
       "model_id": "e256b95de9e8421d94e1f779a1f3cdc9",
       "version_major": 2,
       "version_minor": 0
      },
      "text/plain": [
       "NDVI_2006_02.tif: |          | 0.00/1.82M (raw) [  0.0%] in 00:00 (eta:     ?)"
      ]
     },
     "metadata": {},
     "output_type": "display_data"
    },
    {
     "name": "stdout",
     "output_type": "stream",
     "text": [
      "   ✅ NDVI export completed: NDVI_2006_02.tif\n",
      "   📤 Preparing to export NIRv: NIRv_2006_02.tif\n"
     ]
    },
    {
     "data": {
      "application/vnd.jupyter.widget-view+json": {
       "model_id": "ef23971c64d34972bc62f662c4a95037",
       "version_major": 2,
       "version_minor": 0
      },
      "text/plain": [
       "NIRv_2006_02.tif: |          | 0.00/3.64M (raw) [  0.0%] in 00:00 (eta:     ?)"
      ]
     },
     "metadata": {},
     "output_type": "display_data"
    },
    {
     "name": "stdout",
     "output_type": "stream",
     "text": [
      "   ✅ NIRv export completed: NIRv_2006_02.tif\n",
      "✅ 2006_02 successfully exported\n",
      "\n",
      "--- Processing 2006_03 ---\n",
      "    🛰️  Falling back to Landsat...\n",
      "      📅 Expanding time window ±7 days: 2006-02-22 to 2006-04-07\n",
      "      ⚠️  Attempt 1: Only found 0 images\n",
      "      📅 Expanding time window ±14 days: 2006-02-15 to 2006-04-14\n",
      "      🚨 Using final threshold 97%\n",
      "      ✅ Found 1 images\n",
      "      🔧 Using relaxed masking mode (clouds only)\n",
      "      🔧 Using relaxed masking mode (clouds only)\n",
      "      🔧 Using relaxed masking mode (clouds only)\n",
      "   📤 Preparing to export NDVI: NDVI_2006_03.tif\n"
     ]
    },
    {
     "data": {
      "application/vnd.jupyter.widget-view+json": {
       "model_id": "7d5e0f3c73e1421bbf53f405e96b1e5e",
       "version_major": 2,
       "version_minor": 0
      },
      "text/plain": [
       "NDVI_2006_03.tif: |          | 0.00/1.82M (raw) [  0.0%] in 00:00 (eta:     ?)"
      ]
     },
     "metadata": {},
     "output_type": "display_data"
    },
    {
     "name": "stdout",
     "output_type": "stream",
     "text": [
      "   ✅ NDVI export completed: NDVI_2006_03.tif\n",
      "   📤 Preparing to export NIRv: NIRv_2006_03.tif\n"
     ]
    },
    {
     "data": {
      "application/vnd.jupyter.widget-view+json": {
       "model_id": "8643b10bbdc84fd68e874fe616c430af",
       "version_major": 2,
       "version_minor": 0
      },
      "text/plain": [
       "NIRv_2006_03.tif: |          | 0.00/3.64M (raw) [  0.0%] in 00:00 (eta:     ?)"
      ]
     },
     "metadata": {},
     "output_type": "display_data"
    },
    {
     "name": "stdout",
     "output_type": "stream",
     "text": [
      "   ✅ NIRv export completed: NIRv_2006_03.tif\n",
      "✅ 2006_03 successfully exported\n",
      "\n",
      "--- Processing 2006_04 ---\n",
      "    🛰️  Falling back to Landsat...\n",
      "      📅 Expanding time window ±7 days: 2006-03-25 to 2006-05-07\n",
      "      ✅ Found 1 images\n",
      "      🔧 Using relaxed masking mode (clouds only)\n",
      "      🔧 Using relaxed masking mode (clouds only)\n",
      "      🔧 Using relaxed masking mode (clouds only)\n",
      "   📤 Preparing to export NDVI: NDVI_2006_04.tif\n"
     ]
    },
    {
     "data": {
      "application/vnd.jupyter.widget-view+json": {
       "model_id": "e727383499cc409d807d7176537a7cda",
       "version_major": 2,
       "version_minor": 0
      },
      "text/plain": [
       "NDVI_2006_04.tif: |          | 0.00/1.82M (raw) [  0.0%] in 00:00 (eta:     ?)"
      ]
     },
     "metadata": {},
     "output_type": "display_data"
    },
    {
     "name": "stdout",
     "output_type": "stream",
     "text": [
      "   ✅ NDVI export completed: NDVI_2006_04.tif\n",
      "   📤 Preparing to export NIRv: NIRv_2006_04.tif\n"
     ]
    },
    {
     "data": {
      "application/vnd.jupyter.widget-view+json": {
       "model_id": "211e53c5a60440d7ba3708d14bfc9707",
       "version_major": 2,
       "version_minor": 0
      },
      "text/plain": [
       "NIRv_2006_04.tif: |          | 0.00/3.64M (raw) [  0.0%] in 00:00 (eta:     ?)"
      ]
     },
     "metadata": {},
     "output_type": "display_data"
    },
    {
     "name": "stdout",
     "output_type": "stream",
     "text": [
      "   ✅ NIRv export completed: NIRv_2006_04.tif\n",
      "✅ 2006_04 successfully exported\n",
      "\n",
      "--- Processing 2006_05 ---\n",
      "    🛰️  Falling back to Landsat...\n",
      "      📅 Expanding time window ±7 days: 2006-04-24 to 2006-06-07\n",
      "      ✅ Found 1 images\n",
      "      🔧 Using relaxed masking mode (clouds only)\n",
      "      🔧 Using relaxed masking mode (clouds only)\n",
      "      🔧 Using relaxed masking mode (clouds only)\n",
      "   📤 Preparing to export NDVI: NDVI_2006_05.tif\n"
     ]
    },
    {
     "data": {
      "application/vnd.jupyter.widget-view+json": {
       "model_id": "2cb2d965ef504f3c8364b07aeb7489fd",
       "version_major": 2,
       "version_minor": 0
      },
      "text/plain": [
       "NDVI_2006_05.tif: |          | 0.00/1.82M (raw) [  0.0%] in 00:00 (eta:     ?)"
      ]
     },
     "metadata": {},
     "output_type": "display_data"
    },
    {
     "name": "stdout",
     "output_type": "stream",
     "text": [
      "   ✅ NDVI export completed: NDVI_2006_05.tif\n",
      "   📤 Preparing to export NIRv: NIRv_2006_05.tif\n"
     ]
    },
    {
     "data": {
      "application/vnd.jupyter.widget-view+json": {
       "model_id": "a692ad689bf341d39cb56b610992b3d7",
       "version_major": 2,
       "version_minor": 0
      },
      "text/plain": [
       "NIRv_2006_05.tif: |          | 0.00/3.64M (raw) [  0.0%] in 00:00 (eta:     ?)"
      ]
     },
     "metadata": {},
     "output_type": "display_data"
    },
    {
     "name": "stdout",
     "output_type": "stream",
     "text": [
      "   ✅ NIRv export completed: NIRv_2006_05.tif\n",
      "✅ 2006_05 successfully exported\n",
      "\n",
      "--- Processing 2006_06 ---\n",
      "    🛰️  Falling back to Landsat...\n",
      "      📅 Expanding time window ±5 days: 2006-05-27 to 2006-07-05\n",
      "      ✅ Found 2 images\n",
      "   📤 Preparing to export NDVI: NDVI_2006_06.tif\n"
     ]
    },
    {
     "data": {
      "application/vnd.jupyter.widget-view+json": {
       "model_id": "b10937d2a5464d44aec4b2c2afb4afb1",
       "version_major": 2,
       "version_minor": 0
      },
      "text/plain": [
       "NDVI_2006_06.tif: |          | 0.00/1.82M (raw) [  0.0%] in 00:00 (eta:     ?)"
      ]
     },
     "metadata": {},
     "output_type": "display_data"
    },
    {
     "name": "stdout",
     "output_type": "stream",
     "text": [
      "   ✅ NDVI export completed: NDVI_2006_06.tif\n",
      "   📤 Preparing to export NIRv: NIRv_2006_06.tif\n"
     ]
    },
    {
     "data": {
      "application/vnd.jupyter.widget-view+json": {
       "model_id": "3061833482df43ddae5452b79d81108d",
       "version_major": 2,
       "version_minor": 0
      },
      "text/plain": [
       "NIRv_2006_06.tif: |          | 0.00/3.64M (raw) [  0.0%] in 00:00 (eta:     ?)"
      ]
     },
     "metadata": {},
     "output_type": "display_data"
    },
    {
     "name": "stdout",
     "output_type": "stream",
     "text": [
      "   ✅ NIRv export completed: NIRv_2006_06.tif\n",
      "✅ 2006_06 successfully exported\n",
      "\n",
      "--- Processing 2006_07 ---\n",
      "    🛰️  Falling back to Landsat...\n",
      "      📅 Expanding time window ±5 days: 2006-06-26 to 2006-08-05\n",
      "      ✅ Found 3 images\n",
      "   📤 Preparing to export NDVI: NDVI_2006_07.tif\n"
     ]
    },
    {
     "data": {
      "application/vnd.jupyter.widget-view+json": {
       "model_id": "fb7387ae496648f994fdbbccc88e40db",
       "version_major": 2,
       "version_minor": 0
      },
      "text/plain": [
       "NDVI_2006_07.tif: |          | 0.00/1.82M (raw) [  0.0%] in 00:00 (eta:     ?)"
      ]
     },
     "metadata": {},
     "output_type": "display_data"
    },
    {
     "name": "stdout",
     "output_type": "stream",
     "text": [
      "   ✅ NDVI export completed: NDVI_2006_07.tif\n",
      "   📤 Preparing to export NIRv: NIRv_2006_07.tif\n"
     ]
    },
    {
     "data": {
      "application/vnd.jupyter.widget-view+json": {
       "model_id": "94328c710b7b4dc0a18a9750aeb23d4a",
       "version_major": 2,
       "version_minor": 0
      },
      "text/plain": [
       "NIRv_2006_07.tif: |          | 0.00/3.64M (raw) [  0.0%] in 00:00 (eta:     ?)"
      ]
     },
     "metadata": {},
     "output_type": "display_data"
    },
    {
     "name": "stdout",
     "output_type": "stream",
     "text": [
      "   ✅ NIRv export completed: NIRv_2006_07.tif\n",
      "✅ 2006_07 successfully exported\n",
      "\n",
      "--- Processing 2006_08 ---\n",
      "    🛰️  Falling back to Landsat...\n",
      "      📅 Expanding time window ±5 days: 2006-07-27 to 2006-09-05\n",
      "      ⚠️  Attempt 1: Only found 0 images\n",
      "      📅 Expanding time window ±10 days: 2006-07-22 to 2006-09-10\n",
      "      ✅ Found 1 images\n",
      "   📤 Preparing to export NDVI: NDVI_2006_08.tif\n"
     ]
    },
    {
     "data": {
      "application/vnd.jupyter.widget-view+json": {
       "model_id": "624daf98c9ec456fa0f165deff98f8cc",
       "version_major": 2,
       "version_minor": 0
      },
      "text/plain": [
       "NDVI_2006_08.tif: |          | 0.00/1.82M (raw) [  0.0%] in 00:00 (eta:     ?)"
      ]
     },
     "metadata": {},
     "output_type": "display_data"
    },
    {
     "name": "stdout",
     "output_type": "stream",
     "text": [
      "   ✅ NDVI export completed: NDVI_2006_08.tif\n",
      "   📤 Preparing to export NIRv: NIRv_2006_08.tif\n"
     ]
    },
    {
     "data": {
      "application/vnd.jupyter.widget-view+json": {
       "model_id": "5d1f51aaaac14611827a7004c4691c46",
       "version_major": 2,
       "version_minor": 0
      },
      "text/plain": [
       "NIRv_2006_08.tif: |          | 0.00/3.64M (raw) [  0.0%] in 00:00 (eta:     ?)"
      ]
     },
     "metadata": {},
     "output_type": "display_data"
    },
    {
     "name": "stdout",
     "output_type": "stream",
     "text": [
      "   ✅ NIRv export completed: NIRv_2006_08.tif\n",
      "✅ 2006_08 successfully exported\n",
      "\n",
      "--- Processing 2006_09 ---\n",
      "    🛰️  Falling back to Landsat...\n",
      "      📅 Expanding time window ±7 days: 2006-08-25 to 2006-10-07\n",
      "      ✅ Found 1 images\n",
      "      🔧 Using relaxed masking mode (clouds only)\n",
      "      🔧 Using relaxed masking mode (clouds only)\n",
      "      🔧 Using relaxed masking mode (clouds only)\n",
      "   📤 Preparing to export NDVI: NDVI_2006_09.tif\n"
     ]
    },
    {
     "data": {
      "application/vnd.jupyter.widget-view+json": {
       "model_id": "10b05ddba3c94f95af6b95760a83eff0",
       "version_major": 2,
       "version_minor": 0
      },
      "text/plain": [
       "NDVI_2006_09.tif: |          | 0.00/1.82M (raw) [  0.0%] in 00:00 (eta:     ?)"
      ]
     },
     "metadata": {},
     "output_type": "display_data"
    },
    {
     "name": "stdout",
     "output_type": "stream",
     "text": [
      "   ✅ NDVI export completed: NDVI_2006_09.tif\n",
      "   📤 Preparing to export NIRv: NIRv_2006_09.tif\n"
     ]
    },
    {
     "data": {
      "application/vnd.jupyter.widget-view+json": {
       "model_id": "a566e39b2b3d4c04b527476f4cff7c8e",
       "version_major": 2,
       "version_minor": 0
      },
      "text/plain": [
       "NIRv_2006_09.tif: |          | 0.00/3.64M (raw) [  0.0%] in 00:00 (eta:     ?)"
      ]
     },
     "metadata": {},
     "output_type": "display_data"
    },
    {
     "name": "stdout",
     "output_type": "stream",
     "text": [
      "   ✅ NIRv export completed: NIRv_2006_09.tif\n",
      "✅ 2006_09 successfully exported\n",
      "\n",
      "--- Processing 2006_10 ---\n",
      "    🛰️  Falling back to Landsat...\n",
      "      📅 Expanding time window ±7 days: 2006-09-24 to 2006-11-07\n",
      "      ✅ Found 1 images\n",
      "      🔧 Using relaxed masking mode (clouds only)\n",
      "      🔧 Using relaxed masking mode (clouds only)\n",
      "      🔧 Using relaxed masking mode (clouds only)\n",
      "   📤 Preparing to export NDVI: NDVI_2006_10.tif\n"
     ]
    },
    {
     "data": {
      "application/vnd.jupyter.widget-view+json": {
       "model_id": "b039d14e6fa4467480eee7409196e399",
       "version_major": 2,
       "version_minor": 0
      },
      "text/plain": [
       "NDVI_2006_10.tif: |          | 0.00/1.82M (raw) [  0.0%] in 00:00 (eta:     ?)"
      ]
     },
     "metadata": {},
     "output_type": "display_data"
    },
    {
     "name": "stdout",
     "output_type": "stream",
     "text": [
      "   ✅ NDVI export completed: NDVI_2006_10.tif\n",
      "   📤 Preparing to export NIRv: NIRv_2006_10.tif\n"
     ]
    },
    {
     "data": {
      "application/vnd.jupyter.widget-view+json": {
       "model_id": "bc3a15061ddf4e639ae759cb75cc5fe5",
       "version_major": 2,
       "version_minor": 0
      },
      "text/plain": [
       "NIRv_2006_10.tif: |          | 0.00/3.64M (raw) [  0.0%] in 00:00 (eta:     ?)"
      ]
     },
     "metadata": {},
     "output_type": "display_data"
    },
    {
     "name": "stdout",
     "output_type": "stream",
     "text": [
      "   ✅ NIRv export completed: NIRv_2006_10.tif\n",
      "✅ 2006_10 successfully exported\n",
      "\n",
      "--- Processing 2006_11 ---\n",
      "    🛰️  Falling back to Landsat...\n",
      "      📅 Expanding time window ±7 days: 2006-10-25 to 2006-12-07\n",
      "      ⚠️  Attempt 1: Only found 0 images\n",
      "      📅 Expanding time window ±14 days: 2006-10-18 to 2006-12-14\n",
      "      🚨 Using final threshold 97%\n",
      "      ⚠️  Attempt 2: Only found 0 images\n",
      "      📅 Expanding time window ±25 days: 2006-10-07 to 2006-12-25\n",
      "      ✅ Found 1 images\n",
      "      🔧 Using relaxed masking mode (clouds only)\n",
      "      🔧 Using relaxed masking mode (clouds only)\n",
      "      🔧 Using relaxed masking mode (clouds only)\n",
      "   📤 Preparing to export NDVI: NDVI_2006_11.tif\n"
     ]
    },
    {
     "data": {
      "application/vnd.jupyter.widget-view+json": {
       "model_id": "24af5ce2ef9648129634e7d486da20ba",
       "version_major": 2,
       "version_minor": 0
      },
      "text/plain": [
       "NDVI_2006_11.tif: |          | 0.00/1.82M (raw) [  0.0%] in 00:00 (eta:     ?)"
      ]
     },
     "metadata": {},
     "output_type": "display_data"
    },
    {
     "name": "stdout",
     "output_type": "stream",
     "text": [
      "   ✅ NDVI export completed: NDVI_2006_11.tif\n",
      "   📤 Preparing to export NIRv: NIRv_2006_11.tif\n"
     ]
    },
    {
     "data": {
      "application/vnd.jupyter.widget-view+json": {
       "model_id": "55284781a4354e4b9ca7cdb60aa32117",
       "version_major": 2,
       "version_minor": 0
      },
      "text/plain": [
       "NIRv_2006_11.tif: |          | 0.00/3.64M (raw) [  0.0%] in 00:00 (eta:     ?)"
      ]
     },
     "metadata": {},
     "output_type": "display_data"
    },
    {
     "name": "stdout",
     "output_type": "stream",
     "text": [
      "   ✅ NIRv export completed: NIRv_2006_11.tif\n",
      "✅ 2006_11 successfully exported\n",
      "\n",
      "--- Processing 2006_12 ---\n",
      "    🛰️  Falling back to Landsat...\n",
      "      📅 Expanding time window ±7 days: 2006-11-24 to 2007-01-07\n",
      "      ⚠️  Attempt 1: Only found 0 images\n",
      "      📅 Expanding time window ±15 days: 2006-11-16 to 2007-01-15\n",
      "      🚨 Using final threshold 99%\n",
      "      ⚠️  Attempt 2: Only found 0 images\n",
      "      📅 Expanding time window ±30 days: 2006-11-01 to 2007-01-30\n",
      "      🚨 Using final threshold 99%\n",
      "      ⚠️  Attempt 3: Only found 0 images\n",
      "      ❌ All attempts failed\n",
      "⏩ Skipping export for 2006_12: No valid data.\n",
      "\n",
      "--- Processing 2007_01 ---\n",
      "    🛰️  Falling back to Landsat...\n",
      "      📅 Expanding time window ±7 days: 2006-12-25 to 2007-02-07\n",
      "      ⚠️  Attempt 1: Only found 0 images\n",
      "      📅 Expanding time window ±15 days: 2006-12-17 to 2007-02-15\n",
      "      🚨 Using final threshold 99%\n",
      "      ⚠️  Attempt 2: Only found 0 images\n",
      "      📅 Expanding time window ±30 days: 2006-12-02 to 2007-03-02\n",
      "      🚨 Using final threshold 99%\n",
      "      ⚠️  Attempt 3: Only found 0 images\n",
      "      ❌ All attempts failed\n",
      "⏩ Skipping export for 2007_01: No valid data.\n",
      "\n",
      "--- Processing 2007_02 ---\n",
      "    🛰️  Falling back to Landsat...\n",
      "      📅 Expanding time window ±7 days: 2007-01-25 to 2007-03-07\n",
      "      ⚠️  Attempt 1: Only found 0 images\n",
      "      📅 Expanding time window ±15 days: 2007-01-17 to 2007-03-15\n",
      "      ✅ Found 1 images\n",
      "      🔧 Using relaxed masking mode (clouds only)\n",
      "      🔧 Using relaxed masking mode (clouds only)\n",
      "      🔧 Using relaxed masking mode (clouds only)\n",
      "   📤 Preparing to export NDVI: NDVI_2007_02.tif\n"
     ]
    },
    {
     "data": {
      "application/vnd.jupyter.widget-view+json": {
       "model_id": "8e4141ccc1ee4c8abbd8eadd0ab0ecb7",
       "version_major": 2,
       "version_minor": 0
      },
      "text/plain": [
       "NDVI_2007_02.tif: |          | 0.00/1.82M (raw) [  0.0%] in 00:00 (eta:     ?)"
      ]
     },
     "metadata": {},
     "output_type": "display_data"
    },
    {
     "name": "stdout",
     "output_type": "stream",
     "text": [
      "   ✅ NDVI export completed: NDVI_2007_02.tif\n",
      "   📤 Preparing to export NIRv: NIRv_2007_02.tif\n"
     ]
    },
    {
     "data": {
      "application/vnd.jupyter.widget-view+json": {
       "model_id": "9571813d73294592970233b67a810973",
       "version_major": 2,
       "version_minor": 0
      },
      "text/plain": [
       "NIRv_2007_02.tif: |          | 0.00/3.64M (raw) [  0.0%] in 00:00 (eta:     ?)"
      ]
     },
     "metadata": {},
     "output_type": "display_data"
    },
    {
     "name": "stdout",
     "output_type": "stream",
     "text": [
      "   ✅ NIRv export completed: NIRv_2007_02.tif\n",
      "✅ 2007_02 successfully exported\n",
      "\n",
      "--- Processing 2007_03 ---\n",
      "    🛰️  Falling back to Landsat...\n",
      "      📅 Expanding time window ±7 days: 2007-02-22 to 2007-04-07\n",
      "      ✅ Found 1 images\n",
      "      🔧 Using relaxed masking mode (clouds only)\n",
      "      🔧 Using relaxed masking mode (clouds only)\n",
      "      🔧 Using relaxed masking mode (clouds only)\n",
      "   📤 Preparing to export NDVI: NDVI_2007_03.tif\n"
     ]
    },
    {
     "data": {
      "application/vnd.jupyter.widget-view+json": {
       "model_id": "b571c36e18e447c3a3f85dca79cc3f6d",
       "version_major": 2,
       "version_minor": 0
      },
      "text/plain": [
       "NDVI_2007_03.tif: |          | 0.00/1.82M (raw) [  0.0%] in 00:00 (eta:     ?)"
      ]
     },
     "metadata": {},
     "output_type": "display_data"
    },
    {
     "name": "stdout",
     "output_type": "stream",
     "text": [
      "   ✅ NDVI export completed: NDVI_2007_03.tif\n",
      "   📤 Preparing to export NIRv: NIRv_2007_03.tif\n"
     ]
    },
    {
     "data": {
      "application/vnd.jupyter.widget-view+json": {
       "model_id": "af31b270f81141a9b7d21851adcd7292",
       "version_major": 2,
       "version_minor": 0
      },
      "text/plain": [
       "NIRv_2007_03.tif: |          | 0.00/3.64M (raw) [  0.0%] in 00:00 (eta:     ?)"
      ]
     },
     "metadata": {},
     "output_type": "display_data"
    },
    {
     "name": "stdout",
     "output_type": "stream",
     "text": [
      "   ✅ NIRv export completed: NIRv_2007_03.tif\n",
      "✅ 2007_03 successfully exported\n",
      "\n",
      "--- Processing 2007_04 ---\n",
      "    🛰️  Falling back to Landsat...\n",
      "      📅 Expanding time window ±7 days: 2007-03-25 to 2007-05-07\n",
      "      ✅ Found 2 images\n",
      "      🔧 Using relaxed masking mode (clouds only)\n",
      "      🔧 Using relaxed masking mode (clouds only)\n",
      "      🔧 Using relaxed masking mode (clouds only)\n",
      "   📤 Preparing to export NDVI: NDVI_2007_04.tif\n"
     ]
    },
    {
     "data": {
      "application/vnd.jupyter.widget-view+json": {
       "model_id": "8157240b08904a8f87089d97637db601",
       "version_major": 2,
       "version_minor": 0
      },
      "text/plain": [
       "NDVI_2007_04.tif: |          | 0.00/1.82M (raw) [  0.0%] in 00:00 (eta:     ?)"
      ]
     },
     "metadata": {},
     "output_type": "display_data"
    },
    {
     "name": "stdout",
     "output_type": "stream",
     "text": [
      "   ✅ NDVI export completed: NDVI_2007_04.tif\n",
      "   📤 Preparing to export NIRv: NIRv_2007_04.tif\n"
     ]
    },
    {
     "data": {
      "application/vnd.jupyter.widget-view+json": {
       "model_id": "d5abfbe636bb4a5483b24656f291fa8d",
       "version_major": 2,
       "version_minor": 0
      },
      "text/plain": [
       "NIRv_2007_04.tif: |          | 0.00/3.64M (raw) [  0.0%] in 00:00 (eta:     ?)"
      ]
     },
     "metadata": {},
     "output_type": "display_data"
    },
    {
     "name": "stdout",
     "output_type": "stream",
     "text": [
      "   ✅ NIRv export completed: NIRv_2007_04.tif\n",
      "✅ 2007_04 successfully exported\n",
      "\n",
      "--- Processing 2007_05 ---\n",
      "    🛰️  Falling back to Landsat...\n",
      "      📅 Expanding time window ±7 days: 2007-04-24 to 2007-06-07\n",
      "      ✅ Found 2 images\n",
      "      🔧 Using relaxed masking mode (clouds only)\n",
      "      🔧 Using relaxed masking mode (clouds only)\n",
      "      🔧 Using relaxed masking mode (clouds only)\n",
      "   📤 Preparing to export NDVI: NDVI_2007_05.tif\n"
     ]
    },
    {
     "data": {
      "application/vnd.jupyter.widget-view+json": {
       "model_id": "e7b203e2dc4f4a048090cbb500c75205",
       "version_major": 2,
       "version_minor": 0
      },
      "text/plain": [
       "NDVI_2007_05.tif: |          | 0.00/1.82M (raw) [  0.0%] in 00:00 (eta:     ?)"
      ]
     },
     "metadata": {},
     "output_type": "display_data"
    },
    {
     "name": "stdout",
     "output_type": "stream",
     "text": [
      "   ✅ NDVI export completed: NDVI_2007_05.tif\n",
      "   📤 Preparing to export NIRv: NIRv_2007_05.tif\n"
     ]
    },
    {
     "data": {
      "application/vnd.jupyter.widget-view+json": {
       "model_id": "49a4dbc32bf143f5846810e9526ef4f2",
       "version_major": 2,
       "version_minor": 0
      },
      "text/plain": [
       "NIRv_2007_05.tif: |          | 0.00/3.64M (raw) [  0.0%] in 00:00 (eta:     ?)"
      ]
     },
     "metadata": {},
     "output_type": "display_data"
    },
    {
     "name": "stdout",
     "output_type": "stream",
     "text": [
      "   ✅ NIRv export completed: NIRv_2007_05.tif\n",
      "✅ 2007_05 successfully exported\n",
      "\n",
      "--- Processing 2007_06 ---\n",
      "    🛰️  Falling back to Landsat...\n",
      "      📅 Expanding time window ±5 days: 2007-05-27 to 2007-07-05\n",
      "      ✅ Found 1 images\n",
      "   📤 Preparing to export NDVI: NDVI_2007_06.tif\n"
     ]
    },
    {
     "data": {
      "application/vnd.jupyter.widget-view+json": {
       "model_id": "63eb037d65ad47ba9067e67809e56398",
       "version_major": 2,
       "version_minor": 0
      },
      "text/plain": [
       "NDVI_2007_06.tif: |          | 0.00/1.82M (raw) [  0.0%] in 00:00 (eta:     ?)"
      ]
     },
     "metadata": {},
     "output_type": "display_data"
    },
    {
     "name": "stdout",
     "output_type": "stream",
     "text": [
      "   ✅ NDVI export completed: NDVI_2007_06.tif\n",
      "   📤 Preparing to export NIRv: NIRv_2007_06.tif\n"
     ]
    },
    {
     "data": {
      "application/vnd.jupyter.widget-view+json": {
       "model_id": "a41fc5221b3541ad89bd91b47aff2df2",
       "version_major": 2,
       "version_minor": 0
      },
      "text/plain": [
       "NIRv_2007_06.tif: |          | 0.00/3.64M (raw) [  0.0%] in 00:00 (eta:     ?)"
      ]
     },
     "metadata": {},
     "output_type": "display_data"
    },
    {
     "name": "stdout",
     "output_type": "stream",
     "text": [
      "   ✅ NIRv export completed: NIRv_2007_06.tif\n",
      "✅ 2007_06 successfully exported\n",
      "\n",
      "--- Processing 2007_07 ---\n",
      "    🛰️  Falling back to Landsat...\n",
      "      📅 Expanding time window ±5 days: 2007-06-26 to 2007-08-05\n",
      "      ⚠️  Attempt 1: Only found 0 images\n",
      "      📅 Expanding time window ±10 days: 2007-06-21 to 2007-08-10\n",
      "      ✅ Found 1 images\n",
      "   📤 Preparing to export NDVI: NDVI_2007_07.tif\n"
     ]
    },
    {
     "data": {
      "application/vnd.jupyter.widget-view+json": {
       "model_id": "6701898a988e410880a8ada1c9b3a169",
       "version_major": 2,
       "version_minor": 0
      },
      "text/plain": [
       "NDVI_2007_07.tif: |          | 0.00/1.82M (raw) [  0.0%] in 00:00 (eta:     ?)"
      ]
     },
     "metadata": {},
     "output_type": "display_data"
    },
    {
     "name": "stdout",
     "output_type": "stream",
     "text": [
      "   ✅ NDVI export completed: NDVI_2007_07.tif\n",
      "   📤 Preparing to export NIRv: NIRv_2007_07.tif\n"
     ]
    },
    {
     "data": {
      "application/vnd.jupyter.widget-view+json": {
       "model_id": "abb366423641441a9148802640e249df",
       "version_major": 2,
       "version_minor": 0
      },
      "text/plain": [
       "NIRv_2007_07.tif: |          | 0.00/3.64M (raw) [  0.0%] in 00:00 (eta:     ?)"
      ]
     },
     "metadata": {},
     "output_type": "display_data"
    },
    {
     "name": "stdout",
     "output_type": "stream",
     "text": [
      "   ✅ NIRv export completed: NIRv_2007_07.tif\n",
      "✅ 2007_07 successfully exported\n",
      "\n",
      "--- Processing 2007_08 ---\n",
      "    🛰️  Falling back to Landsat...\n",
      "      📅 Expanding time window ±5 days: 2007-07-27 to 2007-09-05\n",
      "      ✅ Found 1 images\n",
      "   📤 Preparing to export NDVI: NDVI_2007_08.tif\n"
     ]
    },
    {
     "data": {
      "application/vnd.jupyter.widget-view+json": {
       "model_id": "d09ab808f0d64a62b499f1e0e3ef74a8",
       "version_major": 2,
       "version_minor": 0
      },
      "text/plain": [
       "NDVI_2007_08.tif: |          | 0.00/1.82M (raw) [  0.0%] in 00:00 (eta:     ?)"
      ]
     },
     "metadata": {},
     "output_type": "display_data"
    },
    {
     "name": "stdout",
     "output_type": "stream",
     "text": [
      "   ✅ NDVI export completed: NDVI_2007_08.tif\n",
      "   📤 Preparing to export NIRv: NIRv_2007_08.tif\n"
     ]
    },
    {
     "data": {
      "application/vnd.jupyter.widget-view+json": {
       "model_id": "aaae3301817148789d13cdf76642f0e5",
       "version_major": 2,
       "version_minor": 0
      },
      "text/plain": [
       "NIRv_2007_08.tif: |          | 0.00/3.64M (raw) [  0.0%] in 00:00 (eta:     ?)"
      ]
     },
     "metadata": {},
     "output_type": "display_data"
    },
    {
     "name": "stdout",
     "output_type": "stream",
     "text": [
      "   ✅ NIRv export completed: NIRv_2007_08.tif\n",
      "✅ 2007_08 successfully exported\n",
      "\n",
      "--- Processing 2007_09 ---\n",
      "    🛰️  Falling back to Landsat...\n",
      "      📅 Expanding time window ±7 days: 2007-08-25 to 2007-10-07\n",
      "      ✅ Found 2 images\n",
      "      🔧 Using relaxed masking mode (clouds only)\n",
      "      🔧 Using relaxed masking mode (clouds only)\n",
      "      🔧 Using relaxed masking mode (clouds only)\n",
      "   📤 Preparing to export NDVI: NDVI_2007_09.tif\n"
     ]
    },
    {
     "data": {
      "application/vnd.jupyter.widget-view+json": {
       "model_id": "8e277eddc47c44bfbdd0c504807c0653",
       "version_major": 2,
       "version_minor": 0
      },
      "text/plain": [
       "NDVI_2007_09.tif: |          | 0.00/1.82M (raw) [  0.0%] in 00:00 (eta:     ?)"
      ]
     },
     "metadata": {},
     "output_type": "display_data"
    },
    {
     "name": "stdout",
     "output_type": "stream",
     "text": [
      "   ✅ NDVI export completed: NDVI_2007_09.tif\n",
      "   📤 Preparing to export NIRv: NIRv_2007_09.tif\n"
     ]
    },
    {
     "data": {
      "application/vnd.jupyter.widget-view+json": {
       "model_id": "c304fd363bd54e6f8707b03ad9db99fd",
       "version_major": 2,
       "version_minor": 0
      },
      "text/plain": [
       "NIRv_2007_09.tif: |          | 0.00/3.64M (raw) [  0.0%] in 00:00 (eta:     ?)"
      ]
     },
     "metadata": {},
     "output_type": "display_data"
    },
    {
     "name": "stdout",
     "output_type": "stream",
     "text": [
      "   ✅ NIRv export completed: NIRv_2007_09.tif\n",
      "✅ 2007_09 successfully exported\n",
      "\n",
      "--- Processing 2007_10 ---\n",
      "    🛰️  Falling back to Landsat...\n",
      "      📅 Expanding time window ±7 days: 2007-09-24 to 2007-11-07\n",
      "      ⚠️  Attempt 1: Only found 0 images\n",
      "      📅 Expanding time window ±14 days: 2007-09-17 to 2007-11-14\n",
      "      🚨 Using final threshold 97%\n",
      "      ✅ Found 1 images\n",
      "      🔧 Using relaxed masking mode (clouds only)\n",
      "      🔧 Using relaxed masking mode (clouds only)\n",
      "      🔧 Using relaxed masking mode (clouds only)\n",
      "   📤 Preparing to export NDVI: NDVI_2007_10.tif\n"
     ]
    },
    {
     "data": {
      "application/vnd.jupyter.widget-view+json": {
       "model_id": "894dd3a3cae34cd5ba9b89f888fddf70",
       "version_major": 2,
       "version_minor": 0
      },
      "text/plain": [
       "NDVI_2007_10.tif: |          | 0.00/1.82M (raw) [  0.0%] in 00:00 (eta:     ?)"
      ]
     },
     "metadata": {},
     "output_type": "display_data"
    },
    {
     "name": "stdout",
     "output_type": "stream",
     "text": [
      "   ✅ NDVI export completed: NDVI_2007_10.tif\n",
      "   📤 Preparing to export NIRv: NIRv_2007_10.tif\n"
     ]
    },
    {
     "data": {
      "application/vnd.jupyter.widget-view+json": {
       "model_id": "d8649f62484d4df380699d98f8abbcc6",
       "version_major": 2,
       "version_minor": 0
      },
      "text/plain": [
       "NIRv_2007_10.tif: |          | 0.00/3.64M (raw) [  0.0%] in 00:00 (eta:     ?)"
      ]
     },
     "metadata": {},
     "output_type": "display_data"
    },
    {
     "name": "stdout",
     "output_type": "stream",
     "text": [
      "   ✅ NIRv export completed: NIRv_2007_10.tif\n",
      "✅ 2007_10 successfully exported\n",
      "\n",
      "--- Processing 2007_11 ---\n",
      "    🛰️  Falling back to Landsat...\n",
      "      📅 Expanding time window ±7 days: 2007-10-25 to 2007-12-07\n",
      "      ✅ Found 1 images\n",
      "      🔧 Using relaxed masking mode (clouds only)\n",
      "      🔧 Using relaxed masking mode (clouds only)\n",
      "      🔧 Using relaxed masking mode (clouds only)\n",
      "   📤 Preparing to export NDVI: NDVI_2007_11.tif\n"
     ]
    },
    {
     "data": {
      "application/vnd.jupyter.widget-view+json": {
       "model_id": "9a6702a283ae44dc8d7d1fcb54992ca6",
       "version_major": 2,
       "version_minor": 0
      },
      "text/plain": [
       "NDVI_2007_11.tif: |          | 0.00/1.82M (raw) [  0.0%] in 00:00 (eta:     ?)"
      ]
     },
     "metadata": {},
     "output_type": "display_data"
    },
    {
     "name": "stdout",
     "output_type": "stream",
     "text": [
      "   ✅ NDVI export completed: NDVI_2007_11.tif\n",
      "   📤 Preparing to export NIRv: NIRv_2007_11.tif\n"
     ]
    },
    {
     "data": {
      "application/vnd.jupyter.widget-view+json": {
       "model_id": "175d47dc672147d28968b915d563e396",
       "version_major": 2,
       "version_minor": 0
      },
      "text/plain": [
       "NIRv_2007_11.tif: |          | 0.00/3.64M (raw) [  0.0%] in 00:00 (eta:     ?)"
      ]
     },
     "metadata": {},
     "output_type": "display_data"
    },
    {
     "name": "stdout",
     "output_type": "stream",
     "text": [
      "   ✅ NIRv export completed: NIRv_2007_11.tif\n",
      "✅ 2007_11 successfully exported\n",
      "\n",
      "--- Processing 2007_12 ---\n",
      "    🛰️  Falling back to Landsat...\n",
      "      📅 Expanding time window ±7 days: 2007-11-24 to 2008-01-07\n",
      "      ⚠️  Attempt 1: Only found 0 images\n",
      "      📅 Expanding time window ±15 days: 2007-11-16 to 2008-01-15\n",
      "      ✅ Found 1 images\n",
      "      🔧 Using relaxed masking mode (clouds only)\n",
      "      🔧 Using relaxed masking mode (clouds only)\n",
      "      🔧 Using relaxed masking mode (clouds only)\n",
      "   📤 Preparing to export NDVI: NDVI_2007_12.tif\n"
     ]
    },
    {
     "data": {
      "application/vnd.jupyter.widget-view+json": {
       "model_id": "28ff70cd20ee4470b54d05b11cf4765a",
       "version_major": 2,
       "version_minor": 0
      },
      "text/plain": [
       "NDVI_2007_12.tif: |          | 0.00/1.82M (raw) [  0.0%] in 00:00 (eta:     ?)"
      ]
     },
     "metadata": {},
     "output_type": "display_data"
    },
    {
     "name": "stdout",
     "output_type": "stream",
     "text": [
      "   ✅ NDVI export completed: NDVI_2007_12.tif\n",
      "   📤 Preparing to export NIRv: NIRv_2007_12.tif\n"
     ]
    },
    {
     "data": {
      "application/vnd.jupyter.widget-view+json": {
       "model_id": "4ab91fbafe024d61b5c39909cedb7160",
       "version_major": 2,
       "version_minor": 0
      },
      "text/plain": [
       "NIRv_2007_12.tif: |          | 0.00/3.64M (raw) [  0.0%] in 00:00 (eta:     ?)"
      ]
     },
     "metadata": {},
     "output_type": "display_data"
    },
    {
     "name": "stdout",
     "output_type": "stream",
     "text": [
      "   ✅ NIRv export completed: NIRv_2007_12.tif\n",
      "✅ 2007_12 successfully exported\n",
      "\n",
      "--- Processing 2008_01 ---\n",
      "    🛰️  Falling back to Landsat...\n",
      "      📅 Expanding time window ±7 days: 2007-12-25 to 2008-02-07\n",
      "      ⚠️  Attempt 1: Only found 0 images\n",
      "      📅 Expanding time window ±15 days: 2007-12-17 to 2008-02-15\n",
      "      🚨 Using final threshold 99%\n",
      "      ⚠️  Attempt 2: Only found 0 images\n",
      "      📅 Expanding time window ±30 days: 2007-12-02 to 2008-03-01\n",
      "      🚨 Using final threshold 99%\n",
      "      ⚠️  Attempt 3: Only found 0 images\n",
      "      ❌ All attempts failed\n",
      "⏩ Skipping export for 2008_01: No valid data.\n",
      "\n",
      "--- Processing 2008_02 ---\n",
      "    🛰️  Falling back to Landsat...\n",
      "      📅 Expanding time window ±7 days: 2008-01-25 to 2008-03-07\n",
      "      ⚠️  Attempt 1: Only found 0 images\n",
      "      📅 Expanding time window ±15 days: 2008-01-17 to 2008-03-15\n",
      "      🚨 Using final threshold 99%\n",
      "      ⚠️  Attempt 2: Only found 0 images\n",
      "      📅 Expanding time window ±30 days: 2008-01-02 to 2008-03-30\n",
      "      🚨 Using final threshold 99%\n",
      "      ⚠️  Attempt 3: Only found 0 images\n",
      "      ❌ All attempts failed\n",
      "⏩ Skipping export for 2008_02: No valid data.\n",
      "\n",
      "--- Processing 2008_03 ---\n",
      "    🛰️  Falling back to Landsat...\n",
      "      📅 Expanding time window ±7 days: 2008-02-23 to 2008-04-07\n",
      "      ⚠️  Attempt 1: Only found 0 images\n",
      "      📅 Expanding time window ±14 days: 2008-02-16 to 2008-04-14\n",
      "      ✅ Found 1 images\n",
      "      🔧 Using relaxed masking mode (clouds only)\n",
      "      🔧 Using relaxed masking mode (clouds only)\n",
      "      🔧 Using relaxed masking mode (clouds only)\n",
      "   📤 Preparing to export NDVI: NDVI_2008_03.tif\n"
     ]
    },
    {
     "data": {
      "application/vnd.jupyter.widget-view+json": {
       "model_id": "f3e08c3950554e079e2e774c18600a64",
       "version_major": 2,
       "version_minor": 0
      },
      "text/plain": [
       "NDVI_2008_03.tif: |          | 0.00/1.82M (raw) [  0.0%] in 00:00 (eta:     ?)"
      ]
     },
     "metadata": {},
     "output_type": "display_data"
    },
    {
     "name": "stdout",
     "output_type": "stream",
     "text": [
      "   ✅ NDVI export completed: NDVI_2008_03.tif\n",
      "   📤 Preparing to export NIRv: NIRv_2008_03.tif\n"
     ]
    },
    {
     "data": {
      "application/vnd.jupyter.widget-view+json": {
       "model_id": "31a2c77a139645e997b24cf6b65df77b",
       "version_major": 2,
       "version_minor": 0
      },
      "text/plain": [
       "NIRv_2008_03.tif: |          | 0.00/3.64M (raw) [  0.0%] in 00:00 (eta:     ?)"
      ]
     },
     "metadata": {},
     "output_type": "display_data"
    },
    {
     "name": "stdout",
     "output_type": "stream",
     "text": [
      "   ✅ NIRv export completed: NIRv_2008_03.tif\n",
      "✅ 2008_03 successfully exported\n",
      "\n",
      "--- Processing 2008_04 ---\n",
      "    🛰️  Falling back to Landsat...\n",
      "      📅 Expanding time window ±7 days: 2008-03-25 to 2008-05-07\n",
      "      ✅ Found 2 images\n",
      "      🔧 Using relaxed masking mode (clouds only)\n",
      "      🔧 Using relaxed masking mode (clouds only)\n",
      "      🔧 Using relaxed masking mode (clouds only)\n",
      "   📤 Preparing to export NDVI: NDVI_2008_04.tif\n"
     ]
    },
    {
     "data": {
      "application/vnd.jupyter.widget-view+json": {
       "model_id": "f7451f98fd784a9b91202aa103bda748",
       "version_major": 2,
       "version_minor": 0
      },
      "text/plain": [
       "NDVI_2008_04.tif: |          | 0.00/1.82M (raw) [  0.0%] in 00:00 (eta:     ?)"
      ]
     },
     "metadata": {},
     "output_type": "display_data"
    },
    {
     "name": "stdout",
     "output_type": "stream",
     "text": [
      "   ✅ NDVI export completed: NDVI_2008_04.tif\n",
      "   📤 Preparing to export NIRv: NIRv_2008_04.tif\n"
     ]
    },
    {
     "data": {
      "application/vnd.jupyter.widget-view+json": {
       "model_id": "58de8db74f5c4a34ba1a0cbd874f00c2",
       "version_major": 2,
       "version_minor": 0
      },
      "text/plain": [
       "NIRv_2008_04.tif: |          | 0.00/3.64M (raw) [  0.0%] in 00:00 (eta:     ?)"
      ]
     },
     "metadata": {},
     "output_type": "display_data"
    },
    {
     "name": "stdout",
     "output_type": "stream",
     "text": [
      "   ✅ NIRv export completed: NIRv_2008_04.tif\n",
      "✅ 2008_04 successfully exported\n",
      "\n",
      "--- Processing 2008_05 ---\n",
      "    🛰️  Falling back to Landsat...\n",
      "      📅 Expanding time window ±7 days: 2008-04-24 to 2008-06-07\n",
      "      ✅ Found 1 images\n",
      "      🔧 Using relaxed masking mode (clouds only)\n",
      "      🔧 Using relaxed masking mode (clouds only)\n",
      "      🔧 Using relaxed masking mode (clouds only)\n",
      "   📤 Preparing to export NDVI: NDVI_2008_05.tif\n"
     ]
    },
    {
     "data": {
      "application/vnd.jupyter.widget-view+json": {
       "model_id": "a2eed8bf011440c583cb84d1b4e1ac1c",
       "version_major": 2,
       "version_minor": 0
      },
      "text/plain": [
       "NDVI_2008_05.tif: |          | 0.00/1.82M (raw) [  0.0%] in 00:00 (eta:     ?)"
      ]
     },
     "metadata": {},
     "output_type": "display_data"
    },
    {
     "name": "stdout",
     "output_type": "stream",
     "text": [
      "   ✅ NDVI export completed: NDVI_2008_05.tif\n",
      "   📤 Preparing to export NIRv: NIRv_2008_05.tif\n"
     ]
    },
    {
     "data": {
      "application/vnd.jupyter.widget-view+json": {
       "model_id": "971b5da9e2744da5ba92ecc1fa445b2e",
       "version_major": 2,
       "version_minor": 0
      },
      "text/plain": [
       "NIRv_2008_05.tif: |          | 0.00/3.64M (raw) [  0.0%] in 00:00 (eta:     ?)"
      ]
     },
     "metadata": {},
     "output_type": "display_data"
    },
    {
     "name": "stdout",
     "output_type": "stream",
     "text": [
      "   ✅ NIRv export completed: NIRv_2008_05.tif\n",
      "✅ 2008_05 successfully exported\n",
      "\n",
      "--- Processing 2008_06 ---\n",
      "    🛰️  Falling back to Landsat...\n",
      "      📅 Expanding time window ±5 days: 2008-05-27 to 2008-07-05\n",
      "      ⚠️  Attempt 1: Only found 0 images\n",
      "      📅 Expanding time window ±10 days: 2008-05-22 to 2008-07-10\n",
      "      🚨 Using final threshold 95%\n",
      "      ⚠️  Attempt 2: Only found 0 images\n",
      "      📅 Expanding time window ±21 days: 2008-05-11 to 2008-07-21\n",
      "      ✅ Found 1 images\n",
      "   📤 Preparing to export NDVI: NDVI_2008_06.tif\n"
     ]
    },
    {
     "data": {
      "application/vnd.jupyter.widget-view+json": {
       "model_id": "a3b2501e372d4fa0923cf674bab080b5",
       "version_major": 2,
       "version_minor": 0
      },
      "text/plain": [
       "NDVI_2008_06.tif: |          | 0.00/1.82M (raw) [  0.0%] in 00:00 (eta:     ?)"
      ]
     },
     "metadata": {},
     "output_type": "display_data"
    },
    {
     "name": "stdout",
     "output_type": "stream",
     "text": [
      "   ✅ NDVI export completed: NDVI_2008_06.tif\n",
      "   📤 Preparing to export NIRv: NIRv_2008_06.tif\n"
     ]
    },
    {
     "data": {
      "application/vnd.jupyter.widget-view+json": {
       "model_id": "3ab479367d13481b8bf38bfaf8276fb3",
       "version_major": 2,
       "version_minor": 0
      },
      "text/plain": [
       "NIRv_2008_06.tif: |          | 0.00/3.64M (raw) [  0.0%] in 00:00 (eta:     ?)"
      ]
     },
     "metadata": {},
     "output_type": "display_data"
    },
    {
     "name": "stdout",
     "output_type": "stream",
     "text": [
      "   ✅ NIRv export completed: NIRv_2008_06.tif\n",
      "✅ 2008_06 successfully exported\n",
      "\n",
      "--- Processing 2008_07 ---\n",
      "    🛰️  Falling back to Landsat...\n",
      "      📅 Expanding time window ±5 days: 2008-06-26 to 2008-08-05\n",
      "      ✅ Found 1 images\n",
      "   📤 Preparing to export NDVI: NDVI_2008_07.tif\n"
     ]
    },
    {
     "data": {
      "application/vnd.jupyter.widget-view+json": {
       "model_id": "9c0c225c089e4e1b8390cdf27272fe8a",
       "version_major": 2,
       "version_minor": 0
      },
      "text/plain": [
       "NDVI_2008_07.tif: |          | 0.00/1.82M (raw) [  0.0%] in 00:00 (eta:     ?)"
      ]
     },
     "metadata": {},
     "output_type": "display_data"
    },
    {
     "name": "stdout",
     "output_type": "stream",
     "text": [
      "   ✅ NDVI export completed: NDVI_2008_07.tif\n",
      "   📤 Preparing to export NIRv: NIRv_2008_07.tif\n"
     ]
    },
    {
     "data": {
      "application/vnd.jupyter.widget-view+json": {
       "model_id": "a34928af6a5c4c309e610be7c9b6c510",
       "version_major": 2,
       "version_minor": 0
      },
      "text/plain": [
       "NIRv_2008_07.tif: |          | 0.00/3.64M (raw) [  0.0%] in 00:00 (eta:     ?)"
      ]
     },
     "metadata": {},
     "output_type": "display_data"
    },
    {
     "name": "stdout",
     "output_type": "stream",
     "text": [
      "   ✅ NIRv export completed: NIRv_2008_07.tif\n",
      "✅ 2008_07 successfully exported\n",
      "\n",
      "--- Processing 2008_08 ---\n",
      "    🛰️  Falling back to Landsat...\n",
      "      📅 Expanding time window ±5 days: 2008-07-27 to 2008-09-05\n",
      "      ✅ Found 1 images\n",
      "   📤 Preparing to export NDVI: NDVI_2008_08.tif\n"
     ]
    },
    {
     "data": {
      "application/vnd.jupyter.widget-view+json": {
       "model_id": "02f4f5c4a0c9421e84ac17e192a52799",
       "version_major": 2,
       "version_minor": 0
      },
      "text/plain": [
       "NDVI_2008_08.tif: |          | 0.00/1.82M (raw) [  0.0%] in 00:00 (eta:     ?)"
      ]
     },
     "metadata": {},
     "output_type": "display_data"
    },
    {
     "name": "stdout",
     "output_type": "stream",
     "text": [
      "   ✅ NDVI export completed: NDVI_2008_08.tif\n",
      "   📤 Preparing to export NIRv: NIRv_2008_08.tif\n"
     ]
    },
    {
     "data": {
      "application/vnd.jupyter.widget-view+json": {
       "model_id": "134f3bf7c7b2491888159a14ff5dcd08",
       "version_major": 2,
       "version_minor": 0
      },
      "text/plain": [
       "NIRv_2008_08.tif: |          | 0.00/3.64M (raw) [  0.0%] in 00:00 (eta:     ?)"
      ]
     },
     "metadata": {},
     "output_type": "display_data"
    },
    {
     "name": "stdout",
     "output_type": "stream",
     "text": [
      "   ✅ NIRv export completed: NIRv_2008_08.tif\n",
      "✅ 2008_08 successfully exported\n",
      "\n",
      "--- Processing 2008_09 ---\n",
      "    🛰️  Falling back to Landsat...\n",
      "      📅 Expanding time window ±7 days: 2008-08-25 to 2008-10-07\n",
      "      ✅ Found 1 images\n",
      "      🔧 Using relaxed masking mode (clouds only)\n",
      "      🔧 Using relaxed masking mode (clouds only)\n",
      "      🔧 Using relaxed masking mode (clouds only)\n",
      "   📤 Preparing to export NDVI: NDVI_2008_09.tif\n"
     ]
    },
    {
     "data": {
      "application/vnd.jupyter.widget-view+json": {
       "model_id": "995257d56c204c9d9a1f402888476a04",
       "version_major": 2,
       "version_minor": 0
      },
      "text/plain": [
       "NDVI_2008_09.tif: |          | 0.00/1.82M (raw) [  0.0%] in 00:00 (eta:     ?)"
      ]
     },
     "metadata": {},
     "output_type": "display_data"
    },
    {
     "name": "stdout",
     "output_type": "stream",
     "text": [
      "   ✅ NDVI export completed: NDVI_2008_09.tif\n",
      "   📤 Preparing to export NIRv: NIRv_2008_09.tif\n"
     ]
    },
    {
     "data": {
      "application/vnd.jupyter.widget-view+json": {
       "model_id": "4f66c41f40454e8f88f728c934aefc62",
       "version_major": 2,
       "version_minor": 0
      },
      "text/plain": [
       "NIRv_2008_09.tif: |          | 0.00/3.64M (raw) [  0.0%] in 00:00 (eta:     ?)"
      ]
     },
     "metadata": {},
     "output_type": "display_data"
    },
    {
     "name": "stdout",
     "output_type": "stream",
     "text": [
      "   ✅ NIRv export completed: NIRv_2008_09.tif\n",
      "✅ 2008_09 successfully exported\n",
      "\n",
      "--- Processing 2008_10 ---\n",
      "    🛰️  Falling back to Landsat...\n",
      "      📅 Expanding time window ±7 days: 2008-09-24 to 2008-11-07\n",
      "      ⚠️  Attempt 1: Only found 0 images\n",
      "      📅 Expanding time window ±14 days: 2008-09-17 to 2008-11-14\n",
      "      ✅ Found 1 images\n",
      "      🔧 Using relaxed masking mode (clouds only)\n",
      "      🔧 Using relaxed masking mode (clouds only)\n",
      "      🔧 Using relaxed masking mode (clouds only)\n",
      "   📤 Preparing to export NDVI: NDVI_2008_10.tif\n"
     ]
    },
    {
     "data": {
      "application/vnd.jupyter.widget-view+json": {
       "model_id": "c6bed080d4514fda8d5e4817d4af7c33",
       "version_major": 2,
       "version_minor": 0
      },
      "text/plain": [
       "NDVI_2008_10.tif: |          | 0.00/1.82M (raw) [  0.0%] in 00:00 (eta:     ?)"
      ]
     },
     "metadata": {},
     "output_type": "display_data"
    },
    {
     "name": "stdout",
     "output_type": "stream",
     "text": [
      "   ✅ NDVI export completed: NDVI_2008_10.tif\n",
      "   📤 Preparing to export NIRv: NIRv_2008_10.tif\n"
     ]
    },
    {
     "data": {
      "application/vnd.jupyter.widget-view+json": {
       "model_id": "7625262ae55b4a3fac468af74cafddc1",
       "version_major": 2,
       "version_minor": 0
      },
      "text/plain": [
       "NIRv_2008_10.tif: |          | 0.00/3.64M (raw) [  0.0%] in 00:00 (eta:     ?)"
      ]
     },
     "metadata": {},
     "output_type": "display_data"
    },
    {
     "name": "stdout",
     "output_type": "stream",
     "text": [
      "   ✅ NIRv export completed: NIRv_2008_10.tif\n",
      "✅ 2008_10 successfully exported\n",
      "\n",
      "--- Processing 2008_11 ---\n",
      "    🛰️  Falling back to Landsat...\n",
      "      📅 Expanding time window ±7 days: 2008-10-25 to 2008-12-07\n",
      "      ✅ Found 1 images\n",
      "      🔧 Using relaxed masking mode (clouds only)\n",
      "      🔧 Using relaxed masking mode (clouds only)\n",
      "      🔧 Using relaxed masking mode (clouds only)\n",
      "   📤 Preparing to export NDVI: NDVI_2008_11.tif\n"
     ]
    },
    {
     "data": {
      "application/vnd.jupyter.widget-view+json": {
       "model_id": "22de58519142480db29bda81ee66e1a3",
       "version_major": 2,
       "version_minor": 0
      },
      "text/plain": [
       "NDVI_2008_11.tif: |          | 0.00/1.82M (raw) [  0.0%] in 00:00 (eta:     ?)"
      ]
     },
     "metadata": {},
     "output_type": "display_data"
    },
    {
     "name": "stdout",
     "output_type": "stream",
     "text": [
      "   ✅ NDVI export completed: NDVI_2008_11.tif\n",
      "   📤 Preparing to export NIRv: NIRv_2008_11.tif\n"
     ]
    },
    {
     "data": {
      "application/vnd.jupyter.widget-view+json": {
       "model_id": "2db49b19fdbf41a7a19e1247b90e849f",
       "version_major": 2,
       "version_minor": 0
      },
      "text/plain": [
       "NIRv_2008_11.tif: |          | 0.00/3.64M (raw) [  0.0%] in 00:00 (eta:     ?)"
      ]
     },
     "metadata": {},
     "output_type": "display_data"
    },
    {
     "name": "stdout",
     "output_type": "stream",
     "text": [
      "   ✅ NIRv export completed: NIRv_2008_11.tif\n",
      "✅ 2008_11 successfully exported\n",
      "\n",
      "--- Processing 2008_12 ---\n",
      "    🛰️  Falling back to Landsat...\n",
      "      📅 Expanding time window ±7 days: 2008-11-24 to 2009-01-07\n",
      "      ⚠️  Attempt 1: Only found 0 images\n",
      "      📅 Expanding time window ±15 days: 2008-11-16 to 2009-01-15\n",
      "      🚨 Using final threshold 99%\n",
      "      ⚠️  Attempt 2: Only found 0 images\n",
      "      📅 Expanding time window ±30 days: 2008-11-01 to 2009-01-30\n",
      "      ✅ Found 1 images\n",
      "      🔧 Using relaxed masking mode (clouds only)\n",
      "      🔧 Using relaxed masking mode (clouds only)\n",
      "      🔧 Using relaxed masking mode (clouds only)\n",
      "   📤 Preparing to export NDVI: NDVI_2008_12.tif\n"
     ]
    },
    {
     "data": {
      "application/vnd.jupyter.widget-view+json": {
       "model_id": "5c0cf174c08942dbb9ba7233d448aaae",
       "version_major": 2,
       "version_minor": 0
      },
      "text/plain": [
       "NDVI_2008_12.tif: |          | 0.00/1.82M (raw) [  0.0%] in 00:00 (eta:     ?)"
      ]
     },
     "metadata": {},
     "output_type": "display_data"
    },
    {
     "name": "stdout",
     "output_type": "stream",
     "text": [
      "   ✅ NDVI export completed: NDVI_2008_12.tif\n",
      "   📤 Preparing to export NIRv: NIRv_2008_12.tif\n"
     ]
    },
    {
     "data": {
      "application/vnd.jupyter.widget-view+json": {
       "model_id": "a29f6f4779ab4210a4b3d1cc10adc217",
       "version_major": 2,
       "version_minor": 0
      },
      "text/plain": [
       "NIRv_2008_12.tif: |          | 0.00/3.64M (raw) [  0.0%] in 00:00 (eta:     ?)"
      ]
     },
     "metadata": {},
     "output_type": "display_data"
    },
    {
     "name": "stdout",
     "output_type": "stream",
     "text": [
      "   ✅ NIRv export completed: NIRv_2008_12.tif\n",
      "✅ 2008_12 successfully exported\n",
      "\n",
      "--- Processing 2009_01 ---\n",
      "    🛰️  Falling back to Landsat...\n",
      "      📅 Expanding time window ±7 days: 2008-12-25 to 2009-02-07\n",
      "      ⚠️  Attempt 1: Only found 0 images\n",
      "      📅 Expanding time window ±15 days: 2008-12-17 to 2009-02-15\n",
      "      🚨 Using final threshold 99%\n",
      "      ⚠️  Attempt 2: Only found 0 images\n",
      "      📅 Expanding time window ±30 days: 2008-12-02 to 2009-03-02\n",
      "      🚨 Using final threshold 99%\n",
      "      ⚠️  Attempt 3: Only found 0 images\n",
      "      ❌ All attempts failed\n",
      "⏩ Skipping export for 2009_01: No valid data.\n",
      "\n",
      "--- Processing 2009_02 ---\n",
      "    🛰️  Falling back to Landsat...\n",
      "      📅 Expanding time window ±7 days: 2009-01-25 to 2009-03-07\n",
      "      ⚠️  Attempt 1: Only found 0 images\n",
      "      📅 Expanding time window ±15 days: 2009-01-17 to 2009-03-15\n",
      "      🚨 Using final threshold 99%\n",
      "      ⚠️  Attempt 2: Only found 0 images\n",
      "      📅 Expanding time window ±30 days: 2009-01-02 to 2009-03-30\n",
      "      ✅ Found 1 images\n",
      "      🔧 Using relaxed masking mode (clouds only)\n",
      "      🔧 Using relaxed masking mode (clouds only)\n",
      "      🔧 Using relaxed masking mode (clouds only)\n",
      "   📤 Preparing to export NDVI: NDVI_2009_02.tif\n"
     ]
    },
    {
     "data": {
      "application/vnd.jupyter.widget-view+json": {
       "model_id": "7fdc7ae416b94247ae8bdf31aad981a5",
       "version_major": 2,
       "version_minor": 0
      },
      "text/plain": [
       "NDVI_2009_02.tif: |          | 0.00/1.82M (raw) [  0.0%] in 00:00 (eta:     ?)"
      ]
     },
     "metadata": {},
     "output_type": "display_data"
    },
    {
     "name": "stdout",
     "output_type": "stream",
     "text": [
      "   ✅ NDVI export completed: NDVI_2009_02.tif\n",
      "   📤 Preparing to export NIRv: NIRv_2009_02.tif\n"
     ]
    },
    {
     "data": {
      "application/vnd.jupyter.widget-view+json": {
       "model_id": "1a62bed91f3b469c8be7293d3be18849",
       "version_major": 2,
       "version_minor": 0
      },
      "text/plain": [
       "NIRv_2009_02.tif: |          | 0.00/3.64M (raw) [  0.0%] in 00:00 (eta:     ?)"
      ]
     },
     "metadata": {},
     "output_type": "display_data"
    },
    {
     "name": "stdout",
     "output_type": "stream",
     "text": [
      "   ✅ NIRv export completed: NIRv_2009_02.tif\n",
      "✅ 2009_02 successfully exported\n",
      "\n",
      "--- Processing 2009_03 ---\n",
      "    🛰️  Falling back to Landsat...\n",
      "      📅 Expanding time window ±7 days: 2009-02-22 to 2009-04-07\n",
      "      ✅ Found 1 images\n",
      "      🔧 Using relaxed masking mode (clouds only)\n",
      "      🔧 Using relaxed masking mode (clouds only)\n",
      "      🔧 Using relaxed masking mode (clouds only)\n",
      "   📤 Preparing to export NDVI: NDVI_2009_03.tif\n"
     ]
    },
    {
     "data": {
      "application/vnd.jupyter.widget-view+json": {
       "model_id": "7409cb4abd844d6f88eb603d39db3c5c",
       "version_major": 2,
       "version_minor": 0
      },
      "text/plain": [
       "NDVI_2009_03.tif: |          | 0.00/1.82M (raw) [  0.0%] in 00:00 (eta:     ?)"
      ]
     },
     "metadata": {},
     "output_type": "display_data"
    },
    {
     "name": "stdout",
     "output_type": "stream",
     "text": [
      "   ✅ NDVI export completed: NDVI_2009_03.tif\n",
      "   📤 Preparing to export NIRv: NIRv_2009_03.tif\n"
     ]
    },
    {
     "data": {
      "application/vnd.jupyter.widget-view+json": {
       "model_id": "9deb1eaf6ff746f7b99520ede0370950",
       "version_major": 2,
       "version_minor": 0
      },
      "text/plain": [
       "NIRv_2009_03.tif: |          | 0.00/3.64M (raw) [  0.0%] in 00:00 (eta:     ?)"
      ]
     },
     "metadata": {},
     "output_type": "display_data"
    },
    {
     "name": "stdout",
     "output_type": "stream",
     "text": [
      "   ✅ NIRv export completed: NIRv_2009_03.tif\n",
      "✅ 2009_03 successfully exported\n",
      "\n",
      "--- Processing 2009_04 ---\n",
      "    🛰️  Falling back to Landsat...\n",
      "      📅 Expanding time window ±7 days: 2009-03-25 to 2009-05-07\n",
      "      ✅ Found 1 images\n",
      "      🔧 Using relaxed masking mode (clouds only)\n",
      "      🔧 Using relaxed masking mode (clouds only)\n",
      "      🔧 Using relaxed masking mode (clouds only)\n",
      "   📤 Preparing to export NDVI: NDVI_2009_04.tif\n"
     ]
    },
    {
     "data": {
      "application/vnd.jupyter.widget-view+json": {
       "model_id": "8a72b2fab5594cab9101448fbf9d9c62",
       "version_major": 2,
       "version_minor": 0
      },
      "text/plain": [
       "NDVI_2009_04.tif: |          | 0.00/1.82M (raw) [  0.0%] in 00:00 (eta:     ?)"
      ]
     },
     "metadata": {},
     "output_type": "display_data"
    },
    {
     "name": "stdout",
     "output_type": "stream",
     "text": [
      "   ✅ NDVI export completed: NDVI_2009_04.tif\n",
      "   📤 Preparing to export NIRv: NIRv_2009_04.tif\n"
     ]
    },
    {
     "data": {
      "application/vnd.jupyter.widget-view+json": {
       "model_id": "9e7721a1f72a4b06a4fe19f32e837ce9",
       "version_major": 2,
       "version_minor": 0
      },
      "text/plain": [
       "NIRv_2009_04.tif: |          | 0.00/3.64M (raw) [  0.0%] in 00:00 (eta:     ?)"
      ]
     },
     "metadata": {},
     "output_type": "display_data"
    },
    {
     "name": "stdout",
     "output_type": "stream",
     "text": [
      "   ✅ NIRv export completed: NIRv_2009_04.tif\n",
      "✅ 2009_04 successfully exported\n",
      "\n",
      "--- Processing 2009_05 ---\n",
      "    🛰️  Falling back to Landsat...\n",
      "      📅 Expanding time window ±7 days: 2009-04-24 to 2009-06-07\n",
      "      ✅ Found 1 images\n",
      "      🔧 Using relaxed masking mode (clouds only)\n",
      "      🔧 Using relaxed masking mode (clouds only)\n",
      "      🔧 Using relaxed masking mode (clouds only)\n",
      "   📤 Preparing to export NDVI: NDVI_2009_05.tif\n"
     ]
    },
    {
     "data": {
      "application/vnd.jupyter.widget-view+json": {
       "model_id": "9b9fd2c3025d403d93d1bedaff36ca96",
       "version_major": 2,
       "version_minor": 0
      },
      "text/plain": [
       "NDVI_2009_05.tif: |          | 0.00/1.82M (raw) [  0.0%] in 00:00 (eta:     ?)"
      ]
     },
     "metadata": {},
     "output_type": "display_data"
    },
    {
     "name": "stdout",
     "output_type": "stream",
     "text": [
      "   ✅ NDVI export completed: NDVI_2009_05.tif\n",
      "   📤 Preparing to export NIRv: NIRv_2009_05.tif\n"
     ]
    },
    {
     "data": {
      "application/vnd.jupyter.widget-view+json": {
       "model_id": "f2b147f2c1664c6b8b72fb7de107d75e",
       "version_major": 2,
       "version_minor": 0
      },
      "text/plain": [
       "NIRv_2009_05.tif: |          | 0.00/3.64M (raw) [  0.0%] in 00:00 (eta:     ?)"
      ]
     },
     "metadata": {},
     "output_type": "display_data"
    },
    {
     "name": "stdout",
     "output_type": "stream",
     "text": [
      "   ✅ NIRv export completed: NIRv_2009_05.tif\n",
      "✅ 2009_05 successfully exported\n",
      "\n",
      "--- Processing 2009_06 ---\n",
      "    🛰️  Falling back to Landsat...\n",
      "      📅 Expanding time window ±5 days: 2009-05-27 to 2009-07-05\n",
      "      ✅ Found 2 images\n",
      "   📤 Preparing to export NDVI: NDVI_2009_06.tif\n"
     ]
    },
    {
     "data": {
      "application/vnd.jupyter.widget-view+json": {
       "model_id": "ac86f14266a94bfaa4dbbe7925311fe3",
       "version_major": 2,
       "version_minor": 0
      },
      "text/plain": [
       "NDVI_2009_06.tif: |          | 0.00/1.82M (raw) [  0.0%] in 00:00 (eta:     ?)"
      ]
     },
     "metadata": {},
     "output_type": "display_data"
    },
    {
     "name": "stdout",
     "output_type": "stream",
     "text": [
      "   ✅ NDVI export completed: NDVI_2009_06.tif\n",
      "   📤 Preparing to export NIRv: NIRv_2009_06.tif\n"
     ]
    },
    {
     "data": {
      "application/vnd.jupyter.widget-view+json": {
       "model_id": "6c228bc04feb4f5bb525872c5816d27b",
       "version_major": 2,
       "version_minor": 0
      },
      "text/plain": [
       "NIRv_2009_06.tif: |          | 0.00/3.64M (raw) [  0.0%] in 00:00 (eta:     ?)"
      ]
     },
     "metadata": {},
     "output_type": "display_data"
    },
    {
     "name": "stdout",
     "output_type": "stream",
     "text": [
      "   ✅ NIRv export completed: NIRv_2009_06.tif\n",
      "✅ 2009_06 successfully exported\n",
      "\n",
      "--- Processing 2009_07 ---\n",
      "    🛰️  Falling back to Landsat...\n",
      "      📅 Expanding time window ±5 days: 2009-06-26 to 2009-08-05\n",
      "      ✅ Found 1 images\n",
      "   📤 Preparing to export NDVI: NDVI_2009_07.tif\n"
     ]
    },
    {
     "data": {
      "application/vnd.jupyter.widget-view+json": {
       "model_id": "622ea324f5c84420a8f433f963d522c3",
       "version_major": 2,
       "version_minor": 0
      },
      "text/plain": [
       "NDVI_2009_07.tif: |          | 0.00/1.82M (raw) [  0.0%] in 00:00 (eta:     ?)"
      ]
     },
     "metadata": {},
     "output_type": "display_data"
    },
    {
     "name": "stdout",
     "output_type": "stream",
     "text": [
      "   ✅ NDVI export completed: NDVI_2009_07.tif\n",
      "   📤 Preparing to export NIRv: NIRv_2009_07.tif\n"
     ]
    },
    {
     "data": {
      "application/vnd.jupyter.widget-view+json": {
       "model_id": "41c4870b362f4504af1f4c60e2b55c17",
       "version_major": 2,
       "version_minor": 0
      },
      "text/plain": [
       "NIRv_2009_07.tif: |          | 0.00/3.64M (raw) [  0.0%] in 00:00 (eta:     ?)"
      ]
     },
     "metadata": {},
     "output_type": "display_data"
    },
    {
     "name": "stdout",
     "output_type": "stream",
     "text": [
      "   ✅ NIRv export completed: NIRv_2009_07.tif\n",
      "✅ 2009_07 successfully exported\n",
      "\n",
      "--- Processing 2009_08 ---\n",
      "    🛰️  Falling back to Landsat...\n",
      "      📅 Expanding time window ±5 days: 2009-07-27 to 2009-09-05\n",
      "      ✅ Found 1 images\n",
      "   📤 Preparing to export NDVI: NDVI_2009_08.tif\n"
     ]
    },
    {
     "data": {
      "application/vnd.jupyter.widget-view+json": {
       "model_id": "fb54dd5b8200420786b9514b15461fbb",
       "version_major": 2,
       "version_minor": 0
      },
      "text/plain": [
       "NDVI_2009_08.tif: |          | 0.00/1.82M (raw) [  0.0%] in 00:00 (eta:     ?)"
      ]
     },
     "metadata": {},
     "output_type": "display_data"
    },
    {
     "name": "stdout",
     "output_type": "stream",
     "text": [
      "   ✅ NDVI export completed: NDVI_2009_08.tif\n",
      "   📤 Preparing to export NIRv: NIRv_2009_08.tif\n"
     ]
    },
    {
     "data": {
      "application/vnd.jupyter.widget-view+json": {
       "model_id": "97849e7d571b42ccaf891ece703b5c31",
       "version_major": 2,
       "version_minor": 0
      },
      "text/plain": [
       "NIRv_2009_08.tif: |          | 0.00/3.64M (raw) [  0.0%] in 00:00 (eta:     ?)"
      ]
     },
     "metadata": {},
     "output_type": "display_data"
    },
    {
     "name": "stdout",
     "output_type": "stream",
     "text": [
      "   ✅ NIRv export completed: NIRv_2009_08.tif\n",
      "✅ 2009_08 successfully exported\n",
      "\n",
      "--- Processing 2009_09 ---\n",
      "    🛰️  Falling back to Landsat...\n",
      "      📅 Expanding time window ±7 days: 2009-08-25 to 2009-10-07\n",
      "      ✅ Found 2 images\n",
      "      🔧 Using relaxed masking mode (clouds only)\n",
      "      🔧 Using relaxed masking mode (clouds only)\n",
      "      🔧 Using relaxed masking mode (clouds only)\n",
      "   📤 Preparing to export NDVI: NDVI_2009_09.tif\n"
     ]
    },
    {
     "data": {
      "application/vnd.jupyter.widget-view+json": {
       "model_id": "dd12860977884fdaac5848959079e4b7",
       "version_major": 2,
       "version_minor": 0
      },
      "text/plain": [
       "NDVI_2009_09.tif: |          | 0.00/1.82M (raw) [  0.0%] in 00:00 (eta:     ?)"
      ]
     },
     "metadata": {},
     "output_type": "display_data"
    },
    {
     "name": "stdout",
     "output_type": "stream",
     "text": [
      "   ✅ NDVI export completed: NDVI_2009_09.tif\n",
      "   📤 Preparing to export NIRv: NIRv_2009_09.tif\n"
     ]
    },
    {
     "data": {
      "application/vnd.jupyter.widget-view+json": {
       "model_id": "fbd5649d07e343a487bd2ac7f8db0664",
       "version_major": 2,
       "version_minor": 0
      },
      "text/plain": [
       "NIRv_2009_09.tif: |          | 0.00/3.64M (raw) [  0.0%] in 00:00 (eta:     ?)"
      ]
     },
     "metadata": {},
     "output_type": "display_data"
    },
    {
     "name": "stdout",
     "output_type": "stream",
     "text": [
      "   ✅ NIRv export completed: NIRv_2009_09.tif\n",
      "✅ 2009_09 successfully exported\n",
      "\n",
      "--- Processing 2009_10 ---\n",
      "    🛰️  Falling back to Landsat...\n",
      "      📅 Expanding time window ±7 days: 2009-09-24 to 2009-11-07\n",
      "      ✅ Found 1 images\n",
      "      🔧 Using relaxed masking mode (clouds only)\n",
      "      🔧 Using relaxed masking mode (clouds only)\n",
      "      🔧 Using relaxed masking mode (clouds only)\n",
      "   📤 Preparing to export NDVI: NDVI_2009_10.tif\n"
     ]
    },
    {
     "data": {
      "application/vnd.jupyter.widget-view+json": {
       "model_id": "815083aa3fe84f92a663b58de5958bb9",
       "version_major": 2,
       "version_minor": 0
      },
      "text/plain": [
       "NDVI_2009_10.tif: |          | 0.00/1.82M (raw) [  0.0%] in 00:00 (eta:     ?)"
      ]
     },
     "metadata": {},
     "output_type": "display_data"
    },
    {
     "name": "stdout",
     "output_type": "stream",
     "text": [
      "   ✅ NDVI export completed: NDVI_2009_10.tif\n",
      "   📤 Preparing to export NIRv: NIRv_2009_10.tif\n"
     ]
    },
    {
     "data": {
      "application/vnd.jupyter.widget-view+json": {
       "model_id": "156a16127cd2459980494cc3f032d818",
       "version_major": 2,
       "version_minor": 0
      },
      "text/plain": [
       "NIRv_2009_10.tif: |          | 0.00/3.64M (raw) [  0.0%] in 00:00 (eta:     ?)"
      ]
     },
     "metadata": {},
     "output_type": "display_data"
    },
    {
     "name": "stdout",
     "output_type": "stream",
     "text": [
      "   ✅ NIRv export completed: NIRv_2009_10.tif\n",
      "✅ 2009_10 successfully exported\n",
      "\n",
      "--- Processing 2009_11 ---\n",
      "    🛰️  Falling back to Landsat...\n",
      "      📅 Expanding time window ±7 days: 2009-10-25 to 2009-12-07\n",
      "      ✅ Found 1 images\n",
      "      🔧 Using relaxed masking mode (clouds only)\n",
      "      🔧 Using relaxed masking mode (clouds only)\n",
      "      🔧 Using relaxed masking mode (clouds only)\n",
      "   📤 Preparing to export NDVI: NDVI_2009_11.tif\n"
     ]
    },
    {
     "data": {
      "application/vnd.jupyter.widget-view+json": {
       "model_id": "67f88d1e626c4de684729af42a3df387",
       "version_major": 2,
       "version_minor": 0
      },
      "text/plain": [
       "NDVI_2009_11.tif: |          | 0.00/1.82M (raw) [  0.0%] in 00:00 (eta:     ?)"
      ]
     },
     "metadata": {},
     "output_type": "display_data"
    },
    {
     "name": "stdout",
     "output_type": "stream",
     "text": [
      "   ✅ NDVI export completed: NDVI_2009_11.tif\n",
      "   📤 Preparing to export NIRv: NIRv_2009_11.tif\n"
     ]
    },
    {
     "data": {
      "application/vnd.jupyter.widget-view+json": {
       "model_id": "a3093a204aca4c16b3a0b824ad395e08",
       "version_major": 2,
       "version_minor": 0
      },
      "text/plain": [
       "NIRv_2009_11.tif: |          | 0.00/3.64M (raw) [  0.0%] in 00:00 (eta:     ?)"
      ]
     },
     "metadata": {},
     "output_type": "display_data"
    },
    {
     "name": "stdout",
     "output_type": "stream",
     "text": [
      "   ✅ NIRv export completed: NIRv_2009_11.tif\n",
      "✅ 2009_11 successfully exported\n",
      "\n",
      "--- Processing 2009_12 ---\n",
      "    🛰️  Falling back to Landsat...\n",
      "      📅 Expanding time window ±7 days: 2009-11-24 to 2010-01-07\n",
      "      ✅ Found 1 images\n",
      "      🔧 Using relaxed masking mode (clouds only)\n",
      "      🔧 Using relaxed masking mode (clouds only)\n",
      "      🔧 Using relaxed masking mode (clouds only)\n",
      "   📤 Preparing to export NDVI: NDVI_2009_12.tif\n"
     ]
    },
    {
     "data": {
      "application/vnd.jupyter.widget-view+json": {
       "model_id": "6f07e7211a074d368032dea60096d34e",
       "version_major": 2,
       "version_minor": 0
      },
      "text/plain": [
       "NDVI_2009_12.tif: |          | 0.00/1.82M (raw) [  0.0%] in 00:00 (eta:     ?)"
      ]
     },
     "metadata": {},
     "output_type": "display_data"
    },
    {
     "name": "stdout",
     "output_type": "stream",
     "text": [
      "   ✅ NDVI export completed: NDVI_2009_12.tif\n",
      "   📤 Preparing to export NIRv: NIRv_2009_12.tif\n"
     ]
    },
    {
     "data": {
      "application/vnd.jupyter.widget-view+json": {
       "model_id": "dfe7f9142f90413d8f98f6f792b7312b",
       "version_major": 2,
       "version_minor": 0
      },
      "text/plain": [
       "NIRv_2009_12.tif: |          | 0.00/3.64M (raw) [  0.0%] in 00:00 (eta:     ?)"
      ]
     },
     "metadata": {},
     "output_type": "display_data"
    },
    {
     "name": "stdout",
     "output_type": "stream",
     "text": [
      "   ✅ NIRv export completed: NIRv_2009_12.tif\n",
      "✅ 2009_12 successfully exported\n",
      "\n",
      "--- Processing 2010_01 ---\n",
      "    🛰️  Falling back to Landsat...\n",
      "      📅 Expanding time window ±7 days: 2009-12-25 to 2010-02-07\n",
      "      ⚠️  Attempt 1: Only found 0 images\n",
      "      📅 Expanding time window ±15 days: 2009-12-17 to 2010-02-15\n",
      "      🚨 Using final threshold 99%\n",
      "      ⚠️  Attempt 2: Only found 0 images\n",
      "      📅 Expanding time window ±30 days: 2009-12-02 to 2010-03-02\n",
      "      🚨 Using final threshold 99%\n",
      "      ⚠️  Attempt 3: Only found 0 images\n",
      "      ❌ All attempts failed\n",
      "⏩ Skipping export for 2010_01: No valid data.\n",
      "\n",
      "--- Processing 2010_02 ---\n",
      "    🛰️  Falling back to Landsat...\n",
      "      📅 Expanding time window ±7 days: 2010-01-25 to 2010-03-07\n",
      "      ⚠️  Attempt 1: Only found 0 images\n",
      "      📅 Expanding time window ±15 days: 2010-01-17 to 2010-03-15\n",
      "      🚨 Using final threshold 99%\n",
      "      ⚠️  Attempt 2: Only found 0 images\n",
      "      📅 Expanding time window ±30 days: 2010-01-02 to 2010-03-30\n",
      "      🚨 Using final threshold 99%\n",
      "      ⚠️  Attempt 3: Only found 0 images\n",
      "      ❌ All attempts failed\n",
      "⏩ Skipping export for 2010_02: No valid data.\n",
      "\n",
      "--- Processing 2010_03 ---\n",
      "    🛰️  Falling back to Landsat...\n",
      "      📅 Expanding time window ±7 days: 2010-02-22 to 2010-04-07\n",
      "      ⚠️  Attempt 1: Only found 0 images\n",
      "      📅 Expanding time window ±14 days: 2010-02-15 to 2010-04-14\n",
      "      🚨 Using final threshold 97%\n",
      "      ⚠️  Attempt 2: Only found 0 images\n",
      "      📅 Expanding time window ±25 days: 2010-02-04 to 2010-04-25\n",
      "      ✅ Found 1 images\n",
      "      🔧 Using relaxed masking mode (clouds only)\n",
      "      🔧 Using relaxed masking mode (clouds only)\n",
      "      🔧 Using relaxed masking mode (clouds only)\n",
      "   📤 Preparing to export NDVI: NDVI_2010_03.tif\n"
     ]
    },
    {
     "data": {
      "application/vnd.jupyter.widget-view+json": {
       "model_id": "2b263c98f5d74620b777175c710502bc",
       "version_major": 2,
       "version_minor": 0
      },
      "text/plain": [
       "NDVI_2010_03.tif: |          | 0.00/1.82M (raw) [  0.0%] in 00:00 (eta:     ?)"
      ]
     },
     "metadata": {},
     "output_type": "display_data"
    },
    {
     "name": "stdout",
     "output_type": "stream",
     "text": [
      "   ✅ NDVI export completed: NDVI_2010_03.tif\n",
      "   📤 Preparing to export NIRv: NIRv_2010_03.tif\n"
     ]
    },
    {
     "data": {
      "application/vnd.jupyter.widget-view+json": {
       "model_id": "03f2b9db899b45f592b1f98f16f83f65",
       "version_major": 2,
       "version_minor": 0
      },
      "text/plain": [
       "NIRv_2010_03.tif: |          | 0.00/3.64M (raw) [  0.0%] in 00:00 (eta:     ?)"
      ]
     },
     "metadata": {},
     "output_type": "display_data"
    },
    {
     "name": "stdout",
     "output_type": "stream",
     "text": [
      "   ✅ NIRv export completed: NIRv_2010_03.tif\n",
      "✅ 2010_03 successfully exported\n",
      "\n",
      "--- Processing 2010_04 ---\n",
      "    🛰️  Falling back to Landsat...\n",
      "      📅 Expanding time window ±7 days: 2010-03-25 to 2010-05-07\n",
      "      ✅ Found 1 images\n",
      "      🔧 Using relaxed masking mode (clouds only)\n",
      "      🔧 Using relaxed masking mode (clouds only)\n",
      "      🔧 Using relaxed masking mode (clouds only)\n",
      "   📤 Preparing to export NDVI: NDVI_2010_04.tif\n"
     ]
    },
    {
     "data": {
      "application/vnd.jupyter.widget-view+json": {
       "model_id": "bf692390c7b848f492703a57e8f804b6",
       "version_major": 2,
       "version_minor": 0
      },
      "text/plain": [
       "NDVI_2010_04.tif: |          | 0.00/1.82M (raw) [  0.0%] in 00:00 (eta:     ?)"
      ]
     },
     "metadata": {},
     "output_type": "display_data"
    },
    {
     "name": "stdout",
     "output_type": "stream",
     "text": [
      "   ✅ NDVI export completed: NDVI_2010_04.tif\n",
      "   📤 Preparing to export NIRv: NIRv_2010_04.tif\n"
     ]
    },
    {
     "data": {
      "application/vnd.jupyter.widget-view+json": {
       "model_id": "5b45e57a864e4c55aa15bdbdc6978859",
       "version_major": 2,
       "version_minor": 0
      },
      "text/plain": [
       "NIRv_2010_04.tif: |          | 0.00/3.64M (raw) [  0.0%] in 00:00 (eta:     ?)"
      ]
     },
     "metadata": {},
     "output_type": "display_data"
    },
    {
     "name": "stdout",
     "output_type": "stream",
     "text": [
      "   ✅ NIRv export completed: NIRv_2010_04.tif\n",
      "✅ 2010_04 successfully exported\n",
      "\n",
      "--- Processing 2010_05 ---\n",
      "    🛰️  Falling back to Landsat...\n",
      "      📅 Expanding time window ±7 days: 2010-04-24 to 2010-06-07\n",
      "      ✅ Found 2 images\n",
      "      🔧 Using relaxed masking mode (clouds only)\n",
      "      🔧 Using relaxed masking mode (clouds only)\n",
      "      🔧 Using relaxed masking mode (clouds only)\n",
      "   📤 Preparing to export NDVI: NDVI_2010_05.tif\n"
     ]
    },
    {
     "data": {
      "application/vnd.jupyter.widget-view+json": {
       "model_id": "8c66ceeca690417d827c9da31b4e02e6",
       "version_major": 2,
       "version_minor": 0
      },
      "text/plain": [
       "NDVI_2010_05.tif: |          | 0.00/1.82M (raw) [  0.0%] in 00:00 (eta:     ?)"
      ]
     },
     "metadata": {},
     "output_type": "display_data"
    },
    {
     "name": "stdout",
     "output_type": "stream",
     "text": [
      "   ✅ NDVI export completed: NDVI_2010_05.tif\n",
      "   📤 Preparing to export NIRv: NIRv_2010_05.tif\n"
     ]
    },
    {
     "data": {
      "application/vnd.jupyter.widget-view+json": {
       "model_id": "5a5a2d7526144bd58927f40126642a48",
       "version_major": 2,
       "version_minor": 0
      },
      "text/plain": [
       "NIRv_2010_05.tif: |          | 0.00/3.64M (raw) [  0.0%] in 00:00 (eta:     ?)"
      ]
     },
     "metadata": {},
     "output_type": "display_data"
    },
    {
     "name": "stdout",
     "output_type": "stream",
     "text": [
      "   ✅ NIRv export completed: NIRv_2010_05.tif\n",
      "✅ 2010_05 successfully exported\n",
      "\n",
      "--- Processing 2010_06 ---\n",
      "    🛰️  Falling back to Landsat...\n",
      "      📅 Expanding time window ±5 days: 2010-05-27 to 2010-07-05\n",
      "      ✅ Found 1 images\n",
      "   📤 Preparing to export NDVI: NDVI_2010_06.tif\n"
     ]
    },
    {
     "data": {
      "application/vnd.jupyter.widget-view+json": {
       "model_id": "2ce56453814a462d973adeaa44645a9c",
       "version_major": 2,
       "version_minor": 0
      },
      "text/plain": [
       "NDVI_2010_06.tif: |          | 0.00/1.82M (raw) [  0.0%] in 00:00 (eta:     ?)"
      ]
     },
     "metadata": {},
     "output_type": "display_data"
    },
    {
     "name": "stdout",
     "output_type": "stream",
     "text": [
      "   ✅ NDVI export completed: NDVI_2010_06.tif\n",
      "   📤 Preparing to export NIRv: NIRv_2010_06.tif\n"
     ]
    },
    {
     "data": {
      "application/vnd.jupyter.widget-view+json": {
       "model_id": "ad458a457b49479a88a1baa9194ee787",
       "version_major": 2,
       "version_minor": 0
      },
      "text/plain": [
       "NIRv_2010_06.tif: |          | 0.00/3.64M (raw) [  0.0%] in 00:00 (eta:     ?)"
      ]
     },
     "metadata": {},
     "output_type": "display_data"
    },
    {
     "name": "stdout",
     "output_type": "stream",
     "text": [
      "   ✅ NIRv export completed: NIRv_2010_06.tif\n",
      "✅ 2010_06 successfully exported\n",
      "\n",
      "--- Processing 2010_07 ---\n",
      "    🛰️  Falling back to Landsat...\n",
      "      📅 Expanding time window ±5 days: 2010-06-26 to 2010-08-05\n",
      "      ✅ Found 2 images\n",
      "   📤 Preparing to export NDVI: NDVI_2010_07.tif\n"
     ]
    },
    {
     "data": {
      "application/vnd.jupyter.widget-view+json": {
       "model_id": "76833bfa560a4116bcd5ae1103dae442",
       "version_major": 2,
       "version_minor": 0
      },
      "text/plain": [
       "NDVI_2010_07.tif: |          | 0.00/1.82M (raw) [  0.0%] in 00:00 (eta:     ?)"
      ]
     },
     "metadata": {},
     "output_type": "display_data"
    },
    {
     "name": "stdout",
     "output_type": "stream",
     "text": [
      "   ✅ NDVI export completed: NDVI_2010_07.tif\n",
      "   📤 Preparing to export NIRv: NIRv_2010_07.tif\n"
     ]
    },
    {
     "data": {
      "application/vnd.jupyter.widget-view+json": {
       "model_id": "88bdd011f2a94093bde19f363c52523d",
       "version_major": 2,
       "version_minor": 0
      },
      "text/plain": [
       "NIRv_2010_07.tif: |          | 0.00/3.64M (raw) [  0.0%] in 00:00 (eta:     ?)"
      ]
     },
     "metadata": {},
     "output_type": "display_data"
    },
    {
     "name": "stdout",
     "output_type": "stream",
     "text": [
      "   ✅ NIRv export completed: NIRv_2010_07.tif\n",
      "✅ 2010_07 successfully exported\n",
      "\n",
      "--- Processing 2010_08 ---\n",
      "    🛰️  Falling back to Landsat...\n",
      "      📅 Expanding time window ±5 days: 2010-07-27 to 2010-09-05\n",
      "      ✅ Found 1 images\n",
      "   📤 Preparing to export NDVI: NDVI_2010_08.tif\n"
     ]
    },
    {
     "data": {
      "application/vnd.jupyter.widget-view+json": {
       "model_id": "40e47e44eaad42ac8a62abcbc9e71e98",
       "version_major": 2,
       "version_minor": 0
      },
      "text/plain": [
       "NDVI_2010_08.tif: |          | 0.00/1.82M (raw) [  0.0%] in 00:00 (eta:     ?)"
      ]
     },
     "metadata": {},
     "output_type": "display_data"
    },
    {
     "name": "stdout",
     "output_type": "stream",
     "text": [
      "   ✅ NDVI export completed: NDVI_2010_08.tif\n",
      "   📤 Preparing to export NIRv: NIRv_2010_08.tif\n"
     ]
    },
    {
     "data": {
      "application/vnd.jupyter.widget-view+json": {
       "model_id": "172810b106dc4b27af37d7807e557ef6",
       "version_major": 2,
       "version_minor": 0
      },
      "text/plain": [
       "NIRv_2010_08.tif: |          | 0.00/3.64M (raw) [  0.0%] in 00:00 (eta:     ?)"
      ]
     },
     "metadata": {},
     "output_type": "display_data"
    },
    {
     "name": "stdout",
     "output_type": "stream",
     "text": [
      "   ✅ NIRv export completed: NIRv_2010_08.tif\n",
      "✅ 2010_08 successfully exported\n",
      "\n",
      "--- Processing 2010_09 ---\n",
      "    🛰️  Falling back to Landsat...\n",
      "      📅 Expanding time window ±7 days: 2010-08-25 to 2010-10-07\n",
      "      ⚠️  Attempt 1: Only found 0 images\n",
      "      📅 Expanding time window ±14 days: 2010-08-18 to 2010-10-14\n",
      "      ✅ Found 1 images\n",
      "      🔧 Using relaxed masking mode (clouds only)\n",
      "      🔧 Using relaxed masking mode (clouds only)\n",
      "      🔧 Using relaxed masking mode (clouds only)\n",
      "   📤 Preparing to export NDVI: NDVI_2010_09.tif\n"
     ]
    },
    {
     "data": {
      "application/vnd.jupyter.widget-view+json": {
       "model_id": "a61feda159574046943980e56b35003f",
       "version_major": 2,
       "version_minor": 0
      },
      "text/plain": [
       "NDVI_2010_09.tif: |          | 0.00/1.82M (raw) [  0.0%] in 00:00 (eta:     ?)"
      ]
     },
     "metadata": {},
     "output_type": "display_data"
    },
    {
     "name": "stdout",
     "output_type": "stream",
     "text": [
      "   ✅ NDVI export completed: NDVI_2010_09.tif\n",
      "   📤 Preparing to export NIRv: NIRv_2010_09.tif\n"
     ]
    },
    {
     "data": {
      "application/vnd.jupyter.widget-view+json": {
       "model_id": "4063ae0cc37b4220b75ded104999eb2f",
       "version_major": 2,
       "version_minor": 0
      },
      "text/plain": [
       "NIRv_2010_09.tif: |          | 0.00/3.64M (raw) [  0.0%] in 00:00 (eta:     ?)"
      ]
     },
     "metadata": {},
     "output_type": "display_data"
    },
    {
     "name": "stdout",
     "output_type": "stream",
     "text": [
      "   ✅ NIRv export completed: NIRv_2010_09.tif\n",
      "✅ 2010_09 successfully exported\n",
      "\n",
      "--- Processing 2010_10 ---\n",
      "    🛰️  Falling back to Landsat...\n",
      "      📅 Expanding time window ±7 days: 2010-09-24 to 2010-11-07\n",
      "      ✅ Found 2 images\n",
      "      🔧 Using relaxed masking mode (clouds only)\n",
      "      🔧 Using relaxed masking mode (clouds only)\n",
      "      🔧 Using relaxed masking mode (clouds only)\n",
      "   📤 Preparing to export NDVI: NDVI_2010_10.tif\n"
     ]
    },
    {
     "data": {
      "application/vnd.jupyter.widget-view+json": {
       "model_id": "59b528808a05440bb9a7d9fa73fe5915",
       "version_major": 2,
       "version_minor": 0
      },
      "text/plain": [
       "NDVI_2010_10.tif: |          | 0.00/1.82M (raw) [  0.0%] in 00:00 (eta:     ?)"
      ]
     },
     "metadata": {},
     "output_type": "display_data"
    },
    {
     "name": "stdout",
     "output_type": "stream",
     "text": [
      "   ✅ NDVI export completed: NDVI_2010_10.tif\n",
      "   📤 Preparing to export NIRv: NIRv_2010_10.tif\n"
     ]
    },
    {
     "data": {
      "application/vnd.jupyter.widget-view+json": {
       "model_id": "72c83125e12040ca8812ff17f86db32c",
       "version_major": 2,
       "version_minor": 0
      },
      "text/plain": [
       "NIRv_2010_10.tif: |          | 0.00/3.64M (raw) [  0.0%] in 00:00 (eta:     ?)"
      ]
     },
     "metadata": {},
     "output_type": "display_data"
    },
    {
     "name": "stdout",
     "output_type": "stream",
     "text": [
      "   ✅ NIRv export completed: NIRv_2010_10.tif\n",
      "✅ 2010_10 successfully exported\n",
      "\n",
      "--- Processing 2010_11 ---\n",
      "    🛰️  Falling back to Landsat...\n",
      "      📅 Expanding time window ±7 days: 2010-10-25 to 2010-12-07\n",
      "      ✅ Found 1 images\n",
      "      🔧 Using relaxed masking mode (clouds only)\n",
      "      🔧 Using relaxed masking mode (clouds only)\n",
      "      🔧 Using relaxed masking mode (clouds only)\n",
      "   📤 Preparing to export NDVI: NDVI_2010_11.tif\n"
     ]
    },
    {
     "data": {
      "application/vnd.jupyter.widget-view+json": {
       "model_id": "7a0fef8f09bb4590b55d80c956b1dbec",
       "version_major": 2,
       "version_minor": 0
      },
      "text/plain": [
       "NDVI_2010_11.tif: |          | 0.00/1.82M (raw) [  0.0%] in 00:00 (eta:     ?)"
      ]
     },
     "metadata": {},
     "output_type": "display_data"
    },
    {
     "name": "stdout",
     "output_type": "stream",
     "text": [
      "   ✅ NDVI export completed: NDVI_2010_11.tif\n",
      "   📤 Preparing to export NIRv: NIRv_2010_11.tif\n"
     ]
    },
    {
     "data": {
      "application/vnd.jupyter.widget-view+json": {
       "model_id": "4499c57e12034e56b942a580c31e16d8",
       "version_major": 2,
       "version_minor": 0
      },
      "text/plain": [
       "NIRv_2010_11.tif: |          | 0.00/3.64M (raw) [  0.0%] in 00:00 (eta:     ?)"
      ]
     },
     "metadata": {},
     "output_type": "display_data"
    },
    {
     "name": "stdout",
     "output_type": "stream",
     "text": [
      "   ✅ NIRv export completed: NIRv_2010_11.tif\n",
      "✅ 2010_11 successfully exported\n",
      "\n",
      "--- Processing 2010_12 ---\n",
      "    🛰️  Falling back to Landsat...\n",
      "      📅 Expanding time window ±7 days: 2010-11-24 to 2011-01-07\n",
      "      ✅ Found 1 images\n",
      "      🔧 Using relaxed masking mode (clouds only)\n",
      "      🔧 Using relaxed masking mode (clouds only)\n",
      "      🔧 Using relaxed masking mode (clouds only)\n",
      "   📤 Preparing to export NDVI: NDVI_2010_12.tif\n"
     ]
    },
    {
     "data": {
      "application/vnd.jupyter.widget-view+json": {
       "model_id": "5b3517782cb74488b7380f8b29544c84",
       "version_major": 2,
       "version_minor": 0
      },
      "text/plain": [
       "NDVI_2010_12.tif: |          | 0.00/1.82M (raw) [  0.0%] in 00:00 (eta:     ?)"
      ]
     },
     "metadata": {},
     "output_type": "display_data"
    },
    {
     "name": "stdout",
     "output_type": "stream",
     "text": [
      "   ✅ NDVI export completed: NDVI_2010_12.tif\n",
      "   📤 Preparing to export NIRv: NIRv_2010_12.tif\n"
     ]
    },
    {
     "data": {
      "application/vnd.jupyter.widget-view+json": {
       "model_id": "315dd3d8556e413d991e0bea8c40d4d3",
       "version_major": 2,
       "version_minor": 0
      },
      "text/plain": [
       "NIRv_2010_12.tif: |          | 0.00/3.64M (raw) [  0.0%] in 00:00 (eta:     ?)"
      ]
     },
     "metadata": {},
     "output_type": "display_data"
    },
    {
     "name": "stdout",
     "output_type": "stream",
     "text": [
      "   ✅ NIRv export completed: NIRv_2010_12.tif\n",
      "✅ 2010_12 successfully exported\n",
      "\n",
      "--- Processing 2011_01 ---\n",
      "    🛰️  Falling back to Landsat...\n",
      "      📅 Expanding time window ±7 days: 2010-12-25 to 2011-02-07\n",
      "      ⚠️  Attempt 1: Only found 0 images\n",
      "      📅 Expanding time window ±15 days: 2010-12-17 to 2011-02-15\n",
      "      🚨 Using final threshold 99%\n",
      "      ⚠️  Attempt 2: Only found 0 images\n",
      "      📅 Expanding time window ±30 days: 2010-12-02 to 2011-03-02\n",
      "      🚨 Using final threshold 99%\n",
      "      ⚠️  Attempt 3: Only found 0 images\n",
      "      ❌ All attempts failed\n",
      "⏩ Skipping export for 2011_01: No valid data.\n",
      "\n",
      "--- Processing 2011_02 ---\n",
      "    🛰️  Falling back to Landsat...\n",
      "      📅 Expanding time window ±7 days: 2011-01-25 to 2011-03-07\n",
      "      ✅ Found 1 images\n",
      "      🔧 Using relaxed masking mode (clouds only)\n",
      "      🔧 Using relaxed masking mode (clouds only)\n",
      "      🔧 Using relaxed masking mode (clouds only)\n",
      "   📤 Preparing to export NDVI: NDVI_2011_02.tif\n"
     ]
    },
    {
     "data": {
      "application/vnd.jupyter.widget-view+json": {
       "model_id": "79bec6d5396c4ec6b63c39b96cb03090",
       "version_major": 2,
       "version_minor": 0
      },
      "text/plain": [
       "NDVI_2011_02.tif: |          | 0.00/1.82M (raw) [  0.0%] in 00:00 (eta:     ?)"
      ]
     },
     "metadata": {},
     "output_type": "display_data"
    },
    {
     "name": "stdout",
     "output_type": "stream",
     "text": [
      "   ✅ NDVI export completed: NDVI_2011_02.tif\n",
      "   📤 Preparing to export NIRv: NIRv_2011_02.tif\n"
     ]
    },
    {
     "data": {
      "application/vnd.jupyter.widget-view+json": {
       "model_id": "5636ab643841493db229834d2c5f6944",
       "version_major": 2,
       "version_minor": 0
      },
      "text/plain": [
       "NIRv_2011_02.tif: |          | 0.00/3.64M (raw) [  0.0%] in 00:00 (eta:     ?)"
      ]
     },
     "metadata": {},
     "output_type": "display_data"
    },
    {
     "name": "stdout",
     "output_type": "stream",
     "text": [
      "   ✅ NIRv export completed: NIRv_2011_02.tif\n",
      "✅ 2011_02 successfully exported\n",
      "\n",
      "--- Processing 2011_03 ---\n",
      "    🛰️  Falling back to Landsat...\n",
      "      📅 Expanding time window ±7 days: 2011-02-22 to 2011-04-07\n",
      "      ✅ Found 1 images\n",
      "      🔧 Using relaxed masking mode (clouds only)\n",
      "      🔧 Using relaxed masking mode (clouds only)\n",
      "      🔧 Using relaxed masking mode (clouds only)\n",
      "   📤 Preparing to export NDVI: NDVI_2011_03.tif\n"
     ]
    },
    {
     "data": {
      "application/vnd.jupyter.widget-view+json": {
       "model_id": "96d81d6d2c2f4651b43a1843c85cc939",
       "version_major": 2,
       "version_minor": 0
      },
      "text/plain": [
       "NDVI_2011_03.tif: |          | 0.00/1.82M (raw) [  0.0%] in 00:00 (eta:     ?)"
      ]
     },
     "metadata": {},
     "output_type": "display_data"
    },
    {
     "name": "stdout",
     "output_type": "stream",
     "text": [
      "   ✅ NDVI export completed: NDVI_2011_03.tif\n",
      "   📤 Preparing to export NIRv: NIRv_2011_03.tif\n"
     ]
    },
    {
     "data": {
      "application/vnd.jupyter.widget-view+json": {
       "model_id": "7383182fd5944e908b8fd6f49b04e02c",
       "version_major": 2,
       "version_minor": 0
      },
      "text/plain": [
       "NIRv_2011_03.tif: |          | 0.00/3.64M (raw) [  0.0%] in 00:00 (eta:     ?)"
      ]
     },
     "metadata": {},
     "output_type": "display_data"
    },
    {
     "name": "stdout",
     "output_type": "stream",
     "text": [
      "   ✅ NIRv export completed: NIRv_2011_03.tif\n",
      "✅ 2011_03 successfully exported\n",
      "\n",
      "--- Processing 2011_04 ---\n",
      "    🛰️  Falling back to Landsat...\n",
      "      📅 Expanding time window ±7 days: 2011-03-25 to 2011-05-07\n",
      "      ✅ Found 4 images\n",
      "      🔧 Using relaxed masking mode (clouds only)\n",
      "      🔧 Using relaxed masking mode (clouds only)\n",
      "      🔧 Using relaxed masking mode (clouds only)\n",
      "   📤 Preparing to export NDVI: NDVI_2011_04.tif\n"
     ]
    },
    {
     "data": {
      "application/vnd.jupyter.widget-view+json": {
       "model_id": "e2111211e60f4d70aa9128d2d804601c",
       "version_major": 2,
       "version_minor": 0
      },
      "text/plain": [
       "NDVI_2011_04.tif: |          | 0.00/1.82M (raw) [  0.0%] in 00:00 (eta:     ?)"
      ]
     },
     "metadata": {},
     "output_type": "display_data"
    },
    {
     "name": "stdout",
     "output_type": "stream",
     "text": [
      "   ✅ NDVI export completed: NDVI_2011_04.tif\n",
      "   📤 Preparing to export NIRv: NIRv_2011_04.tif\n"
     ]
    },
    {
     "data": {
      "application/vnd.jupyter.widget-view+json": {
       "model_id": "ab9bf34a2b454d0499f1c399359291f7",
       "version_major": 2,
       "version_minor": 0
      },
      "text/plain": [
       "NIRv_2011_04.tif: |          | 0.00/3.64M (raw) [  0.0%] in 00:00 (eta:     ?)"
      ]
     },
     "metadata": {},
     "output_type": "display_data"
    },
    {
     "name": "stdout",
     "output_type": "stream",
     "text": [
      "   ✅ NIRv export completed: NIRv_2011_04.tif\n",
      "✅ 2011_04 successfully exported\n",
      "\n",
      "--- Processing 2011_05 ---\n",
      "    🛰️  Falling back to Landsat...\n",
      "      📅 Expanding time window ±7 days: 2011-04-24 to 2011-06-07\n",
      "      ✅ Found 3 images\n",
      "      🔧 Using relaxed masking mode (clouds only)\n",
      "      🔧 Using relaxed masking mode (clouds only)\n",
      "      🔧 Using relaxed masking mode (clouds only)\n",
      "   📤 Preparing to export NDVI: NDVI_2011_05.tif\n"
     ]
    },
    {
     "data": {
      "application/vnd.jupyter.widget-view+json": {
       "model_id": "3e3e52999c8b48259139d94afb17dd20",
       "version_major": 2,
       "version_minor": 0
      },
      "text/plain": [
       "NDVI_2011_05.tif: |          | 0.00/1.82M (raw) [  0.0%] in 00:00 (eta:     ?)"
      ]
     },
     "metadata": {},
     "output_type": "display_data"
    },
    {
     "name": "stdout",
     "output_type": "stream",
     "text": [
      "   ✅ NDVI export completed: NDVI_2011_05.tif\n",
      "   📤 Preparing to export NIRv: NIRv_2011_05.tif\n"
     ]
    },
    {
     "data": {
      "application/vnd.jupyter.widget-view+json": {
       "model_id": "a094abefe6784ec9ab755e55b2051dc5",
       "version_major": 2,
       "version_minor": 0
      },
      "text/plain": [
       "NIRv_2011_05.tif: |          | 0.00/3.64M (raw) [  0.0%] in 00:00 (eta:     ?)"
      ]
     },
     "metadata": {},
     "output_type": "display_data"
    },
    {
     "name": "stdout",
     "output_type": "stream",
     "text": [
      "   ✅ NIRv export completed: NIRv_2011_05.tif\n",
      "✅ 2011_05 successfully exported\n",
      "\n",
      "--- Processing 2011_06 ---\n",
      "    🛰️  Falling back to Landsat...\n",
      "      📅 Expanding time window ±5 days: 2011-05-27 to 2011-07-05\n",
      "      ✅ Found 1 images\n",
      "   📤 Preparing to export NDVI: NDVI_2011_06.tif\n"
     ]
    },
    {
     "data": {
      "application/vnd.jupyter.widget-view+json": {
       "model_id": "0e8553eab55f49528c2b3fbf71cf019a",
       "version_major": 2,
       "version_minor": 0
      },
      "text/plain": [
       "NDVI_2011_06.tif: |          | 0.00/1.82M (raw) [  0.0%] in 00:00 (eta:     ?)"
      ]
     },
     "metadata": {},
     "output_type": "display_data"
    },
    {
     "name": "stdout",
     "output_type": "stream",
     "text": [
      "   ✅ NDVI export completed: NDVI_2011_06.tif\n",
      "   📤 Preparing to export NIRv: NIRv_2011_06.tif\n"
     ]
    },
    {
     "data": {
      "application/vnd.jupyter.widget-view+json": {
       "model_id": "4a5186e30cfc4a7b8ac3f91fad0b1e61",
       "version_major": 2,
       "version_minor": 0
      },
      "text/plain": [
       "NIRv_2011_06.tif: |          | 0.00/3.64M (raw) [  0.0%] in 00:00 (eta:     ?)"
      ]
     },
     "metadata": {},
     "output_type": "display_data"
    },
    {
     "name": "stdout",
     "output_type": "stream",
     "text": [
      "   ✅ NIRv export completed: NIRv_2011_06.tif\n",
      "✅ 2011_06 successfully exported\n",
      "\n",
      "--- Processing 2011_07 ---\n",
      "    🛰️  Falling back to Landsat...\n",
      "      📅 Expanding time window ±5 days: 2011-06-26 to 2011-08-05\n",
      "      ⚠️  Attempt 1: Only found 0 images\n",
      "      📅 Expanding time window ±10 days: 2011-06-21 to 2011-08-10\n",
      "      ✅ Found 1 images\n",
      "   📤 Preparing to export NDVI: NDVI_2011_07.tif\n"
     ]
    },
    {
     "data": {
      "application/vnd.jupyter.widget-view+json": {
       "model_id": "2e9a1da2303947ecb8a6772bd13f67d5",
       "version_major": 2,
       "version_minor": 0
      },
      "text/plain": [
       "NDVI_2011_07.tif: |          | 0.00/1.82M (raw) [  0.0%] in 00:00 (eta:     ?)"
      ]
     },
     "metadata": {},
     "output_type": "display_data"
    },
    {
     "name": "stdout",
     "output_type": "stream",
     "text": [
      "   ✅ NDVI export completed: NDVI_2011_07.tif\n",
      "   📤 Preparing to export NIRv: NIRv_2011_07.tif\n"
     ]
    },
    {
     "data": {
      "application/vnd.jupyter.widget-view+json": {
       "model_id": "14157ded9aba46ffbfe3e50530acb965",
       "version_major": 2,
       "version_minor": 0
      },
      "text/plain": [
       "NIRv_2011_07.tif: |          | 0.00/3.64M (raw) [  0.0%] in 00:00 (eta:     ?)"
      ]
     },
     "metadata": {},
     "output_type": "display_data"
    },
    {
     "name": "stdout",
     "output_type": "stream",
     "text": [
      "   ✅ NIRv export completed: NIRv_2011_07.tif\n",
      "✅ 2011_07 successfully exported\n",
      "\n",
      "--- Processing 2011_08 ---\n",
      "    🛰️  Falling back to Landsat...\n",
      "      📅 Expanding time window ±5 days: 2011-07-27 to 2011-09-05\n",
      "      ✅ Found 1 images\n",
      "   📤 Preparing to export NDVI: NDVI_2011_08.tif\n"
     ]
    },
    {
     "data": {
      "application/vnd.jupyter.widget-view+json": {
       "model_id": "30e24bbf21534f69842664b83e6586a2",
       "version_major": 2,
       "version_minor": 0
      },
      "text/plain": [
       "NDVI_2011_08.tif: |          | 0.00/1.82M (raw) [  0.0%] in 00:00 (eta:     ?)"
      ]
     },
     "metadata": {},
     "output_type": "display_data"
    },
    {
     "name": "stdout",
     "output_type": "stream",
     "text": [
      "   ✅ NDVI export completed: NDVI_2011_08.tif\n",
      "   📤 Preparing to export NIRv: NIRv_2011_08.tif\n"
     ]
    },
    {
     "data": {
      "application/vnd.jupyter.widget-view+json": {
       "model_id": "42f3e9a42d3649948615c8031f0f9b84",
       "version_major": 2,
       "version_minor": 0
      },
      "text/plain": [
       "NIRv_2011_08.tif: |          | 0.00/3.64M (raw) [  0.0%] in 00:00 (eta:     ?)"
      ]
     },
     "metadata": {},
     "output_type": "display_data"
    },
    {
     "name": "stdout",
     "output_type": "stream",
     "text": [
      "   ✅ NIRv export completed: NIRv_2011_08.tif\n",
      "✅ 2011_08 successfully exported\n",
      "\n",
      "--- Processing 2011_09 ---\n",
      "    🛰️  Falling back to Landsat...\n",
      "      📅 Expanding time window ±7 days: 2011-08-25 to 2011-10-07\n",
      "      ✅ Found 1 images\n",
      "      🔧 Using relaxed masking mode (clouds only)\n",
      "      🔧 Using relaxed masking mode (clouds only)\n",
      "      🔧 Using relaxed masking mode (clouds only)\n",
      "   📤 Preparing to export NDVI: NDVI_2011_09.tif\n"
     ]
    },
    {
     "data": {
      "application/vnd.jupyter.widget-view+json": {
       "model_id": "ef88b0e541cf470e9cd2a499bdaf3d25",
       "version_major": 2,
       "version_minor": 0
      },
      "text/plain": [
       "NDVI_2011_09.tif: |          | 0.00/1.82M (raw) [  0.0%] in 00:00 (eta:     ?)"
      ]
     },
     "metadata": {},
     "output_type": "display_data"
    },
    {
     "name": "stdout",
     "output_type": "stream",
     "text": [
      "   ✅ NDVI export completed: NDVI_2011_09.tif\n",
      "   📤 Preparing to export NIRv: NIRv_2011_09.tif\n"
     ]
    },
    {
     "data": {
      "application/vnd.jupyter.widget-view+json": {
       "model_id": "72b2ab28a8af4d279912b74f62f19c9f",
       "version_major": 2,
       "version_minor": 0
      },
      "text/plain": [
       "NIRv_2011_09.tif: |          | 0.00/3.64M (raw) [  0.0%] in 00:00 (eta:     ?)"
      ]
     },
     "metadata": {},
     "output_type": "display_data"
    },
    {
     "name": "stdout",
     "output_type": "stream",
     "text": [
      "   ✅ NIRv export completed: NIRv_2011_09.tif\n",
      "✅ 2011_09 successfully exported\n",
      "\n",
      "--- Processing 2011_10 ---\n",
      "    🛰️  Falling back to Landsat...\n",
      "      📅 Expanding time window ±7 days: 2011-09-24 to 2011-11-07\n",
      "      ✅ Found 1 images\n",
      "      🔧 Using relaxed masking mode (clouds only)\n",
      "      🔧 Using relaxed masking mode (clouds only)\n",
      "      🔧 Using relaxed masking mode (clouds only)\n",
      "   📤 Preparing to export NDVI: NDVI_2011_10.tif\n"
     ]
    },
    {
     "data": {
      "application/vnd.jupyter.widget-view+json": {
       "model_id": "9bd084c0596441898630abf0fb8e496e",
       "version_major": 2,
       "version_minor": 0
      },
      "text/plain": [
       "NDVI_2011_10.tif: |          | 0.00/1.82M (raw) [  0.0%] in 00:00 (eta:     ?)"
      ]
     },
     "metadata": {},
     "output_type": "display_data"
    },
    {
     "name": "stdout",
     "output_type": "stream",
     "text": [
      "   ✅ NDVI export completed: NDVI_2011_10.tif\n",
      "   📤 Preparing to export NIRv: NIRv_2011_10.tif\n"
     ]
    },
    {
     "data": {
      "application/vnd.jupyter.widget-view+json": {
       "model_id": "02ff604443b14c178564376b599d7eec",
       "version_major": 2,
       "version_minor": 0
      },
      "text/plain": [
       "NIRv_2011_10.tif: |          | 0.00/3.64M (raw) [  0.0%] in 00:00 (eta:     ?)"
      ]
     },
     "metadata": {},
     "output_type": "display_data"
    },
    {
     "name": "stdout",
     "output_type": "stream",
     "text": [
      "   ✅ NIRv export completed: NIRv_2011_10.tif\n",
      "✅ 2011_10 successfully exported\n",
      "\n",
      "--- Processing 2011_11 ---\n",
      "    🛰️  Falling back to Landsat...\n",
      "      📅 Expanding time window ±7 days: 2011-10-25 to 2011-12-07\n",
      "      ✅ Found 1 images\n",
      "      🔧 Using relaxed masking mode (clouds only)\n",
      "      🔧 Using relaxed masking mode (clouds only)\n",
      "      🔧 Using relaxed masking mode (clouds only)\n",
      "   📤 Preparing to export NDVI: NDVI_2011_11.tif\n"
     ]
    },
    {
     "data": {
      "application/vnd.jupyter.widget-view+json": {
       "model_id": "ea796493ecb942ea9142fd8ddbabc0fa",
       "version_major": 2,
       "version_minor": 0
      },
      "text/plain": [
       "NDVI_2011_11.tif: |          | 0.00/1.82M (raw) [  0.0%] in 00:00 (eta:     ?)"
      ]
     },
     "metadata": {},
     "output_type": "display_data"
    },
    {
     "name": "stdout",
     "output_type": "stream",
     "text": [
      "   ✅ NDVI export completed: NDVI_2011_11.tif\n",
      "   📤 Preparing to export NIRv: NIRv_2011_11.tif\n"
     ]
    },
    {
     "data": {
      "application/vnd.jupyter.widget-view+json": {
       "model_id": "f4ad565a0c7444a5a6b049628e361b72",
       "version_major": 2,
       "version_minor": 0
      },
      "text/plain": [
       "NIRv_2011_11.tif: |          | 0.00/3.64M (raw) [  0.0%] in 00:00 (eta:     ?)"
      ]
     },
     "metadata": {},
     "output_type": "display_data"
    },
    {
     "name": "stdout",
     "output_type": "stream",
     "text": [
      "   ✅ NIRv export completed: NIRv_2011_11.tif\n",
      "✅ 2011_11 successfully exported\n",
      "\n",
      "--- Processing 2011_12 ---\n",
      "    🛰️  Falling back to Landsat...\n",
      "      📅 Expanding time window ±7 days: 2011-11-24 to 2012-01-07\n",
      "      ✅ Found 1 images\n",
      "      🔧 Using relaxed masking mode (clouds only)\n",
      "      🔧 Using relaxed masking mode (clouds only)\n",
      "      🔧 Using relaxed masking mode (clouds only)\n",
      "   📤 Preparing to export NDVI: NDVI_2011_12.tif\n"
     ]
    },
    {
     "data": {
      "application/vnd.jupyter.widget-view+json": {
       "model_id": "e7f1b77cebd34c438643e9f22489a49e",
       "version_major": 2,
       "version_minor": 0
      },
      "text/plain": [
       "NDVI_2011_12.tif: |          | 0.00/1.82M (raw) [  0.0%] in 00:00 (eta:     ?)"
      ]
     },
     "metadata": {},
     "output_type": "display_data"
    },
    {
     "name": "stdout",
     "output_type": "stream",
     "text": [
      "   ✅ NDVI export completed: NDVI_2011_12.tif\n",
      "   📤 Preparing to export NIRv: NIRv_2011_12.tif\n"
     ]
    },
    {
     "data": {
      "application/vnd.jupyter.widget-view+json": {
       "model_id": "f5c5e6d8e76740cd947ca1b78588a16a",
       "version_major": 2,
       "version_minor": 0
      },
      "text/plain": [
       "NIRv_2011_12.tif: |          | 0.00/3.64M (raw) [  0.0%] in 00:00 (eta:     ?)"
      ]
     },
     "metadata": {},
     "output_type": "display_data"
    },
    {
     "name": "stdout",
     "output_type": "stream",
     "text": [
      "   ✅ NIRv export completed: NIRv_2011_12.tif\n",
      "✅ 2011_12 successfully exported\n",
      "\n",
      "--- Processing 2012_01 ---\n",
      "    🛰️  Falling back to Landsat...\n",
      "      📅 Expanding time window ±7 days: 2011-12-25 to 2012-02-07\n",
      "      ⚠️  Attempt 1: Only found 0 images\n",
      "      📅 Expanding time window ±15 days: 2011-12-17 to 2012-02-15\n",
      "      ✅ Found 1 images\n",
      "      🔧 Using relaxed masking mode (clouds only)\n",
      "      🔧 Using relaxed masking mode (clouds only)\n",
      "      🔧 Using relaxed masking mode (clouds only)\n",
      "   📤 Preparing to export NDVI: NDVI_2012_01.tif\n"
     ]
    },
    {
     "data": {
      "application/vnd.jupyter.widget-view+json": {
       "model_id": "83f31fdfc44a41b281a834e7a6bd5b0f",
       "version_major": 2,
       "version_minor": 0
      },
      "text/plain": [
       "NDVI_2012_01.tif: |          | 0.00/1.82M (raw) [  0.0%] in 00:00 (eta:     ?)"
      ]
     },
     "metadata": {},
     "output_type": "display_data"
    },
    {
     "name": "stdout",
     "output_type": "stream",
     "text": [
      "   ✅ NDVI export completed: NDVI_2012_01.tif\n",
      "   📤 Preparing to export NIRv: NIRv_2012_01.tif\n"
     ]
    },
    {
     "data": {
      "application/vnd.jupyter.widget-view+json": {
       "model_id": "929bdd7ff3db4f14b3300f1aebdc2390",
       "version_major": 2,
       "version_minor": 0
      },
      "text/plain": [
       "NIRv_2012_01.tif: |          | 0.00/3.64M (raw) [  0.0%] in 00:00 (eta:     ?)"
      ]
     },
     "metadata": {},
     "output_type": "display_data"
    },
    {
     "name": "stdout",
     "output_type": "stream",
     "text": [
      "   ✅ NIRv export completed: NIRv_2012_01.tif\n",
      "✅ 2012_01 successfully exported\n",
      "\n",
      "--- Processing 2012_02 ---\n",
      "    🛰️  Falling back to Landsat...\n",
      "      📅 Expanding time window ±7 days: 2012-01-25 to 2012-03-07\n",
      "      ✅ Found 1 images\n",
      "      🔧 Using relaxed masking mode (clouds only)\n",
      "      🔧 Using relaxed masking mode (clouds only)\n",
      "      🔧 Using relaxed masking mode (clouds only)\n",
      "   📤 Preparing to export NDVI: NDVI_2012_02.tif\n"
     ]
    },
    {
     "data": {
      "application/vnd.jupyter.widget-view+json": {
       "model_id": "19feeb43f0f5402facb9e0b983e43732",
       "version_major": 2,
       "version_minor": 0
      },
      "text/plain": [
       "NDVI_2012_02.tif: |          | 0.00/1.82M (raw) [  0.0%] in 00:00 (eta:     ?)"
      ]
     },
     "metadata": {},
     "output_type": "display_data"
    },
    {
     "name": "stdout",
     "output_type": "stream",
     "text": [
      "   ✅ NDVI export completed: NDVI_2012_02.tif\n",
      "   📤 Preparing to export NIRv: NIRv_2012_02.tif\n"
     ]
    },
    {
     "data": {
      "application/vnd.jupyter.widget-view+json": {
       "model_id": "a572ca52b4ad4860b212473c318ce85f",
       "version_major": 2,
       "version_minor": 0
      },
      "text/plain": [
       "NIRv_2012_02.tif: |          | 0.00/3.64M (raw) [  0.0%] in 00:00 (eta:     ?)"
      ]
     },
     "metadata": {},
     "output_type": "display_data"
    },
    {
     "name": "stdout",
     "output_type": "stream",
     "text": [
      "   ✅ NIRv export completed: NIRv_2012_02.tif\n",
      "✅ 2012_02 successfully exported\n",
      "\n",
      "--- Processing 2012_03 ---\n",
      "    🛰️  Falling back to Landsat...\n",
      "      📅 Expanding time window ±7 days: 2012-02-23 to 2012-04-07\n",
      "      ✅ Found 1 images\n",
      "      🔧 Using relaxed masking mode (clouds only)\n",
      "      🔧 Using relaxed masking mode (clouds only)\n",
      "      🔧 Using relaxed masking mode (clouds only)\n",
      "   📤 Preparing to export NDVI: NDVI_2012_03.tif\n"
     ]
    },
    {
     "data": {
      "application/vnd.jupyter.widget-view+json": {
       "model_id": "973575779fb24b7c8c369fcc178b098d",
       "version_major": 2,
       "version_minor": 0
      },
      "text/plain": [
       "NDVI_2012_03.tif: |          | 0.00/1.82M (raw) [  0.0%] in 00:00 (eta:     ?)"
      ]
     },
     "metadata": {},
     "output_type": "display_data"
    },
    {
     "name": "stdout",
     "output_type": "stream",
     "text": [
      "   ✅ NDVI export completed: NDVI_2012_03.tif\n",
      "   📤 Preparing to export NIRv: NIRv_2012_03.tif\n"
     ]
    },
    {
     "data": {
      "application/vnd.jupyter.widget-view+json": {
       "model_id": "5dd282fe723b4a1b91321da3184d40ff",
       "version_major": 2,
       "version_minor": 0
      },
      "text/plain": [
       "NIRv_2012_03.tif: |          | 0.00/3.64M (raw) [  0.0%] in 00:00 (eta:     ?)"
      ]
     },
     "metadata": {},
     "output_type": "display_data"
    },
    {
     "name": "stdout",
     "output_type": "stream",
     "text": [
      "   ✅ NIRv export completed: NIRv_2012_03.tif\n",
      "✅ 2012_03 successfully exported\n",
      "\n",
      "--- Processing 2012_04 ---\n",
      "    🛰️  Falling back to Landsat...\n",
      "      📅 Expanding time window ±7 days: 2012-03-25 to 2012-05-07\n",
      "      ✅ Found 1 images\n",
      "      🔧 Using relaxed masking mode (clouds only)\n",
      "      🔧 Using relaxed masking mode (clouds only)\n",
      "      🔧 Using relaxed masking mode (clouds only)\n",
      "   📤 Preparing to export NDVI: NDVI_2012_04.tif\n"
     ]
    },
    {
     "data": {
      "application/vnd.jupyter.widget-view+json": {
       "model_id": "6ece37a334dc40c8b050e5dfda1ea57c",
       "version_major": 2,
       "version_minor": 0
      },
      "text/plain": [
       "NDVI_2012_04.tif: |          | 0.00/1.82M (raw) [  0.0%] in 00:00 (eta:     ?)"
      ]
     },
     "metadata": {},
     "output_type": "display_data"
    },
    {
     "name": "stdout",
     "output_type": "stream",
     "text": [
      "   ✅ NDVI export completed: NDVI_2012_04.tif\n",
      "   📤 Preparing to export NIRv: NIRv_2012_04.tif\n"
     ]
    },
    {
     "data": {
      "application/vnd.jupyter.widget-view+json": {
       "model_id": "18b1fabab8184f56875e5a2cab5a68f9",
       "version_major": 2,
       "version_minor": 0
      },
      "text/plain": [
       "NIRv_2012_04.tif: |          | 0.00/3.64M (raw) [  0.0%] in 00:00 (eta:     ?)"
      ]
     },
     "metadata": {},
     "output_type": "display_data"
    },
    {
     "name": "stdout",
     "output_type": "stream",
     "text": [
      "   ✅ NIRv export completed: NIRv_2012_04.tif\n",
      "✅ 2012_04 successfully exported\n",
      "\n",
      "--- Processing 2012_05 ---\n",
      "    🛰️  Falling back to Landsat...\n",
      "      📅 Expanding time window ±7 days: 2012-04-24 to 2012-06-07\n",
      "      ✅ Found 2 images\n",
      "      🔧 Using relaxed masking mode (clouds only)\n",
      "      🔧 Using relaxed masking mode (clouds only)\n",
      "      🔧 Using relaxed masking mode (clouds only)\n",
      "   📤 Preparing to export NDVI: NDVI_2012_05.tif\n"
     ]
    },
    {
     "data": {
      "application/vnd.jupyter.widget-view+json": {
       "model_id": "1abc5ffc99894deb83dc5b51dd264524",
       "version_major": 2,
       "version_minor": 0
      },
      "text/plain": [
       "NDVI_2012_05.tif: |          | 0.00/1.82M (raw) [  0.0%] in 00:00 (eta:     ?)"
      ]
     },
     "metadata": {},
     "output_type": "display_data"
    },
    {
     "name": "stdout",
     "output_type": "stream",
     "text": [
      "   ✅ NDVI export completed: NDVI_2012_05.tif\n",
      "   📤 Preparing to export NIRv: NIRv_2012_05.tif\n"
     ]
    },
    {
     "data": {
      "application/vnd.jupyter.widget-view+json": {
       "model_id": "1dceeaa6ac1c44629f624afb63142105",
       "version_major": 2,
       "version_minor": 0
      },
      "text/plain": [
       "NIRv_2012_05.tif: |          | 0.00/3.64M (raw) [  0.0%] in 00:00 (eta:     ?)"
      ]
     },
     "metadata": {},
     "output_type": "display_data"
    },
    {
     "name": "stdout",
     "output_type": "stream",
     "text": [
      "   ✅ NIRv export completed: NIRv_2012_05.tif\n",
      "✅ 2012_05 successfully exported\n",
      "\n",
      "--- Processing 2012_06 ---\n",
      "    🛰️  Falling back to Landsat...\n",
      "      📅 Expanding time window ±5 days: 2012-05-27 to 2012-07-05\n",
      "      ✅ Found 1 images\n",
      "   📤 Preparing to export NDVI: NDVI_2012_06.tif\n"
     ]
    },
    {
     "data": {
      "application/vnd.jupyter.widget-view+json": {
       "model_id": "10933ea2b3eb469bbfbd46d8d8492d2f",
       "version_major": 2,
       "version_minor": 0
      },
      "text/plain": [
       "NDVI_2012_06.tif: |          | 0.00/1.82M (raw) [  0.0%] in 00:00 (eta:     ?)"
      ]
     },
     "metadata": {},
     "output_type": "display_data"
    },
    {
     "name": "stdout",
     "output_type": "stream",
     "text": [
      "   ✅ NDVI export completed: NDVI_2012_06.tif\n",
      "   📤 Preparing to export NIRv: NIRv_2012_06.tif\n"
     ]
    },
    {
     "data": {
      "application/vnd.jupyter.widget-view+json": {
       "model_id": "fdb4799683ab48a4a7a1242bcb0a2389",
       "version_major": 2,
       "version_minor": 0
      },
      "text/plain": [
       "NIRv_2012_06.tif: |          | 0.00/3.64M (raw) [  0.0%] in 00:00 (eta:     ?)"
      ]
     },
     "metadata": {},
     "output_type": "display_data"
    },
    {
     "name": "stdout",
     "output_type": "stream",
     "text": [
      "   ✅ NIRv export completed: NIRv_2012_06.tif\n",
      "✅ 2012_06 successfully exported\n",
      "\n",
      "--- Processing 2012_07 ---\n",
      "    🛰️  Falling back to Landsat...\n",
      "      📅 Expanding time window ±5 days: 2012-06-26 to 2012-08-05\n",
      "      ✅ Found 2 images\n",
      "   📤 Preparing to export NDVI: NDVI_2012_07.tif\n"
     ]
    },
    {
     "data": {
      "application/vnd.jupyter.widget-view+json": {
       "model_id": "befd1731035b457da391c2f78fa22fce",
       "version_major": 2,
       "version_minor": 0
      },
      "text/plain": [
       "NDVI_2012_07.tif: |          | 0.00/1.82M (raw) [  0.0%] in 00:00 (eta:     ?)"
      ]
     },
     "metadata": {},
     "output_type": "display_data"
    },
    {
     "name": "stdout",
     "output_type": "stream",
     "text": [
      "   ✅ NDVI export completed: NDVI_2012_07.tif\n",
      "   📤 Preparing to export NIRv: NIRv_2012_07.tif\n"
     ]
    },
    {
     "data": {
      "application/vnd.jupyter.widget-view+json": {
       "model_id": "66269cc364874fabb9720864d970a4cb",
       "version_major": 2,
       "version_minor": 0
      },
      "text/plain": [
       "NIRv_2012_07.tif: |          | 0.00/3.64M (raw) [  0.0%] in 00:00 (eta:     ?)"
      ]
     },
     "metadata": {},
     "output_type": "display_data"
    },
    {
     "name": "stdout",
     "output_type": "stream",
     "text": [
      "   ✅ NIRv export completed: NIRv_2012_07.tif\n",
      "✅ 2012_07 successfully exported\n",
      "\n",
      "--- Processing 2012_08 ---\n",
      "    🛰️  Falling back to Landsat...\n",
      "      📅 Expanding time window ±5 days: 2012-07-27 to 2012-09-05\n",
      "      ✅ Found 2 images\n",
      "   📤 Preparing to export NDVI: NDVI_2012_08.tif\n"
     ]
    },
    {
     "data": {
      "application/vnd.jupyter.widget-view+json": {
       "model_id": "3e69cee317f3499cbdb0da5c278af592",
       "version_major": 2,
       "version_minor": 0
      },
      "text/plain": [
       "NDVI_2012_08.tif: |          | 0.00/1.82M (raw) [  0.0%] in 00:00 (eta:     ?)"
      ]
     },
     "metadata": {},
     "output_type": "display_data"
    },
    {
     "name": "stdout",
     "output_type": "stream",
     "text": [
      "   ✅ NDVI export completed: NDVI_2012_08.tif\n",
      "   📤 Preparing to export NIRv: NIRv_2012_08.tif\n"
     ]
    },
    {
     "data": {
      "application/vnd.jupyter.widget-view+json": {
       "model_id": "4fb43780f3634b11a7c53a7cfc845da1",
       "version_major": 2,
       "version_minor": 0
      },
      "text/plain": [
       "NIRv_2012_08.tif: |          | 0.00/3.64M (raw) [  0.0%] in 00:00 (eta:     ?)"
      ]
     },
     "metadata": {},
     "output_type": "display_data"
    },
    {
     "name": "stdout",
     "output_type": "stream",
     "text": [
      "   ✅ NIRv export completed: NIRv_2012_08.tif\n",
      "✅ 2012_08 successfully exported\n",
      "\n",
      "--- Processing 2012_09 ---\n",
      "    🛰️  Falling back to Landsat...\n",
      "      📅 Expanding time window ±7 days: 2012-08-25 to 2012-10-07\n",
      "      ✅ Found 1 images\n",
      "      🔧 Using relaxed masking mode (clouds only)\n",
      "      🔧 Using relaxed masking mode (clouds only)\n",
      "      🔧 Using relaxed masking mode (clouds only)\n",
      "   📤 Preparing to export NDVI: NDVI_2012_09.tif\n"
     ]
    },
    {
     "data": {
      "application/vnd.jupyter.widget-view+json": {
       "model_id": "5af17aa56f414888b978da49ba23cbe4",
       "version_major": 2,
       "version_minor": 0
      },
      "text/plain": [
       "NDVI_2012_09.tif: |          | 0.00/1.82M (raw) [  0.0%] in 00:00 (eta:     ?)"
      ]
     },
     "metadata": {},
     "output_type": "display_data"
    },
    {
     "name": "stdout",
     "output_type": "stream",
     "text": [
      "   ✅ NDVI export completed: NDVI_2012_09.tif\n",
      "   📤 Preparing to export NIRv: NIRv_2012_09.tif\n"
     ]
    },
    {
     "data": {
      "application/vnd.jupyter.widget-view+json": {
       "model_id": "76aa922353f04d81b08e6f142d563a73",
       "version_major": 2,
       "version_minor": 0
      },
      "text/plain": [
       "NIRv_2012_09.tif: |          | 0.00/3.64M (raw) [  0.0%] in 00:00 (eta:     ?)"
      ]
     },
     "metadata": {},
     "output_type": "display_data"
    },
    {
     "name": "stdout",
     "output_type": "stream",
     "text": [
      "   ✅ NIRv export completed: NIRv_2012_09.tif\n",
      "✅ 2012_09 successfully exported\n",
      "\n",
      "--- Processing 2012_10 ---\n",
      "    🛰️  Falling back to Landsat...\n",
      "      📅 Expanding time window ±7 days: 2012-09-24 to 2012-11-07\n",
      "      ✅ Found 2 images\n",
      "      🔧 Using relaxed masking mode (clouds only)\n",
      "      🔧 Using relaxed masking mode (clouds only)\n",
      "      🔧 Using relaxed masking mode (clouds only)\n",
      "   📤 Preparing to export NDVI: NDVI_2012_10.tif\n"
     ]
    },
    {
     "data": {
      "application/vnd.jupyter.widget-view+json": {
       "model_id": "bd9bf21543ef4add9aff4a750a8dbb1b",
       "version_major": 2,
       "version_minor": 0
      },
      "text/plain": [
       "NDVI_2012_10.tif: |          | 0.00/1.82M (raw) [  0.0%] in 00:00 (eta:     ?)"
      ]
     },
     "metadata": {},
     "output_type": "display_data"
    },
    {
     "name": "stdout",
     "output_type": "stream",
     "text": [
      "   ✅ NDVI export completed: NDVI_2012_10.tif\n",
      "   📤 Preparing to export NIRv: NIRv_2012_10.tif\n"
     ]
    },
    {
     "data": {
      "application/vnd.jupyter.widget-view+json": {
       "model_id": "6961fe2f5dee4eb4a42eb9f534850c08",
       "version_major": 2,
       "version_minor": 0
      },
      "text/plain": [
       "NIRv_2012_10.tif: |          | 0.00/3.64M (raw) [  0.0%] in 00:00 (eta:     ?)"
      ]
     },
     "metadata": {},
     "output_type": "display_data"
    },
    {
     "name": "stdout",
     "output_type": "stream",
     "text": [
      "   ✅ NIRv export completed: NIRv_2012_10.tif\n",
      "✅ 2012_10 successfully exported\n",
      "\n",
      "--- Processing 2012_11 ---\n",
      "    🛰️  Falling back to Landsat...\n",
      "      📅 Expanding time window ±7 days: 2012-10-25 to 2012-12-07\n",
      "      ✅ Found 1 images\n",
      "      🔧 Using relaxed masking mode (clouds only)\n",
      "      🔧 Using relaxed masking mode (clouds only)\n",
      "      🔧 Using relaxed masking mode (clouds only)\n",
      "   📤 Preparing to export NDVI: NDVI_2012_11.tif\n"
     ]
    },
    {
     "data": {
      "application/vnd.jupyter.widget-view+json": {
       "model_id": "0eefe1b4097f4f95ac2bcb091ded799b",
       "version_major": 2,
       "version_minor": 0
      },
      "text/plain": [
       "NDVI_2012_11.tif: |          | 0.00/1.82M (raw) [  0.0%] in 00:00 (eta:     ?)"
      ]
     },
     "metadata": {},
     "output_type": "display_data"
    },
    {
     "name": "stdout",
     "output_type": "stream",
     "text": [
      "   ✅ NDVI export completed: NDVI_2012_11.tif\n",
      "   📤 Preparing to export NIRv: NIRv_2012_11.tif\n"
     ]
    },
    {
     "data": {
      "application/vnd.jupyter.widget-view+json": {
       "model_id": "e501457c3e8c414db3c66c876799420c",
       "version_major": 2,
       "version_minor": 0
      },
      "text/plain": [
       "NIRv_2012_11.tif: |          | 0.00/3.64M (raw) [  0.0%] in 00:00 (eta:     ?)"
      ]
     },
     "metadata": {},
     "output_type": "display_data"
    },
    {
     "name": "stdout",
     "output_type": "stream",
     "text": [
      "   ✅ NIRv export completed: NIRv_2012_11.tif\n",
      "✅ 2012_11 successfully exported\n",
      "\n",
      "--- Processing 2012_12 ---\n",
      "    🛰️  Falling back to Landsat...\n",
      "      📅 Expanding time window ±7 days: 2012-11-24 to 2013-01-07\n",
      "      ✅ Found 1 images\n",
      "      🔧 Using relaxed masking mode (clouds only)\n",
      "      🔧 Using relaxed masking mode (clouds only)\n",
      "      🔧 Using relaxed masking mode (clouds only)\n",
      "   📤 Preparing to export NDVI: NDVI_2012_12.tif\n"
     ]
    },
    {
     "data": {
      "application/vnd.jupyter.widget-view+json": {
       "model_id": "ffd1b495961740a5b0a7e6bc29e955d7",
       "version_major": 2,
       "version_minor": 0
      },
      "text/plain": [
       "NDVI_2012_12.tif: |          | 0.00/1.82M (raw) [  0.0%] in 00:00 (eta:     ?)"
      ]
     },
     "metadata": {},
     "output_type": "display_data"
    },
    {
     "name": "stdout",
     "output_type": "stream",
     "text": [
      "   ✅ NDVI export completed: NDVI_2012_12.tif\n",
      "   📤 Preparing to export NIRv: NIRv_2012_12.tif\n"
     ]
    },
    {
     "data": {
      "application/vnd.jupyter.widget-view+json": {
       "model_id": "dbd875ee30b14297bc3ae4f5d451807f",
       "version_major": 2,
       "version_minor": 0
      },
      "text/plain": [
       "NIRv_2012_12.tif: |          | 0.00/3.64M (raw) [  0.0%] in 00:00 (eta:     ?)"
      ]
     },
     "metadata": {},
     "output_type": "display_data"
    },
    {
     "name": "stdout",
     "output_type": "stream",
     "text": [
      "   ✅ NIRv export completed: NIRv_2012_12.tif\n",
      "✅ 2012_12 successfully exported\n",
      "\n",
      "--- Processing 2013_01 ---\n",
      "    🛰️  Falling back to Landsat...\n",
      "      📅 Expanding time window ±7 days: 2012-12-25 to 2013-02-07\n",
      "      ⚠️  Attempt 1: Only found 0 images\n",
      "      📅 Expanding time window ±15 days: 2012-12-17 to 2013-02-15\n",
      "      🚨 Using final threshold 99%\n",
      "      ⚠️  Attempt 2: Only found 0 images\n",
      "      📅 Expanding time window ±30 days: 2012-12-02 to 2013-03-02\n",
      "      🚨 Using final threshold 99%\n",
      "      ⚠️  Attempt 3: Only found 0 images\n",
      "      ❌ All attempts failed\n",
      "⏩ Skipping export for 2013_01: No valid data.\n",
      "\n",
      "--- Processing 2013_02 ---\n",
      "    🛰️  Falling back to Landsat...\n",
      "      📅 Expanding time window ±7 days: 2013-01-25 to 2013-03-07\n",
      "      ⚠️  Attempt 1: Only found 0 images\n",
      "      📅 Expanding time window ±15 days: 2013-01-17 to 2013-03-15\n",
      "      🚨 Using final threshold 99%\n",
      "      ⚠️  Attempt 2: Only found 0 images\n",
      "      📅 Expanding time window ±30 days: 2013-01-02 to 2013-03-30\n",
      "      🚨 Using final threshold 99%\n",
      "      ⚠️  Attempt 3: Only found 0 images\n",
      "      ❌ All attempts failed\n",
      "⏩ Skipping export for 2013_02: No valid data.\n",
      "\n",
      "--- Processing 2013_03 ---\n",
      "    🛰️  Falling back to Landsat...\n",
      "      📅 Expanding time window ±7 days: 2013-02-22 to 2013-04-07\n",
      "      ✅ Found 1 images\n",
      "      🔧 Using relaxed masking mode (clouds only)\n",
      "      🔧 Using relaxed masking mode (clouds only)\n",
      "      🔧 Using relaxed masking mode (clouds only)\n",
      "   📤 Preparing to export NDVI: NDVI_2013_03.tif\n"
     ]
    },
    {
     "data": {
      "application/vnd.jupyter.widget-view+json": {
       "model_id": "45732b8045c44391809f76d86657edfb",
       "version_major": 2,
       "version_minor": 0
      },
      "text/plain": [
       "NDVI_2013_03.tif: |          | 0.00/1.82M (raw) [  0.0%] in 00:00 (eta:     ?)"
      ]
     },
     "metadata": {},
     "output_type": "display_data"
    },
    {
     "name": "stdout",
     "output_type": "stream",
     "text": [
      "   ✅ NDVI export completed: NDVI_2013_03.tif\n",
      "   📤 Preparing to export NIRv: NIRv_2013_03.tif\n"
     ]
    },
    {
     "data": {
      "application/vnd.jupyter.widget-view+json": {
       "model_id": "09432b6b471a4ea7900d1c04daa22a8f",
       "version_major": 2,
       "version_minor": 0
      },
      "text/plain": [
       "NIRv_2013_03.tif: |          | 0.00/3.64M (raw) [  0.0%] in 00:00 (eta:     ?)"
      ]
     },
     "metadata": {},
     "output_type": "display_data"
    },
    {
     "name": "stdout",
     "output_type": "stream",
     "text": [
      "   ✅ NIRv export completed: NIRv_2013_03.tif\n",
      "✅ 2013_03 successfully exported\n",
      "\n",
      "--- Processing 2013_04 ---\n",
      "    🛰️  Falling back to Landsat...\n",
      "      📅 Expanding time window ±7 days: 2013-03-25 to 2013-05-07\n",
      "      ✅ Found 2 images\n",
      "      🔧 Using relaxed masking mode (clouds only)\n",
      "      🔧 Using relaxed masking mode (clouds only)\n",
      "      🔧 Using relaxed masking mode (clouds only)\n",
      "   📤 Preparing to export NDVI: NDVI_2013_04.tif\n"
     ]
    },
    {
     "data": {
      "application/vnd.jupyter.widget-view+json": {
       "model_id": "e91bd54e5f144ecd8393f181f031904f",
       "version_major": 2,
       "version_minor": 0
      },
      "text/plain": [
       "NDVI_2013_04.tif: |          | 0.00/1.82M (raw) [  0.0%] in 00:00 (eta:     ?)"
      ]
     },
     "metadata": {},
     "output_type": "display_data"
    },
    {
     "name": "stdout",
     "output_type": "stream",
     "text": [
      "   ✅ NDVI export completed: NDVI_2013_04.tif\n",
      "   📤 Preparing to export NIRv: NIRv_2013_04.tif\n"
     ]
    },
    {
     "data": {
      "application/vnd.jupyter.widget-view+json": {
       "model_id": "d1cea305cb9d463298b3282cd5c4d693",
       "version_major": 2,
       "version_minor": 0
      },
      "text/plain": [
       "NIRv_2013_04.tif: |          | 0.00/3.64M (raw) [  0.0%] in 00:00 (eta:     ?)"
      ]
     },
     "metadata": {},
     "output_type": "display_data"
    },
    {
     "name": "stdout",
     "output_type": "stream",
     "text": [
      "   ✅ NIRv export completed: NIRv_2013_04.tif\n",
      "✅ 2013_04 successfully exported\n",
      "\n",
      "--- Processing 2013_05 ---\n",
      "    🛰️  Falling back to Landsat...\n",
      "      📅 Expanding time window ±7 days: 2013-04-24 to 2013-06-07\n",
      "      ✅ Found 2 images\n",
      "      🔧 Using relaxed masking mode (clouds only)\n",
      "      🔧 Using relaxed masking mode (clouds only)\n",
      "      🔧 Using relaxed masking mode (clouds only)\n",
      "   📤 Preparing to export NDVI: NDVI_2013_05.tif\n"
     ]
    },
    {
     "data": {
      "application/vnd.jupyter.widget-view+json": {
       "model_id": "00fa1a95497e4f5188fd424396147282",
       "version_major": 2,
       "version_minor": 0
      },
      "text/plain": [
       "NDVI_2013_05.tif: |          | 0.00/1.82M (raw) [  0.0%] in 00:00 (eta:     ?)"
      ]
     },
     "metadata": {},
     "output_type": "display_data"
    },
    {
     "name": "stdout",
     "output_type": "stream",
     "text": [
      "   ✅ NDVI export completed: NDVI_2013_05.tif\n",
      "   📤 Preparing to export NIRv: NIRv_2013_05.tif\n"
     ]
    },
    {
     "data": {
      "application/vnd.jupyter.widget-view+json": {
       "model_id": "c914bbe0975441e382233943cc2be83a",
       "version_major": 2,
       "version_minor": 0
      },
      "text/plain": [
       "NIRv_2013_05.tif: |          | 0.00/3.64M (raw) [  0.0%] in 00:00 (eta:     ?)"
      ]
     },
     "metadata": {},
     "output_type": "display_data"
    },
    {
     "name": "stdout",
     "output_type": "stream",
     "text": [
      "   ✅ NIRv export completed: NIRv_2013_05.tif\n",
      "✅ 2013_05 successfully exported\n",
      "\n",
      "--- Processing 2013_06 ---\n",
      "    🛰️  Falling back to Landsat...\n",
      "      📅 Expanding time window ±5 days: 2013-05-27 to 2013-07-05\n",
      "      ✅ Found 2 images\n",
      "   📤 Preparing to export NDVI: NDVI_2013_06.tif\n"
     ]
    },
    {
     "data": {
      "application/vnd.jupyter.widget-view+json": {
       "model_id": "de520235c9f24881a3f9aef4e4539f31",
       "version_major": 2,
       "version_minor": 0
      },
      "text/plain": [
       "NDVI_2013_06.tif: |          | 0.00/1.82M (raw) [  0.0%] in 00:00 (eta:     ?)"
      ]
     },
     "metadata": {},
     "output_type": "display_data"
    },
    {
     "name": "stdout",
     "output_type": "stream",
     "text": [
      "   ✅ NDVI export completed: NDVI_2013_06.tif\n",
      "   📤 Preparing to export NIRv: NIRv_2013_06.tif\n"
     ]
    },
    {
     "data": {
      "application/vnd.jupyter.widget-view+json": {
       "model_id": "4a200563a21a4d99999dc3117e867bcd",
       "version_major": 2,
       "version_minor": 0
      },
      "text/plain": [
       "NIRv_2013_06.tif: |          | 0.00/3.64M (raw) [  0.0%] in 00:00 (eta:     ?)"
      ]
     },
     "metadata": {},
     "output_type": "display_data"
    },
    {
     "name": "stdout",
     "output_type": "stream",
     "text": [
      "   ✅ NIRv export completed: NIRv_2013_06.tif\n",
      "✅ 2013_06 successfully exported\n",
      "\n",
      "--- Processing 2013_07 ---\n",
      "    🛰️  Falling back to Landsat...\n",
      "      📅 Expanding time window ±5 days: 2013-06-26 to 2013-08-05\n",
      "      ✅ Found 1 images\n",
      "   📤 Preparing to export NDVI: NDVI_2013_07.tif\n"
     ]
    },
    {
     "data": {
      "application/vnd.jupyter.widget-view+json": {
       "model_id": "169bf258da5c414085f992c6071852fe",
       "version_major": 2,
       "version_minor": 0
      },
      "text/plain": [
       "NDVI_2013_07.tif: |          | 0.00/1.82M (raw) [  0.0%] in 00:00 (eta:     ?)"
      ]
     },
     "metadata": {},
     "output_type": "display_data"
    },
    {
     "name": "stdout",
     "output_type": "stream",
     "text": [
      "   ✅ NDVI export completed: NDVI_2013_07.tif\n",
      "   📤 Preparing to export NIRv: NIRv_2013_07.tif\n"
     ]
    },
    {
     "data": {
      "application/vnd.jupyter.widget-view+json": {
       "model_id": "2d25f6d3811c489181f75e3b7cdc9253",
       "version_major": 2,
       "version_minor": 0
      },
      "text/plain": [
       "NIRv_2013_07.tif: |          | 0.00/3.64M (raw) [  0.0%] in 00:00 (eta:     ?)"
      ]
     },
     "metadata": {},
     "output_type": "display_data"
    },
    {
     "name": "stdout",
     "output_type": "stream",
     "text": [
      "   ✅ NIRv export completed: NIRv_2013_07.tif\n",
      "✅ 2013_07 successfully exported\n",
      "\n",
      "--- Processing 2013_08 ---\n",
      "    🛰️  Falling back to Landsat...\n",
      "      📅 Expanding time window ±5 days: 2013-07-27 to 2013-09-05\n",
      "      ✅ Found 1 images\n",
      "   📤 Preparing to export NDVI: NDVI_2013_08.tif\n"
     ]
    },
    {
     "data": {
      "application/vnd.jupyter.widget-view+json": {
       "model_id": "5043eab78d504a07842f3960eadf30ec",
       "version_major": 2,
       "version_minor": 0
      },
      "text/plain": [
       "NDVI_2013_08.tif: |          | 0.00/1.82M (raw) [  0.0%] in 00:00 (eta:     ?)"
      ]
     },
     "metadata": {},
     "output_type": "display_data"
    },
    {
     "name": "stdout",
     "output_type": "stream",
     "text": [
      "   ✅ NDVI export completed: NDVI_2013_08.tif\n",
      "   📤 Preparing to export NIRv: NIRv_2013_08.tif\n"
     ]
    },
    {
     "data": {
      "application/vnd.jupyter.widget-view+json": {
       "model_id": "5f42019868654ff192ee6e001e552e0c",
       "version_major": 2,
       "version_minor": 0
      },
      "text/plain": [
       "NIRv_2013_08.tif: |          | 0.00/3.64M (raw) [  0.0%] in 00:00 (eta:     ?)"
      ]
     },
     "metadata": {},
     "output_type": "display_data"
    },
    {
     "name": "stdout",
     "output_type": "stream",
     "text": [
      "   ✅ NIRv export completed: NIRv_2013_08.tif\n",
      "✅ 2013_08 successfully exported\n",
      "\n",
      "--- Processing 2013_09 ---\n",
      "    🛰️  Falling back to Landsat...\n",
      "      📅 Expanding time window ±7 days: 2013-08-25 to 2013-10-07\n",
      "      ✅ Found 1 images\n",
      "      🔧 Using relaxed masking mode (clouds only)\n",
      "      🔧 Using relaxed masking mode (clouds only)\n",
      "      🔧 Using relaxed masking mode (clouds only)\n",
      "   📤 Preparing to export NDVI: NDVI_2013_09.tif\n"
     ]
    },
    {
     "data": {
      "application/vnd.jupyter.widget-view+json": {
       "model_id": "08545944de7d4bc9bf330a1cf3b3dbcb",
       "version_major": 2,
       "version_minor": 0
      },
      "text/plain": [
       "NDVI_2013_09.tif: |          | 0.00/1.82M (raw) [  0.0%] in 00:00 (eta:     ?)"
      ]
     },
     "metadata": {},
     "output_type": "display_data"
    },
    {
     "name": "stdout",
     "output_type": "stream",
     "text": [
      "   ✅ NDVI export completed: NDVI_2013_09.tif\n",
      "   📤 Preparing to export NIRv: NIRv_2013_09.tif\n"
     ]
    },
    {
     "data": {
      "application/vnd.jupyter.widget-view+json": {
       "model_id": "a6e7eaf641de4db0a1ec495dd0c12f16",
       "version_major": 2,
       "version_minor": 0
      },
      "text/plain": [
       "NIRv_2013_09.tif: |          | 0.00/3.64M (raw) [  0.0%] in 00:00 (eta:     ?)"
      ]
     },
     "metadata": {},
     "output_type": "display_data"
    },
    {
     "name": "stdout",
     "output_type": "stream",
     "text": [
      "   ✅ NIRv export completed: NIRv_2013_09.tif\n",
      "✅ 2013_09 successfully exported\n",
      "\n",
      "--- Processing 2013_10 ---\n",
      "    🛰️  Falling back to Landsat...\n",
      "      📅 Expanding time window ±7 days: 2013-09-24 to 2013-11-07\n",
      "      ✅ Found 1 images\n",
      "      🔧 Using relaxed masking mode (clouds only)\n",
      "      🔧 Using relaxed masking mode (clouds only)\n",
      "      🔧 Using relaxed masking mode (clouds only)\n",
      "   📤 Preparing to export NDVI: NDVI_2013_10.tif\n"
     ]
    },
    {
     "data": {
      "application/vnd.jupyter.widget-view+json": {
       "model_id": "576bc33e9ee44c1d8fe645eb553525c8",
       "version_major": 2,
       "version_minor": 0
      },
      "text/plain": [
       "NDVI_2013_10.tif: |          | 0.00/1.82M (raw) [  0.0%] in 00:00 (eta:     ?)"
      ]
     },
     "metadata": {},
     "output_type": "display_data"
    },
    {
     "name": "stdout",
     "output_type": "stream",
     "text": [
      "   ✅ NDVI export completed: NDVI_2013_10.tif\n",
      "   📤 Preparing to export NIRv: NIRv_2013_10.tif\n"
     ]
    },
    {
     "data": {
      "application/vnd.jupyter.widget-view+json": {
       "model_id": "ec48067ab65048e3a54bac36bbb70666",
       "version_major": 2,
       "version_minor": 0
      },
      "text/plain": [
       "NIRv_2013_10.tif: |          | 0.00/3.64M (raw) [  0.0%] in 00:00 (eta:     ?)"
      ]
     },
     "metadata": {},
     "output_type": "display_data"
    },
    {
     "name": "stdout",
     "output_type": "stream",
     "text": [
      "   ✅ NIRv export completed: NIRv_2013_10.tif\n",
      "✅ 2013_10 successfully exported\n",
      "\n",
      "--- Processing 2013_11 ---\n",
      "    🛰️  Falling back to Landsat...\n",
      "      📅 Expanding time window ±7 days: 2013-10-25 to 2013-12-07\n",
      "      ✅ Found 3 images\n",
      "      🔧 Using relaxed masking mode (clouds only)\n",
      "      🔧 Using relaxed masking mode (clouds only)\n",
      "      🔧 Using relaxed masking mode (clouds only)\n",
      "   📤 Preparing to export NDVI: NDVI_2013_11.tif\n"
     ]
    },
    {
     "data": {
      "application/vnd.jupyter.widget-view+json": {
       "model_id": "21cf991f1b5a4cbc86525c4b611f03cf",
       "version_major": 2,
       "version_minor": 0
      },
      "text/plain": [
       "NDVI_2013_11.tif: |          | 0.00/1.82M (raw) [  0.0%] in 00:00 (eta:     ?)"
      ]
     },
     "metadata": {},
     "output_type": "display_data"
    },
    {
     "name": "stdout",
     "output_type": "stream",
     "text": [
      "   ✅ NDVI export completed: NDVI_2013_11.tif\n",
      "   📤 Preparing to export NIRv: NIRv_2013_11.tif\n"
     ]
    },
    {
     "data": {
      "application/vnd.jupyter.widget-view+json": {
       "model_id": "5ae949c9ecb84cadbf56a5aef4e91230",
       "version_major": 2,
       "version_minor": 0
      },
      "text/plain": [
       "NIRv_2013_11.tif: |          | 0.00/3.64M (raw) [  0.0%] in 00:00 (eta:     ?)"
      ]
     },
     "metadata": {},
     "output_type": "display_data"
    },
    {
     "name": "stdout",
     "output_type": "stream",
     "text": [
      "   ✅ NIRv export completed: NIRv_2013_11.tif\n",
      "✅ 2013_11 successfully exported\n",
      "\n",
      "--- Processing 2013_12 ---\n",
      "    🛰️  Falling back to Landsat...\n",
      "      📅 Expanding time window ±7 days: 2013-11-24 to 2014-01-07\n",
      "      ✅ Found 1 images\n",
      "      🔧 Using relaxed masking mode (clouds only)\n",
      "      🔧 Using relaxed masking mode (clouds only)\n",
      "      🔧 Using relaxed masking mode (clouds only)\n",
      "   📤 Preparing to export NDVI: NDVI_2013_12.tif\n"
     ]
    },
    {
     "data": {
      "application/vnd.jupyter.widget-view+json": {
       "model_id": "04b5c6da4cda4462af9ff48e91e69dbf",
       "version_major": 2,
       "version_minor": 0
      },
      "text/plain": [
       "NDVI_2013_12.tif: |          | 0.00/1.82M (raw) [  0.0%] in 00:00 (eta:     ?)"
      ]
     },
     "metadata": {},
     "output_type": "display_data"
    },
    {
     "name": "stdout",
     "output_type": "stream",
     "text": [
      "   ✅ NDVI export completed: NDVI_2013_12.tif\n",
      "   📤 Preparing to export NIRv: NIRv_2013_12.tif\n"
     ]
    },
    {
     "data": {
      "application/vnd.jupyter.widget-view+json": {
       "model_id": "e8b13522d6b440be98e52c462a903abd",
       "version_major": 2,
       "version_minor": 0
      },
      "text/plain": [
       "NIRv_2013_12.tif: |          | 0.00/3.64M (raw) [  0.0%] in 00:00 (eta:     ?)"
      ]
     },
     "metadata": {},
     "output_type": "display_data"
    },
    {
     "name": "stdout",
     "output_type": "stream",
     "text": [
      "   ✅ NIRv export completed: NIRv_2013_12.tif\n",
      "✅ 2013_12 successfully exported\n",
      "\n",
      "--- Processing 2014_01 ---\n",
      "    🛰️  Falling back to Landsat...\n",
      "      📅 Expanding time window ±7 days: 2013-12-25 to 2014-02-07\n",
      "      ✅ Found 1 images\n",
      "      🔧 Using relaxed masking mode (clouds only)\n",
      "      🔧 Using relaxed masking mode (clouds only)\n",
      "      🔧 Using relaxed masking mode (clouds only)\n",
      "   📤 Preparing to export NDVI: NDVI_2014_01.tif\n"
     ]
    },
    {
     "data": {
      "application/vnd.jupyter.widget-view+json": {
       "model_id": "3106a91a745442e28c88922c24bd4062",
       "version_major": 2,
       "version_minor": 0
      },
      "text/plain": [
       "NDVI_2014_01.tif: |          | 0.00/1.82M (raw) [  0.0%] in 00:00 (eta:     ?)"
      ]
     },
     "metadata": {},
     "output_type": "display_data"
    },
    {
     "name": "stdout",
     "output_type": "stream",
     "text": [
      "   ✅ NDVI export completed: NDVI_2014_01.tif\n",
      "   📤 Preparing to export NIRv: NIRv_2014_01.tif\n"
     ]
    },
    {
     "data": {
      "application/vnd.jupyter.widget-view+json": {
       "model_id": "df4311cd4c664bb586a96ccf80d5c087",
       "version_major": 2,
       "version_minor": 0
      },
      "text/plain": [
       "NIRv_2014_01.tif: |          | 0.00/3.64M (raw) [  0.0%] in 00:00 (eta:     ?)"
      ]
     },
     "metadata": {},
     "output_type": "display_data"
    },
    {
     "name": "stdout",
     "output_type": "stream",
     "text": [
      "   ✅ NIRv export completed: NIRv_2014_01.tif\n",
      "✅ 2014_01 successfully exported\n",
      "\n",
      "--- Processing 2014_02 ---\n",
      "    🛰️  Falling back to Landsat...\n",
      "      📅 Expanding time window ±7 days: 2014-01-25 to 2014-03-07\n",
      "      ✅ Found 2 images\n",
      "      🔧 Using relaxed masking mode (clouds only)\n",
      "      🔧 Using relaxed masking mode (clouds only)\n",
      "      🔧 Using relaxed masking mode (clouds only)\n",
      "   📤 Preparing to export NDVI: NDVI_2014_02.tif\n"
     ]
    },
    {
     "data": {
      "application/vnd.jupyter.widget-view+json": {
       "model_id": "10b9f9264d1c4ef9a8b00e97c9dcfcd3",
       "version_major": 2,
       "version_minor": 0
      },
      "text/plain": [
       "NDVI_2014_02.tif: |          | 0.00/1.82M (raw) [  0.0%] in 00:00 (eta:     ?)"
      ]
     },
     "metadata": {},
     "output_type": "display_data"
    },
    {
     "name": "stdout",
     "output_type": "stream",
     "text": [
      "   ✅ NDVI export completed: NDVI_2014_02.tif\n",
      "   📤 Preparing to export NIRv: NIRv_2014_02.tif\n"
     ]
    },
    {
     "data": {
      "application/vnd.jupyter.widget-view+json": {
       "model_id": "a7d4dddc3b454c7c8af3bcb21b0e10e4",
       "version_major": 2,
       "version_minor": 0
      },
      "text/plain": [
       "NIRv_2014_02.tif: |          | 0.00/3.64M (raw) [  0.0%] in 00:00 (eta:     ?)"
      ]
     },
     "metadata": {},
     "output_type": "display_data"
    },
    {
     "name": "stdout",
     "output_type": "stream",
     "text": [
      "   ✅ NIRv export completed: NIRv_2014_02.tif\n",
      "✅ 2014_02 successfully exported\n",
      "\n",
      "--- Processing 2014_03 ---\n",
      "    🛰️  Falling back to Landsat...\n",
      "      📅 Expanding time window ±7 days: 2014-02-22 to 2014-04-07\n",
      "      ✅ Found 4 images\n",
      "      🔧 Using relaxed masking mode (clouds only)\n",
      "      🔧 Using relaxed masking mode (clouds only)\n",
      "      🔧 Using relaxed masking mode (clouds only)\n",
      "   📤 Preparing to export NDVI: NDVI_2014_03.tif\n"
     ]
    },
    {
     "data": {
      "application/vnd.jupyter.widget-view+json": {
       "model_id": "71746d356f97449bbb02f48ed37f188f",
       "version_major": 2,
       "version_minor": 0
      },
      "text/plain": [
       "NDVI_2014_03.tif: |          | 0.00/1.82M (raw) [  0.0%] in 00:00 (eta:     ?)"
      ]
     },
     "metadata": {},
     "output_type": "display_data"
    },
    {
     "name": "stdout",
     "output_type": "stream",
     "text": [
      "   ✅ NDVI export completed: NDVI_2014_03.tif\n",
      "   📤 Preparing to export NIRv: NIRv_2014_03.tif\n"
     ]
    },
    {
     "data": {
      "application/vnd.jupyter.widget-view+json": {
       "model_id": "116bcd81c8c94ae19a33cdd3e93183c0",
       "version_major": 2,
       "version_minor": 0
      },
      "text/plain": [
       "NIRv_2014_03.tif: |          | 0.00/3.64M (raw) [  0.0%] in 00:00 (eta:     ?)"
      ]
     },
     "metadata": {},
     "output_type": "display_data"
    },
    {
     "name": "stdout",
     "output_type": "stream",
     "text": [
      "   ✅ NIRv export completed: NIRv_2014_03.tif\n",
      "✅ 2014_03 successfully exported\n",
      "\n",
      "--- Processing 2014_04 ---\n",
      "    🛰️  Falling back to Landsat...\n",
      "      📅 Expanding time window ±7 days: 2014-03-25 to 2014-05-07\n",
      "      ✅ Found 3 images\n",
      "      🔧 Using relaxed masking mode (clouds only)\n",
      "      🔧 Using relaxed masking mode (clouds only)\n",
      "      🔧 Using relaxed masking mode (clouds only)\n",
      "   📤 Preparing to export NDVI: NDVI_2014_04.tif\n"
     ]
    },
    {
     "data": {
      "application/vnd.jupyter.widget-view+json": {
       "model_id": "c4c5fcb34dbf402f80e38b48ff7d917e",
       "version_major": 2,
       "version_minor": 0
      },
      "text/plain": [
       "NDVI_2014_04.tif: |          | 0.00/1.82M (raw) [  0.0%] in 00:00 (eta:     ?)"
      ]
     },
     "metadata": {},
     "output_type": "display_data"
    },
    {
     "name": "stdout",
     "output_type": "stream",
     "text": [
      "   ✅ NDVI export completed: NDVI_2014_04.tif\n",
      "   📤 Preparing to export NIRv: NIRv_2014_04.tif\n"
     ]
    },
    {
     "data": {
      "application/vnd.jupyter.widget-view+json": {
       "model_id": "69178ac5db13438c8a4c617323e7c620",
       "version_major": 2,
       "version_minor": 0
      },
      "text/plain": [
       "NIRv_2014_04.tif: |          | 0.00/3.64M (raw) [  0.0%] in 00:00 (eta:     ?)"
      ]
     },
     "metadata": {},
     "output_type": "display_data"
    },
    {
     "name": "stdout",
     "output_type": "stream",
     "text": [
      "   ✅ NIRv export completed: NIRv_2014_04.tif\n",
      "✅ 2014_04 successfully exported\n",
      "\n",
      "--- Processing 2014_05 ---\n",
      "    🛰️  Falling back to Landsat...\n",
      "      📅 Expanding time window ±7 days: 2014-04-24 to 2014-06-07\n",
      "      ✅ Found 1 images\n",
      "      🔧 Using relaxed masking mode (clouds only)\n",
      "      🔧 Using relaxed masking mode (clouds only)\n",
      "      🔧 Using relaxed masking mode (clouds only)\n",
      "   📤 Preparing to export NDVI: NDVI_2014_05.tif\n"
     ]
    },
    {
     "data": {
      "application/vnd.jupyter.widget-view+json": {
       "model_id": "36e47d1405394e76982190a63dee4c55",
       "version_major": 2,
       "version_minor": 0
      },
      "text/plain": [
       "NDVI_2014_05.tif: |          | 0.00/1.82M (raw) [  0.0%] in 00:00 (eta:     ?)"
      ]
     },
     "metadata": {},
     "output_type": "display_data"
    },
    {
     "name": "stdout",
     "output_type": "stream",
     "text": [
      "   ✅ NDVI export completed: NDVI_2014_05.tif\n",
      "   📤 Preparing to export NIRv: NIRv_2014_05.tif\n"
     ]
    },
    {
     "data": {
      "application/vnd.jupyter.widget-view+json": {
       "model_id": "de49cab174254cec81e6169518b9795d",
       "version_major": 2,
       "version_minor": 0
      },
      "text/plain": [
       "NIRv_2014_05.tif: |          | 0.00/3.64M (raw) [  0.0%] in 00:00 (eta:     ?)"
      ]
     },
     "metadata": {},
     "output_type": "display_data"
    },
    {
     "name": "stdout",
     "output_type": "stream",
     "text": [
      "   ✅ NIRv export completed: NIRv_2014_05.tif\n",
      "✅ 2014_05 successfully exported\n",
      "\n",
      "--- Processing 2014_06 ---\n",
      "    🛰️  Falling back to Landsat...\n",
      "      📅 Expanding time window ±5 days: 2014-05-27 to 2014-07-05\n",
      "      ✅ Found 2 images\n",
      "   📤 Preparing to export NDVI: NDVI_2014_06.tif\n"
     ]
    },
    {
     "data": {
      "application/vnd.jupyter.widget-view+json": {
       "model_id": "8a6bd203de09450c898f320d6171ec6c",
       "version_major": 2,
       "version_minor": 0
      },
      "text/plain": [
       "NDVI_2014_06.tif: |          | 0.00/1.82M (raw) [  0.0%] in 00:00 (eta:     ?)"
      ]
     },
     "metadata": {},
     "output_type": "display_data"
    },
    {
     "name": "stdout",
     "output_type": "stream",
     "text": [
      "   ✅ NDVI export completed: NDVI_2014_06.tif\n",
      "   📤 Preparing to export NIRv: NIRv_2014_06.tif\n"
     ]
    },
    {
     "data": {
      "application/vnd.jupyter.widget-view+json": {
       "model_id": "59799a27742746c190fd0177e8460d91",
       "version_major": 2,
       "version_minor": 0
      },
      "text/plain": [
       "NIRv_2014_06.tif: |          | 0.00/3.64M (raw) [  0.0%] in 00:00 (eta:     ?)"
      ]
     },
     "metadata": {},
     "output_type": "display_data"
    },
    {
     "name": "stdout",
     "output_type": "stream",
     "text": [
      "   ✅ NIRv export completed: NIRv_2014_06.tif\n",
      "✅ 2014_06 successfully exported\n",
      "\n",
      "--- Processing 2014_07 ---\n",
      "    🛰️  Falling back to Landsat...\n",
      "      📅 Expanding time window ±5 days: 2014-06-26 to 2014-08-05\n",
      "      ✅ Found 2 images\n",
      "   📤 Preparing to export NDVI: NDVI_2014_07.tif\n"
     ]
    },
    {
     "data": {
      "application/vnd.jupyter.widget-view+json": {
       "model_id": "2e03015cd69e452faea2944eaaeae97a",
       "version_major": 2,
       "version_minor": 0
      },
      "text/plain": [
       "NDVI_2014_07.tif: |          | 0.00/1.82M (raw) [  0.0%] in 00:00 (eta:     ?)"
      ]
     },
     "metadata": {},
     "output_type": "display_data"
    },
    {
     "name": "stdout",
     "output_type": "stream",
     "text": [
      "   ✅ NDVI export completed: NDVI_2014_07.tif\n",
      "   📤 Preparing to export NIRv: NIRv_2014_07.tif\n"
     ]
    },
    {
     "data": {
      "application/vnd.jupyter.widget-view+json": {
       "model_id": "31b5e9c96181488aa6578023a81bfee6",
       "version_major": 2,
       "version_minor": 0
      },
      "text/plain": [
       "NIRv_2014_07.tif: |          | 0.00/3.64M (raw) [  0.0%] in 00:00 (eta:     ?)"
      ]
     },
     "metadata": {},
     "output_type": "display_data"
    },
    {
     "name": "stdout",
     "output_type": "stream",
     "text": [
      "   ✅ NIRv export completed: NIRv_2014_07.tif\n",
      "✅ 2014_07 successfully exported\n",
      "\n",
      "--- Processing 2014_08 ---\n",
      "    🛰️  Falling back to Landsat...\n",
      "      📅 Expanding time window ±5 days: 2014-07-27 to 2014-09-05\n",
      "      ✅ Found 1 images\n",
      "   📤 Preparing to export NDVI: NDVI_2014_08.tif\n"
     ]
    },
    {
     "data": {
      "application/vnd.jupyter.widget-view+json": {
       "model_id": "708ad714249c40d38f409969b25a7fd0",
       "version_major": 2,
       "version_minor": 0
      },
      "text/plain": [
       "NDVI_2014_08.tif: |          | 0.00/1.82M (raw) [  0.0%] in 00:00 (eta:     ?)"
      ]
     },
     "metadata": {},
     "output_type": "display_data"
    },
    {
     "name": "stdout",
     "output_type": "stream",
     "text": [
      "   ✅ NDVI export completed: NDVI_2014_08.tif\n",
      "   📤 Preparing to export NIRv: NIRv_2014_08.tif\n"
     ]
    },
    {
     "data": {
      "application/vnd.jupyter.widget-view+json": {
       "model_id": "6ba863c6aa30405eb37922c6f61e0f09",
       "version_major": 2,
       "version_minor": 0
      },
      "text/plain": [
       "NIRv_2014_08.tif: |          | 0.00/3.64M (raw) [  0.0%] in 00:00 (eta:     ?)"
      ]
     },
     "metadata": {},
     "output_type": "display_data"
    },
    {
     "name": "stdout",
     "output_type": "stream",
     "text": [
      "   ✅ NIRv export completed: NIRv_2014_08.tif\n",
      "✅ 2014_08 successfully exported\n",
      "\n",
      "--- Processing 2014_09 ---\n",
      "    🛰️  Falling back to Landsat...\n",
      "      📅 Expanding time window ±7 days: 2014-08-25 to 2014-10-07\n",
      "      ✅ Found 2 images\n",
      "      🔧 Using relaxed masking mode (clouds only)\n",
      "      🔧 Using relaxed masking mode (clouds only)\n",
      "      🔧 Using relaxed masking mode (clouds only)\n",
      "   📤 Preparing to export NDVI: NDVI_2014_09.tif\n"
     ]
    },
    {
     "data": {
      "application/vnd.jupyter.widget-view+json": {
       "model_id": "d195194b7d1f4ae59d5d48a3f8b4a6c4",
       "version_major": 2,
       "version_minor": 0
      },
      "text/plain": [
       "NDVI_2014_09.tif: |          | 0.00/1.82M (raw) [  0.0%] in 00:00 (eta:     ?)"
      ]
     },
     "metadata": {},
     "output_type": "display_data"
    },
    {
     "name": "stdout",
     "output_type": "stream",
     "text": [
      "   ✅ NDVI export completed: NDVI_2014_09.tif\n",
      "   📤 Preparing to export NIRv: NIRv_2014_09.tif\n"
     ]
    },
    {
     "data": {
      "application/vnd.jupyter.widget-view+json": {
       "model_id": "862883ae0f2648bb884d7b102b2e5e59",
       "version_major": 2,
       "version_minor": 0
      },
      "text/plain": [
       "NIRv_2014_09.tif: |          | 0.00/3.64M (raw) [  0.0%] in 00:00 (eta:     ?)"
      ]
     },
     "metadata": {},
     "output_type": "display_data"
    },
    {
     "name": "stdout",
     "output_type": "stream",
     "text": [
      "   ✅ NIRv export completed: NIRv_2014_09.tif\n",
      "✅ 2014_09 successfully exported\n",
      "\n",
      "--- Processing 2014_10 ---\n",
      "    🛰️  Falling back to Landsat...\n",
      "      📅 Expanding time window ±7 days: 2014-09-24 to 2014-11-07\n",
      "      ✅ Found 1 images\n",
      "      🔧 Using relaxed masking mode (clouds only)\n",
      "      🔧 Using relaxed masking mode (clouds only)\n",
      "      🔧 Using relaxed masking mode (clouds only)\n",
      "   📤 Preparing to export NDVI: NDVI_2014_10.tif\n"
     ]
    },
    {
     "data": {
      "application/vnd.jupyter.widget-view+json": {
       "model_id": "0fff31670d6c41bcaa60f6bb5182eab8",
       "version_major": 2,
       "version_minor": 0
      },
      "text/plain": [
       "NDVI_2014_10.tif: |          | 0.00/1.82M (raw) [  0.0%] in 00:00 (eta:     ?)"
      ]
     },
     "metadata": {},
     "output_type": "display_data"
    },
    {
     "name": "stdout",
     "output_type": "stream",
     "text": [
      "   ✅ NDVI export completed: NDVI_2014_10.tif\n",
      "   📤 Preparing to export NIRv: NIRv_2014_10.tif\n"
     ]
    },
    {
     "data": {
      "application/vnd.jupyter.widget-view+json": {
       "model_id": "ae90dc8240a9462087608a96be1732e3",
       "version_major": 2,
       "version_minor": 0
      },
      "text/plain": [
       "NIRv_2014_10.tif: |          | 0.00/3.64M (raw) [  0.0%] in 00:00 (eta:     ?)"
      ]
     },
     "metadata": {},
     "output_type": "display_data"
    },
    {
     "name": "stdout",
     "output_type": "stream",
     "text": [
      "   ✅ NIRv export completed: NIRv_2014_10.tif\n",
      "✅ 2014_10 successfully exported\n",
      "\n",
      "--- Processing 2014_11 ---\n",
      "    🛰️  Falling back to Landsat...\n",
      "      📅 Expanding time window ±7 days: 2014-10-25 to 2014-12-07\n",
      "      ✅ Found 5 images\n",
      "      🔧 Using relaxed masking mode (clouds only)\n",
      "      🔧 Using relaxed masking mode (clouds only)\n",
      "      🔧 Using relaxed masking mode (clouds only)\n",
      "   📤 Preparing to export NDVI: NDVI_2014_11.tif\n"
     ]
    },
    {
     "data": {
      "application/vnd.jupyter.widget-view+json": {
       "model_id": "5e9df5e16bc544ad8ca299e8ec98f347",
       "version_major": 2,
       "version_minor": 0
      },
      "text/plain": [
       "NDVI_2014_11.tif: |          | 0.00/1.82M (raw) [  0.0%] in 00:00 (eta:     ?)"
      ]
     },
     "metadata": {},
     "output_type": "display_data"
    },
    {
     "name": "stdout",
     "output_type": "stream",
     "text": [
      "   ✅ NDVI export completed: NDVI_2014_11.tif\n",
      "   📤 Preparing to export NIRv: NIRv_2014_11.tif\n"
     ]
    },
    {
     "data": {
      "application/vnd.jupyter.widget-view+json": {
       "model_id": "6b0a8df4333e4c41a7b2554457bfa8f5",
       "version_major": 2,
       "version_minor": 0
      },
      "text/plain": [
       "NIRv_2014_11.tif: |          | 0.00/3.64M (raw) [  0.0%] in 00:00 (eta:     ?)"
      ]
     },
     "metadata": {},
     "output_type": "display_data"
    },
    {
     "name": "stdout",
     "output_type": "stream",
     "text": [
      "   ✅ NIRv export completed: NIRv_2014_11.tif\n",
      "✅ 2014_11 successfully exported\n",
      "\n",
      "--- Processing 2014_12 ---\n",
      "    🛰️  Falling back to Landsat...\n",
      "      📅 Expanding time window ±7 days: 2014-11-24 to 2015-01-07\n",
      "      ✅ Found 1 images\n",
      "      🔧 Using relaxed masking mode (clouds only)\n",
      "      🔧 Using relaxed masking mode (clouds only)\n",
      "      🔧 Using relaxed masking mode (clouds only)\n",
      "   📤 Preparing to export NDVI: NDVI_2014_12.tif\n"
     ]
    },
    {
     "data": {
      "application/vnd.jupyter.widget-view+json": {
       "model_id": "26d0662ea50b4492ad9020bcacf4ea7f",
       "version_major": 2,
       "version_minor": 0
      },
      "text/plain": [
       "NDVI_2014_12.tif: |          | 0.00/1.82M (raw) [  0.0%] in 00:00 (eta:     ?)"
      ]
     },
     "metadata": {},
     "output_type": "display_data"
    },
    {
     "name": "stdout",
     "output_type": "stream",
     "text": [
      "   ✅ NDVI export completed: NDVI_2014_12.tif\n",
      "   📤 Preparing to export NIRv: NIRv_2014_12.tif\n"
     ]
    },
    {
     "data": {
      "application/vnd.jupyter.widget-view+json": {
       "model_id": "ede4b53dd94447529471cc85c5347fee",
       "version_major": 2,
       "version_minor": 0
      },
      "text/plain": [
       "NIRv_2014_12.tif: |          | 0.00/3.64M (raw) [  0.0%] in 00:00 (eta:     ?)"
      ]
     },
     "metadata": {},
     "output_type": "display_data"
    },
    {
     "name": "stdout",
     "output_type": "stream",
     "text": [
      "   ✅ NIRv export completed: NIRv_2014_12.tif\n",
      "✅ 2014_12 successfully exported\n",
      "\n",
      "--- Processing 2015_01 ---\n",
      "    🛰️  Falling back to Landsat...\n",
      "      📅 Expanding time window ±7 days: 2014-12-25 to 2015-02-07\n",
      "      ✅ Found 1 images\n",
      "      🔧 Using relaxed masking mode (clouds only)\n",
      "      🔧 Using relaxed masking mode (clouds only)\n",
      "      🔧 Using relaxed masking mode (clouds only)\n",
      "   📤 Preparing to export NDVI: NDVI_2015_01.tif\n"
     ]
    },
    {
     "data": {
      "application/vnd.jupyter.widget-view+json": {
       "model_id": "8f7d2bca229848c2998fd2e2d331367b",
       "version_major": 2,
       "version_minor": 0
      },
      "text/plain": [
       "NDVI_2015_01.tif: |          | 0.00/1.82M (raw) [  0.0%] in 00:00 (eta:     ?)"
      ]
     },
     "metadata": {},
     "output_type": "display_data"
    },
    {
     "name": "stdout",
     "output_type": "stream",
     "text": [
      "   ✅ NDVI export completed: NDVI_2015_01.tif\n",
      "   📤 Preparing to export NIRv: NIRv_2015_01.tif\n"
     ]
    },
    {
     "data": {
      "application/vnd.jupyter.widget-view+json": {
       "model_id": "0a6576aa877348af9d22b69a7bf2b5a5",
       "version_major": 2,
       "version_minor": 0
      },
      "text/plain": [
       "NIRv_2015_01.tif: |          | 0.00/3.64M (raw) [  0.0%] in 00:00 (eta:     ?)"
      ]
     },
     "metadata": {},
     "output_type": "display_data"
    },
    {
     "name": "stdout",
     "output_type": "stream",
     "text": [
      "   ✅ NIRv export completed: NIRv_2015_01.tif\n",
      "✅ 2015_01 successfully exported\n",
      "\n",
      "--- Processing 2015_02 ---\n",
      "    🛰️  Falling back to Landsat...\n",
      "      📅 Expanding time window ±7 days: 2015-01-25 to 2015-03-07\n",
      "      ✅ Found 3 images\n",
      "      🔧 Using relaxed masking mode (clouds only)\n",
      "      🔧 Using relaxed masking mode (clouds only)\n",
      "      🔧 Using relaxed masking mode (clouds only)\n",
      "   📤 Preparing to export NDVI: NDVI_2015_02.tif\n"
     ]
    },
    {
     "data": {
      "application/vnd.jupyter.widget-view+json": {
       "model_id": "a513e132fff24342a602089e052bd80a",
       "version_major": 2,
       "version_minor": 0
      },
      "text/plain": [
       "NDVI_2015_02.tif: |          | 0.00/1.82M (raw) [  0.0%] in 00:00 (eta:     ?)"
      ]
     },
     "metadata": {},
     "output_type": "display_data"
    },
    {
     "name": "stdout",
     "output_type": "stream",
     "text": [
      "   ✅ NDVI export completed: NDVI_2015_02.tif\n",
      "   📤 Preparing to export NIRv: NIRv_2015_02.tif\n"
     ]
    },
    {
     "data": {
      "application/vnd.jupyter.widget-view+json": {
       "model_id": "cff5b631e5eb4561ae879db8f45e1d72",
       "version_major": 2,
       "version_minor": 0
      },
      "text/plain": [
       "NIRv_2015_02.tif: |          | 0.00/3.64M (raw) [  0.0%] in 00:00 (eta:     ?)"
      ]
     },
     "metadata": {},
     "output_type": "display_data"
    },
    {
     "name": "stdout",
     "output_type": "stream",
     "text": [
      "   ✅ NIRv export completed: NIRv_2015_02.tif\n",
      "✅ 2015_02 successfully exported\n",
      "\n",
      "--- Processing 2015_03 ---\n",
      "    🛰️  Falling back to Landsat...\n",
      "      📅 Expanding time window ±7 days: 2015-02-22 to 2015-04-07\n",
      "      ✅ Found 1 images\n",
      "      🔧 Using relaxed masking mode (clouds only)\n",
      "      🔧 Using relaxed masking mode (clouds only)\n",
      "      🔧 Using relaxed masking mode (clouds only)\n",
      "   📤 Preparing to export NDVI: NDVI_2015_03.tif\n"
     ]
    },
    {
     "data": {
      "application/vnd.jupyter.widget-view+json": {
       "model_id": "5adacbdf48d74a9199421b2813bf0bdb",
       "version_major": 2,
       "version_minor": 0
      },
      "text/plain": [
       "NDVI_2015_03.tif: |          | 0.00/1.82M (raw) [  0.0%] in 00:00 (eta:     ?)"
      ]
     },
     "metadata": {},
     "output_type": "display_data"
    },
    {
     "name": "stdout",
     "output_type": "stream",
     "text": [
      "   ✅ NDVI export completed: NDVI_2015_03.tif\n",
      "   📤 Preparing to export NIRv: NIRv_2015_03.tif\n"
     ]
    },
    {
     "data": {
      "application/vnd.jupyter.widget-view+json": {
       "model_id": "b6482d864fd0418e92735d63d2d3dc41",
       "version_major": 2,
       "version_minor": 0
      },
      "text/plain": [
       "NIRv_2015_03.tif: |          | 0.00/3.64M (raw) [  0.0%] in 00:00 (eta:     ?)"
      ]
     },
     "metadata": {},
     "output_type": "display_data"
    },
    {
     "name": "stdout",
     "output_type": "stream",
     "text": [
      "   ✅ NIRv export completed: NIRv_2015_03.tif\n",
      "✅ 2015_03 successfully exported\n",
      "\n",
      "--- Processing 2015_04 ---\n",
      "    🛰️  Falling back to Landsat...\n",
      "      📅 Expanding time window ±7 days: 2015-03-25 to 2015-05-07\n",
      "      ✅ Found 2 images\n",
      "      🔧 Using relaxed masking mode (clouds only)\n",
      "      🔧 Using relaxed masking mode (clouds only)\n",
      "      🔧 Using relaxed masking mode (clouds only)\n",
      "   📤 Preparing to export NDVI: NDVI_2015_04.tif\n"
     ]
    },
    {
     "data": {
      "application/vnd.jupyter.widget-view+json": {
       "model_id": "3fbe6ebab1304a0d8dc7104d59cfd096",
       "version_major": 2,
       "version_minor": 0
      },
      "text/plain": [
       "NDVI_2015_04.tif: |          | 0.00/1.82M (raw) [  0.0%] in 00:00 (eta:     ?)"
      ]
     },
     "metadata": {},
     "output_type": "display_data"
    },
    {
     "name": "stdout",
     "output_type": "stream",
     "text": [
      "   ✅ NDVI export completed: NDVI_2015_04.tif\n",
      "   📤 Preparing to export NIRv: NIRv_2015_04.tif\n"
     ]
    },
    {
     "data": {
      "application/vnd.jupyter.widget-view+json": {
       "model_id": "01577ffcecb1414f8d43078796e84d7f",
       "version_major": 2,
       "version_minor": 0
      },
      "text/plain": [
       "NIRv_2015_04.tif: |          | 0.00/3.64M (raw) [  0.0%] in 00:00 (eta:     ?)"
      ]
     },
     "metadata": {},
     "output_type": "display_data"
    },
    {
     "name": "stdout",
     "output_type": "stream",
     "text": [
      "   ✅ NIRv export completed: NIRv_2015_04.tif\n",
      "✅ 2015_04 successfully exported\n",
      "\n",
      "--- Processing 2015_05 ---\n",
      "    🛰️  Falling back to Landsat...\n",
      "      📅 Expanding time window ±7 days: 2015-04-24 to 2015-06-07\n",
      "      ✅ Found 1 images\n",
      "      🔧 Using relaxed masking mode (clouds only)\n",
      "      🔧 Using relaxed masking mode (clouds only)\n",
      "      🔧 Using relaxed masking mode (clouds only)\n",
      "   📤 Preparing to export NDVI: NDVI_2015_05.tif\n"
     ]
    },
    {
     "data": {
      "application/vnd.jupyter.widget-view+json": {
       "model_id": "dd6d38b42ee041578ca3bf09f3889182",
       "version_major": 2,
       "version_minor": 0
      },
      "text/plain": [
       "NDVI_2015_05.tif: |          | 0.00/1.82M (raw) [  0.0%] in 00:00 (eta:     ?)"
      ]
     },
     "metadata": {},
     "output_type": "display_data"
    },
    {
     "name": "stdout",
     "output_type": "stream",
     "text": [
      "   ✅ NDVI export completed: NDVI_2015_05.tif\n",
      "   📤 Preparing to export NIRv: NIRv_2015_05.tif\n"
     ]
    },
    {
     "data": {
      "application/vnd.jupyter.widget-view+json": {
       "model_id": "7a1d946500e74338a005eeb977049e8b",
       "version_major": 2,
       "version_minor": 0
      },
      "text/plain": [
       "NIRv_2015_05.tif: |          | 0.00/3.64M (raw) [  0.0%] in 00:00 (eta:     ?)"
      ]
     },
     "metadata": {},
     "output_type": "display_data"
    },
    {
     "name": "stdout",
     "output_type": "stream",
     "text": [
      "   ✅ NIRv export completed: NIRv_2015_05.tif\n",
      "✅ 2015_05 successfully exported\n",
      "\n",
      "--- Processing 2015_06 ---\n",
      "    🛰️  Falling back to Landsat...\n",
      "      📅 Expanding time window ±5 days: 2015-05-27 to 2015-07-05\n",
      "      ✅ Found 2 images\n",
      "   📤 Preparing to export NDVI: NDVI_2015_06.tif\n"
     ]
    },
    {
     "data": {
      "application/vnd.jupyter.widget-view+json": {
       "model_id": "53cd389d2bba4e9ca10f3defce768dbd",
       "version_major": 2,
       "version_minor": 0
      },
      "text/plain": [
       "NDVI_2015_06.tif: |          | 0.00/1.82M (raw) [  0.0%] in 00:00 (eta:     ?)"
      ]
     },
     "metadata": {},
     "output_type": "display_data"
    },
    {
     "name": "stdout",
     "output_type": "stream",
     "text": [
      "   ✅ NDVI export completed: NDVI_2015_06.tif\n",
      "   📤 Preparing to export NIRv: NIRv_2015_06.tif\n"
     ]
    },
    {
     "data": {
      "application/vnd.jupyter.widget-view+json": {
       "model_id": "36c27c4763854d848a9f06891a8bfc8d",
       "version_major": 2,
       "version_minor": 0
      },
      "text/plain": [
       "NIRv_2015_06.tif: |          | 0.00/3.64M (raw) [  0.0%] in 00:00 (eta:     ?)"
      ]
     },
     "metadata": {},
     "output_type": "display_data"
    },
    {
     "name": "stdout",
     "output_type": "stream",
     "text": [
      "   ✅ NIRv export completed: NIRv_2015_06.tif\n",
      "✅ 2015_06 successfully exported\n",
      "\n",
      "--- Processing 2015_07 ---\n",
      "    🛰️  Falling back to Landsat...\n",
      "      📅 Expanding time window ±5 days: 2015-06-26 to 2015-08-05\n",
      "      ✅ Found 3 images\n",
      "   📤 Preparing to export NDVI: NDVI_2015_07.tif\n"
     ]
    },
    {
     "data": {
      "application/vnd.jupyter.widget-view+json": {
       "model_id": "4c0378421ae041ad92dda335c98a01f8",
       "version_major": 2,
       "version_minor": 0
      },
      "text/plain": [
       "NDVI_2015_07.tif: |          | 0.00/1.82M (raw) [  0.0%] in 00:00 (eta:     ?)"
      ]
     },
     "metadata": {},
     "output_type": "display_data"
    },
    {
     "name": "stdout",
     "output_type": "stream",
     "text": [
      "   ✅ NDVI export completed: NDVI_2015_07.tif\n",
      "   📤 Preparing to export NIRv: NIRv_2015_07.tif\n"
     ]
    },
    {
     "data": {
      "application/vnd.jupyter.widget-view+json": {
       "model_id": "46f8b155fdd94276ab85cb5302754f7f",
       "version_major": 2,
       "version_minor": 0
      },
      "text/plain": [
       "NIRv_2015_07.tif: |          | 0.00/3.64M (raw) [  0.0%] in 00:00 (eta:     ?)"
      ]
     },
     "metadata": {},
     "output_type": "display_data"
    },
    {
     "name": "stdout",
     "output_type": "stream",
     "text": [
      "   ✅ NIRv export completed: NIRv_2015_07.tif\n",
      "✅ 2015_07 successfully exported\n",
      "\n",
      "--- Processing 2015_08 ---\n",
      "    🛰️  Falling back to Landsat...\n",
      "      📅 Expanding time window ±5 days: 2015-07-27 to 2015-09-05\n",
      "      ✅ Found 1 images\n",
      "   📤 Preparing to export NDVI: NDVI_2015_08.tif\n"
     ]
    },
    {
     "data": {
      "application/vnd.jupyter.widget-view+json": {
       "model_id": "c0adf52a7c484d0cab046a683479ca24",
       "version_major": 2,
       "version_minor": 0
      },
      "text/plain": [
       "NDVI_2015_08.tif: |          | 0.00/1.82M (raw) [  0.0%] in 00:00 (eta:     ?)"
      ]
     },
     "metadata": {},
     "output_type": "display_data"
    },
    {
     "name": "stdout",
     "output_type": "stream",
     "text": [
      "   ✅ NDVI export completed: NDVI_2015_08.tif\n",
      "   📤 Preparing to export NIRv: NIRv_2015_08.tif\n"
     ]
    },
    {
     "data": {
      "application/vnd.jupyter.widget-view+json": {
       "model_id": "4393466da0e54eab8085880bc66f1fe7",
       "version_major": 2,
       "version_minor": 0
      },
      "text/plain": [
       "NIRv_2015_08.tif: |          | 0.00/3.64M (raw) [  0.0%] in 00:00 (eta:     ?)"
      ]
     },
     "metadata": {},
     "output_type": "display_data"
    },
    {
     "name": "stdout",
     "output_type": "stream",
     "text": [
      "   ✅ NIRv export completed: NIRv_2015_08.tif\n",
      "✅ 2015_08 successfully exported\n",
      "\n",
      "--- Processing 2015_09 ---\n",
      "    🛰️  Falling back to Landsat...\n",
      "      📅 Expanding time window ±7 days: 2015-08-25 to 2015-10-07\n",
      "      ✅ Found 1 images\n",
      "      🔧 Using relaxed masking mode (clouds only)\n",
      "      🔧 Using relaxed masking mode (clouds only)\n",
      "      🔧 Using relaxed masking mode (clouds only)\n",
      "   📤 Preparing to export NDVI: NDVI_2015_09.tif\n"
     ]
    },
    {
     "data": {
      "application/vnd.jupyter.widget-view+json": {
       "model_id": "757efb662e2545999aa455bc32e68d5e",
       "version_major": 2,
       "version_minor": 0
      },
      "text/plain": [
       "NDVI_2015_09.tif: |          | 0.00/1.82M (raw) [  0.0%] in 00:00 (eta:     ?)"
      ]
     },
     "metadata": {},
     "output_type": "display_data"
    },
    {
     "name": "stdout",
     "output_type": "stream",
     "text": [
      "   ✅ NDVI export completed: NDVI_2015_09.tif\n",
      "   📤 Preparing to export NIRv: NIRv_2015_09.tif\n"
     ]
    },
    {
     "data": {
      "application/vnd.jupyter.widget-view+json": {
       "model_id": "c44023838e004655a258b8fc28a49b79",
       "version_major": 2,
       "version_minor": 0
      },
      "text/plain": [
       "NIRv_2015_09.tif: |          | 0.00/3.64M (raw) [  0.0%] in 00:00 (eta:     ?)"
      ]
     },
     "metadata": {},
     "output_type": "display_data"
    },
    {
     "name": "stdout",
     "output_type": "stream",
     "text": [
      "   ✅ NIRv export completed: NIRv_2015_09.tif\n",
      "✅ 2015_09 successfully exported\n",
      "\n",
      "--- Processing 2015_10 ---\n",
      "    🛰️  Falling back to Landsat...\n",
      "      📅 Expanding time window ±7 days: 2015-09-24 to 2015-11-07\n",
      "      ✅ Found 2 images\n",
      "      🔧 Using relaxed masking mode (clouds only)\n",
      "      🔧 Using relaxed masking mode (clouds only)\n",
      "      🔧 Using relaxed masking mode (clouds only)\n",
      "   📤 Preparing to export NDVI: NDVI_2015_10.tif\n"
     ]
    },
    {
     "data": {
      "application/vnd.jupyter.widget-view+json": {
       "model_id": "b9d200c2b4924a3eb52d40cddab81080",
       "version_major": 2,
       "version_minor": 0
      },
      "text/plain": [
       "NDVI_2015_10.tif: |          | 0.00/1.82M (raw) [  0.0%] in 00:00 (eta:     ?)"
      ]
     },
     "metadata": {},
     "output_type": "display_data"
    },
    {
     "name": "stdout",
     "output_type": "stream",
     "text": [
      "   ✅ NDVI export completed: NDVI_2015_10.tif\n",
      "   📤 Preparing to export NIRv: NIRv_2015_10.tif\n"
     ]
    },
    {
     "data": {
      "application/vnd.jupyter.widget-view+json": {
       "model_id": "23c5aa1157fc45549f33c7a47b5ed80d",
       "version_major": 2,
       "version_minor": 0
      },
      "text/plain": [
       "NIRv_2015_10.tif: |          | 0.00/3.64M (raw) [  0.0%] in 00:00 (eta:     ?)"
      ]
     },
     "metadata": {},
     "output_type": "display_data"
    },
    {
     "name": "stdout",
     "output_type": "stream",
     "text": [
      "   ✅ NIRv export completed: NIRv_2015_10.tif\n",
      "✅ 2015_10 successfully exported\n",
      "\n",
      "--- Processing 2015_11 ---\n",
      "    🛰️  Falling back to Landsat...\n",
      "      📅 Expanding time window ±7 days: 2015-10-25 to 2015-12-07\n",
      "      ✅ Found 2 images\n",
      "      🔧 Using relaxed masking mode (clouds only)\n",
      "      🔧 Using relaxed masking mode (clouds only)\n",
      "      🔧 Using relaxed masking mode (clouds only)\n",
      "   📤 Preparing to export NDVI: NDVI_2015_11.tif\n"
     ]
    },
    {
     "data": {
      "application/vnd.jupyter.widget-view+json": {
       "model_id": "f9bb64aa2ec4437da49b4826be69862e",
       "version_major": 2,
       "version_minor": 0
      },
      "text/plain": [
       "NDVI_2015_11.tif: |          | 0.00/1.82M (raw) [  0.0%] in 00:00 (eta:     ?)"
      ]
     },
     "metadata": {},
     "output_type": "display_data"
    },
    {
     "name": "stdout",
     "output_type": "stream",
     "text": [
      "   ✅ NDVI export completed: NDVI_2015_11.tif\n",
      "   📤 Preparing to export NIRv: NIRv_2015_11.tif\n"
     ]
    },
    {
     "data": {
      "application/vnd.jupyter.widget-view+json": {
       "model_id": "4b355a9415ec4266936fe25f9140708b",
       "version_major": 2,
       "version_minor": 0
      },
      "text/plain": [
       "NIRv_2015_11.tif: |          | 0.00/3.64M (raw) [  0.0%] in 00:00 (eta:     ?)"
      ]
     },
     "metadata": {},
     "output_type": "display_data"
    },
    {
     "name": "stdout",
     "output_type": "stream",
     "text": [
      "   ✅ NIRv export completed: NIRv_2015_11.tif\n",
      "✅ 2015_11 successfully exported\n",
      "\n",
      "--- Processing 2015_12 ---\n",
      "    🛰️  Falling back to Landsat...\n",
      "      📅 Expanding time window ±7 days: 2015-11-24 to 2016-01-07\n",
      "      ✅ Found 1 images\n",
      "      🔧 Using relaxed masking mode (clouds only)\n",
      "      🔧 Using relaxed masking mode (clouds only)\n",
      "      🔧 Using relaxed masking mode (clouds only)\n",
      "   📤 Preparing to export NDVI: NDVI_2015_12.tif\n"
     ]
    },
    {
     "data": {
      "application/vnd.jupyter.widget-view+json": {
       "model_id": "7e24a1e06c484d6eb03b4f23e71afb64",
       "version_major": 2,
       "version_minor": 0
      },
      "text/plain": [
       "NDVI_2015_12.tif: |          | 0.00/1.82M (raw) [  0.0%] in 00:00 (eta:     ?)"
      ]
     },
     "metadata": {},
     "output_type": "display_data"
    },
    {
     "name": "stdout",
     "output_type": "stream",
     "text": [
      "   ✅ NDVI export completed: NDVI_2015_12.tif\n",
      "   📤 Preparing to export NIRv: NIRv_2015_12.tif\n"
     ]
    },
    {
     "data": {
      "application/vnd.jupyter.widget-view+json": {
       "model_id": "c9276411730a4ff1ad6805da10a8dc32",
       "version_major": 2,
       "version_minor": 0
      },
      "text/plain": [
       "NIRv_2015_12.tif: |          | 0.00/3.64M (raw) [  0.0%] in 00:00 (eta:     ?)"
      ]
     },
     "metadata": {},
     "output_type": "display_data"
    },
    {
     "name": "stdout",
     "output_type": "stream",
     "text": [
      "   ✅ NIRv export completed: NIRv_2015_12.tif\n",
      "✅ 2015_12 successfully exported\n",
      "\n",
      "--- Processing 2016_01 ---\n",
      "    🛰️  Falling back to Landsat...\n",
      "      📅 Expanding time window ±7 days: 2015-12-25 to 2016-02-07\n",
      "      ✅ Found 2 images\n",
      "      🔧 Using relaxed masking mode (clouds only)\n",
      "      🔧 Using relaxed masking mode (clouds only)\n",
      "      🔧 Using relaxed masking mode (clouds only)\n",
      "   📤 Preparing to export NDVI: NDVI_2016_01.tif\n"
     ]
    },
    {
     "data": {
      "application/vnd.jupyter.widget-view+json": {
       "model_id": "01dbac3298a54ea5a5357a32d604c917",
       "version_major": 2,
       "version_minor": 0
      },
      "text/plain": [
       "NDVI_2016_01.tif: |          | 0.00/1.82M (raw) [  0.0%] in 00:00 (eta:     ?)"
      ]
     },
     "metadata": {},
     "output_type": "display_data"
    },
    {
     "name": "stdout",
     "output_type": "stream",
     "text": [
      "   ✅ NDVI export completed: NDVI_2016_01.tif\n",
      "   📤 Preparing to export NIRv: NIRv_2016_01.tif\n"
     ]
    },
    {
     "data": {
      "application/vnd.jupyter.widget-view+json": {
       "model_id": "c6dc51f52df048e7a58c3aa754919f68",
       "version_major": 2,
       "version_minor": 0
      },
      "text/plain": [
       "NIRv_2016_01.tif: |          | 0.00/3.64M (raw) [  0.0%] in 00:00 (eta:     ?)"
      ]
     },
     "metadata": {},
     "output_type": "display_data"
    },
    {
     "name": "stdout",
     "output_type": "stream",
     "text": [
      "   ✅ NIRv export completed: NIRv_2016_01.tif\n",
      "✅ 2016_01 successfully exported\n",
      "\n",
      "--- Processing 2016_02 ---\n",
      "    🛰️  Falling back to Landsat...\n",
      "      📅 Expanding time window ±7 days: 2016-01-25 to 2016-03-07\n",
      "      ✅ Found 1 images\n",
      "      🔧 Using relaxed masking mode (clouds only)\n",
      "      🔧 Using relaxed masking mode (clouds only)\n",
      "      🔧 Using relaxed masking mode (clouds only)\n",
      "   📤 Preparing to export NDVI: NDVI_2016_02.tif\n"
     ]
    },
    {
     "data": {
      "application/vnd.jupyter.widget-view+json": {
       "model_id": "3fb760e505c644ca9497d08f162a3cda",
       "version_major": 2,
       "version_minor": 0
      },
      "text/plain": [
       "NDVI_2016_02.tif: |          | 0.00/1.82M (raw) [  0.0%] in 00:00 (eta:     ?)"
      ]
     },
     "metadata": {},
     "output_type": "display_data"
    },
    {
     "name": "stdout",
     "output_type": "stream",
     "text": [
      "   ✅ NDVI export completed: NDVI_2016_02.tif\n",
      "   📤 Preparing to export NIRv: NIRv_2016_02.tif\n"
     ]
    },
    {
     "data": {
      "application/vnd.jupyter.widget-view+json": {
       "model_id": "6ccfa0e453094ce681c25c54cf300f9d",
       "version_major": 2,
       "version_minor": 0
      },
      "text/plain": [
       "NIRv_2016_02.tif: |          | 0.00/3.64M (raw) [  0.0%] in 00:00 (eta:     ?)"
      ]
     },
     "metadata": {},
     "output_type": "display_data"
    },
    {
     "name": "stdout",
     "output_type": "stream",
     "text": [
      "   ✅ NIRv export completed: NIRv_2016_02.tif\n",
      "✅ 2016_02 successfully exported\n",
      "\n",
      "--- Processing 2016_03 ---\n",
      "    🛰️  Falling back to Landsat...\n",
      "      📅 Expanding time window ±7 days: 2016-02-23 to 2016-04-07\n",
      "      ✅ Found 2 images\n",
      "      🔧 Using relaxed masking mode (clouds only)\n",
      "      🔧 Using relaxed masking mode (clouds only)\n",
      "      🔧 Using relaxed masking mode (clouds only)\n",
      "   📤 Preparing to export NDVI: NDVI_2016_03.tif\n"
     ]
    },
    {
     "data": {
      "application/vnd.jupyter.widget-view+json": {
       "model_id": "a92f8685d1514ac5a2c1d06cf44d0508",
       "version_major": 2,
       "version_minor": 0
      },
      "text/plain": [
       "NDVI_2016_03.tif: |          | 0.00/1.82M (raw) [  0.0%] in 00:00 (eta:     ?)"
      ]
     },
     "metadata": {},
     "output_type": "display_data"
    },
    {
     "name": "stdout",
     "output_type": "stream",
     "text": [
      "   ✅ NDVI export completed: NDVI_2016_03.tif\n",
      "   📤 Preparing to export NIRv: NIRv_2016_03.tif\n"
     ]
    },
    {
     "data": {
      "application/vnd.jupyter.widget-view+json": {
       "model_id": "182b89cb42324509ae69f026596be3b7",
       "version_major": 2,
       "version_minor": 0
      },
      "text/plain": [
       "NIRv_2016_03.tif: |          | 0.00/3.64M (raw) [  0.0%] in 00:00 (eta:     ?)"
      ]
     },
     "metadata": {},
     "output_type": "display_data"
    },
    {
     "name": "stdout",
     "output_type": "stream",
     "text": [
      "   ✅ NIRv export completed: NIRv_2016_03.tif\n",
      "✅ 2016_03 successfully exported\n",
      "\n",
      "--- Processing 2016_04 ---\n",
      "    🛰️  Falling back to Landsat...\n",
      "      📅 Expanding time window ±7 days: 2016-03-25 to 2016-05-07\n",
      "      ✅ Found 1 images\n",
      "      🔧 Using relaxed masking mode (clouds only)\n",
      "      🔧 Using relaxed masking mode (clouds only)\n",
      "      🔧 Using relaxed masking mode (clouds only)\n",
      "   📤 Preparing to export NDVI: NDVI_2016_04.tif\n"
     ]
    },
    {
     "data": {
      "application/vnd.jupyter.widget-view+json": {
       "model_id": "0986607aebfe4f9d941df7f273abc66f",
       "version_major": 2,
       "version_minor": 0
      },
      "text/plain": [
       "NDVI_2016_04.tif: |          | 0.00/1.82M (raw) [  0.0%] in 00:00 (eta:     ?)"
      ]
     },
     "metadata": {},
     "output_type": "display_data"
    },
    {
     "name": "stdout",
     "output_type": "stream",
     "text": [
      "   ✅ NDVI export completed: NDVI_2016_04.tif\n",
      "   📤 Preparing to export NIRv: NIRv_2016_04.tif\n"
     ]
    },
    {
     "data": {
      "application/vnd.jupyter.widget-view+json": {
       "model_id": "c84c9d2bfd1847acadee233ac38940ad",
       "version_major": 2,
       "version_minor": 0
      },
      "text/plain": [
       "NIRv_2016_04.tif: |          | 0.00/3.64M (raw) [  0.0%] in 00:00 (eta:     ?)"
      ]
     },
     "metadata": {},
     "output_type": "display_data"
    },
    {
     "name": "stdout",
     "output_type": "stream",
     "text": [
      "   ✅ NIRv export completed: NIRv_2016_04.tif\n",
      "✅ 2016_04 successfully exported\n",
      "\n",
      "--- Processing 2016_05 ---\n",
      "    🛰️  Falling back to Landsat...\n",
      "      📅 Expanding time window ±7 days: 2016-04-24 to 2016-06-07\n",
      "      ✅ Found 1 images\n",
      "      🔧 Using relaxed masking mode (clouds only)\n",
      "      🔧 Using relaxed masking mode (clouds only)\n",
      "      🔧 Using relaxed masking mode (clouds only)\n",
      "   📤 Preparing to export NDVI: NDVI_2016_05.tif\n"
     ]
    },
    {
     "data": {
      "application/vnd.jupyter.widget-view+json": {
       "model_id": "7d8ae144d9b24dbfadfd103432570db1",
       "version_major": 2,
       "version_minor": 0
      },
      "text/plain": [
       "NDVI_2016_05.tif: |          | 0.00/1.82M (raw) [  0.0%] in 00:00 (eta:     ?)"
      ]
     },
     "metadata": {},
     "output_type": "display_data"
    },
    {
     "name": "stdout",
     "output_type": "stream",
     "text": [
      "   ✅ NDVI export completed: NDVI_2016_05.tif\n",
      "   📤 Preparing to export NIRv: NIRv_2016_05.tif\n"
     ]
    },
    {
     "data": {
      "application/vnd.jupyter.widget-view+json": {
       "model_id": "e8aaeecaf749482ebcefc713e5ed937a",
       "version_major": 2,
       "version_minor": 0
      },
      "text/plain": [
       "NIRv_2016_05.tif: |          | 0.00/3.64M (raw) [  0.0%] in 00:00 (eta:     ?)"
      ]
     },
     "metadata": {},
     "output_type": "display_data"
    },
    {
     "name": "stdout",
     "output_type": "stream",
     "text": [
      "   ✅ NIRv export completed: NIRv_2016_05.tif\n",
      "✅ 2016_05 successfully exported\n",
      "\n",
      "--- Processing 2016_06 ---\n",
      "    🛰️  Falling back to Landsat...\n",
      "      📅 Expanding time window ±5 days: 2016-05-27 to 2016-07-05\n",
      "      ✅ Found 1 images\n",
      "   📤 Preparing to export NDVI: NDVI_2016_06.tif\n"
     ]
    },
    {
     "data": {
      "application/vnd.jupyter.widget-view+json": {
       "model_id": "f547fda947ce43899216f3e24ffbfb3d",
       "version_major": 2,
       "version_minor": 0
      },
      "text/plain": [
       "NDVI_2016_06.tif: |          | 0.00/1.82M (raw) [  0.0%] in 00:00 (eta:     ?)"
      ]
     },
     "metadata": {},
     "output_type": "display_data"
    },
    {
     "name": "stdout",
     "output_type": "stream",
     "text": [
      "   ✅ NDVI export completed: NDVI_2016_06.tif\n",
      "   📤 Preparing to export NIRv: NIRv_2016_06.tif\n"
     ]
    },
    {
     "data": {
      "application/vnd.jupyter.widget-view+json": {
       "model_id": "1084f0fc604f4013ae7e80d4a0cbb2b9",
       "version_major": 2,
       "version_minor": 0
      },
      "text/plain": [
       "NIRv_2016_06.tif: |          | 0.00/3.64M (raw) [  0.0%] in 00:00 (eta:     ?)"
      ]
     },
     "metadata": {},
     "output_type": "display_data"
    },
    {
     "name": "stdout",
     "output_type": "stream",
     "text": [
      "   ✅ NIRv export completed: NIRv_2016_06.tif\n",
      "✅ 2016_06 successfully exported\n",
      "\n",
      "--- Processing 2016_07 ---\n",
      "    🛰️  Falling back to Landsat...\n",
      "      📅 Expanding time window ±5 days: 2016-06-26 to 2016-08-05\n",
      "      ✅ Found 1 images\n",
      "   📤 Preparing to export NDVI: NDVI_2016_07.tif\n"
     ]
    },
    {
     "data": {
      "application/vnd.jupyter.widget-view+json": {
       "model_id": "5d2c645f0e0842d4bfd139dc9d0e2447",
       "version_major": 2,
       "version_minor": 0
      },
      "text/plain": [
       "NDVI_2016_07.tif: |          | 0.00/1.82M (raw) [  0.0%] in 00:00 (eta:     ?)"
      ]
     },
     "metadata": {},
     "output_type": "display_data"
    },
    {
     "name": "stdout",
     "output_type": "stream",
     "text": [
      "   ✅ NDVI export completed: NDVI_2016_07.tif\n",
      "   📤 Preparing to export NIRv: NIRv_2016_07.tif\n"
     ]
    },
    {
     "data": {
      "application/vnd.jupyter.widget-view+json": {
       "model_id": "b99c7ab2c1bd47f1804abb110a839b10",
       "version_major": 2,
       "version_minor": 0
      },
      "text/plain": [
       "NIRv_2016_07.tif: |          | 0.00/3.64M (raw) [  0.0%] in 00:00 (eta:     ?)"
      ]
     },
     "metadata": {},
     "output_type": "display_data"
    },
    {
     "name": "stdout",
     "output_type": "stream",
     "text": [
      "   ✅ NIRv export completed: NIRv_2016_07.tif\n",
      "✅ 2016_07 successfully exported\n",
      "\n",
      "--- Processing 2016_08 ---\n",
      "    🛰️  Falling back to Landsat...\n",
      "      📅 Expanding time window ±5 days: 2016-07-27 to 2016-09-05\n",
      "      ✅ Found 1 images\n",
      "   📤 Preparing to export NDVI: NDVI_2016_08.tif\n"
     ]
    },
    {
     "data": {
      "application/vnd.jupyter.widget-view+json": {
       "model_id": "f277bda4c20d462b9c71ad6931979e1b",
       "version_major": 2,
       "version_minor": 0
      },
      "text/plain": [
       "NDVI_2016_08.tif: |          | 0.00/1.82M (raw) [  0.0%] in 00:00 (eta:     ?)"
      ]
     },
     "metadata": {},
     "output_type": "display_data"
    },
    {
     "name": "stdout",
     "output_type": "stream",
     "text": [
      "   ✅ NDVI export completed: NDVI_2016_08.tif\n",
      "   📤 Preparing to export NIRv: NIRv_2016_08.tif\n"
     ]
    },
    {
     "data": {
      "application/vnd.jupyter.widget-view+json": {
       "model_id": "5f9cc58e4ac14cbf8c3e8217da811864",
       "version_major": 2,
       "version_minor": 0
      },
      "text/plain": [
       "NIRv_2016_08.tif: |          | 0.00/3.64M (raw) [  0.0%] in 00:00 (eta:     ?)"
      ]
     },
     "metadata": {},
     "output_type": "display_data"
    },
    {
     "name": "stdout",
     "output_type": "stream",
     "text": [
      "   ✅ NIRv export completed: NIRv_2016_08.tif\n",
      "✅ 2016_08 successfully exported\n",
      "\n",
      "--- Processing 2016_09 ---\n",
      "    🛰️  Falling back to Landsat...\n",
      "      📅 Expanding time window ±7 days: 2016-08-25 to 2016-10-07\n",
      "      ✅ Found 2 images\n",
      "      🔧 Using relaxed masking mode (clouds only)\n",
      "      🔧 Using relaxed masking mode (clouds only)\n",
      "      🔧 Using relaxed masking mode (clouds only)\n",
      "   📤 Preparing to export NDVI: NDVI_2016_09.tif\n"
     ]
    },
    {
     "data": {
      "application/vnd.jupyter.widget-view+json": {
       "model_id": "96a9432b7b1f467abcafd7d5caee893d",
       "version_major": 2,
       "version_minor": 0
      },
      "text/plain": [
       "NDVI_2016_09.tif: |          | 0.00/1.82M (raw) [  0.0%] in 00:00 (eta:     ?)"
      ]
     },
     "metadata": {},
     "output_type": "display_data"
    },
    {
     "name": "stdout",
     "output_type": "stream",
     "text": [
      "   ✅ NDVI export completed: NDVI_2016_09.tif\n",
      "   📤 Preparing to export NIRv: NIRv_2016_09.tif\n"
     ]
    },
    {
     "data": {
      "application/vnd.jupyter.widget-view+json": {
       "model_id": "882053791ac047dc8502b14d8ca31425",
       "version_major": 2,
       "version_minor": 0
      },
      "text/plain": [
       "NIRv_2016_09.tif: |          | 0.00/3.64M (raw) [  0.0%] in 00:00 (eta:     ?)"
      ]
     },
     "metadata": {},
     "output_type": "display_data"
    },
    {
     "name": "stdout",
     "output_type": "stream",
     "text": [
      "   ✅ NIRv export completed: NIRv_2016_09.tif\n",
      "✅ 2016_09 successfully exported\n",
      "\n",
      "--- Processing 2016_10 ---\n",
      "    🛰️  Falling back to Landsat...\n",
      "      📅 Expanding time window ±7 days: 2016-09-24 to 2016-11-07\n",
      "      ✅ Found 3 images\n",
      "      🔧 Using relaxed masking mode (clouds only)\n",
      "      🔧 Using relaxed masking mode (clouds only)\n",
      "      🔧 Using relaxed masking mode (clouds only)\n",
      "   📤 Preparing to export NDVI: NDVI_2016_10.tif\n"
     ]
    },
    {
     "data": {
      "application/vnd.jupyter.widget-view+json": {
       "model_id": "b393aa9e99a940e7b3301959e5b6b5d5",
       "version_major": 2,
       "version_minor": 0
      },
      "text/plain": [
       "NDVI_2016_10.tif: |          | 0.00/1.82M (raw) [  0.0%] in 00:00 (eta:     ?)"
      ]
     },
     "metadata": {},
     "output_type": "display_data"
    },
    {
     "name": "stdout",
     "output_type": "stream",
     "text": [
      "   ✅ NDVI export completed: NDVI_2016_10.tif\n",
      "   📤 Preparing to export NIRv: NIRv_2016_10.tif\n"
     ]
    },
    {
     "data": {
      "application/vnd.jupyter.widget-view+json": {
       "model_id": "b041108610904f5fa17f7aff66f34e41",
       "version_major": 2,
       "version_minor": 0
      },
      "text/plain": [
       "NIRv_2016_10.tif: |          | 0.00/3.64M (raw) [  0.0%] in 00:00 (eta:     ?)"
      ]
     },
     "metadata": {},
     "output_type": "display_data"
    },
    {
     "name": "stdout",
     "output_type": "stream",
     "text": [
      "   ✅ NIRv export completed: NIRv_2016_10.tif\n",
      "✅ 2016_10 successfully exported\n",
      "\n",
      "--- Processing 2016_11 ---\n",
      "    🛰️  Falling back to Landsat...\n",
      "      📅 Expanding time window ±7 days: 2016-10-25 to 2016-12-07\n",
      "      ✅ Found 2 images\n",
      "      🔧 Using relaxed masking mode (clouds only)\n",
      "      🔧 Using relaxed masking mode (clouds only)\n",
      "      🔧 Using relaxed masking mode (clouds only)\n",
      "   📤 Preparing to export NDVI: NDVI_2016_11.tif\n"
     ]
    },
    {
     "data": {
      "application/vnd.jupyter.widget-view+json": {
       "model_id": "141733ea6b75411aaca06d5cab4f6e1e",
       "version_major": 2,
       "version_minor": 0
      },
      "text/plain": [
       "NDVI_2016_11.tif: |          | 0.00/1.82M (raw) [  0.0%] in 00:00 (eta:     ?)"
      ]
     },
     "metadata": {},
     "output_type": "display_data"
    },
    {
     "name": "stdout",
     "output_type": "stream",
     "text": [
      "   ✅ NDVI export completed: NDVI_2016_11.tif\n",
      "   📤 Preparing to export NIRv: NIRv_2016_11.tif\n"
     ]
    },
    {
     "data": {
      "application/vnd.jupyter.widget-view+json": {
       "model_id": "a40b1702019446eca14fdd12e1661379",
       "version_major": 2,
       "version_minor": 0
      },
      "text/plain": [
       "NIRv_2016_11.tif: |          | 0.00/3.64M (raw) [  0.0%] in 00:00 (eta:     ?)"
      ]
     },
     "metadata": {},
     "output_type": "display_data"
    },
    {
     "name": "stdout",
     "output_type": "stream",
     "text": [
      "   ✅ NIRv export completed: NIRv_2016_11.tif\n",
      "✅ 2016_11 successfully exported\n",
      "\n",
      "--- Processing 2016_12 ---\n",
      "    🛰️  Falling back to Landsat...\n",
      "      📅 Expanding time window ±7 days: 2016-11-24 to 2017-01-07\n",
      "      ✅ Found 3 images\n",
      "      🔧 Using relaxed masking mode (clouds only)\n",
      "      🔧 Using relaxed masking mode (clouds only)\n",
      "      🔧 Using relaxed masking mode (clouds only)\n",
      "   📤 Preparing to export NDVI: NDVI_2016_12.tif\n"
     ]
    },
    {
     "data": {
      "application/vnd.jupyter.widget-view+json": {
       "model_id": "8b414102c7134fcd9d7d0267365e48b4",
       "version_major": 2,
       "version_minor": 0
      },
      "text/plain": [
       "NDVI_2016_12.tif: |          | 0.00/1.82M (raw) [  0.0%] in 00:00 (eta:     ?)"
      ]
     },
     "metadata": {},
     "output_type": "display_data"
    },
    {
     "name": "stdout",
     "output_type": "stream",
     "text": [
      "   ✅ NDVI export completed: NDVI_2016_12.tif\n",
      "   📤 Preparing to export NIRv: NIRv_2016_12.tif\n"
     ]
    },
    {
     "data": {
      "application/vnd.jupyter.widget-view+json": {
       "model_id": "6759831d79d74b948050893d56f139bf",
       "version_major": 2,
       "version_minor": 0
      },
      "text/plain": [
       "NIRv_2016_12.tif: |          | 0.00/3.64M (raw) [  0.0%] in 00:00 (eta:     ?)"
      ]
     },
     "metadata": {},
     "output_type": "display_data"
    },
    {
     "name": "stdout",
     "output_type": "stream",
     "text": [
      "   ✅ NIRv export completed: NIRv_2016_12.tif\n",
      "✅ 2016_12 successfully exported\n",
      "\n",
      "--- Processing 2017_01 ---\n",
      "    🛰️  Trying Sentinel-2...\n",
      "      📅 Expanding time window ±7 days: 2016-12-25 to 2017-02-07\n",
      "      ⚠️  Attempt 1: Only found 0 images\n",
      "      📅 Expanding time window ±15 days: 2016-12-17 to 2017-02-15\n",
      "      🚨 Using final threshold 99%\n",
      "      ⚠️  Attempt 2: Only found 0 images\n",
      "      📅 Expanding time window ±30 days: 2016-12-02 to 2017-03-02\n",
      "      🚨 Using final threshold 99%\n",
      "      ⚠️  Attempt 3: Only found 0 images\n",
      "      ❌ All attempts failed\n",
      "    🛰️  Falling back to Landsat...\n",
      "      📅 Expanding time window ±7 days: 2016-12-25 to 2017-02-07\n",
      "      ✅ Found 2 images\n",
      "      🔧 Using relaxed masking mode (clouds only)\n",
      "      🔧 Using relaxed masking mode (clouds only)\n",
      "      🔧 Using relaxed masking mode (clouds only)\n",
      "   📤 Preparing to export NDVI: NDVI_2017_01.tif\n"
     ]
    },
    {
     "data": {
      "application/vnd.jupyter.widget-view+json": {
       "model_id": "712af6fec4944b689cb89fcfaffd654e",
       "version_major": 2,
       "version_minor": 0
      },
      "text/plain": [
       "NDVI_2017_01.tif: |          | 0.00/1.82M (raw) [  0.0%] in 00:00 (eta:     ?)"
      ]
     },
     "metadata": {},
     "output_type": "display_data"
    },
    {
     "name": "stdout",
     "output_type": "stream",
     "text": [
      "   ✅ NDVI export completed: NDVI_2017_01.tif\n",
      "   📤 Preparing to export NIRv: NIRv_2017_01.tif\n"
     ]
    },
    {
     "data": {
      "application/vnd.jupyter.widget-view+json": {
       "model_id": "811e10b9e4f24518925e423e15aa889c",
       "version_major": 2,
       "version_minor": 0
      },
      "text/plain": [
       "NIRv_2017_01.tif: |          | 0.00/3.64M (raw) [  0.0%] in 00:00 (eta:     ?)"
      ]
     },
     "metadata": {},
     "output_type": "display_data"
    },
    {
     "name": "stdout",
     "output_type": "stream",
     "text": [
      "   ✅ NIRv export completed: NIRv_2017_01.tif\n",
      "✅ 2017_01 successfully exported\n",
      "\n",
      "--- Processing 2017_02 ---\n",
      "    🛰️  Trying Sentinel-2...\n",
      "      📅 Expanding time window ±7 days: 2017-01-25 to 2017-03-07\n",
      "      ⚠️  Attempt 1: Only found 0 images\n",
      "      📅 Expanding time window ±15 days: 2017-01-17 to 2017-03-15\n",
      "      🚨 Using final threshold 99%\n",
      "      ⚠️  Attempt 2: Only found 0 images\n",
      "      📅 Expanding time window ±30 days: 2017-01-02 to 2017-03-30\n",
      "      🚨 Using final threshold 99%\n",
      "      ⚠️  Attempt 3: Only found 0 images\n",
      "      ❌ All attempts failed\n",
      "    🛰️  Falling back to Landsat...\n",
      "      📅 Expanding time window ±7 days: 2017-01-25 to 2017-03-07\n",
      "      ✅ Found 1 images\n",
      "      🔧 Using relaxed masking mode (clouds only)\n",
      "      🔧 Using relaxed masking mode (clouds only)\n",
      "      🔧 Using relaxed masking mode (clouds only)\n",
      "   📤 Preparing to export NDVI: NDVI_2017_02.tif\n"
     ]
    },
    {
     "data": {
      "application/vnd.jupyter.widget-view+json": {
       "model_id": "ca48979536cb4b4d9bcd9436ad1d7f3e",
       "version_major": 2,
       "version_minor": 0
      },
      "text/plain": [
       "NDVI_2017_02.tif: |          | 0.00/1.82M (raw) [  0.0%] in 00:00 (eta:     ?)"
      ]
     },
     "metadata": {},
     "output_type": "display_data"
    },
    {
     "name": "stdout",
     "output_type": "stream",
     "text": [
      "   ✅ NDVI export completed: NDVI_2017_02.tif\n",
      "   📤 Preparing to export NIRv: NIRv_2017_02.tif\n"
     ]
    },
    {
     "data": {
      "application/vnd.jupyter.widget-view+json": {
       "model_id": "e7a92eed863745f49fa1bae2e46535c1",
       "version_major": 2,
       "version_minor": 0
      },
      "text/plain": [
       "NIRv_2017_02.tif: |          | 0.00/3.64M (raw) [  0.0%] in 00:00 (eta:     ?)"
      ]
     },
     "metadata": {},
     "output_type": "display_data"
    },
    {
     "name": "stdout",
     "output_type": "stream",
     "text": [
      "   ✅ NIRv export completed: NIRv_2017_02.tif\n",
      "✅ 2017_02 successfully exported\n",
      "\n",
      "--- Processing 2017_03 ---\n",
      "    🛰️  Trying Sentinel-2...\n",
      "      📅 Expanding time window ±7 days: 2017-02-22 to 2017-04-07\n",
      "      ✅ Found 2 images\n",
      "    🛰️  Falling back to Landsat...\n",
      "      📅 Expanding time window ±7 days: 2017-02-22 to 2017-04-07\n",
      "      ✅ Found 2 images\n",
      "      🔧 Using relaxed masking mode (clouds only)\n",
      "      🔧 Using relaxed masking mode (clouds only)\n",
      "      🔧 Using relaxed masking mode (clouds only)\n",
      "   📤 Preparing to export NDVI: NDVI_2017_03.tif\n"
     ]
    },
    {
     "data": {
      "application/vnd.jupyter.widget-view+json": {
       "model_id": "f622a6416619475384d88dc78f66ca07",
       "version_major": 2,
       "version_minor": 0
      },
      "text/plain": [
       "NDVI_2017_03.tif: |          | 0.00/1.82M (raw) [  0.0%] in 00:00 (eta:     ?)"
      ]
     },
     "metadata": {},
     "output_type": "display_data"
    },
    {
     "name": "stdout",
     "output_type": "stream",
     "text": [
      "   ✅ NDVI export completed: NDVI_2017_03.tif\n",
      "   📤 Preparing to export NIRv: NIRv_2017_03.tif\n"
     ]
    },
    {
     "data": {
      "application/vnd.jupyter.widget-view+json": {
       "model_id": "34f72d8becae466d98e1cee40f7bcb7a",
       "version_major": 2,
       "version_minor": 0
      },
      "text/plain": [
       "NIRv_2017_03.tif: |          | 0.00/3.64M (raw) [  0.0%] in 00:00 (eta:     ?)"
      ]
     },
     "metadata": {},
     "output_type": "display_data"
    },
    {
     "name": "stdout",
     "output_type": "stream",
     "text": [
      "   ✅ NIRv export completed: NIRv_2017_03.tif\n",
      "✅ 2017_03 successfully exported\n",
      "\n",
      "--- Processing 2017_04 ---\n",
      "    🛰️  Trying Sentinel-2...\n",
      "      📅 Expanding time window ±7 days: 2017-03-25 to 2017-05-07\n",
      "      ✅ Found 2 images\n",
      "    🛰️  Falling back to Landsat...\n",
      "      📅 Expanding time window ±7 days: 2017-03-25 to 2017-05-07\n",
      "      ✅ Found 1 images\n",
      "      🔧 Using relaxed masking mode (clouds only)\n",
      "      🔧 Using relaxed masking mode (clouds only)\n",
      "      🔧 Using relaxed masking mode (clouds only)\n",
      "   📤 Preparing to export NDVI: NDVI_2017_04.tif\n"
     ]
    },
    {
     "data": {
      "application/vnd.jupyter.widget-view+json": {
       "model_id": "821b2275fc324873b7f2dcaaadb9f717",
       "version_major": 2,
       "version_minor": 0
      },
      "text/plain": [
       "NDVI_2017_04.tif: |          | 0.00/1.82M (raw) [  0.0%] in 00:00 (eta:     ?)"
      ]
     },
     "metadata": {},
     "output_type": "display_data"
    },
    {
     "name": "stdout",
     "output_type": "stream",
     "text": [
      "   ✅ NDVI export completed: NDVI_2017_04.tif\n",
      "   📤 Preparing to export NIRv: NIRv_2017_04.tif\n"
     ]
    },
    {
     "data": {
      "application/vnd.jupyter.widget-view+json": {
       "model_id": "d18a83d8c9c04f999940a690562677b8",
       "version_major": 2,
       "version_minor": 0
      },
      "text/plain": [
       "NIRv_2017_04.tif: |          | 0.00/3.64M (raw) [  0.0%] in 00:00 (eta:     ?)"
      ]
     },
     "metadata": {},
     "output_type": "display_data"
    },
    {
     "name": "stdout",
     "output_type": "stream",
     "text": [
      "   ✅ NIRv export completed: NIRv_2017_04.tif\n",
      "✅ 2017_04 successfully exported\n",
      "\n",
      "--- Processing 2017_05 ---\n",
      "    🛰️  Trying Sentinel-2...\n",
      "      📅 Expanding time window ±7 days: 2017-04-24 to 2017-06-07\n",
      "      ✅ Found 10 images\n",
      "    🛰️  Falling back to Landsat...\n",
      "      📅 Expanding time window ±7 days: 2017-04-24 to 2017-06-07\n",
      "      ✅ Found 1 images\n",
      "      🔧 Using relaxed masking mode (clouds only)\n",
      "      🔧 Using relaxed masking mode (clouds only)\n",
      "      🔧 Using relaxed masking mode (clouds only)\n",
      "   📤 Preparing to export NDVI: NDVI_2017_05.tif\n"
     ]
    },
    {
     "data": {
      "application/vnd.jupyter.widget-view+json": {
       "model_id": "440f4e4285234c0c9b98490d70c50afa",
       "version_major": 2,
       "version_minor": 0
      },
      "text/plain": [
       "NDVI_2017_05.tif: |          | 0.00/1.82M (raw) [  0.0%] in 00:00 (eta:     ?)"
      ]
     },
     "metadata": {},
     "output_type": "display_data"
    },
    {
     "name": "stdout",
     "output_type": "stream",
     "text": [
      "   ✅ NDVI export completed: NDVI_2017_05.tif\n",
      "   📤 Preparing to export NIRv: NIRv_2017_05.tif\n"
     ]
    },
    {
     "data": {
      "application/vnd.jupyter.widget-view+json": {
       "model_id": "023a1552815040f59d601d926308e996",
       "version_major": 2,
       "version_minor": 0
      },
      "text/plain": [
       "NIRv_2017_05.tif: |          | 0.00/3.64M (raw) [  0.0%] in 00:00 (eta:     ?)"
      ]
     },
     "metadata": {},
     "output_type": "display_data"
    },
    {
     "name": "stdout",
     "output_type": "stream",
     "text": [
      "   ✅ NIRv export completed: NIRv_2017_05.tif\n",
      "✅ 2017_05 successfully exported\n",
      "\n",
      "--- Processing 2017_06 ---\n",
      "    🛰️  Trying Sentinel-2...\n",
      "      📅 Expanding time window ±5 days: 2017-05-27 to 2017-07-05\n",
      "      ✅ Found 5 images\n",
      "    🛰️  Falling back to Landsat...\n",
      "      📅 Expanding time window ±5 days: 2017-05-27 to 2017-07-05\n",
      "      ✅ Found 1 images\n",
      "   📤 Preparing to export NDVI: NDVI_2017_06.tif\n"
     ]
    },
    {
     "data": {
      "application/vnd.jupyter.widget-view+json": {
       "model_id": "3dd6189fc86a4ff4b4f961ef8aca59a1",
       "version_major": 2,
       "version_minor": 0
      },
      "text/plain": [
       "NDVI_2017_06.tif: |          | 0.00/1.82M (raw) [  0.0%] in 00:00 (eta:     ?)"
      ]
     },
     "metadata": {},
     "output_type": "display_data"
    },
    {
     "name": "stdout",
     "output_type": "stream",
     "text": [
      "   ✅ NDVI export completed: NDVI_2017_06.tif\n",
      "   📤 Preparing to export NIRv: NIRv_2017_06.tif\n"
     ]
    },
    {
     "data": {
      "application/vnd.jupyter.widget-view+json": {
       "model_id": "c9c12ad4d28f4264884f90d676255bac",
       "version_major": 2,
       "version_minor": 0
      },
      "text/plain": [
       "NIRv_2017_06.tif: |          | 0.00/3.64M (raw) [  0.0%] in 00:00 (eta:     ?)"
      ]
     },
     "metadata": {},
     "output_type": "display_data"
    },
    {
     "name": "stdout",
     "output_type": "stream",
     "text": [
      "   ✅ NIRv export completed: NIRv_2017_06.tif\n",
      "✅ 2017_06 successfully exported\n",
      "\n",
      "--- Processing 2017_07 ---\n",
      "    🛰️  Trying Sentinel-2...\n",
      "      📅 Expanding time window ±5 days: 2017-06-26 to 2017-08-05\n",
      "      ✅ Found 1 images\n",
      "    🛰️  Falling back to Landsat...\n",
      "      📅 Expanding time window ±5 days: 2017-06-26 to 2017-08-05\n",
      "      ✅ Found 1 images\n",
      "   📤 Preparing to export NDVI: NDVI_2017_07.tif\n"
     ]
    },
    {
     "data": {
      "application/vnd.jupyter.widget-view+json": {
       "model_id": "e972e2e1638b4dfca1bc353ec7b5ee6d",
       "version_major": 2,
       "version_minor": 0
      },
      "text/plain": [
       "NDVI_2017_07.tif: |          | 0.00/1.82M (raw) [  0.0%] in 00:00 (eta:     ?)"
      ]
     },
     "metadata": {},
     "output_type": "display_data"
    },
    {
     "name": "stdout",
     "output_type": "stream",
     "text": [
      "   ✅ NDVI export completed: NDVI_2017_07.tif\n",
      "   📤 Preparing to export NIRv: NIRv_2017_07.tif\n"
     ]
    },
    {
     "data": {
      "application/vnd.jupyter.widget-view+json": {
       "model_id": "e414e13880464bc9a10992b94cd23d93",
       "version_major": 2,
       "version_minor": 0
      },
      "text/plain": [
       "NIRv_2017_07.tif: |          | 0.00/3.64M (raw) [  0.0%] in 00:00 (eta:     ?)"
      ]
     },
     "metadata": {},
     "output_type": "display_data"
    },
    {
     "name": "stdout",
     "output_type": "stream",
     "text": [
      "   ✅ NIRv export completed: NIRv_2017_07.tif\n",
      "✅ 2017_07 successfully exported\n",
      "\n",
      "--- Processing 2017_08 ---\n",
      "    🛰️  Trying Sentinel-2...\n",
      "      📅 Expanding time window ±5 days: 2017-07-27 to 2017-09-05\n",
      "      ✅ Found 4 images\n",
      "    🛰️  Falling back to Landsat...\n",
      "      📅 Expanding time window ±5 days: 2017-07-27 to 2017-09-05\n",
      "      ✅ Found 2 images\n",
      "   📤 Preparing to export NDVI: NDVI_2017_08.tif\n"
     ]
    },
    {
     "data": {
      "application/vnd.jupyter.widget-view+json": {
       "model_id": "3dacc7b1cec84d69a892a8985b594fc1",
       "version_major": 2,
       "version_minor": 0
      },
      "text/plain": [
       "NDVI_2017_08.tif: |          | 0.00/1.82M (raw) [  0.0%] in 00:00 (eta:     ?)"
      ]
     },
     "metadata": {},
     "output_type": "display_data"
    },
    {
     "name": "stdout",
     "output_type": "stream",
     "text": [
      "   ✅ NDVI export completed: NDVI_2017_08.tif\n",
      "   📤 Preparing to export NIRv: NIRv_2017_08.tif\n"
     ]
    },
    {
     "data": {
      "application/vnd.jupyter.widget-view+json": {
       "model_id": "a58669f2b30a4ffe8f2b7b1df5c51c21",
       "version_major": 2,
       "version_minor": 0
      },
      "text/plain": [
       "NIRv_2017_08.tif: |          | 0.00/3.64M (raw) [  0.0%] in 00:00 (eta:     ?)"
      ]
     },
     "metadata": {},
     "output_type": "display_data"
    },
    {
     "name": "stdout",
     "output_type": "stream",
     "text": [
      "   ✅ NIRv export completed: NIRv_2017_08.tif\n",
      "✅ 2017_08 successfully exported\n",
      "\n",
      "--- Processing 2017_09 ---\n",
      "    🛰️  Trying Sentinel-2...\n",
      "      📅 Expanding time window ±7 days: 2017-08-25 to 2017-10-07\n",
      "      ✅ Found 8 images\n",
      "    🛰️  Falling back to Landsat...\n",
      "      📅 Expanding time window ±7 days: 2017-08-25 to 2017-10-07\n",
      "      ✅ Found 3 images\n",
      "      🔧 Using relaxed masking mode (clouds only)\n",
      "      🔧 Using relaxed masking mode (clouds only)\n",
      "      🔧 Using relaxed masking mode (clouds only)\n",
      "   📤 Preparing to export NDVI: NDVI_2017_09.tif\n"
     ]
    },
    {
     "data": {
      "application/vnd.jupyter.widget-view+json": {
       "model_id": "b68229a3d70a4d5e9a47ba8073dbd0fc",
       "version_major": 2,
       "version_minor": 0
      },
      "text/plain": [
       "NDVI_2017_09.tif: |          | 0.00/1.82M (raw) [  0.0%] in 00:00 (eta:     ?)"
      ]
     },
     "metadata": {},
     "output_type": "display_data"
    },
    {
     "name": "stdout",
     "output_type": "stream",
     "text": [
      "   ✅ NDVI export completed: NDVI_2017_09.tif\n",
      "   📤 Preparing to export NIRv: NIRv_2017_09.tif\n"
     ]
    },
    {
     "data": {
      "application/vnd.jupyter.widget-view+json": {
       "model_id": "dede42f8e30347349c48c0f35535eab1",
       "version_major": 2,
       "version_minor": 0
      },
      "text/plain": [
       "NIRv_2017_09.tif: |          | 0.00/3.64M (raw) [  0.0%] in 00:00 (eta:     ?)"
      ]
     },
     "metadata": {},
     "output_type": "display_data"
    },
    {
     "name": "stdout",
     "output_type": "stream",
     "text": [
      "   ✅ NIRv export completed: NIRv_2017_09.tif\n",
      "✅ 2017_09 successfully exported\n",
      "\n",
      "--- Processing 2017_10 ---\n",
      "    🛰️  Trying Sentinel-2...\n",
      "      📅 Expanding time window ±7 days: 2017-09-24 to 2017-11-07\n",
      "      ✅ Found 5 images\n",
      "    🛰️  Falling back to Landsat...\n",
      "      📅 Expanding time window ±7 days: 2017-09-24 to 2017-11-07\n",
      "      ✅ Found 4 images\n",
      "      🔧 Using relaxed masking mode (clouds only)\n",
      "      🔧 Using relaxed masking mode (clouds only)\n",
      "      🔧 Using relaxed masking mode (clouds only)\n",
      "   📤 Preparing to export NDVI: NDVI_2017_10.tif\n"
     ]
    },
    {
     "data": {
      "application/vnd.jupyter.widget-view+json": {
       "model_id": "9aa23d55d9544c7e9ed2c01cad440665",
       "version_major": 2,
       "version_minor": 0
      },
      "text/plain": [
       "NDVI_2017_10.tif: |          | 0.00/1.82M (raw) [  0.0%] in 00:00 (eta:     ?)"
      ]
     },
     "metadata": {},
     "output_type": "display_data"
    },
    {
     "name": "stdout",
     "output_type": "stream",
     "text": [
      "   ✅ NDVI export completed: NDVI_2017_10.tif\n",
      "   📤 Preparing to export NIRv: NIRv_2017_10.tif\n"
     ]
    },
    {
     "data": {
      "application/vnd.jupyter.widget-view+json": {
       "model_id": "086ff7b25df64328b9ad63aa9baa2f02",
       "version_major": 2,
       "version_minor": 0
      },
      "text/plain": [
       "NIRv_2017_10.tif: |          | 0.00/3.64M (raw) [  0.0%] in 00:00 (eta:     ?)"
      ]
     },
     "metadata": {},
     "output_type": "display_data"
    },
    {
     "name": "stdout",
     "output_type": "stream",
     "text": [
      "   ✅ NIRv export completed: NIRv_2017_10.tif\n",
      "✅ 2017_10 successfully exported\n",
      "\n",
      "--- Processing 2017_11 ---\n",
      "    🛰️  Trying Sentinel-2...\n",
      "      📅 Expanding time window ±7 days: 2017-10-25 to 2017-12-07\n",
      "      ✅ Found 6 images\n",
      "    🛰️  Falling back to Landsat...\n",
      "      📅 Expanding time window ±7 days: 2017-10-25 to 2017-12-07\n",
      "      ✅ Found 4 images\n",
      "      🔧 Using relaxed masking mode (clouds only)\n",
      "      🔧 Using relaxed masking mode (clouds only)\n",
      "      🔧 Using relaxed masking mode (clouds only)\n",
      "   📤 Preparing to export NDVI: NDVI_2017_11.tif\n"
     ]
    },
    {
     "data": {
      "application/vnd.jupyter.widget-view+json": {
       "model_id": "109a0db2fbfe45578dd7b257d9be2067",
       "version_major": 2,
       "version_minor": 0
      },
      "text/plain": [
       "NDVI_2017_11.tif: |          | 0.00/1.82M (raw) [  0.0%] in 00:00 (eta:     ?)"
      ]
     },
     "metadata": {},
     "output_type": "display_data"
    },
    {
     "name": "stdout",
     "output_type": "stream",
     "text": [
      "   ✅ NDVI export completed: NDVI_2017_11.tif\n",
      "   📤 Preparing to export NIRv: NIRv_2017_11.tif\n"
     ]
    },
    {
     "data": {
      "application/vnd.jupyter.widget-view+json": {
       "model_id": "bd936b386b0942d9b50492eedc7700c6",
       "version_major": 2,
       "version_minor": 0
      },
      "text/plain": [
       "NIRv_2017_11.tif: |          | 0.00/3.64M (raw) [  0.0%] in 00:00 (eta:     ?)"
      ]
     },
     "metadata": {},
     "output_type": "display_data"
    },
    {
     "name": "stdout",
     "output_type": "stream",
     "text": [
      "   ✅ NIRv export completed: NIRv_2017_11.tif\n",
      "✅ 2017_11 successfully exported\n",
      "\n",
      "--- Processing 2017_12 ---\n",
      "    🛰️  Trying Sentinel-2...\n",
      "      📅 Expanding time window ±7 days: 2017-11-24 to 2018-01-07\n",
      "      ✅ Found 3 images\n",
      "    🛰️  Falling back to Landsat...\n",
      "      📅 Expanding time window ±7 days: 2017-11-24 to 2018-01-07\n",
      "      ✅ Found 1 images\n",
      "      🔧 Using relaxed masking mode (clouds only)\n",
      "      🔧 Using relaxed masking mode (clouds only)\n",
      "      🔧 Using relaxed masking mode (clouds only)\n",
      "   📤 Preparing to export NDVI: NDVI_2017_12.tif\n"
     ]
    },
    {
     "data": {
      "application/vnd.jupyter.widget-view+json": {
       "model_id": "a017ecd129074638b68ba751a7ecac9d",
       "version_major": 2,
       "version_minor": 0
      },
      "text/plain": [
       "NDVI_2017_12.tif: |          | 0.00/1.82M (raw) [  0.0%] in 00:00 (eta:     ?)"
      ]
     },
     "metadata": {},
     "output_type": "display_data"
    },
    {
     "name": "stdout",
     "output_type": "stream",
     "text": [
      "   ✅ NDVI export completed: NDVI_2017_12.tif\n",
      "   📤 Preparing to export NIRv: NIRv_2017_12.tif\n"
     ]
    },
    {
     "data": {
      "application/vnd.jupyter.widget-view+json": {
       "model_id": "26f2b33991a74483abfa721d4377adc5",
       "version_major": 2,
       "version_minor": 0
      },
      "text/plain": [
       "NIRv_2017_12.tif: |          | 0.00/3.64M (raw) [  0.0%] in 00:00 (eta:     ?)"
      ]
     },
     "metadata": {},
     "output_type": "display_data"
    },
    {
     "name": "stdout",
     "output_type": "stream",
     "text": [
      "   ✅ NIRv export completed: NIRv_2017_12.tif\n",
      "✅ 2017_12 successfully exported\n",
      "\n",
      "--- Processing 2018_01 ---\n",
      "    🛰️  Trying Sentinel-2...\n",
      "      📅 Expanding time window ±7 days: 2017-12-25 to 2018-02-07\n",
      "      ✅ Found 7 images\n",
      "    🛰️  Falling back to Landsat...\n",
      "      📅 Expanding time window ±7 days: 2017-12-25 to 2018-02-07\n",
      "      ✅ Found 1 images\n",
      "      🔧 Using relaxed masking mode (clouds only)\n",
      "      🔧 Using relaxed masking mode (clouds only)\n",
      "      🔧 Using relaxed masking mode (clouds only)\n",
      "   📤 Preparing to export NDVI: NDVI_2018_01.tif\n"
     ]
    },
    {
     "data": {
      "application/vnd.jupyter.widget-view+json": {
       "model_id": "68f38d244906481bb17be9ec954b356a",
       "version_major": 2,
       "version_minor": 0
      },
      "text/plain": [
       "NDVI_2018_01.tif: |          | 0.00/1.82M (raw) [  0.0%] in 00:00 (eta:     ?)"
      ]
     },
     "metadata": {},
     "output_type": "display_data"
    },
    {
     "name": "stdout",
     "output_type": "stream",
     "text": [
      "   ✅ NDVI export completed: NDVI_2018_01.tif\n",
      "   📤 Preparing to export NIRv: NIRv_2018_01.tif\n"
     ]
    },
    {
     "data": {
      "application/vnd.jupyter.widget-view+json": {
       "model_id": "0204b9f3e4754076a9edab7e669d4e5b",
       "version_major": 2,
       "version_minor": 0
      },
      "text/plain": [
       "NIRv_2018_01.tif: |          | 0.00/3.64M (raw) [  0.0%] in 00:00 (eta:     ?)"
      ]
     },
     "metadata": {},
     "output_type": "display_data"
    },
    {
     "name": "stdout",
     "output_type": "stream",
     "text": [
      "   ✅ NIRv export completed: NIRv_2018_01.tif\n",
      "✅ 2018_01 successfully exported\n",
      "\n",
      "--- Processing 2018_02 ---\n",
      "    🛰️  Trying Sentinel-2...\n",
      "      📅 Expanding time window ±7 days: 2018-01-25 to 2018-03-07\n",
      "      ✅ Found 25 images\n",
      "    🛰️  Falling back to Landsat...\n",
      "      📅 Expanding time window ±7 days: 2018-01-25 to 2018-03-07\n",
      "      ✅ Found 3 images\n",
      "      🔧 Using relaxed masking mode (clouds only)\n",
      "      🔧 Using relaxed masking mode (clouds only)\n",
      "      🔧 Using relaxed masking mode (clouds only)\n",
      "   📤 Preparing to export NDVI: NDVI_2018_02.tif\n"
     ]
    },
    {
     "data": {
      "application/vnd.jupyter.widget-view+json": {
       "model_id": "c7c18eafaba742988f4a2d2df3dc1374",
       "version_major": 2,
       "version_minor": 0
      },
      "text/plain": [
       "NDVI_2018_02.tif: |          | 0.00/1.82M (raw) [  0.0%] in 00:00 (eta:     ?)"
      ]
     },
     "metadata": {},
     "output_type": "display_data"
    },
    {
     "name": "stdout",
     "output_type": "stream",
     "text": [
      "   ✅ NDVI export completed: NDVI_2018_02.tif\n",
      "   📤 Preparing to export NIRv: NIRv_2018_02.tif\n"
     ]
    },
    {
     "data": {
      "application/vnd.jupyter.widget-view+json": {
       "model_id": "ff9499cc758f4704b81bcd42afea62d6",
       "version_major": 2,
       "version_minor": 0
      },
      "text/plain": [
       "NIRv_2018_02.tif: |          | 0.00/3.64M (raw) [  0.0%] in 00:00 (eta:     ?)"
      ]
     },
     "metadata": {},
     "output_type": "display_data"
    },
    {
     "name": "stdout",
     "output_type": "stream",
     "text": [
      "   ✅ NIRv export completed: NIRv_2018_02.tif\n",
      "✅ 2018_02 successfully exported\n",
      "\n",
      "--- Processing 2018_03 ---\n",
      "    🛰️  Trying Sentinel-2...\n",
      "      📅 Expanding time window ±7 days: 2018-02-22 to 2018-04-07\n",
      "      ✅ Found 20 images\n",
      "    🛰️  Falling back to Landsat...\n",
      "      📅 Expanding time window ±7 days: 2018-02-22 to 2018-04-07\n",
      "      ✅ Found 3 images\n",
      "      🔧 Using relaxed masking mode (clouds only)\n",
      "      🔧 Using relaxed masking mode (clouds only)\n",
      "      🔧 Using relaxed masking mode (clouds only)\n",
      "   📤 Preparing to export NDVI: NDVI_2018_03.tif\n"
     ]
    },
    {
     "data": {
      "application/vnd.jupyter.widget-view+json": {
       "model_id": "42ef542045164f7db28892e167a0d5a5",
       "version_major": 2,
       "version_minor": 0
      },
      "text/plain": [
       "NDVI_2018_03.tif: |          | 0.00/1.82M (raw) [  0.0%] in 00:00 (eta:     ?)"
      ]
     },
     "metadata": {},
     "output_type": "display_data"
    },
    {
     "name": "stdout",
     "output_type": "stream",
     "text": [
      "   ✅ NDVI export completed: NDVI_2018_03.tif\n",
      "   📤 Preparing to export NIRv: NIRv_2018_03.tif\n"
     ]
    },
    {
     "data": {
      "application/vnd.jupyter.widget-view+json": {
       "model_id": "7324a48db41b4e6f85195a9c8dcccdb4",
       "version_major": 2,
       "version_minor": 0
      },
      "text/plain": [
       "NIRv_2018_03.tif: |          | 0.00/3.64M (raw) [  0.0%] in 00:00 (eta:     ?)"
      ]
     },
     "metadata": {},
     "output_type": "display_data"
    },
    {
     "name": "stdout",
     "output_type": "stream",
     "text": [
      "   ✅ NIRv export completed: NIRv_2018_03.tif\n",
      "✅ 2018_03 successfully exported\n",
      "\n",
      "--- Processing 2018_04 ---\n",
      "    🛰️  Trying Sentinel-2...\n",
      "      📅 Expanding time window ±7 days: 2018-03-25 to 2018-05-07\n",
      "      ✅ Found 16 images\n",
      "    🛰️  Falling back to Landsat...\n",
      "      📅 Expanding time window ±7 days: 2018-03-25 to 2018-05-07\n",
      "      ✅ Found 1 images\n",
      "      🔧 Using relaxed masking mode (clouds only)\n",
      "      🔧 Using relaxed masking mode (clouds only)\n",
      "      🔧 Using relaxed masking mode (clouds only)\n",
      "   📤 Preparing to export NDVI: NDVI_2018_04.tif\n"
     ]
    },
    {
     "data": {
      "application/vnd.jupyter.widget-view+json": {
       "model_id": "2529430eaedf4b0b9f302a7e91f403d7",
       "version_major": 2,
       "version_minor": 0
      },
      "text/plain": [
       "NDVI_2018_04.tif: |          | 0.00/1.82M (raw) [  0.0%] in 00:00 (eta:     ?)"
      ]
     },
     "metadata": {},
     "output_type": "display_data"
    },
    {
     "name": "stdout",
     "output_type": "stream",
     "text": [
      "   ✅ NDVI export completed: NDVI_2018_04.tif\n",
      "   📤 Preparing to export NIRv: NIRv_2018_04.tif\n"
     ]
    },
    {
     "data": {
      "application/vnd.jupyter.widget-view+json": {
       "model_id": "19c0d759d34448c8ad45ef5db0d0799c",
       "version_major": 2,
       "version_minor": 0
      },
      "text/plain": [
       "NIRv_2018_04.tif: |          | 0.00/3.64M (raw) [  0.0%] in 00:00 (eta:     ?)"
      ]
     },
     "metadata": {},
     "output_type": "display_data"
    },
    {
     "name": "stdout",
     "output_type": "stream",
     "text": [
      "   ✅ NIRv export completed: NIRv_2018_04.tif\n",
      "✅ 2018_04 successfully exported\n",
      "\n",
      "--- Processing 2018_05 ---\n",
      "    🛰️  Trying Sentinel-2...\n",
      "      📅 Expanding time window ±7 days: 2018-04-24 to 2018-06-07\n",
      "      ✅ Found 16 images\n",
      "    🛰️  Falling back to Landsat...\n",
      "      📅 Expanding time window ±7 days: 2018-04-24 to 2018-06-07\n",
      "      ✅ Found 1 images\n",
      "      🔧 Using relaxed masking mode (clouds only)\n",
      "      🔧 Using relaxed masking mode (clouds only)\n",
      "      🔧 Using relaxed masking mode (clouds only)\n",
      "   📤 Preparing to export NDVI: NDVI_2018_05.tif\n"
     ]
    },
    {
     "data": {
      "application/vnd.jupyter.widget-view+json": {
       "model_id": "71640eb1d96d4a439e30c2d4e3a6c9fa",
       "version_major": 2,
       "version_minor": 0
      },
      "text/plain": [
       "NDVI_2018_05.tif: |          | 0.00/1.82M (raw) [  0.0%] in 00:00 (eta:     ?)"
      ]
     },
     "metadata": {},
     "output_type": "display_data"
    },
    {
     "name": "stdout",
     "output_type": "stream",
     "text": [
      "   ✅ NDVI export completed: NDVI_2018_05.tif\n",
      "   📤 Preparing to export NIRv: NIRv_2018_05.tif\n"
     ]
    },
    {
     "data": {
      "application/vnd.jupyter.widget-view+json": {
       "model_id": "5266fb8e8c894856802d63df5b9ea21d",
       "version_major": 2,
       "version_minor": 0
      },
      "text/plain": [
       "NIRv_2018_05.tif: |          | 0.00/3.64M (raw) [  0.0%] in 00:00 (eta:     ?)"
      ]
     },
     "metadata": {},
     "output_type": "display_data"
    },
    {
     "name": "stdout",
     "output_type": "stream",
     "text": [
      "   ✅ NIRv export completed: NIRv_2018_05.tif\n",
      "✅ 2018_05 successfully exported\n",
      "\n",
      "--- Processing 2018_06 ---\n",
      "    🛰️  Trying Sentinel-2...\n",
      "      📅 Expanding time window ±5 days: 2018-05-27 to 2018-07-05\n",
      "      ✅ Found 15 images\n",
      "    🛰️  Falling back to Landsat...\n",
      "      📅 Expanding time window ±5 days: 2018-05-27 to 2018-07-05\n",
      "      ✅ Found 2 images\n",
      "   📤 Preparing to export NDVI: NDVI_2018_06.tif\n"
     ]
    },
    {
     "data": {
      "application/vnd.jupyter.widget-view+json": {
       "model_id": "483616e0d50446eb97ce584d63e6d8c1",
       "version_major": 2,
       "version_minor": 0
      },
      "text/plain": [
       "NDVI_2018_06.tif: |          | 0.00/1.82M (raw) [  0.0%] in 00:00 (eta:     ?)"
      ]
     },
     "metadata": {},
     "output_type": "display_data"
    },
    {
     "name": "stdout",
     "output_type": "stream",
     "text": [
      "   ✅ NDVI export completed: NDVI_2018_06.tif\n",
      "   📤 Preparing to export NIRv: NIRv_2018_06.tif\n"
     ]
    },
    {
     "data": {
      "application/vnd.jupyter.widget-view+json": {
       "model_id": "eec4bcf98d6f480195366239a01621e5",
       "version_major": 2,
       "version_minor": 0
      },
      "text/plain": [
       "NIRv_2018_06.tif: |          | 0.00/3.64M (raw) [  0.0%] in 00:00 (eta:     ?)"
      ]
     },
     "metadata": {},
     "output_type": "display_data"
    },
    {
     "name": "stdout",
     "output_type": "stream",
     "text": [
      "   ✅ NIRv export completed: NIRv_2018_06.tif\n",
      "✅ 2018_06 successfully exported\n",
      "\n",
      "--- Processing 2018_07 ---\n",
      "    🛰️  Trying Sentinel-2...\n",
      "      📅 Expanding time window ±5 days: 2018-06-26 to 2018-08-05\n",
      "      ✅ Found 28 images\n",
      "    🛰️  Falling back to Landsat...\n",
      "      📅 Expanding time window ±5 days: 2018-06-26 to 2018-08-05\n",
      "      ✅ Found 4 images\n",
      "   📤 Preparing to export NDVI: NDVI_2018_07.tif\n"
     ]
    },
    {
     "data": {
      "application/vnd.jupyter.widget-view+json": {
       "model_id": "4fdc4c3d1bcf473dbff4b60f4425affc",
       "version_major": 2,
       "version_minor": 0
      },
      "text/plain": [
       "NDVI_2018_07.tif: |          | 0.00/1.82M (raw) [  0.0%] in 00:00 (eta:     ?)"
      ]
     },
     "metadata": {},
     "output_type": "display_data"
    },
    {
     "name": "stdout",
     "output_type": "stream",
     "text": [
      "   ✅ NDVI export completed: NDVI_2018_07.tif\n",
      "   📤 Preparing to export NIRv: NIRv_2018_07.tif\n"
     ]
    },
    {
     "data": {
      "application/vnd.jupyter.widget-view+json": {
       "model_id": "0c521250787c408a8f94532486d5a90b",
       "version_major": 2,
       "version_minor": 0
      },
      "text/plain": [
       "NIRv_2018_07.tif: |          | 0.00/3.64M (raw) [  0.0%] in 00:00 (eta:     ?)"
      ]
     },
     "metadata": {},
     "output_type": "display_data"
    },
    {
     "name": "stdout",
     "output_type": "stream",
     "text": [
      "   ✅ NIRv export completed: NIRv_2018_07.tif\n",
      "✅ 2018_07 successfully exported\n",
      "\n",
      "--- Processing 2018_08 ---\n",
      "    🛰️  Trying Sentinel-2...\n",
      "      📅 Expanding time window ±5 days: 2018-07-27 to 2018-09-05\n",
      "      ✅ Found 14 images\n",
      "    🛰️  Falling back to Landsat...\n",
      "      📅 Expanding time window ±5 days: 2018-07-27 to 2018-09-05\n",
      "      ✅ Found 1 images\n",
      "   📤 Preparing to export NDVI: NDVI_2018_08.tif\n"
     ]
    },
    {
     "data": {
      "application/vnd.jupyter.widget-view+json": {
       "model_id": "3e2aaf216d9b4ad8a2922bc5ce5eb45d",
       "version_major": 2,
       "version_minor": 0
      },
      "text/plain": [
       "NDVI_2018_08.tif: |          | 0.00/1.82M (raw) [  0.0%] in 00:00 (eta:     ?)"
      ]
     },
     "metadata": {},
     "output_type": "display_data"
    },
    {
     "name": "stdout",
     "output_type": "stream",
     "text": [
      "   ✅ NDVI export completed: NDVI_2018_08.tif\n",
      "   📤 Preparing to export NIRv: NIRv_2018_08.tif\n"
     ]
    },
    {
     "data": {
      "application/vnd.jupyter.widget-view+json": {
       "model_id": "f2ee951a46b14bd2a77ccc5b6694ea73",
       "version_major": 2,
       "version_minor": 0
      },
      "text/plain": [
       "NIRv_2018_08.tif: |          | 0.00/3.64M (raw) [  0.0%] in 00:00 (eta:     ?)"
      ]
     },
     "metadata": {},
     "output_type": "display_data"
    },
    {
     "name": "stdout",
     "output_type": "stream",
     "text": [
      "   ✅ NIRv export completed: NIRv_2018_08.tif\n",
      "✅ 2018_08 successfully exported\n",
      "\n",
      "--- Processing 2018_09 ---\n",
      "    🛰️  Trying Sentinel-2...\n",
      "      📅 Expanding time window ±7 days: 2018-08-25 to 2018-10-07\n",
      "      ✅ Found 20 images\n",
      "    🛰️  Falling back to Landsat...\n",
      "      📅 Expanding time window ±7 days: 2018-08-25 to 2018-10-07\n",
      "      ✅ Found 2 images\n",
      "      🔧 Using relaxed masking mode (clouds only)\n",
      "      🔧 Using relaxed masking mode (clouds only)\n",
      "      🔧 Using relaxed masking mode (clouds only)\n",
      "   📤 Preparing to export NDVI: NDVI_2018_09.tif\n"
     ]
    },
    {
     "data": {
      "application/vnd.jupyter.widget-view+json": {
       "model_id": "486e5043225f49719084d878e0de8dfa",
       "version_major": 2,
       "version_minor": 0
      },
      "text/plain": [
       "NDVI_2018_09.tif: |          | 0.00/1.82M (raw) [  0.0%] in 00:00 (eta:     ?)"
      ]
     },
     "metadata": {},
     "output_type": "display_data"
    },
    {
     "name": "stdout",
     "output_type": "stream",
     "text": [
      "   ✅ NDVI export completed: NDVI_2018_09.tif\n",
      "   📤 Preparing to export NIRv: NIRv_2018_09.tif\n"
     ]
    },
    {
     "data": {
      "application/vnd.jupyter.widget-view+json": {
       "model_id": "3c14badf0c3f495ba1fdb6dab2f162a3",
       "version_major": 2,
       "version_minor": 0
      },
      "text/plain": [
       "NIRv_2018_09.tif: |          | 0.00/3.64M (raw) [  0.0%] in 00:00 (eta:     ?)"
      ]
     },
     "metadata": {},
     "output_type": "display_data"
    },
    {
     "name": "stdout",
     "output_type": "stream",
     "text": [
      "   ✅ NIRv export completed: NIRv_2018_09.tif\n",
      "✅ 2018_09 successfully exported\n",
      "\n",
      "--- Processing 2018_10 ---\n",
      "    🛰️  Trying Sentinel-2...\n",
      "      📅 Expanding time window ±7 days: 2018-09-24 to 2018-11-07\n",
      "      ✅ Found 20 images\n",
      "    🛰️  Falling back to Landsat...\n",
      "      📅 Expanding time window ±7 days: 2018-09-24 to 2018-11-07\n",
      "      ✅ Found 2 images\n",
      "      🔧 Using relaxed masking mode (clouds only)\n",
      "      🔧 Using relaxed masking mode (clouds only)\n",
      "      🔧 Using relaxed masking mode (clouds only)\n",
      "   📤 Preparing to export NDVI: NDVI_2018_10.tif\n"
     ]
    },
    {
     "data": {
      "application/vnd.jupyter.widget-view+json": {
       "model_id": "b7c9d544c64d4503813f49b95a143b29",
       "version_major": 2,
       "version_minor": 0
      },
      "text/plain": [
       "NDVI_2018_10.tif: |          | 0.00/1.82M (raw) [  0.0%] in 00:00 (eta:     ?)"
      ]
     },
     "metadata": {},
     "output_type": "display_data"
    },
    {
     "name": "stdout",
     "output_type": "stream",
     "text": [
      "   ✅ NDVI export completed: NDVI_2018_10.tif\n",
      "   📤 Preparing to export NIRv: NIRv_2018_10.tif\n"
     ]
    },
    {
     "data": {
      "application/vnd.jupyter.widget-view+json": {
       "model_id": "680b98867ab04888b15663d69dd5b41c",
       "version_major": 2,
       "version_minor": 0
      },
      "text/plain": [
       "NIRv_2018_10.tif: |          | 0.00/3.64M (raw) [  0.0%] in 00:00 (eta:     ?)"
      ]
     },
     "metadata": {},
     "output_type": "display_data"
    },
    {
     "name": "stdout",
     "output_type": "stream",
     "text": [
      "   ✅ NIRv export completed: NIRv_2018_10.tif\n",
      "✅ 2018_10 successfully exported\n",
      "\n",
      "--- Processing 2018_11 ---\n",
      "    🛰️  Trying Sentinel-2...\n",
      "      📅 Expanding time window ±7 days: 2018-10-25 to 2018-12-07\n",
      "      ✅ Found 9 images\n",
      "    🛰️  Falling back to Landsat...\n",
      "      📅 Expanding time window ±7 days: 2018-10-25 to 2018-12-07\n",
      "      ✅ Found 2 images\n",
      "      🔧 Using relaxed masking mode (clouds only)\n",
      "      🔧 Using relaxed masking mode (clouds only)\n",
      "      🔧 Using relaxed masking mode (clouds only)\n",
      "   📤 Preparing to export NDVI: NDVI_2018_11.tif\n"
     ]
    },
    {
     "data": {
      "application/vnd.jupyter.widget-view+json": {
       "model_id": "816e98a6873a4a799c0774726d51785c",
       "version_major": 2,
       "version_minor": 0
      },
      "text/plain": [
       "NDVI_2018_11.tif: |          | 0.00/1.82M (raw) [  0.0%] in 00:00 (eta:     ?)"
      ]
     },
     "metadata": {},
     "output_type": "display_data"
    },
    {
     "name": "stdout",
     "output_type": "stream",
     "text": [
      "   ✅ NDVI export completed: NDVI_2018_11.tif\n",
      "   📤 Preparing to export NIRv: NIRv_2018_11.tif\n"
     ]
    },
    {
     "data": {
      "application/vnd.jupyter.widget-view+json": {
       "model_id": "e50422c1f6594985a1a1f83fbef4ea4e",
       "version_major": 2,
       "version_minor": 0
      },
      "text/plain": [
       "NIRv_2018_11.tif: |          | 0.00/3.64M (raw) [  0.0%] in 00:00 (eta:     ?)"
      ]
     },
     "metadata": {},
     "output_type": "display_data"
    },
    {
     "name": "stdout",
     "output_type": "stream",
     "text": [
      "   ✅ NIRv export completed: NIRv_2018_11.tif\n",
      "✅ 2018_11 successfully exported\n",
      "\n",
      "--- Processing 2018_12 ---\n",
      "    🛰️  Trying Sentinel-2...\n",
      "      📅 Expanding time window ±7 days: 2018-11-24 to 2019-01-07\n",
      "      ✅ Found 6 images\n",
      "    🛰️  Falling back to Landsat...\n",
      "      📅 Expanding time window ±7 days: 2018-11-24 to 2019-01-07\n",
      "      ✅ Found 1 images\n",
      "      🔧 Using relaxed masking mode (clouds only)\n",
      "      🔧 Using relaxed masking mode (clouds only)\n",
      "      🔧 Using relaxed masking mode (clouds only)\n",
      "   📤 Preparing to export NDVI: NDVI_2018_12.tif\n"
     ]
    },
    {
     "data": {
      "application/vnd.jupyter.widget-view+json": {
       "model_id": "2e80b15d93ce45e5a2c97981f6dd2d54",
       "version_major": 2,
       "version_minor": 0
      },
      "text/plain": [
       "NDVI_2018_12.tif: |          | 0.00/1.82M (raw) [  0.0%] in 00:00 (eta:     ?)"
      ]
     },
     "metadata": {},
     "output_type": "display_data"
    },
    {
     "name": "stdout",
     "output_type": "stream",
     "text": [
      "   ✅ NDVI export completed: NDVI_2018_12.tif\n",
      "   📤 Preparing to export NIRv: NIRv_2018_12.tif\n"
     ]
    },
    {
     "data": {
      "application/vnd.jupyter.widget-view+json": {
       "model_id": "70071ca8504f49c5bb73aa2643ed89d6",
       "version_major": 2,
       "version_minor": 0
      },
      "text/plain": [
       "NIRv_2018_12.tif: |          | 0.00/3.64M (raw) [  0.0%] in 00:00 (eta:     ?)"
      ]
     },
     "metadata": {},
     "output_type": "display_data"
    },
    {
     "name": "stdout",
     "output_type": "stream",
     "text": [
      "   ✅ NIRv export completed: NIRv_2018_12.tif\n",
      "✅ 2018_12 successfully exported\n",
      "\n",
      "--- Processing 2019_01 ---\n",
      "    🛰️  Trying Sentinel-2...\n",
      "      📅 Expanding time window ±7 days: 2018-12-25 to 2019-02-07\n",
      "      ✅ Found 6 images\n",
      "    🛰️  Falling back to Landsat...\n",
      "      📅 Expanding time window ±7 days: 2018-12-25 to 2019-02-07\n",
      "      ✅ Found 1 images\n",
      "      🔧 Using relaxed masking mode (clouds only)\n",
      "      🔧 Using relaxed masking mode (clouds only)\n",
      "      🔧 Using relaxed masking mode (clouds only)\n",
      "   📤 Preparing to export NDVI: NDVI_2019_01.tif\n"
     ]
    },
    {
     "data": {
      "application/vnd.jupyter.widget-view+json": {
       "model_id": "74722ffbe477473f97e3805638fd9038",
       "version_major": 2,
       "version_minor": 0
      },
      "text/plain": [
       "NDVI_2019_01.tif: |          | 0.00/1.82M (raw) [  0.0%] in 00:00 (eta:     ?)"
      ]
     },
     "metadata": {},
     "output_type": "display_data"
    },
    {
     "name": "stdout",
     "output_type": "stream",
     "text": [
      "   ✅ NDVI export completed: NDVI_2019_01.tif\n",
      "   📤 Preparing to export NIRv: NIRv_2019_01.tif\n"
     ]
    },
    {
     "data": {
      "application/vnd.jupyter.widget-view+json": {
       "model_id": "99d748547db94ed39ebff82fb048e98d",
       "version_major": 2,
       "version_minor": 0
      },
      "text/plain": [
       "NIRv_2019_01.tif: |          | 0.00/3.64M (raw) [  0.0%] in 00:00 (eta:     ?)"
      ]
     },
     "metadata": {},
     "output_type": "display_data"
    },
    {
     "name": "stdout",
     "output_type": "stream",
     "text": [
      "   ✅ NIRv export completed: NIRv_2019_01.tif\n",
      "✅ 2019_01 successfully exported\n",
      "\n",
      "--- Processing 2019_02 ---\n",
      "    🛰️  Trying Sentinel-2...\n",
      "      📅 Expanding time window ±7 days: 2019-01-25 to 2019-03-07\n",
      "      ✅ Found 10 images\n",
      "    🛰️  Falling back to Landsat...\n",
      "      📅 Expanding time window ±7 days: 2019-01-25 to 2019-03-07\n",
      "      ✅ Found 1 images\n",
      "      🔧 Using relaxed masking mode (clouds only)\n",
      "      🔧 Using relaxed masking mode (clouds only)\n",
      "      🔧 Using relaxed masking mode (clouds only)\n",
      "   📤 Preparing to export NDVI: NDVI_2019_02.tif\n"
     ]
    },
    {
     "data": {
      "application/vnd.jupyter.widget-view+json": {
       "model_id": "7c8496e5bee046229e17d29632c62b9e",
       "version_major": 2,
       "version_minor": 0
      },
      "text/plain": [
       "NDVI_2019_02.tif: |          | 0.00/1.82M (raw) [  0.0%] in 00:00 (eta:     ?)"
      ]
     },
     "metadata": {},
     "output_type": "display_data"
    },
    {
     "name": "stdout",
     "output_type": "stream",
     "text": [
      "   ✅ NDVI export completed: NDVI_2019_02.tif\n",
      "   📤 Preparing to export NIRv: NIRv_2019_02.tif\n"
     ]
    },
    {
     "data": {
      "application/vnd.jupyter.widget-view+json": {
       "model_id": "6a9a3c25d8404a7b94b88df65c77410a",
       "version_major": 2,
       "version_minor": 0
      },
      "text/plain": [
       "NIRv_2019_02.tif: |          | 0.00/3.64M (raw) [  0.0%] in 00:00 (eta:     ?)"
      ]
     },
     "metadata": {},
     "output_type": "display_data"
    },
    {
     "name": "stdout",
     "output_type": "stream",
     "text": [
      "   ✅ NIRv export completed: NIRv_2019_02.tif\n",
      "✅ 2019_02 successfully exported\n",
      "\n",
      "--- Processing 2019_03 ---\n",
      "    🛰️  Trying Sentinel-2...\n",
      "      📅 Expanding time window ±7 days: 2019-02-22 to 2019-04-07\n",
      "      ✅ Found 17 images\n",
      "    🛰️  Falling back to Landsat...\n",
      "      📅 Expanding time window ±7 days: 2019-02-22 to 2019-04-07\n",
      "      ✅ Found 1 images\n",
      "      🔧 Using relaxed masking mode (clouds only)\n",
      "      🔧 Using relaxed masking mode (clouds only)\n",
      "      🔧 Using relaxed masking mode (clouds only)\n",
      "   📤 Preparing to export NDVI: NDVI_2019_03.tif\n"
     ]
    },
    {
     "data": {
      "application/vnd.jupyter.widget-view+json": {
       "model_id": "f49f1e6a32d945b3bb623236c585d2cf",
       "version_major": 2,
       "version_minor": 0
      },
      "text/plain": [
       "NDVI_2019_03.tif: |          | 0.00/1.82M (raw) [  0.0%] in 00:00 (eta:     ?)"
      ]
     },
     "metadata": {},
     "output_type": "display_data"
    },
    {
     "name": "stdout",
     "output_type": "stream",
     "text": [
      "   ✅ NDVI export completed: NDVI_2019_03.tif\n",
      "   📤 Preparing to export NIRv: NIRv_2019_03.tif\n"
     ]
    },
    {
     "data": {
      "application/vnd.jupyter.widget-view+json": {
       "model_id": "a00dab53798d46ae9c9ed23a3853daa1",
       "version_major": 2,
       "version_minor": 0
      },
      "text/plain": [
       "NIRv_2019_03.tif: |          | 0.00/3.64M (raw) [  0.0%] in 00:00 (eta:     ?)"
      ]
     },
     "metadata": {},
     "output_type": "display_data"
    },
    {
     "name": "stdout",
     "output_type": "stream",
     "text": [
      "   ✅ NIRv export completed: NIRv_2019_03.tif\n",
      "✅ 2019_03 successfully exported\n",
      "\n",
      "--- Processing 2019_04 ---\n",
      "    🛰️  Trying Sentinel-2...\n",
      "      📅 Expanding time window ±7 days: 2019-03-25 to 2019-05-07\n",
      "      ✅ Found 19 images\n",
      "    🛰️  Falling back to Landsat...\n",
      "      📅 Expanding time window ±7 days: 2019-03-25 to 2019-05-07\n",
      "      ✅ Found 2 images\n",
      "      🔧 Using relaxed masking mode (clouds only)\n",
      "      🔧 Using relaxed masking mode (clouds only)\n",
      "      🔧 Using relaxed masking mode (clouds only)\n",
      "   📤 Preparing to export NDVI: NDVI_2019_04.tif\n"
     ]
    },
    {
     "data": {
      "application/vnd.jupyter.widget-view+json": {
       "model_id": "955b03111c244a2db84d90c41f7df1a2",
       "version_major": 2,
       "version_minor": 0
      },
      "text/plain": [
       "NDVI_2019_04.tif: |          | 0.00/1.82M (raw) [  0.0%] in 00:00 (eta:     ?)"
      ]
     },
     "metadata": {},
     "output_type": "display_data"
    },
    {
     "name": "stdout",
     "output_type": "stream",
     "text": [
      "   ✅ NDVI export completed: NDVI_2019_04.tif\n",
      "   📤 Preparing to export NIRv: NIRv_2019_04.tif\n"
     ]
    },
    {
     "data": {
      "application/vnd.jupyter.widget-view+json": {
       "model_id": "ff49f860d6714b21887c7aabe1f07ef1",
       "version_major": 2,
       "version_minor": 0
      },
      "text/plain": [
       "NIRv_2019_04.tif: |          | 0.00/3.64M (raw) [  0.0%] in 00:00 (eta:     ?)"
      ]
     },
     "metadata": {},
     "output_type": "display_data"
    },
    {
     "name": "stdout",
     "output_type": "stream",
     "text": [
      "   ✅ NIRv export completed: NIRv_2019_04.tif\n",
      "✅ 2019_04 successfully exported\n",
      "\n",
      "--- Processing 2019_05 ---\n",
      "    🛰️  Trying Sentinel-2...\n",
      "      📅 Expanding time window ±7 days: 2019-04-24 to 2019-06-07\n",
      "      ✅ Found 7 images\n",
      "    🛰️  Falling back to Landsat...\n",
      "      📅 Expanding time window ±7 days: 2019-04-24 to 2019-06-07\n",
      "      ✅ Found 1 images\n",
      "      🔧 Using relaxed masking mode (clouds only)\n",
      "      🔧 Using relaxed masking mode (clouds only)\n",
      "      🔧 Using relaxed masking mode (clouds only)\n",
      "   📤 Preparing to export NDVI: NDVI_2019_05.tif\n"
     ]
    },
    {
     "data": {
      "application/vnd.jupyter.widget-view+json": {
       "model_id": "ee24fe07f7194f4999bf59bac1f45af6",
       "version_major": 2,
       "version_minor": 0
      },
      "text/plain": [
       "NDVI_2019_05.tif: |          | 0.00/1.82M (raw) [  0.0%] in 00:00 (eta:     ?)"
      ]
     },
     "metadata": {},
     "output_type": "display_data"
    },
    {
     "name": "stdout",
     "output_type": "stream",
     "text": [
      "   ✅ NDVI export completed: NDVI_2019_05.tif\n",
      "   📤 Preparing to export NIRv: NIRv_2019_05.tif\n"
     ]
    },
    {
     "data": {
      "application/vnd.jupyter.widget-view+json": {
       "model_id": "8ccdabf1e55544d49d1b8c3366becdbf",
       "version_major": 2,
       "version_minor": 0
      },
      "text/plain": [
       "NIRv_2019_05.tif: |          | 0.00/3.64M (raw) [  0.0%] in 00:00 (eta:     ?)"
      ]
     },
     "metadata": {},
     "output_type": "display_data"
    },
    {
     "name": "stdout",
     "output_type": "stream",
     "text": [
      "   ✅ NIRv export completed: NIRv_2019_05.tif\n",
      "✅ 2019_05 successfully exported\n",
      "\n",
      "--- Processing 2019_06 ---\n",
      "    🛰️  Trying Sentinel-2...\n",
      "      📅 Expanding time window ±5 days: 2019-05-27 to 2019-07-05\n",
      "      ✅ Found 15 images\n",
      "    🛰️  Falling back to Landsat...\n",
      "      📅 Expanding time window ±5 days: 2019-05-27 to 2019-07-05\n",
      "      ✅ Found 1 images\n",
      "   📤 Preparing to export NDVI: NDVI_2019_06.tif\n"
     ]
    },
    {
     "data": {
      "application/vnd.jupyter.widget-view+json": {
       "model_id": "a599d8bae9b6434fb5bfee2404241955",
       "version_major": 2,
       "version_minor": 0
      },
      "text/plain": [
       "NDVI_2019_06.tif: |          | 0.00/1.82M (raw) [  0.0%] in 00:00 (eta:     ?)"
      ]
     },
     "metadata": {},
     "output_type": "display_data"
    },
    {
     "name": "stdout",
     "output_type": "stream",
     "text": [
      "   ✅ NDVI export completed: NDVI_2019_06.tif\n",
      "   📤 Preparing to export NIRv: NIRv_2019_06.tif\n"
     ]
    },
    {
     "data": {
      "application/vnd.jupyter.widget-view+json": {
       "model_id": "15e034aeb2684173affe6906a4de4dfe",
       "version_major": 2,
       "version_minor": 0
      },
      "text/plain": [
       "NIRv_2019_06.tif: |          | 0.00/3.64M (raw) [  0.0%] in 00:00 (eta:     ?)"
      ]
     },
     "metadata": {},
     "output_type": "display_data"
    },
    {
     "name": "stdout",
     "output_type": "stream",
     "text": [
      "   ✅ NIRv export completed: NIRv_2019_06.tif\n",
      "✅ 2019_06 successfully exported\n",
      "\n",
      "--- Processing 2019_07 ---\n",
      "    🛰️  Trying Sentinel-2...\n",
      "      📅 Expanding time window ±5 days: 2019-06-26 to 2019-08-05\n",
      "      ✅ Found 22 images\n",
      "    🛰️  Falling back to Landsat...\n",
      "      📅 Expanding time window ±5 days: 2019-06-26 to 2019-08-05\n",
      "      ✅ Found 2 images\n",
      "   📤 Preparing to export NDVI: NDVI_2019_07.tif\n"
     ]
    },
    {
     "data": {
      "application/vnd.jupyter.widget-view+json": {
       "model_id": "50f868b198cd4ee7b759d5fa0a8f06cc",
       "version_major": 2,
       "version_minor": 0
      },
      "text/plain": [
       "NDVI_2019_07.tif: |          | 0.00/1.82M (raw) [  0.0%] in 00:00 (eta:     ?)"
      ]
     },
     "metadata": {},
     "output_type": "display_data"
    },
    {
     "name": "stdout",
     "output_type": "stream",
     "text": [
      "   ✅ NDVI export completed: NDVI_2019_07.tif\n",
      "   📤 Preparing to export NIRv: NIRv_2019_07.tif\n"
     ]
    },
    {
     "data": {
      "application/vnd.jupyter.widget-view+json": {
       "model_id": "294def3686e04a64a8e1d9d664cd0b77",
       "version_major": 2,
       "version_minor": 0
      },
      "text/plain": [
       "NIRv_2019_07.tif: |          | 0.00/3.64M (raw) [  0.0%] in 00:00 (eta:     ?)"
      ]
     },
     "metadata": {},
     "output_type": "display_data"
    },
    {
     "name": "stdout",
     "output_type": "stream",
     "text": [
      "   ✅ NIRv export completed: NIRv_2019_07.tif\n",
      "✅ 2019_07 successfully exported\n",
      "\n",
      "--- Processing 2019_08 ---\n",
      "    🛰️  Trying Sentinel-2...\n",
      "      📅 Expanding time window ±5 days: 2019-07-27 to 2019-09-05\n",
      "      ✅ Found 20 images\n",
      "    🛰️  Falling back to Landsat...\n",
      "      📅 Expanding time window ±5 days: 2019-07-27 to 2019-09-05\n",
      "      ✅ Found 4 images\n",
      "   📤 Preparing to export NDVI: NDVI_2019_08.tif\n"
     ]
    },
    {
     "data": {
      "application/vnd.jupyter.widget-view+json": {
       "model_id": "b81d82378473479fbadb45b3039f4daf",
       "version_major": 2,
       "version_minor": 0
      },
      "text/plain": [
       "NDVI_2019_08.tif: |          | 0.00/1.82M (raw) [  0.0%] in 00:00 (eta:     ?)"
      ]
     },
     "metadata": {},
     "output_type": "display_data"
    },
    {
     "name": "stdout",
     "output_type": "stream",
     "text": [
      "   ✅ NDVI export completed: NDVI_2019_08.tif\n",
      "   📤 Preparing to export NIRv: NIRv_2019_08.tif\n"
     ]
    },
    {
     "data": {
      "application/vnd.jupyter.widget-view+json": {
       "model_id": "38eb165678694a1d941a9a9c298af0c6",
       "version_major": 2,
       "version_minor": 0
      },
      "text/plain": [
       "NIRv_2019_08.tif: |          | 0.00/3.64M (raw) [  0.0%] in 00:00 (eta:     ?)"
      ]
     },
     "metadata": {},
     "output_type": "display_data"
    },
    {
     "name": "stdout",
     "output_type": "stream",
     "text": [
      "   ✅ NIRv export completed: NIRv_2019_08.tif\n",
      "✅ 2019_08 successfully exported\n",
      "\n",
      "--- Processing 2019_09 ---\n",
      "    🛰️  Trying Sentinel-2...\n",
      "      📅 Expanding time window ±7 days: 2019-08-25 to 2019-10-07\n",
      "      ✅ Found 11 images\n",
      "    🛰️  Falling back to Landsat...\n",
      "      📅 Expanding time window ±7 days: 2019-08-25 to 2019-10-07\n",
      "      ✅ Found 2 images\n",
      "      🔧 Using relaxed masking mode (clouds only)\n",
      "      🔧 Using relaxed masking mode (clouds only)\n",
      "      🔧 Using relaxed masking mode (clouds only)\n",
      "   📤 Preparing to export NDVI: NDVI_2019_09.tif\n"
     ]
    },
    {
     "data": {
      "application/vnd.jupyter.widget-view+json": {
       "model_id": "ea90973123de4152a1205417bfb705f4",
       "version_major": 2,
       "version_minor": 0
      },
      "text/plain": [
       "NDVI_2019_09.tif: |          | 0.00/1.82M (raw) [  0.0%] in 00:00 (eta:     ?)"
      ]
     },
     "metadata": {},
     "output_type": "display_data"
    },
    {
     "name": "stdout",
     "output_type": "stream",
     "text": [
      "   ✅ NDVI export completed: NDVI_2019_09.tif\n",
      "   📤 Preparing to export NIRv: NIRv_2019_09.tif\n"
     ]
    },
    {
     "data": {
      "application/vnd.jupyter.widget-view+json": {
       "model_id": "6b1a6eed4ecd476db32be786ee55969c",
       "version_major": 2,
       "version_minor": 0
      },
      "text/plain": [
       "NIRv_2019_09.tif: |          | 0.00/3.64M (raw) [  0.0%] in 00:00 (eta:     ?)"
      ]
     },
     "metadata": {},
     "output_type": "display_data"
    },
    {
     "name": "stdout",
     "output_type": "stream",
     "text": [
      "   ✅ NIRv export completed: NIRv_2019_09.tif\n",
      "✅ 2019_09 successfully exported\n",
      "\n",
      "--- Processing 2019_10 ---\n",
      "    🛰️  Trying Sentinel-2...\n",
      "      📅 Expanding time window ±7 days: 2019-09-24 to 2019-11-07\n",
      "      ✅ Found 5 images\n",
      "    🛰️  Falling back to Landsat...\n",
      "      📅 Expanding time window ±7 days: 2019-09-24 to 2019-11-07\n",
      "      ✅ Found 1 images\n",
      "      🔧 Using relaxed masking mode (clouds only)\n",
      "      🔧 Using relaxed masking mode (clouds only)\n",
      "      🔧 Using relaxed masking mode (clouds only)\n",
      "   📤 Preparing to export NDVI: NDVI_2019_10.tif\n"
     ]
    },
    {
     "data": {
      "application/vnd.jupyter.widget-view+json": {
       "model_id": "b44a1b435e154cfdbdf4ded9c70d701b",
       "version_major": 2,
       "version_minor": 0
      },
      "text/plain": [
       "NDVI_2019_10.tif: |          | 0.00/1.82M (raw) [  0.0%] in 00:00 (eta:     ?)"
      ]
     },
     "metadata": {},
     "output_type": "display_data"
    },
    {
     "name": "stdout",
     "output_type": "stream",
     "text": [
      "   ✅ NDVI export completed: NDVI_2019_10.tif\n",
      "   📤 Preparing to export NIRv: NIRv_2019_10.tif\n"
     ]
    },
    {
     "data": {
      "application/vnd.jupyter.widget-view+json": {
       "model_id": "5c511270ad204d79ad2be0de98777d73",
       "version_major": 2,
       "version_minor": 0
      },
      "text/plain": [
       "NIRv_2019_10.tif: |          | 0.00/3.64M (raw) [  0.0%] in 00:00 (eta:     ?)"
      ]
     },
     "metadata": {},
     "output_type": "display_data"
    },
    {
     "name": "stdout",
     "output_type": "stream",
     "text": [
      "   ✅ NIRv export completed: NIRv_2019_10.tif\n",
      "✅ 2019_10 successfully exported\n",
      "\n",
      "--- Processing 2019_11 ---\n",
      "    🛰️  Trying Sentinel-2...\n",
      "      📅 Expanding time window ±7 days: 2019-10-25 to 2019-12-07\n",
      "      ✅ Found 18 images\n",
      "    🛰️  Falling back to Landsat...\n",
      "      📅 Expanding time window ±7 days: 2019-10-25 to 2019-12-07\n",
      "      ✅ Found 2 images\n",
      "      🔧 Using relaxed masking mode (clouds only)\n",
      "      🔧 Using relaxed masking mode (clouds only)\n",
      "      🔧 Using relaxed masking mode (clouds only)\n",
      "   📤 Preparing to export NDVI: NDVI_2019_11.tif\n"
     ]
    },
    {
     "data": {
      "application/vnd.jupyter.widget-view+json": {
       "model_id": "b2ac9ec81cb24af7a0ac8f1595148db0",
       "version_major": 2,
       "version_minor": 0
      },
      "text/plain": [
       "NDVI_2019_11.tif: |          | 0.00/1.82M (raw) [  0.0%] in 00:00 (eta:     ?)"
      ]
     },
     "metadata": {},
     "output_type": "display_data"
    },
    {
     "name": "stdout",
     "output_type": "stream",
     "text": [
      "   ✅ NDVI export completed: NDVI_2019_11.tif\n",
      "   📤 Preparing to export NIRv: NIRv_2019_11.tif\n"
     ]
    },
    {
     "data": {
      "application/vnd.jupyter.widget-view+json": {
       "model_id": "565ee589acd04ccf9def3b2a8f292b4a",
       "version_major": 2,
       "version_minor": 0
      },
      "text/plain": [
       "NIRv_2019_11.tif: |          | 0.00/3.64M (raw) [  0.0%] in 00:00 (eta:     ?)"
      ]
     },
     "metadata": {},
     "output_type": "display_data"
    },
    {
     "name": "stdout",
     "output_type": "stream",
     "text": [
      "   ✅ NIRv export completed: NIRv_2019_11.tif\n",
      "✅ 2019_11 successfully exported\n",
      "\n",
      "--- Processing 2019_12 ---\n",
      "    🛰️  Trying Sentinel-2...\n",
      "      📅 Expanding time window ±7 days: 2019-11-24 to 2020-01-07\n",
      "      ✅ Found 20 images\n",
      "    🛰️  Falling back to Landsat...\n",
      "      📅 Expanding time window ±7 days: 2019-11-24 to 2020-01-07\n",
      "      ✅ Found 1 images\n",
      "      🔧 Using relaxed masking mode (clouds only)\n",
      "      🔧 Using relaxed masking mode (clouds only)\n",
      "      🔧 Using relaxed masking mode (clouds only)\n",
      "   📤 Preparing to export NDVI: NDVI_2019_12.tif\n"
     ]
    },
    {
     "data": {
      "application/vnd.jupyter.widget-view+json": {
       "model_id": "395477ea23ee4b50a14f7497d7cbb549",
       "version_major": 2,
       "version_minor": 0
      },
      "text/plain": [
       "NDVI_2019_12.tif: |          | 0.00/1.82M (raw) [  0.0%] in 00:00 (eta:     ?)"
      ]
     },
     "metadata": {},
     "output_type": "display_data"
    },
    {
     "name": "stdout",
     "output_type": "stream",
     "text": [
      "   ✅ NDVI export completed: NDVI_2019_12.tif\n",
      "   📤 Preparing to export NIRv: NIRv_2019_12.tif\n"
     ]
    },
    {
     "data": {
      "application/vnd.jupyter.widget-view+json": {
       "model_id": "3370c026d372471fba33a021dc1e9168",
       "version_major": 2,
       "version_minor": 0
      },
      "text/plain": [
       "NIRv_2019_12.tif: |          | 0.00/3.64M (raw) [  0.0%] in 00:00 (eta:     ?)"
      ]
     },
     "metadata": {},
     "output_type": "display_data"
    },
    {
     "name": "stdout",
     "output_type": "stream",
     "text": [
      "   ✅ NIRv export completed: NIRv_2019_12.tif\n",
      "✅ 2019_12 successfully exported\n",
      "\n",
      "--- Processing 2020_01 ---\n",
      "    🛰️  Trying Sentinel-2...\n",
      "      📅 Expanding time window ±7 days: 2019-12-25 to 2020-02-07\n",
      "      ✅ Found 11 images\n",
      "    🛰️  Falling back to Landsat...\n",
      "      📅 Expanding time window ±7 days: 2019-12-25 to 2020-02-07\n",
      "      ✅ Found 2 images\n",
      "      🔧 Using relaxed masking mode (clouds only)\n",
      "      🔧 Using relaxed masking mode (clouds only)\n",
      "      🔧 Using relaxed masking mode (clouds only)\n",
      "   📤 Preparing to export NDVI: NDVI_2020_01.tif\n"
     ]
    },
    {
     "data": {
      "application/vnd.jupyter.widget-view+json": {
       "model_id": "e19b43008c204e8a91675e521ae1834e",
       "version_major": 2,
       "version_minor": 0
      },
      "text/plain": [
       "NDVI_2020_01.tif: |          | 0.00/1.82M (raw) [  0.0%] in 00:00 (eta:     ?)"
      ]
     },
     "metadata": {},
     "output_type": "display_data"
    },
    {
     "name": "stdout",
     "output_type": "stream",
     "text": [
      "   ✅ NDVI export completed: NDVI_2020_01.tif\n",
      "   📤 Preparing to export NIRv: NIRv_2020_01.tif\n"
     ]
    },
    {
     "data": {
      "application/vnd.jupyter.widget-view+json": {
       "model_id": "2ff6ec3d5dcf48d0aaab9b8cad63e83a",
       "version_major": 2,
       "version_minor": 0
      },
      "text/plain": [
       "NIRv_2020_01.tif: |          | 0.00/3.64M (raw) [  0.0%] in 00:00 (eta:     ?)"
      ]
     },
     "metadata": {},
     "output_type": "display_data"
    },
    {
     "name": "stdout",
     "output_type": "stream",
     "text": [
      "   ✅ NIRv export completed: NIRv_2020_01.tif\n",
      "✅ 2020_01 successfully exported\n",
      "\n",
      "--- Processing 2020_02 ---\n",
      "    🛰️  Trying Sentinel-2...\n",
      "      📅 Expanding time window ±7 days: 2020-01-25 to 2020-03-07\n",
      "      ✅ Found 14 images\n",
      "    🛰️  Falling back to Landsat...\n",
      "      📅 Expanding time window ±7 days: 2020-01-25 to 2020-03-07\n",
      "      ✅ Found 2 images\n",
      "      🔧 Using relaxed masking mode (clouds only)\n",
      "      🔧 Using relaxed masking mode (clouds only)\n",
      "      🔧 Using relaxed masking mode (clouds only)\n",
      "   📤 Preparing to export NDVI: NDVI_2020_02.tif\n"
     ]
    },
    {
     "data": {
      "application/vnd.jupyter.widget-view+json": {
       "model_id": "19c268f97c2642e0b12a81edf1bfbd39",
       "version_major": 2,
       "version_minor": 0
      },
      "text/plain": [
       "NDVI_2020_02.tif: |          | 0.00/1.82M (raw) [  0.0%] in 00:00 (eta:     ?)"
      ]
     },
     "metadata": {},
     "output_type": "display_data"
    },
    {
     "name": "stdout",
     "output_type": "stream",
     "text": [
      "   ✅ NDVI export completed: NDVI_2020_02.tif\n",
      "   📤 Preparing to export NIRv: NIRv_2020_02.tif\n"
     ]
    },
    {
     "data": {
      "application/vnd.jupyter.widget-view+json": {
       "model_id": "e0a5f5e8eed342baa4a6a85a4d2b4894",
       "version_major": 2,
       "version_minor": 0
      },
      "text/plain": [
       "NIRv_2020_02.tif: |          | 0.00/3.64M (raw) [  0.0%] in 00:00 (eta:     ?)"
      ]
     },
     "metadata": {},
     "output_type": "display_data"
    },
    {
     "name": "stdout",
     "output_type": "stream",
     "text": [
      "   ✅ NIRv export completed: NIRv_2020_02.tif\n",
      "✅ 2020_02 successfully exported\n",
      "\n",
      "--- Processing 2020_03 ---\n",
      "    🛰️  Trying Sentinel-2...\n",
      "      📅 Expanding time window ±7 days: 2020-02-23 to 2020-04-07\n",
      "      ✅ Found 24 images\n",
      "    🛰️  Falling back to Landsat...\n",
      "      📅 Expanding time window ±7 days: 2020-02-23 to 2020-04-07\n",
      "      ✅ Found 1 images\n",
      "      🔧 Using relaxed masking mode (clouds only)\n",
      "      🔧 Using relaxed masking mode (clouds only)\n",
      "      🔧 Using relaxed masking mode (clouds only)\n",
      "   📤 Preparing to export NDVI: NDVI_2020_03.tif\n"
     ]
    },
    {
     "data": {
      "application/vnd.jupyter.widget-view+json": {
       "model_id": "6a1aaa096e144cb29d8171eb56bfd7e9",
       "version_major": 2,
       "version_minor": 0
      },
      "text/plain": [
       "NDVI_2020_03.tif: |          | 0.00/1.82M (raw) [  0.0%] in 00:00 (eta:     ?)"
      ]
     },
     "metadata": {},
     "output_type": "display_data"
    },
    {
     "name": "stdout",
     "output_type": "stream",
     "text": [
      "   ✅ NDVI export completed: NDVI_2020_03.tif\n",
      "   📤 Preparing to export NIRv: NIRv_2020_03.tif\n"
     ]
    },
    {
     "data": {
      "application/vnd.jupyter.widget-view+json": {
       "model_id": "3917b0bda13a4196b32a25c32a168408",
       "version_major": 2,
       "version_minor": 0
      },
      "text/plain": [
       "NIRv_2020_03.tif: |          | 0.00/3.64M (raw) [  0.0%] in 00:00 (eta:     ?)"
      ]
     },
     "metadata": {},
     "output_type": "display_data"
    },
    {
     "name": "stdout",
     "output_type": "stream",
     "text": [
      "   ✅ NIRv export completed: NIRv_2020_03.tif\n",
      "✅ 2020_03 successfully exported\n",
      "\n",
      "--- Processing 2020_04 ---\n",
      "    🛰️  Trying Sentinel-2...\n",
      "      📅 Expanding time window ±7 days: 2020-03-25 to 2020-05-07\n",
      "      ✅ Found 39 images\n",
      "    🛰️  Falling back to Landsat...\n",
      "      📅 Expanding time window ±7 days: 2020-03-25 to 2020-05-07\n",
      "      ✅ Found 5 images\n",
      "      🔧 Using relaxed masking mode (clouds only)\n",
      "      🔧 Using relaxed masking mode (clouds only)\n",
      "      🔧 Using relaxed masking mode (clouds only)\n",
      "   📤 Preparing to export NDVI: NDVI_2020_04.tif\n"
     ]
    },
    {
     "data": {
      "application/vnd.jupyter.widget-view+json": {
       "model_id": "eaf280efda83493f8b704a697992d55c",
       "version_major": 2,
       "version_minor": 0
      },
      "text/plain": [
       "NDVI_2020_04.tif: |          | 0.00/1.82M (raw) [  0.0%] in 00:00 (eta:     ?)"
      ]
     },
     "metadata": {},
     "output_type": "display_data"
    },
    {
     "name": "stdout",
     "output_type": "stream",
     "text": [
      "   ✅ NDVI export completed: NDVI_2020_04.tif\n",
      "   📤 Preparing to export NIRv: NIRv_2020_04.tif\n"
     ]
    },
    {
     "data": {
      "application/vnd.jupyter.widget-view+json": {
       "model_id": "e67c1e1e9bad45899105f7ac8d5496e6",
       "version_major": 2,
       "version_minor": 0
      },
      "text/plain": [
       "NIRv_2020_04.tif: |          | 0.00/3.64M (raw) [  0.0%] in 00:00 (eta:     ?)"
      ]
     },
     "metadata": {},
     "output_type": "display_data"
    },
    {
     "name": "stdout",
     "output_type": "stream",
     "text": [
      "   ✅ NIRv export completed: NIRv_2020_04.tif\n",
      "✅ 2020_04 successfully exported\n",
      "\n",
      "--- Processing 2020_05 ---\n",
      "    🛰️  Trying Sentinel-2...\n",
      "      📅 Expanding time window ±7 days: 2020-04-24 to 2020-06-07\n",
      "      ✅ Found 16 images\n",
      "    🛰️  Falling back to Landsat...\n",
      "      📅 Expanding time window ±7 days: 2020-04-24 to 2020-06-07\n",
      "      ✅ Found 4 images\n",
      "      🔧 Using relaxed masking mode (clouds only)\n",
      "      🔧 Using relaxed masking mode (clouds only)\n",
      "      🔧 Using relaxed masking mode (clouds only)\n",
      "   📤 Preparing to export NDVI: NDVI_2020_05.tif\n"
     ]
    },
    {
     "data": {
      "application/vnd.jupyter.widget-view+json": {
       "model_id": "39e44ad93ede425a8c93cbd729bae4d2",
       "version_major": 2,
       "version_minor": 0
      },
      "text/plain": [
       "NDVI_2020_05.tif: |          | 0.00/1.82M (raw) [  0.0%] in 00:00 (eta:     ?)"
      ]
     },
     "metadata": {},
     "output_type": "display_data"
    },
    {
     "name": "stdout",
     "output_type": "stream",
     "text": [
      "   ✅ NDVI export completed: NDVI_2020_05.tif\n",
      "   📤 Preparing to export NIRv: NIRv_2020_05.tif\n"
     ]
    },
    {
     "data": {
      "application/vnd.jupyter.widget-view+json": {
       "model_id": "0fe7d2e5eab24fd6bb528bbeb37ca09f",
       "version_major": 2,
       "version_minor": 0
      },
      "text/plain": [
       "NIRv_2020_05.tif: |          | 0.00/3.64M (raw) [  0.0%] in 00:00 (eta:     ?)"
      ]
     },
     "metadata": {},
     "output_type": "display_data"
    },
    {
     "name": "stdout",
     "output_type": "stream",
     "text": [
      "   ✅ NIRv export completed: NIRv_2020_05.tif\n",
      "✅ 2020_05 successfully exported\n",
      "\n",
      "--- Processing 2020_06 ---\n",
      "    🛰️  Trying Sentinel-2...\n",
      "      📅 Expanding time window ±5 days: 2020-05-27 to 2020-07-05\n",
      "      ✅ Found 14 images\n",
      "    🛰️  Falling back to Landsat...\n",
      "      📅 Expanding time window ±5 days: 2020-05-27 to 2020-07-05\n",
      "      ✅ Found 2 images\n",
      "   📤 Preparing to export NDVI: NDVI_2020_06.tif\n"
     ]
    },
    {
     "data": {
      "application/vnd.jupyter.widget-view+json": {
       "model_id": "80c04005b4e44bfa98440a4fd8ce72b3",
       "version_major": 2,
       "version_minor": 0
      },
      "text/plain": [
       "NDVI_2020_06.tif: |          | 0.00/1.82M (raw) [  0.0%] in 00:00 (eta:     ?)"
      ]
     },
     "metadata": {},
     "output_type": "display_data"
    },
    {
     "name": "stdout",
     "output_type": "stream",
     "text": [
      "   ✅ NDVI export completed: NDVI_2020_06.tif\n",
      "   📤 Preparing to export NIRv: NIRv_2020_06.tif\n"
     ]
    },
    {
     "data": {
      "application/vnd.jupyter.widget-view+json": {
       "model_id": "56bec6f6cae84199a822bb02b5ee76a5",
       "version_major": 2,
       "version_minor": 0
      },
      "text/plain": [
       "NIRv_2020_06.tif: |          | 0.00/3.64M (raw) [  0.0%] in 00:00 (eta:     ?)"
      ]
     },
     "metadata": {},
     "output_type": "display_data"
    },
    {
     "name": "stdout",
     "output_type": "stream",
     "text": [
      "   ✅ NIRv export completed: NIRv_2020_06.tif\n",
      "✅ 2020_06 successfully exported\n",
      "\n",
      "--- Processing 2020_07 ---\n",
      "    🛰️  Trying Sentinel-2...\n",
      "      📅 Expanding time window ±5 days: 2020-06-26 to 2020-08-05\n",
      "      ✅ Found 6 images\n",
      "    🛰️  Falling back to Landsat...\n",
      "      📅 Expanding time window ±5 days: 2020-06-26 to 2020-08-05\n",
      "      ✅ Found 1 images\n",
      "   📤 Preparing to export NDVI: NDVI_2020_07.tif\n"
     ]
    },
    {
     "data": {
      "application/vnd.jupyter.widget-view+json": {
       "model_id": "cfbe6a663396413ca301c58da0ba7e14",
       "version_major": 2,
       "version_minor": 0
      },
      "text/plain": [
       "NDVI_2020_07.tif: |          | 0.00/1.82M (raw) [  0.0%] in 00:00 (eta:     ?)"
      ]
     },
     "metadata": {},
     "output_type": "display_data"
    },
    {
     "name": "stdout",
     "output_type": "stream",
     "text": [
      "   ✅ NDVI export completed: NDVI_2020_07.tif\n",
      "   📤 Preparing to export NIRv: NIRv_2020_07.tif\n"
     ]
    },
    {
     "data": {
      "application/vnd.jupyter.widget-view+json": {
       "model_id": "0d0663afa95748a7918b60e5b184a1e5",
       "version_major": 2,
       "version_minor": 0
      },
      "text/plain": [
       "NIRv_2020_07.tif: |          | 0.00/3.64M (raw) [  0.0%] in 00:00 (eta:     ?)"
      ]
     },
     "metadata": {},
     "output_type": "display_data"
    },
    {
     "name": "stdout",
     "output_type": "stream",
     "text": [
      "   ✅ NIRv export completed: NIRv_2020_07.tif\n",
      "✅ 2020_07 successfully exported\n",
      "\n",
      "--- Processing 2020_08 ---\n",
      "    🛰️  Trying Sentinel-2...\n",
      "      📅 Expanding time window ±5 days: 2020-07-27 to 2020-09-05\n",
      "      ✅ Found 15 images\n",
      "    🛰️  Falling back to Landsat...\n",
      "      📅 Expanding time window ±5 days: 2020-07-27 to 2020-09-05\n",
      "      ✅ Found 2 images\n",
      "   📤 Preparing to export NDVI: NDVI_2020_08.tif\n"
     ]
    },
    {
     "data": {
      "application/vnd.jupyter.widget-view+json": {
       "model_id": "4944dce4f4834c58a7bd89761dd353f5",
       "version_major": 2,
       "version_minor": 0
      },
      "text/plain": [
       "NDVI_2020_08.tif: |          | 0.00/1.82M (raw) [  0.0%] in 00:00 (eta:     ?)"
      ]
     },
     "metadata": {},
     "output_type": "display_data"
    },
    {
     "name": "stdout",
     "output_type": "stream",
     "text": [
      "   ✅ NDVI export completed: NDVI_2020_08.tif\n",
      "   📤 Preparing to export NIRv: NIRv_2020_08.tif\n"
     ]
    },
    {
     "data": {
      "application/vnd.jupyter.widget-view+json": {
       "model_id": "fd0090493b9940789f154239f818dbbc",
       "version_major": 2,
       "version_minor": 0
      },
      "text/plain": [
       "NIRv_2020_08.tif: |          | 0.00/3.64M (raw) [  0.0%] in 00:00 (eta:     ?)"
      ]
     },
     "metadata": {},
     "output_type": "display_data"
    },
    {
     "name": "stdout",
     "output_type": "stream",
     "text": [
      "   ✅ NIRv export completed: NIRv_2020_08.tif\n",
      "✅ 2020_08 successfully exported\n",
      "\n",
      "--- Processing 2020_09 ---\n",
      "    🛰️  Trying Sentinel-2...\n",
      "      📅 Expanding time window ±7 days: 2020-08-25 to 2020-10-07\n",
      "      ✅ Found 20 images\n",
      "    🛰️  Falling back to Landsat...\n",
      "      📅 Expanding time window ±7 days: 2020-08-25 to 2020-10-07\n",
      "      ✅ Found 1 images\n",
      "      🔧 Using relaxed masking mode (clouds only)\n",
      "      🔧 Using relaxed masking mode (clouds only)\n",
      "      🔧 Using relaxed masking mode (clouds only)\n",
      "   📤 Preparing to export NDVI: NDVI_2020_09.tif\n"
     ]
    },
    {
     "data": {
      "application/vnd.jupyter.widget-view+json": {
       "model_id": "8802b8dd58864bd39eead6b092e1987d",
       "version_major": 2,
       "version_minor": 0
      },
      "text/plain": [
       "NDVI_2020_09.tif: |          | 0.00/1.82M (raw) [  0.0%] in 00:00 (eta:     ?)"
      ]
     },
     "metadata": {},
     "output_type": "display_data"
    },
    {
     "name": "stdout",
     "output_type": "stream",
     "text": [
      "   ✅ NDVI export completed: NDVI_2020_09.tif\n",
      "   📤 Preparing to export NIRv: NIRv_2020_09.tif\n"
     ]
    },
    {
     "data": {
      "application/vnd.jupyter.widget-view+json": {
       "model_id": "cd5f1c16583243c49188486383b5dd90",
       "version_major": 2,
       "version_minor": 0
      },
      "text/plain": [
       "NIRv_2020_09.tif: |          | 0.00/3.64M (raw) [  0.0%] in 00:00 (eta:     ?)"
      ]
     },
     "metadata": {},
     "output_type": "display_data"
    },
    {
     "name": "stdout",
     "output_type": "stream",
     "text": [
      "   ✅ NIRv export completed: NIRv_2020_09.tif\n",
      "✅ 2020_09 successfully exported\n",
      "\n",
      "--- Processing 2020_10 ---\n",
      "    🛰️  Trying Sentinel-2...\n",
      "      📅 Expanding time window ±7 days: 2020-09-24 to 2020-11-07\n",
      "      ✅ Found 6 images\n",
      "    🛰️  Falling back to Landsat...\n",
      "      📅 Expanding time window ±7 days: 2020-09-24 to 2020-11-07\n",
      "      ✅ Found 2 images\n",
      "      🔧 Using relaxed masking mode (clouds only)\n",
      "      🔧 Using relaxed masking mode (clouds only)\n",
      "      🔧 Using relaxed masking mode (clouds only)\n",
      "   📤 Preparing to export NDVI: NDVI_2020_10.tif\n"
     ]
    },
    {
     "data": {
      "application/vnd.jupyter.widget-view+json": {
       "model_id": "ca7e11b3b7964f5ebd6732d52202b0d3",
       "version_major": 2,
       "version_minor": 0
      },
      "text/plain": [
       "NDVI_2020_10.tif: |          | 0.00/1.82M (raw) [  0.0%] in 00:00 (eta:     ?)"
      ]
     },
     "metadata": {},
     "output_type": "display_data"
    },
    {
     "name": "stdout",
     "output_type": "stream",
     "text": [
      "   ✅ NDVI export completed: NDVI_2020_10.tif\n",
      "   📤 Preparing to export NIRv: NIRv_2020_10.tif\n"
     ]
    },
    {
     "data": {
      "application/vnd.jupyter.widget-view+json": {
       "model_id": "b69d9749e36f4d2e97a4a27f98eb6f11",
       "version_major": 2,
       "version_minor": 0
      },
      "text/plain": [
       "NIRv_2020_10.tif: |          | 0.00/3.64M (raw) [  0.0%] in 00:00 (eta:     ?)"
      ]
     },
     "metadata": {},
     "output_type": "display_data"
    },
    {
     "name": "stdout",
     "output_type": "stream",
     "text": [
      "   ✅ NIRv export completed: NIRv_2020_10.tif\n",
      "✅ 2020_10 successfully exported\n",
      "\n",
      "--- Processing 2020_11 ---\n",
      "    🛰️  Trying Sentinel-2...\n",
      "      📅 Expanding time window ±7 days: 2020-10-25 to 2020-12-07\n",
      "      ✅ Found 11 images\n",
      "    🛰️  Falling back to Landsat...\n",
      "      📅 Expanding time window ±7 days: 2020-10-25 to 2020-12-07\n",
      "      ✅ Found 1 images\n",
      "      🔧 Using relaxed masking mode (clouds only)\n",
      "      🔧 Using relaxed masking mode (clouds only)\n",
      "      🔧 Using relaxed masking mode (clouds only)\n",
      "   📤 Preparing to export NDVI: NDVI_2020_11.tif\n"
     ]
    },
    {
     "data": {
      "application/vnd.jupyter.widget-view+json": {
       "model_id": "3e86a77dc7c14feea4b418285c92f31f",
       "version_major": 2,
       "version_minor": 0
      },
      "text/plain": [
       "NDVI_2020_11.tif: |          | 0.00/1.82M (raw) [  0.0%] in 00:00 (eta:     ?)"
      ]
     },
     "metadata": {},
     "output_type": "display_data"
    },
    {
     "name": "stdout",
     "output_type": "stream",
     "text": [
      "   ✅ NDVI export completed: NDVI_2020_11.tif\n",
      "   📤 Preparing to export NIRv: NIRv_2020_11.tif\n"
     ]
    },
    {
     "data": {
      "application/vnd.jupyter.widget-view+json": {
       "model_id": "a2c6c38a52c34dc2a2b8714c09d26a91",
       "version_major": 2,
       "version_minor": 0
      },
      "text/plain": [
       "NIRv_2020_11.tif: |          | 0.00/3.64M (raw) [  0.0%] in 00:00 (eta:     ?)"
      ]
     },
     "metadata": {},
     "output_type": "display_data"
    },
    {
     "name": "stdout",
     "output_type": "stream",
     "text": [
      "   ✅ NIRv export completed: NIRv_2020_11.tif\n",
      "✅ 2020_11 successfully exported\n",
      "\n",
      "--- Processing 2020_12 ---\n",
      "    🛰️  Trying Sentinel-2...\n",
      "      📅 Expanding time window ±7 days: 2020-11-24 to 2021-01-07\n",
      "      ✅ Found 4 images\n",
      "    🛰️  Falling back to Landsat...\n",
      "      📅 Expanding time window ±7 days: 2020-11-24 to 2021-01-07\n",
      "      ✅ Found 1 images\n",
      "      🔧 Using relaxed masking mode (clouds only)\n",
      "      🔧 Using relaxed masking mode (clouds only)\n",
      "      🔧 Using relaxed masking mode (clouds only)\n",
      "   📤 Preparing to export NDVI: NDVI_2020_12.tif\n"
     ]
    },
    {
     "data": {
      "application/vnd.jupyter.widget-view+json": {
       "model_id": "6e059aa75d8c4cc1b65ea661bc5e6886",
       "version_major": 2,
       "version_minor": 0
      },
      "text/plain": [
       "NDVI_2020_12.tif: |          | 0.00/1.82M (raw) [  0.0%] in 00:00 (eta:     ?)"
      ]
     },
     "metadata": {},
     "output_type": "display_data"
    },
    {
     "name": "stdout",
     "output_type": "stream",
     "text": [
      "   ✅ NDVI export completed: NDVI_2020_12.tif\n",
      "   📤 Preparing to export NIRv: NIRv_2020_12.tif\n"
     ]
    },
    {
     "data": {
      "application/vnd.jupyter.widget-view+json": {
       "model_id": "aeb9640cb76441e9bb64869780713cf6",
       "version_major": 2,
       "version_minor": 0
      },
      "text/plain": [
       "NIRv_2020_12.tif: |          | 0.00/3.64M (raw) [  0.0%] in 00:00 (eta:     ?)"
      ]
     },
     "metadata": {},
     "output_type": "display_data"
    },
    {
     "name": "stdout",
     "output_type": "stream",
     "text": [
      "   ✅ NIRv export completed: NIRv_2020_12.tif\n",
      "✅ 2020_12 successfully exported\n",
      "\n",
      "--- Processing 2021_01 ---\n",
      "    🛰️  Trying Sentinel-2...\n",
      "      📅 Expanding time window ±7 days: 2020-12-25 to 2021-02-07\n",
      "      ✅ Found 4 images\n",
      "    🛰️  Falling back to Landsat...\n",
      "      📅 Expanding time window ±7 days: 2020-12-25 to 2021-02-07\n",
      "      ✅ Found 1 images\n",
      "      🔧 Using relaxed masking mode (clouds only)\n",
      "      🔧 Using relaxed masking mode (clouds only)\n",
      "      🔧 Using relaxed masking mode (clouds only)\n",
      "   📤 Preparing to export NDVI: NDVI_2021_01.tif\n"
     ]
    },
    {
     "data": {
      "application/vnd.jupyter.widget-view+json": {
       "model_id": "0e0a7408c0fa433fb15d055fa3194fdb",
       "version_major": 2,
       "version_minor": 0
      },
      "text/plain": [
       "NDVI_2021_01.tif: |          | 0.00/1.82M (raw) [  0.0%] in 00:00 (eta:     ?)"
      ]
     },
     "metadata": {},
     "output_type": "display_data"
    },
    {
     "name": "stdout",
     "output_type": "stream",
     "text": [
      "   ✅ NDVI export completed: NDVI_2021_01.tif\n",
      "   📤 Preparing to export NIRv: NIRv_2021_01.tif\n"
     ]
    },
    {
     "data": {
      "application/vnd.jupyter.widget-view+json": {
       "model_id": "5744caa0707243058f8d1960183db481",
       "version_major": 2,
       "version_minor": 0
      },
      "text/plain": [
       "NIRv_2021_01.tif: |          | 0.00/3.64M (raw) [  0.0%] in 00:00 (eta:     ?)"
      ]
     },
     "metadata": {},
     "output_type": "display_data"
    },
    {
     "name": "stdout",
     "output_type": "stream",
     "text": [
      "   ✅ NIRv export completed: NIRv_2021_01.tif\n",
      "✅ 2021_01 successfully exported\n",
      "\n",
      "--- Processing 2021_02 ---\n",
      "    🛰️  Trying Sentinel-2...\n",
      "      📅 Expanding time window ±7 days: 2021-01-25 to 2021-03-07\n",
      "      ✅ Found 16 images\n",
      "    🛰️  Falling back to Landsat...\n",
      "      📅 Expanding time window ±7 days: 2021-01-25 to 2021-03-07\n",
      "      ✅ Found 2 images\n",
      "      🔧 Using relaxed masking mode (clouds only)\n",
      "      🔧 Using relaxed masking mode (clouds only)\n",
      "      🔧 Using relaxed masking mode (clouds only)\n",
      "   📤 Preparing to export NDVI: NDVI_2021_02.tif\n"
     ]
    },
    {
     "data": {
      "application/vnd.jupyter.widget-view+json": {
       "model_id": "79468dacd38945c29451737b8bc7a3ce",
       "version_major": 2,
       "version_minor": 0
      },
      "text/plain": [
       "NDVI_2021_02.tif: |          | 0.00/1.82M (raw) [  0.0%] in 00:00 (eta:     ?)"
      ]
     },
     "metadata": {},
     "output_type": "display_data"
    },
    {
     "name": "stdout",
     "output_type": "stream",
     "text": [
      "   ✅ NDVI export completed: NDVI_2021_02.tif\n",
      "   📤 Preparing to export NIRv: NIRv_2021_02.tif\n"
     ]
    },
    {
     "data": {
      "application/vnd.jupyter.widget-view+json": {
       "model_id": "fadaefe970b949db8d8ba0052c35defb",
       "version_major": 2,
       "version_minor": 0
      },
      "text/plain": [
       "NIRv_2021_02.tif: |          | 0.00/3.64M (raw) [  0.0%] in 00:00 (eta:     ?)"
      ]
     },
     "metadata": {},
     "output_type": "display_data"
    },
    {
     "name": "stdout",
     "output_type": "stream",
     "text": [
      "   ✅ NIRv export completed: NIRv_2021_02.tif\n",
      "✅ 2021_02 successfully exported\n",
      "\n",
      "--- Processing 2021_03 ---\n",
      "    🛰️  Trying Sentinel-2...\n",
      "      📅 Expanding time window ±7 days: 2021-02-22 to 2021-04-07\n",
      "      ✅ Found 9 images\n",
      "    🛰️  Falling back to Landsat...\n",
      "      📅 Expanding time window ±7 days: 2021-02-22 to 2021-04-07\n",
      "      ✅ Found 2 images\n",
      "      🔧 Using relaxed masking mode (clouds only)\n",
      "      🔧 Using relaxed masking mode (clouds only)\n",
      "      🔧 Using relaxed masking mode (clouds only)\n",
      "   📤 Preparing to export NDVI: NDVI_2021_03.tif\n"
     ]
    },
    {
     "data": {
      "application/vnd.jupyter.widget-view+json": {
       "model_id": "73983d8c36e347c4a6533928282c8012",
       "version_major": 2,
       "version_minor": 0
      },
      "text/plain": [
       "NDVI_2021_03.tif: |          | 0.00/1.82M (raw) [  0.0%] in 00:00 (eta:     ?)"
      ]
     },
     "metadata": {},
     "output_type": "display_data"
    },
    {
     "name": "stdout",
     "output_type": "stream",
     "text": [
      "   ✅ NDVI export completed: NDVI_2021_03.tif\n",
      "   📤 Preparing to export NIRv: NIRv_2021_03.tif\n"
     ]
    },
    {
     "data": {
      "application/vnd.jupyter.widget-view+json": {
       "model_id": "8b5417c9e28646629c47a4c2a6c41889",
       "version_major": 2,
       "version_minor": 0
      },
      "text/plain": [
       "NIRv_2021_03.tif: |          | 0.00/3.64M (raw) [  0.0%] in 00:00 (eta:     ?)"
      ]
     },
     "metadata": {},
     "output_type": "display_data"
    },
    {
     "name": "stdout",
     "output_type": "stream",
     "text": [
      "   ✅ NIRv export completed: NIRv_2021_03.tif\n",
      "✅ 2021_03 successfully exported\n",
      "\n",
      "--- Processing 2021_04 ---\n",
      "    🛰️  Trying Sentinel-2...\n",
      "      📅 Expanding time window ±7 days: 2021-03-25 to 2021-05-07\n",
      "      ✅ Found 13 images\n",
      "    🛰️  Falling back to Landsat...\n",
      "      📅 Expanding time window ±7 days: 2021-03-25 to 2021-05-07\n",
      "      ✅ Found 2 images\n",
      "      🔧 Using relaxed masking mode (clouds only)\n",
      "      🔧 Using relaxed masking mode (clouds only)\n",
      "      🔧 Using relaxed masking mode (clouds only)\n",
      "   📤 Preparing to export NDVI: NDVI_2021_04.tif\n"
     ]
    },
    {
     "data": {
      "application/vnd.jupyter.widget-view+json": {
       "model_id": "917ee6de8a774a8dae2af495de99626e",
       "version_major": 2,
       "version_minor": 0
      },
      "text/plain": [
       "NDVI_2021_04.tif: |          | 0.00/1.82M (raw) [  0.0%] in 00:00 (eta:     ?)"
      ]
     },
     "metadata": {},
     "output_type": "display_data"
    },
    {
     "name": "stdout",
     "output_type": "stream",
     "text": [
      "   ✅ NDVI export completed: NDVI_2021_04.tif\n",
      "   📤 Preparing to export NIRv: NIRv_2021_04.tif\n"
     ]
    },
    {
     "data": {
      "application/vnd.jupyter.widget-view+json": {
       "model_id": "ef7ad2f47c254ee6aae211ee44f721cf",
       "version_major": 2,
       "version_minor": 0
      },
      "text/plain": [
       "NIRv_2021_04.tif: |          | 0.00/3.64M (raw) [  0.0%] in 00:00 (eta:     ?)"
      ]
     },
     "metadata": {},
     "output_type": "display_data"
    },
    {
     "name": "stdout",
     "output_type": "stream",
     "text": [
      "   ✅ NIRv export completed: NIRv_2021_04.tif\n",
      "✅ 2021_04 successfully exported\n",
      "\n",
      "--- Processing 2021_05 ---\n",
      "    🛰️  Trying Sentinel-2...\n",
      "      📅 Expanding time window ±7 days: 2021-04-24 to 2021-06-07\n",
      "      ✅ Found 12 images\n",
      "    🛰️  Falling back to Landsat...\n",
      "      📅 Expanding time window ±7 days: 2021-04-24 to 2021-06-07\n",
      "      ✅ Found 1 images\n",
      "      🔧 Using relaxed masking mode (clouds only)\n",
      "      🔧 Using relaxed masking mode (clouds only)\n",
      "      🔧 Using relaxed masking mode (clouds only)\n",
      "   📤 Preparing to export NDVI: NDVI_2021_05.tif\n"
     ]
    },
    {
     "data": {
      "application/vnd.jupyter.widget-view+json": {
       "model_id": "e7255f5ca3f7483ab02f7d48172b2194",
       "version_major": 2,
       "version_minor": 0
      },
      "text/plain": [
       "NDVI_2021_05.tif: |          | 0.00/1.82M (raw) [  0.0%] in 00:00 (eta:     ?)"
      ]
     },
     "metadata": {},
     "output_type": "display_data"
    },
    {
     "name": "stdout",
     "output_type": "stream",
     "text": [
      "   ✅ NDVI export completed: NDVI_2021_05.tif\n",
      "   📤 Preparing to export NIRv: NIRv_2021_05.tif\n"
     ]
    },
    {
     "data": {
      "application/vnd.jupyter.widget-view+json": {
       "model_id": "b4a1ca66e1cb45a0bf9215e4f5d5e830",
       "version_major": 2,
       "version_minor": 0
      },
      "text/plain": [
       "NIRv_2021_05.tif: |          | 0.00/3.64M (raw) [  0.0%] in 00:00 (eta:     ?)"
      ]
     },
     "metadata": {},
     "output_type": "display_data"
    },
    {
     "name": "stdout",
     "output_type": "stream",
     "text": [
      "   ✅ NIRv export completed: NIRv_2021_05.tif\n",
      "✅ 2021_05 successfully exported\n",
      "\n",
      "--- Processing 2021_06 ---\n",
      "    🛰️  Trying Sentinel-2...\n",
      "      📅 Expanding time window ±5 days: 2021-05-27 to 2021-07-05\n",
      "      ✅ Found 14 images\n",
      "    🛰️  Falling back to Landsat...\n",
      "      📅 Expanding time window ±5 days: 2021-05-27 to 2021-07-05\n",
      "      ✅ Found 2 images\n",
      "   📤 Preparing to export NDVI: NDVI_2021_06.tif\n"
     ]
    },
    {
     "data": {
      "application/vnd.jupyter.widget-view+json": {
       "model_id": "c6c4f90d826a4343a31bafb65e0d8c0a",
       "version_major": 2,
       "version_minor": 0
      },
      "text/plain": [
       "NDVI_2021_06.tif: |          | 0.00/1.82M (raw) [  0.0%] in 00:00 (eta:     ?)"
      ]
     },
     "metadata": {},
     "output_type": "display_data"
    },
    {
     "name": "stdout",
     "output_type": "stream",
     "text": [
      "   ✅ NDVI export completed: NDVI_2021_06.tif\n",
      "   📤 Preparing to export NIRv: NIRv_2021_06.tif\n"
     ]
    },
    {
     "data": {
      "application/vnd.jupyter.widget-view+json": {
       "model_id": "ad85e7200ebf478fb1e46e5527ce42de",
       "version_major": 2,
       "version_minor": 0
      },
      "text/plain": [
       "NIRv_2021_06.tif: |          | 0.00/3.64M (raw) [  0.0%] in 00:00 (eta:     ?)"
      ]
     },
     "metadata": {},
     "output_type": "display_data"
    },
    {
     "name": "stdout",
     "output_type": "stream",
     "text": [
      "   ✅ NIRv export completed: NIRv_2021_06.tif\n",
      "✅ 2021_06 successfully exported\n",
      "\n",
      "--- Processing 2021_07 ---\n",
      "    🛰️  Trying Sentinel-2...\n",
      "      📅 Expanding time window ±5 days: 2021-06-26 to 2021-08-05\n",
      "      ✅ Found 1 images\n",
      "    🛰️  Falling back to Landsat...\n",
      "      📅 Expanding time window ±5 days: 2021-06-26 to 2021-08-05\n",
      "      ✅ Found 1 images\n",
      "   📤 Preparing to export NDVI: NDVI_2021_07.tif\n"
     ]
    },
    {
     "data": {
      "application/vnd.jupyter.widget-view+json": {
       "model_id": "d2a5d162e5044a4a8c3619e7e10277eb",
       "version_major": 2,
       "version_minor": 0
      },
      "text/plain": [
       "NDVI_2021_07.tif: |          | 0.00/1.82M (raw) [  0.0%] in 00:00 (eta:     ?)"
      ]
     },
     "metadata": {},
     "output_type": "display_data"
    },
    {
     "name": "stdout",
     "output_type": "stream",
     "text": [
      "   ✅ NDVI export completed: NDVI_2021_07.tif\n",
      "   📤 Preparing to export NIRv: NIRv_2021_07.tif\n"
     ]
    },
    {
     "data": {
      "application/vnd.jupyter.widget-view+json": {
       "model_id": "27157f37325d4f90b74d95bc5f3b0933",
       "version_major": 2,
       "version_minor": 0
      },
      "text/plain": [
       "NIRv_2021_07.tif: |          | 0.00/3.64M (raw) [  0.0%] in 00:00 (eta:     ?)"
      ]
     },
     "metadata": {},
     "output_type": "display_data"
    },
    {
     "name": "stdout",
     "output_type": "stream",
     "text": [
      "   ✅ NIRv export completed: NIRv_2021_07.tif\n",
      "✅ 2021_07 successfully exported\n",
      "\n",
      "--- Processing 2021_08 ---\n",
      "    🛰️  Trying Sentinel-2...\n",
      "      📅 Expanding time window ±5 days: 2021-07-27 to 2021-09-05\n",
      "      ✅ Found 4 images\n",
      "    🛰️  Falling back to Landsat...\n",
      "      📅 Expanding time window ±5 days: 2021-07-27 to 2021-09-05\n",
      "      ✅ Found 1 images\n",
      "   📤 Preparing to export NDVI: NDVI_2021_08.tif\n"
     ]
    },
    {
     "data": {
      "application/vnd.jupyter.widget-view+json": {
       "model_id": "dbe499fad27f49b781555f795f0f7dda",
       "version_major": 2,
       "version_minor": 0
      },
      "text/plain": [
       "NDVI_2021_08.tif: |          | 0.00/1.82M (raw) [  0.0%] in 00:00 (eta:     ?)"
      ]
     },
     "metadata": {},
     "output_type": "display_data"
    },
    {
     "name": "stdout",
     "output_type": "stream",
     "text": [
      "   ✅ NDVI export completed: NDVI_2021_08.tif\n",
      "   📤 Preparing to export NIRv: NIRv_2021_08.tif\n"
     ]
    },
    {
     "data": {
      "application/vnd.jupyter.widget-view+json": {
       "model_id": "8822fc9f66a84e3d896c6d5a74b24708",
       "version_major": 2,
       "version_minor": 0
      },
      "text/plain": [
       "NIRv_2021_08.tif: |          | 0.00/3.64M (raw) [  0.0%] in 00:00 (eta:     ?)"
      ]
     },
     "metadata": {},
     "output_type": "display_data"
    },
    {
     "name": "stdout",
     "output_type": "stream",
     "text": [
      "   ✅ NIRv export completed: NIRv_2021_08.tif\n",
      "✅ 2021_08 successfully exported\n",
      "\n",
      "--- Processing 2021_09 ---\n",
      "    🛰️  Trying Sentinel-2...\n",
      "      📅 Expanding time window ±7 days: 2021-08-25 to 2021-10-07\n",
      "      ✅ Found 13 images\n",
      "    🛰️  Falling back to Landsat...\n",
      "      📅 Expanding time window ±7 days: 2021-08-25 to 2021-10-07\n",
      "      ✅ Found 3 images\n",
      "      🔧 Using relaxed masking mode (clouds only)\n",
      "      🔧 Using relaxed masking mode (clouds only)\n",
      "      🔧 Using relaxed masking mode (clouds only)\n",
      "   📤 Preparing to export NDVI: NDVI_2021_09.tif\n"
     ]
    },
    {
     "data": {
      "application/vnd.jupyter.widget-view+json": {
       "model_id": "fb1b51f39d5047b1b840046fd3dac9a5",
       "version_major": 2,
       "version_minor": 0
      },
      "text/plain": [
       "NDVI_2021_09.tif: |          | 0.00/1.82M (raw) [  0.0%] in 00:00 (eta:     ?)"
      ]
     },
     "metadata": {},
     "output_type": "display_data"
    },
    {
     "name": "stdout",
     "output_type": "stream",
     "text": [
      "   ✅ NDVI export completed: NDVI_2021_09.tif\n",
      "   📤 Preparing to export NIRv: NIRv_2021_09.tif\n"
     ]
    },
    {
     "data": {
      "application/vnd.jupyter.widget-view+json": {
       "model_id": "2dbfbb1cf0574e09b50c60fd608ffb1a",
       "version_major": 2,
       "version_minor": 0
      },
      "text/plain": [
       "NIRv_2021_09.tif: |          | 0.00/3.64M (raw) [  0.0%] in 00:00 (eta:     ?)"
      ]
     },
     "metadata": {},
     "output_type": "display_data"
    },
    {
     "name": "stdout",
     "output_type": "stream",
     "text": [
      "   ✅ NIRv export completed: NIRv_2021_09.tif\n",
      "✅ 2021_09 successfully exported\n",
      "\n",
      "--- Processing 2021_10 ---\n",
      "    🛰️  Trying Sentinel-2...\n",
      "      📅 Expanding time window ±7 days: 2021-09-24 to 2021-11-07\n",
      "      ✅ Found 10 images\n",
      "    🛰️  Falling back to Landsat...\n",
      "      📅 Expanding time window ±7 days: 2021-09-24 to 2021-11-07\n",
      "      ✅ Found 3 images\n",
      "      🔧 Using relaxed masking mode (clouds only)\n",
      "      🔧 Using relaxed masking mode (clouds only)\n",
      "      🔧 Using relaxed masking mode (clouds only)\n",
      "   📤 Preparing to export NDVI: NDVI_2021_10.tif\n"
     ]
    },
    {
     "data": {
      "application/vnd.jupyter.widget-view+json": {
       "model_id": "0819d04b09cc4d37ae2a515fe1d931f5",
       "version_major": 2,
       "version_minor": 0
      },
      "text/plain": [
       "NDVI_2021_10.tif: |          | 0.00/1.82M (raw) [  0.0%] in 00:00 (eta:     ?)"
      ]
     },
     "metadata": {},
     "output_type": "display_data"
    },
    {
     "name": "stdout",
     "output_type": "stream",
     "text": [
      "   ✅ NDVI export completed: NDVI_2021_10.tif\n",
      "   📤 Preparing to export NIRv: NIRv_2021_10.tif\n"
     ]
    },
    {
     "data": {
      "application/vnd.jupyter.widget-view+json": {
       "model_id": "02d246a520c94df8a54abb5aee2ae8bc",
       "version_major": 2,
       "version_minor": 0
      },
      "text/plain": [
       "NIRv_2021_10.tif: |          | 0.00/3.64M (raw) [  0.0%] in 00:00 (eta:     ?)"
      ]
     },
     "metadata": {},
     "output_type": "display_data"
    },
    {
     "name": "stdout",
     "output_type": "stream",
     "text": [
      "   ✅ NIRv export completed: NIRv_2021_10.tif\n",
      "✅ 2021_10 successfully exported\n",
      "\n",
      "--- Processing 2021_11 ---\n",
      "    🛰️  Trying Sentinel-2...\n",
      "      📅 Expanding time window ±7 days: 2021-10-25 to 2021-12-07\n",
      "      ✅ Found 4 images\n",
      "    🛰️  Falling back to Landsat...\n",
      "      📅 Expanding time window ±7 days: 2021-10-25 to 2021-12-07\n",
      "      ✅ Found 2 images\n",
      "      🔧 Using relaxed masking mode (clouds only)\n",
      "      🔧 Using relaxed masking mode (clouds only)\n",
      "      🔧 Using relaxed masking mode (clouds only)\n",
      "   📤 Preparing to export NDVI: NDVI_2021_11.tif\n"
     ]
    },
    {
     "data": {
      "application/vnd.jupyter.widget-view+json": {
       "model_id": "f7b3d2bc59324ee2a3cde1253c0f30a0",
       "version_major": 2,
       "version_minor": 0
      },
      "text/plain": [
       "NDVI_2021_11.tif: |          | 0.00/1.82M (raw) [  0.0%] in 00:00 (eta:     ?)"
      ]
     },
     "metadata": {},
     "output_type": "display_data"
    },
    {
     "name": "stdout",
     "output_type": "stream",
     "text": [
      "   ✅ NDVI export completed: NDVI_2021_11.tif\n",
      "   📤 Preparing to export NIRv: NIRv_2021_11.tif\n"
     ]
    },
    {
     "data": {
      "application/vnd.jupyter.widget-view+json": {
       "model_id": "e367980217ee457c867c13fc006da6fe",
       "version_major": 2,
       "version_minor": 0
      },
      "text/plain": [
       "NIRv_2021_11.tif: |          | 0.00/3.64M (raw) [  0.0%] in 00:00 (eta:     ?)"
      ]
     },
     "metadata": {},
     "output_type": "display_data"
    },
    {
     "name": "stdout",
     "output_type": "stream",
     "text": [
      "   ✅ NIRv export completed: NIRv_2021_11.tif\n",
      "✅ 2021_11 successfully exported\n",
      "\n",
      "--- Processing 2021_12 ---\n",
      "    🛰️  Trying Sentinel-2...\n",
      "      📅 Expanding time window ±7 days: 2021-11-24 to 2022-01-07\n",
      "      ✅ Found 7 images\n",
      "    🛰️  Falling back to Landsat...\n",
      "      📅 Expanding time window ±7 days: 2021-11-24 to 2022-01-07\n",
      "      ⚠️  Attempt 1: Only found 0 images\n",
      "      📅 Expanding time window ±15 days: 2021-11-16 to 2022-01-15\n",
      "      ✅ Found 2 images\n",
      "      🔧 Using relaxed masking mode (clouds only)\n",
      "      🔧 Using relaxed masking mode (clouds only)\n",
      "      🔧 Using relaxed masking mode (clouds only)\n",
      "   📤 Preparing to export NDVI: NDVI_2021_12.tif\n"
     ]
    },
    {
     "data": {
      "application/vnd.jupyter.widget-view+json": {
       "model_id": "50e6697f3e66477a927e02ec4af8ed1c",
       "version_major": 2,
       "version_minor": 0
      },
      "text/plain": [
       "NDVI_2021_12.tif: |          | 0.00/1.82M (raw) [  0.0%] in 00:00 (eta:     ?)"
      ]
     },
     "metadata": {},
     "output_type": "display_data"
    },
    {
     "name": "stdout",
     "output_type": "stream",
     "text": [
      "   ✅ NDVI export completed: NDVI_2021_12.tif\n",
      "   📤 Preparing to export NIRv: NIRv_2021_12.tif\n"
     ]
    },
    {
     "data": {
      "application/vnd.jupyter.widget-view+json": {
       "model_id": "b31db90a61e340e3b2d0c4a56341aa70",
       "version_major": 2,
       "version_minor": 0
      },
      "text/plain": [
       "NIRv_2021_12.tif: |          | 0.00/3.64M (raw) [  0.0%] in 00:00 (eta:     ?)"
      ]
     },
     "metadata": {},
     "output_type": "display_data"
    },
    {
     "name": "stdout",
     "output_type": "stream",
     "text": [
      "   ✅ NIRv export completed: NIRv_2021_12.tif\n",
      "✅ 2021_12 successfully exported\n",
      "\n",
      "--- Processing 2022_01 ---\n",
      "    🛰️  Trying Sentinel-2...\n",
      "      📅 Expanding time window ±7 days: 2021-12-25 to 2022-02-07\n",
      "      ✅ Found 6 images\n",
      "    🛰️  Falling back to Landsat...\n",
      "      📅 Expanding time window ±7 days: 2021-12-25 to 2022-02-07\n",
      "      ✅ Found 2 images\n",
      "      🔧 Using relaxed masking mode (clouds only)\n",
      "      🔧 Using relaxed masking mode (clouds only)\n",
      "      🔧 Using relaxed masking mode (clouds only)\n",
      "   📤 Preparing to export NDVI: NDVI_2022_01.tif\n"
     ]
    },
    {
     "data": {
      "application/vnd.jupyter.widget-view+json": {
       "model_id": "8595765fa31d4fb2943f58202669bfae",
       "version_major": 2,
       "version_minor": 0
      },
      "text/plain": [
       "NDVI_2022_01.tif: |          | 0.00/1.82M (raw) [  0.0%] in 00:00 (eta:     ?)"
      ]
     },
     "metadata": {},
     "output_type": "display_data"
    },
    {
     "name": "stdout",
     "output_type": "stream",
     "text": [
      "   ✅ NDVI export completed: NDVI_2022_01.tif\n",
      "   📤 Preparing to export NIRv: NIRv_2022_01.tif\n"
     ]
    },
    {
     "data": {
      "application/vnd.jupyter.widget-view+json": {
       "model_id": "28eb22c6275a4ec88dd1523e8a39e738",
       "version_major": 2,
       "version_minor": 0
      },
      "text/plain": [
       "NIRv_2022_01.tif: |          | 0.00/3.64M (raw) [  0.0%] in 00:00 (eta:     ?)"
      ]
     },
     "metadata": {},
     "output_type": "display_data"
    },
    {
     "name": "stdout",
     "output_type": "stream",
     "text": [
      "   ✅ NIRv export completed: NIRv_2022_01.tif\n",
      "✅ 2022_01 successfully exported\n",
      "\n",
      "--- Processing 2022_02 ---\n",
      "    🛰️  Trying Sentinel-2...\n",
      "      📅 Expanding time window ±7 days: 2022-01-25 to 2022-03-07\n",
      "      ✅ Found 11 images\n",
      "    🛰️  Falling back to Landsat...\n",
      "      📅 Expanding time window ±7 days: 2022-01-25 to 2022-03-07\n",
      "      ✅ Found 3 images\n",
      "      🔧 Using relaxed masking mode (clouds only)\n",
      "      🔧 Using relaxed masking mode (clouds only)\n",
      "      🔧 Using relaxed masking mode (clouds only)\n",
      "   📤 Preparing to export NDVI: NDVI_2022_02.tif\n"
     ]
    },
    {
     "data": {
      "application/vnd.jupyter.widget-view+json": {
       "model_id": "72dd4a4167644d96a7c9979f38e5a677",
       "version_major": 2,
       "version_minor": 0
      },
      "text/plain": [
       "NDVI_2022_02.tif: |          | 0.00/1.82M (raw) [  0.0%] in 00:00 (eta:     ?)"
      ]
     },
     "metadata": {},
     "output_type": "display_data"
    },
    {
     "name": "stdout",
     "output_type": "stream",
     "text": [
      "   ✅ NDVI export completed: NDVI_2022_02.tif\n",
      "   📤 Preparing to export NIRv: NIRv_2022_02.tif\n"
     ]
    },
    {
     "data": {
      "application/vnd.jupyter.widget-view+json": {
       "model_id": "1ad64b7bfb294a8e805cc688dac19456",
       "version_major": 2,
       "version_minor": 0
      },
      "text/plain": [
       "NIRv_2022_02.tif: |          | 0.00/3.64M (raw) [  0.0%] in 00:00 (eta:     ?)"
      ]
     },
     "metadata": {},
     "output_type": "display_data"
    },
    {
     "name": "stdout",
     "output_type": "stream",
     "text": [
      "   ✅ NIRv export completed: NIRv_2022_02.tif\n",
      "✅ 2022_02 successfully exported\n",
      "\n",
      "--- Processing 2022_03 ---\n",
      "    🛰️  Trying Sentinel-2...\n",
      "      📅 Expanding time window ±7 days: 2022-02-22 to 2022-04-07\n",
      "      ✅ Found 31 images\n",
      "    🛰️  Falling back to Landsat...\n",
      "      📅 Expanding time window ±7 days: 2022-02-22 to 2022-04-07\n",
      "      ✅ Found 6 images\n",
      "      🔧 Using relaxed masking mode (clouds only)\n",
      "      🔧 Using relaxed masking mode (clouds only)\n",
      "      🔧 Using relaxed masking mode (clouds only)\n",
      "   📤 Preparing to export NDVI: NDVI_2022_03.tif\n"
     ]
    },
    {
     "data": {
      "application/vnd.jupyter.widget-view+json": {
       "model_id": "2bc53ea17d8543f2bd827471fbb63ec4",
       "version_major": 2,
       "version_minor": 0
      },
      "text/plain": [
       "NDVI_2022_03.tif: |          | 0.00/1.82M (raw) [  0.0%] in 00:00 (eta:     ?)"
      ]
     },
     "metadata": {},
     "output_type": "display_data"
    },
    {
     "name": "stdout",
     "output_type": "stream",
     "text": [
      "   ✅ NDVI export completed: NDVI_2022_03.tif\n",
      "   📤 Preparing to export NIRv: NIRv_2022_03.tif\n"
     ]
    },
    {
     "data": {
      "application/vnd.jupyter.widget-view+json": {
       "model_id": "84a4595b25f1459ca6bdef90d1ac70f8",
       "version_major": 2,
       "version_minor": 0
      },
      "text/plain": [
       "NIRv_2022_03.tif: |          | 0.00/3.64M (raw) [  0.0%] in 00:00 (eta:     ?)"
      ]
     },
     "metadata": {},
     "output_type": "display_data"
    },
    {
     "name": "stdout",
     "output_type": "stream",
     "text": [
      "   ✅ NIRv export completed: NIRv_2022_03.tif\n",
      "✅ 2022_03 successfully exported\n",
      "\n",
      "--- Processing 2022_04 ---\n",
      "    🛰️  Trying Sentinel-2...\n",
      "      📅 Expanding time window ±7 days: 2022-03-25 to 2022-05-07\n",
      "      ✅ Found 18 images\n",
      "    🛰️  Falling back to Landsat...\n",
      "      📅 Expanding time window ±7 days: 2022-03-25 to 2022-05-07\n",
      "      ✅ Found 5 images\n",
      "      🔧 Using relaxed masking mode (clouds only)\n",
      "      🔧 Using relaxed masking mode (clouds only)\n",
      "      🔧 Using relaxed masking mode (clouds only)\n",
      "   📤 Preparing to export NDVI: NDVI_2022_04.tif\n"
     ]
    },
    {
     "data": {
      "application/vnd.jupyter.widget-view+json": {
       "model_id": "556e3823193140b5b2f217dbecf3ab3c",
       "version_major": 2,
       "version_minor": 0
      },
      "text/plain": [
       "NDVI_2022_04.tif: |          | 0.00/1.82M (raw) [  0.0%] in 00:00 (eta:     ?)"
      ]
     },
     "metadata": {},
     "output_type": "display_data"
    },
    {
     "name": "stdout",
     "output_type": "stream",
     "text": [
      "   ✅ NDVI export completed: NDVI_2022_04.tif\n",
      "   📤 Preparing to export NIRv: NIRv_2022_04.tif\n"
     ]
    },
    {
     "data": {
      "application/vnd.jupyter.widget-view+json": {
       "model_id": "cc03cd2c4b6440a994f7aad82eb88ebe",
       "version_major": 2,
       "version_minor": 0
      },
      "text/plain": [
       "NIRv_2022_04.tif: |          | 0.00/3.64M (raw) [  0.0%] in 00:00 (eta:     ?)"
      ]
     },
     "metadata": {},
     "output_type": "display_data"
    },
    {
     "name": "stdout",
     "output_type": "stream",
     "text": [
      "   ✅ NIRv export completed: NIRv_2022_04.tif\n",
      "✅ 2022_04 successfully exported\n",
      "\n",
      "--- Processing 2022_05 ---\n",
      "    🛰️  Trying Sentinel-2...\n",
      "      📅 Expanding time window ±7 days: 2022-04-24 to 2022-06-07\n",
      "      ✅ Found 9 images\n",
      "    🛰️  Falling back to Landsat...\n",
      "      📅 Expanding time window ±7 days: 2022-04-24 to 2022-06-07\n",
      "      ✅ Found 6 images\n",
      "      🔧 Using relaxed masking mode (clouds only)\n",
      "      🔧 Using relaxed masking mode (clouds only)\n",
      "      🔧 Using relaxed masking mode (clouds only)\n",
      "   📤 Preparing to export NDVI: NDVI_2022_05.tif\n"
     ]
    },
    {
     "data": {
      "application/vnd.jupyter.widget-view+json": {
       "model_id": "ae34b7e1758c43e48e1c4f148944be34",
       "version_major": 2,
       "version_minor": 0
      },
      "text/plain": [
       "NDVI_2022_05.tif: |          | 0.00/1.82M (raw) [  0.0%] in 00:00 (eta:     ?)"
      ]
     },
     "metadata": {},
     "output_type": "display_data"
    },
    {
     "name": "stdout",
     "output_type": "stream",
     "text": [
      "   ✅ NDVI export completed: NDVI_2022_05.tif\n",
      "   📤 Preparing to export NIRv: NIRv_2022_05.tif\n"
     ]
    },
    {
     "data": {
      "application/vnd.jupyter.widget-view+json": {
       "model_id": "10633c5649b2440d94d516ab96e7e492",
       "version_major": 2,
       "version_minor": 0
      },
      "text/plain": [
       "NIRv_2022_05.tif: |          | 0.00/3.64M (raw) [  0.0%] in 00:00 (eta:     ?)"
      ]
     },
     "metadata": {},
     "output_type": "display_data"
    },
    {
     "name": "stdout",
     "output_type": "stream",
     "text": [
      "   ✅ NIRv export completed: NIRv_2022_05.tif\n",
      "✅ 2022_05 successfully exported\n",
      "\n",
      "--- Processing 2022_06 ---\n",
      "    🛰️  Trying Sentinel-2...\n",
      "      📅 Expanding time window ±5 days: 2022-05-27 to 2022-07-05\n",
      "      ✅ Found 4 images\n",
      "    🛰️  Falling back to Landsat...\n",
      "      📅 Expanding time window ±5 days: 2022-05-27 to 2022-07-05\n",
      "      ✅ Found 3 images\n",
      "   📤 Preparing to export NDVI: NDVI_2022_06.tif\n"
     ]
    },
    {
     "data": {
      "application/vnd.jupyter.widget-view+json": {
       "model_id": "b1c29215bb814243a1378ddd3b96acd4",
       "version_major": 2,
       "version_minor": 0
      },
      "text/plain": [
       "NDVI_2022_06.tif: |          | 0.00/1.82M (raw) [  0.0%] in 00:00 (eta:     ?)"
      ]
     },
     "metadata": {},
     "output_type": "display_data"
    },
    {
     "name": "stdout",
     "output_type": "stream",
     "text": [
      "   ✅ NDVI export completed: NDVI_2022_06.tif\n",
      "   📤 Preparing to export NIRv: NIRv_2022_06.tif\n"
     ]
    },
    {
     "data": {
      "application/vnd.jupyter.widget-view+json": {
       "model_id": "9552aa60a17649c2ad5602c29f23c6f8",
       "version_major": 2,
       "version_minor": 0
      },
      "text/plain": [
       "NIRv_2022_06.tif: |          | 0.00/3.64M (raw) [  0.0%] in 00:00 (eta:     ?)"
      ]
     },
     "metadata": {},
     "output_type": "display_data"
    },
    {
     "name": "stdout",
     "output_type": "stream",
     "text": [
      "   ✅ NIRv export completed: NIRv_2022_06.tif\n",
      "✅ 2022_06 successfully exported\n",
      "\n",
      "--- Processing 2022_07 ---\n",
      "    🛰️  Trying Sentinel-2...\n",
      "      📅 Expanding time window ±5 days: 2022-06-26 to 2022-08-05\n",
      "      ✅ Found 10 images\n",
      "    🛰️  Falling back to Landsat...\n",
      "      📅 Expanding time window ±5 days: 2022-06-26 to 2022-08-05\n",
      "      ✅ Found 3 images\n",
      "   📤 Preparing to export NDVI: NDVI_2022_07.tif\n"
     ]
    },
    {
     "data": {
      "application/vnd.jupyter.widget-view+json": {
       "model_id": "2847b913bf2745d6babaac4b3fe7543a",
       "version_major": 2,
       "version_minor": 0
      },
      "text/plain": [
       "NDVI_2022_07.tif: |          | 0.00/1.82M (raw) [  0.0%] in 00:00 (eta:     ?)"
      ]
     },
     "metadata": {},
     "output_type": "display_data"
    },
    {
     "name": "stdout",
     "output_type": "stream",
     "text": [
      "   ✅ NDVI export completed: NDVI_2022_07.tif\n",
      "   📤 Preparing to export NIRv: NIRv_2022_07.tif\n"
     ]
    },
    {
     "data": {
      "application/vnd.jupyter.widget-view+json": {
       "model_id": "151552ace87c4c1bb0be475c0195b836",
       "version_major": 2,
       "version_minor": 0
      },
      "text/plain": [
       "NIRv_2022_07.tif: |          | 0.00/3.64M (raw) [  0.0%] in 00:00 (eta:     ?)"
      ]
     },
     "metadata": {},
     "output_type": "display_data"
    },
    {
     "name": "stdout",
     "output_type": "stream",
     "text": [
      "   ✅ NIRv export completed: NIRv_2022_07.tif\n",
      "✅ 2022_07 successfully exported\n",
      "\n",
      "--- Processing 2022_08 ---\n",
      "    🛰️  Trying Sentinel-2...\n",
      "      📅 Expanding time window ±5 days: 2022-07-27 to 2022-09-05\n",
      "      ✅ Found 13 images\n",
      "    🛰️  Falling back to Landsat...\n",
      "      📅 Expanding time window ±5 days: 2022-07-27 to 2022-09-05\n",
      "      ✅ Found 6 images\n",
      "   📤 Preparing to export NDVI: NDVI_2022_08.tif\n"
     ]
    },
    {
     "data": {
      "application/vnd.jupyter.widget-view+json": {
       "model_id": "3170dbd4c09e4995a2b23b7fd3364654",
       "version_major": 2,
       "version_minor": 0
      },
      "text/plain": [
       "NDVI_2022_08.tif: |          | 0.00/1.82M (raw) [  0.0%] in 00:00 (eta:     ?)"
      ]
     },
     "metadata": {},
     "output_type": "display_data"
    },
    {
     "name": "stdout",
     "output_type": "stream",
     "text": [
      "   ✅ NDVI export completed: NDVI_2022_08.tif\n",
      "   📤 Preparing to export NIRv: NIRv_2022_08.tif\n"
     ]
    },
    {
     "data": {
      "application/vnd.jupyter.widget-view+json": {
       "model_id": "8ccd4fb29ec3468183cd06d3600721bc",
       "version_major": 2,
       "version_minor": 0
      },
      "text/plain": [
       "NIRv_2022_08.tif: |          | 0.00/3.64M (raw) [  0.0%] in 00:00 (eta:     ?)"
      ]
     },
     "metadata": {},
     "output_type": "display_data"
    },
    {
     "name": "stdout",
     "output_type": "stream",
     "text": [
      "   ✅ NIRv export completed: NIRv_2022_08.tif\n",
      "✅ 2022_08 successfully exported\n",
      "\n",
      "--- Processing 2022_09 ---\n",
      "    🛰️  Trying Sentinel-2...\n",
      "      📅 Expanding time window ±7 days: 2022-08-25 to 2022-10-07\n",
      "      ✅ Found 13 images\n",
      "    🛰️  Falling back to Landsat...\n",
      "      📅 Expanding time window ±7 days: 2022-08-25 to 2022-10-07\n",
      "      ✅ Found 1 images\n",
      "      🔧 Using relaxed masking mode (clouds only)\n",
      "      🔧 Using relaxed masking mode (clouds only)\n",
      "      🔧 Using relaxed masking mode (clouds only)\n",
      "   📤 Preparing to export NDVI: NDVI_2022_09.tif\n"
     ]
    },
    {
     "data": {
      "application/vnd.jupyter.widget-view+json": {
       "model_id": "6af17a6f03ab49c5b633f18ff62f66bf",
       "version_major": 2,
       "version_minor": 0
      },
      "text/plain": [
       "NDVI_2022_09.tif: |          | 0.00/1.82M (raw) [  0.0%] in 00:00 (eta:     ?)"
      ]
     },
     "metadata": {},
     "output_type": "display_data"
    },
    {
     "name": "stdout",
     "output_type": "stream",
     "text": [
      "   ✅ NDVI export completed: NDVI_2022_09.tif\n",
      "   📤 Preparing to export NIRv: NIRv_2022_09.tif\n"
     ]
    },
    {
     "data": {
      "application/vnd.jupyter.widget-view+json": {
       "model_id": "1d254559e05c4350bb37ac9e53f58d75",
       "version_major": 2,
       "version_minor": 0
      },
      "text/plain": [
       "NIRv_2022_09.tif: |          | 0.00/3.64M (raw) [  0.0%] in 00:00 (eta:     ?)"
      ]
     },
     "metadata": {},
     "output_type": "display_data"
    },
    {
     "name": "stdout",
     "output_type": "stream",
     "text": [
      "   ✅ NIRv export completed: NIRv_2022_09.tif\n",
      "✅ 2022_09 successfully exported\n",
      "\n",
      "--- Processing 2022_10 ---\n",
      "    🛰️  Trying Sentinel-2...\n",
      "      📅 Expanding time window ±7 days: 2022-09-24 to 2022-11-07\n",
      "      ✅ Found 12 images\n",
      "    🛰️  Falling back to Landsat...\n",
      "      📅 Expanding time window ±7 days: 2022-09-24 to 2022-11-07\n",
      "      ✅ Found 2 images\n",
      "      🔧 Using relaxed masking mode (clouds only)\n",
      "      🔧 Using relaxed masking mode (clouds only)\n",
      "      🔧 Using relaxed masking mode (clouds only)\n",
      "   📤 Preparing to export NDVI: NDVI_2022_10.tif\n"
     ]
    },
    {
     "data": {
      "application/vnd.jupyter.widget-view+json": {
       "model_id": "46ee305d85d946049f352d41f2b137c7",
       "version_major": 2,
       "version_minor": 0
      },
      "text/plain": [
       "NDVI_2022_10.tif: |          | 0.00/1.82M (raw) [  0.0%] in 00:00 (eta:     ?)"
      ]
     },
     "metadata": {},
     "output_type": "display_data"
    },
    {
     "name": "stdout",
     "output_type": "stream",
     "text": [
      "   ✅ NDVI export completed: NDVI_2022_10.tif\n",
      "   📤 Preparing to export NIRv: NIRv_2022_10.tif\n"
     ]
    },
    {
     "data": {
      "application/vnd.jupyter.widget-view+json": {
       "model_id": "5fdf3d0bd358437ab1f60595ad3c0a75",
       "version_major": 2,
       "version_minor": 0
      },
      "text/plain": [
       "NIRv_2022_10.tif: |          | 0.00/3.64M (raw) [  0.0%] in 00:00 (eta:     ?)"
      ]
     },
     "metadata": {},
     "output_type": "display_data"
    },
    {
     "name": "stdout",
     "output_type": "stream",
     "text": [
      "   ✅ NIRv export completed: NIRv_2022_10.tif\n",
      "✅ 2022_10 successfully exported\n",
      "\n",
      "--- Processing 2022_11 ---\n",
      "    🛰️  Trying Sentinel-2...\n",
      "      📅 Expanding time window ±7 days: 2022-10-25 to 2022-12-07\n",
      "      ✅ Found 14 images\n",
      "    🛰️  Falling back to Landsat...\n",
      "      📅 Expanding time window ±7 days: 2022-10-25 to 2022-12-07\n",
      "      ✅ Found 1 images\n",
      "      🔧 Using relaxed masking mode (clouds only)\n",
      "      🔧 Using relaxed masking mode (clouds only)\n",
      "      🔧 Using relaxed masking mode (clouds only)\n",
      "   📤 Preparing to export NDVI: NDVI_2022_11.tif\n"
     ]
    },
    {
     "data": {
      "application/vnd.jupyter.widget-view+json": {
       "model_id": "1e31ca2fb4e649429863dc18d4ed5e6f",
       "version_major": 2,
       "version_minor": 0
      },
      "text/plain": [
       "NDVI_2022_11.tif: |          | 0.00/1.82M (raw) [  0.0%] in 00:00 (eta:     ?)"
      ]
     },
     "metadata": {},
     "output_type": "display_data"
    },
    {
     "name": "stdout",
     "output_type": "stream",
     "text": [
      "   ✅ NDVI export completed: NDVI_2022_11.tif\n",
      "   📤 Preparing to export NIRv: NIRv_2022_11.tif\n"
     ]
    },
    {
     "data": {
      "application/vnd.jupyter.widget-view+json": {
       "model_id": "420b01b170164223a8b026180b7c6e9f",
       "version_major": 2,
       "version_minor": 0
      },
      "text/plain": [
       "NIRv_2022_11.tif: |          | 0.00/3.64M (raw) [  0.0%] in 00:00 (eta:     ?)"
      ]
     },
     "metadata": {},
     "output_type": "display_data"
    },
    {
     "name": "stdout",
     "output_type": "stream",
     "text": [
      "   ✅ NIRv export completed: NIRv_2022_11.tif\n",
      "✅ 2022_11 successfully exported\n",
      "\n",
      "--- Processing 2022_12 ---\n",
      "    🛰️  Trying Sentinel-2...\n",
      "      📅 Expanding time window ±7 days: 2022-11-24 to 2023-01-07\n",
      "      ✅ Found 6 images\n",
      "    🛰️  Falling back to Landsat...\n",
      "      📅 Expanding time window ±7 days: 2022-11-24 to 2023-01-07\n",
      "      ✅ Found 2 images\n",
      "      🔧 Using relaxed masking mode (clouds only)\n",
      "      🔧 Using relaxed masking mode (clouds only)\n",
      "      🔧 Using relaxed masking mode (clouds only)\n",
      "   📤 Preparing to export NDVI: NDVI_2022_12.tif\n"
     ]
    },
    {
     "data": {
      "application/vnd.jupyter.widget-view+json": {
       "model_id": "8919a92dba004407a042f9c8b44077ef",
       "version_major": 2,
       "version_minor": 0
      },
      "text/plain": [
       "NDVI_2022_12.tif: |          | 0.00/1.82M (raw) [  0.0%] in 00:00 (eta:     ?)"
      ]
     },
     "metadata": {},
     "output_type": "display_data"
    },
    {
     "name": "stdout",
     "output_type": "stream",
     "text": [
      "   ✅ NDVI export completed: NDVI_2022_12.tif\n",
      "   📤 Preparing to export NIRv: NIRv_2022_12.tif\n"
     ]
    },
    {
     "data": {
      "application/vnd.jupyter.widget-view+json": {
       "model_id": "5a237530e03f4eb08be4ae3050ab1dd2",
       "version_major": 2,
       "version_minor": 0
      },
      "text/plain": [
       "NIRv_2022_12.tif: |          | 0.00/3.64M (raw) [  0.0%] in 00:00 (eta:     ?)"
      ]
     },
     "metadata": {},
     "output_type": "display_data"
    },
    {
     "name": "stdout",
     "output_type": "stream",
     "text": [
      "   ✅ NIRv export completed: NIRv_2022_12.tif\n",
      "✅ 2022_12 successfully exported\n",
      "\n",
      "--- Processing 2023_01 ---\n",
      "    🛰️  Trying Sentinel-2...\n",
      "      📅 Expanding time window ±7 days: 2022-12-25 to 2023-02-07\n",
      "      ✅ Found 1 images\n",
      "    🛰️  Falling back to Landsat...\n",
      "      📅 Expanding time window ±7 days: 2022-12-25 to 2023-02-07\n",
      "      ✅ Found 4 images\n",
      "      🔧 Using relaxed masking mode (clouds only)\n",
      "      🔧 Using relaxed masking mode (clouds only)\n",
      "      🔧 Using relaxed masking mode (clouds only)\n",
      "   📤 Preparing to export NDVI: NDVI_2023_01.tif\n"
     ]
    },
    {
     "data": {
      "application/vnd.jupyter.widget-view+json": {
       "model_id": "5fdc597f3b4048d5b114d7ce5ecdd449",
       "version_major": 2,
       "version_minor": 0
      },
      "text/plain": [
       "NDVI_2023_01.tif: |          | 0.00/1.82M (raw) [  0.0%] in 00:00 (eta:     ?)"
      ]
     },
     "metadata": {},
     "output_type": "display_data"
    },
    {
     "name": "stdout",
     "output_type": "stream",
     "text": [
      "   ✅ NDVI export completed: NDVI_2023_01.tif\n",
      "   📤 Preparing to export NIRv: NIRv_2023_01.tif\n"
     ]
    },
    {
     "data": {
      "application/vnd.jupyter.widget-view+json": {
       "model_id": "4fa0dfb6acde49e69af76f9ccff4349c",
       "version_major": 2,
       "version_minor": 0
      },
      "text/plain": [
       "NIRv_2023_01.tif: |          | 0.00/3.64M (raw) [  0.0%] in 00:00 (eta:     ?)"
      ]
     },
     "metadata": {},
     "output_type": "display_data"
    },
    {
     "name": "stdout",
     "output_type": "stream",
     "text": [
      "   ✅ NIRv export completed: NIRv_2023_01.tif\n",
      "✅ 2023_01 successfully exported\n",
      "\n",
      "--- Processing 2023_02 ---\n",
      "    🛰️  Trying Sentinel-2...\n",
      "      📅 Expanding time window ±7 days: 2023-01-25 to 2023-03-07\n",
      "      ✅ Found 10 images\n",
      "    🛰️  Falling back to Landsat...\n",
      "      📅 Expanding time window ±7 days: 2023-01-25 to 2023-03-07\n",
      "      ✅ Found 3 images\n",
      "      🔧 Using relaxed masking mode (clouds only)\n",
      "      🔧 Using relaxed masking mode (clouds only)\n",
      "      🔧 Using relaxed masking mode (clouds only)\n",
      "   📤 Preparing to export NDVI: NDVI_2023_02.tif\n"
     ]
    },
    {
     "data": {
      "application/vnd.jupyter.widget-view+json": {
       "model_id": "6ede029ea84749a196601ff91e0fa6f0",
       "version_major": 2,
       "version_minor": 0
      },
      "text/plain": [
       "NDVI_2023_02.tif: |          | 0.00/1.82M (raw) [  0.0%] in 00:00 (eta:     ?)"
      ]
     },
     "metadata": {},
     "output_type": "display_data"
    },
    {
     "name": "stdout",
     "output_type": "stream",
     "text": [
      "   ✅ NDVI export completed: NDVI_2023_02.tif\n",
      "   📤 Preparing to export NIRv: NIRv_2023_02.tif\n"
     ]
    },
    {
     "data": {
      "application/vnd.jupyter.widget-view+json": {
       "model_id": "3d6c78985e2c44f3b2661a8492ab3a6d",
       "version_major": 2,
       "version_minor": 0
      },
      "text/plain": [
       "NIRv_2023_02.tif: |          | 0.00/3.64M (raw) [  0.0%] in 00:00 (eta:     ?)"
      ]
     },
     "metadata": {},
     "output_type": "display_data"
    },
    {
     "name": "stdout",
     "output_type": "stream",
     "text": [
      "   ✅ NIRv export completed: NIRv_2023_02.tif\n",
      "✅ 2023_02 successfully exported\n",
      "\n",
      "--- Processing 2023_03 ---\n",
      "    🛰️  Trying Sentinel-2...\n",
      "      📅 Expanding time window ±7 days: 2023-02-22 to 2023-04-07\n",
      "      ✅ Found 9 images\n",
      "    🛰️  Falling back to Landsat...\n",
      "      📅 Expanding time window ±7 days: 2023-02-22 to 2023-04-07\n",
      "      ✅ Found 3 images\n",
      "      🔧 Using relaxed masking mode (clouds only)\n",
      "      🔧 Using relaxed masking mode (clouds only)\n",
      "      🔧 Using relaxed masking mode (clouds only)\n",
      "   📤 Preparing to export NDVI: NDVI_2023_03.tif\n"
     ]
    },
    {
     "data": {
      "application/vnd.jupyter.widget-view+json": {
       "model_id": "2a029393228f480e93d71dce6cb1a3e3",
       "version_major": 2,
       "version_minor": 0
      },
      "text/plain": [
       "NDVI_2023_03.tif: |          | 0.00/1.82M (raw) [  0.0%] in 00:00 (eta:     ?)"
      ]
     },
     "metadata": {},
     "output_type": "display_data"
    },
    {
     "name": "stdout",
     "output_type": "stream",
     "text": [
      "   ✅ NDVI export completed: NDVI_2023_03.tif\n",
      "   📤 Preparing to export NIRv: NIRv_2023_03.tif\n"
     ]
    },
    {
     "data": {
      "application/vnd.jupyter.widget-view+json": {
       "model_id": "cc3e3a657abc4836a507b4c8ddf3c14f",
       "version_major": 2,
       "version_minor": 0
      },
      "text/plain": [
       "NIRv_2023_03.tif: |          | 0.00/3.64M (raw) [  0.0%] in 00:00 (eta:     ?)"
      ]
     },
     "metadata": {},
     "output_type": "display_data"
    },
    {
     "name": "stdout",
     "output_type": "stream",
     "text": [
      "   ✅ NIRv export completed: NIRv_2023_03.tif\n",
      "✅ 2023_03 successfully exported\n",
      "\n",
      "--- Processing 2023_04 ---\n",
      "    🛰️  Trying Sentinel-2...\n",
      "      📅 Expanding time window ±7 days: 2023-03-25 to 2023-05-07\n",
      "      ✅ Found 6 images\n",
      "    🛰️  Falling back to Landsat...\n",
      "      📅 Expanding time window ±7 days: 2023-03-25 to 2023-05-07\n",
      "      ✅ Found 4 images\n",
      "      🔧 Using relaxed masking mode (clouds only)\n",
      "      🔧 Using relaxed masking mode (clouds only)\n",
      "      🔧 Using relaxed masking mode (clouds only)\n",
      "   📤 Preparing to export NDVI: NDVI_2023_04.tif\n"
     ]
    },
    {
     "data": {
      "application/vnd.jupyter.widget-view+json": {
       "model_id": "1780c10ad80942ae8608303ad379c531",
       "version_major": 2,
       "version_minor": 0
      },
      "text/plain": [
       "NDVI_2023_04.tif: |          | 0.00/1.82M (raw) [  0.0%] in 00:00 (eta:     ?)"
      ]
     },
     "metadata": {},
     "output_type": "display_data"
    },
    {
     "name": "stdout",
     "output_type": "stream",
     "text": [
      "   ✅ NDVI export completed: NDVI_2023_04.tif\n",
      "   📤 Preparing to export NIRv: NIRv_2023_04.tif\n"
     ]
    },
    {
     "data": {
      "application/vnd.jupyter.widget-view+json": {
       "model_id": "ec73c5bd0ffb41fb914e57477724da99",
       "version_major": 2,
       "version_minor": 0
      },
      "text/plain": [
       "NIRv_2023_04.tif: |          | 0.00/3.64M (raw) [  0.0%] in 00:00 (eta:     ?)"
      ]
     },
     "metadata": {},
     "output_type": "display_data"
    },
    {
     "name": "stdout",
     "output_type": "stream",
     "text": [
      "   ✅ NIRv export completed: NIRv_2023_04.tif\n",
      "✅ 2023_04 successfully exported\n",
      "\n",
      "--- Processing 2023_05 ---\n",
      "    🛰️  Trying Sentinel-2...\n",
      "      📅 Expanding time window ±7 days: 2023-04-24 to 2023-06-07\n",
      "      ✅ Found 21 images\n",
      "    🛰️  Falling back to Landsat...\n",
      "      📅 Expanding time window ±7 days: 2023-04-24 to 2023-06-07\n",
      "      ✅ Found 4 images\n",
      "      🔧 Using relaxed masking mode (clouds only)\n",
      "      🔧 Using relaxed masking mode (clouds only)\n",
      "      🔧 Using relaxed masking mode (clouds only)\n",
      "   📤 Preparing to export NDVI: NDVI_2023_05.tif\n"
     ]
    },
    {
     "data": {
      "application/vnd.jupyter.widget-view+json": {
       "model_id": "f3804e17cce4456699b184ba5b4ed6ac",
       "version_major": 2,
       "version_minor": 0
      },
      "text/plain": [
       "NDVI_2023_05.tif: |          | 0.00/1.82M (raw) [  0.0%] in 00:00 (eta:     ?)"
      ]
     },
     "metadata": {},
     "output_type": "display_data"
    },
    {
     "name": "stdout",
     "output_type": "stream",
     "text": [
      "   ✅ NDVI export completed: NDVI_2023_05.tif\n",
      "   📤 Preparing to export NIRv: NIRv_2023_05.tif\n"
     ]
    },
    {
     "data": {
      "application/vnd.jupyter.widget-view+json": {
       "model_id": "ceca069d55404b659f4f667fcaa75df1",
       "version_major": 2,
       "version_minor": 0
      },
      "text/plain": [
       "NIRv_2023_05.tif: |          | 0.00/3.64M (raw) [  0.0%] in 00:00 (eta:     ?)"
      ]
     },
     "metadata": {},
     "output_type": "display_data"
    },
    {
     "name": "stdout",
     "output_type": "stream",
     "text": [
      "   ✅ NIRv export completed: NIRv_2023_05.tif\n",
      "✅ 2023_05 successfully exported\n",
      "\n",
      "--- Processing 2023_06 ---\n",
      "    🛰️  Trying Sentinel-2...\n",
      "      📅 Expanding time window ±5 days: 2023-05-27 to 2023-07-05\n",
      "      ✅ Found 29 images\n",
      "    🛰️  Falling back to Landsat...\n",
      "      📅 Expanding time window ±5 days: 2023-05-27 to 2023-07-05\n",
      "      ✅ Found 5 images\n",
      "   📤 Preparing to export NDVI: NDVI_2023_06.tif\n"
     ]
    },
    {
     "data": {
      "application/vnd.jupyter.widget-view+json": {
       "model_id": "19f8cb4645364facb7f09c4c9d84f101",
       "version_major": 2,
       "version_minor": 0
      },
      "text/plain": [
       "NDVI_2023_06.tif: |          | 0.00/1.82M (raw) [  0.0%] in 00:00 (eta:     ?)"
      ]
     },
     "metadata": {},
     "output_type": "display_data"
    },
    {
     "name": "stdout",
     "output_type": "stream",
     "text": [
      "   ✅ NDVI export completed: NDVI_2023_06.tif\n",
      "   📤 Preparing to export NIRv: NIRv_2023_06.tif\n"
     ]
    },
    {
     "data": {
      "application/vnd.jupyter.widget-view+json": {
       "model_id": "561c0478a9c546c5a7db66591b0901ea",
       "version_major": 2,
       "version_minor": 0
      },
      "text/plain": [
       "NIRv_2023_06.tif: |          | 0.00/3.64M (raw) [  0.0%] in 00:00 (eta:     ?)"
      ]
     },
     "metadata": {},
     "output_type": "display_data"
    },
    {
     "name": "stdout",
     "output_type": "stream",
     "text": [
      "   ✅ NIRv export completed: NIRv_2023_06.tif\n",
      "✅ 2023_06 successfully exported\n",
      "\n",
      "--- Processing 2023_07 ---\n",
      "    🛰️  Trying Sentinel-2...\n",
      "      📅 Expanding time window ±5 days: 2023-06-26 to 2023-08-05\n",
      "      ✅ Found 1 images\n",
      "    🛰️  Falling back to Landsat...\n",
      "      📅 Expanding time window ±5 days: 2023-06-26 to 2023-08-05\n",
      "      ✅ Found 2 images\n",
      "   📤 Preparing to export NDVI: NDVI_2023_07.tif\n"
     ]
    },
    {
     "data": {
      "application/vnd.jupyter.widget-view+json": {
       "model_id": "a5beeeb3a7cc405c81bd57b09463c64b",
       "version_major": 2,
       "version_minor": 0
      },
      "text/plain": [
       "NDVI_2023_07.tif: |          | 0.00/1.82M (raw) [  0.0%] in 00:00 (eta:     ?)"
      ]
     },
     "metadata": {},
     "output_type": "display_data"
    },
    {
     "name": "stdout",
     "output_type": "stream",
     "text": [
      "   ✅ NDVI export completed: NDVI_2023_07.tif\n",
      "   📤 Preparing to export NIRv: NIRv_2023_07.tif\n"
     ]
    },
    {
     "data": {
      "application/vnd.jupyter.widget-view+json": {
       "model_id": "d61228b5b5d54fa4ab89848c6bbf06e8",
       "version_major": 2,
       "version_minor": 0
      },
      "text/plain": [
       "NIRv_2023_07.tif: |          | 0.00/3.64M (raw) [  0.0%] in 00:00 (eta:     ?)"
      ]
     },
     "metadata": {},
     "output_type": "display_data"
    },
    {
     "name": "stdout",
     "output_type": "stream",
     "text": [
      "   ✅ NIRv export completed: NIRv_2023_07.tif\n",
      "✅ 2023_07 successfully exported\n",
      "\n",
      "--- Processing 2023_08 ---\n",
      "    🛰️  Trying Sentinel-2...\n",
      "      📅 Expanding time window ±5 days: 2023-07-27 to 2023-09-05\n",
      "      ✅ Found 8 images\n",
      "    🛰️  Falling back to Landsat...\n",
      "      📅 Expanding time window ±5 days: 2023-07-27 to 2023-09-05\n",
      "      ✅ Found 6 images\n",
      "   📤 Preparing to export NDVI: NDVI_2023_08.tif\n"
     ]
    },
    {
     "data": {
      "application/vnd.jupyter.widget-view+json": {
       "model_id": "7ce17c57789b43f484007eaa45a51868",
       "version_major": 2,
       "version_minor": 0
      },
      "text/plain": [
       "NDVI_2023_08.tif: |          | 0.00/1.82M (raw) [  0.0%] in 00:00 (eta:     ?)"
      ]
     },
     "metadata": {},
     "output_type": "display_data"
    },
    {
     "name": "stdout",
     "output_type": "stream",
     "text": [
      "   ✅ NDVI export completed: NDVI_2023_08.tif\n",
      "   📤 Preparing to export NIRv: NIRv_2023_08.tif\n"
     ]
    },
    {
     "data": {
      "application/vnd.jupyter.widget-view+json": {
       "model_id": "12427588b2cd4b90aab31f0e6a0ebaab",
       "version_major": 2,
       "version_minor": 0
      },
      "text/plain": [
       "NIRv_2023_08.tif: |          | 0.00/3.64M (raw) [  0.0%] in 00:00 (eta:     ?)"
      ]
     },
     "metadata": {},
     "output_type": "display_data"
    },
    {
     "name": "stdout",
     "output_type": "stream",
     "text": [
      "   ✅ NIRv export completed: NIRv_2023_08.tif\n",
      "✅ 2023_08 successfully exported\n",
      "\n",
      "--- Processing 2023_09 ---\n",
      "    🛰️  Trying Sentinel-2...\n",
      "      📅 Expanding time window ±7 days: 2023-08-25 to 2023-10-07\n",
      "      ✅ Found 10 images\n",
      "    🛰️  Falling back to Landsat...\n",
      "      📅 Expanding time window ±7 days: 2023-08-25 to 2023-10-07\n",
      "      ✅ Found 3 images\n",
      "      🔧 Using relaxed masking mode (clouds only)\n",
      "      🔧 Using relaxed masking mode (clouds only)\n",
      "      🔧 Using relaxed masking mode (clouds only)\n",
      "   📤 Preparing to export NDVI: NDVI_2023_09.tif\n"
     ]
    },
    {
     "data": {
      "application/vnd.jupyter.widget-view+json": {
       "model_id": "1a33e2ec38624b9194dd2c5bd92e43ad",
       "version_major": 2,
       "version_minor": 0
      },
      "text/plain": [
       "NDVI_2023_09.tif: |          | 0.00/1.82M (raw) [  0.0%] in 00:00 (eta:     ?)"
      ]
     },
     "metadata": {},
     "output_type": "display_data"
    },
    {
     "name": "stdout",
     "output_type": "stream",
     "text": [
      "   ✅ NDVI export completed: NDVI_2023_09.tif\n",
      "   📤 Preparing to export NIRv: NIRv_2023_09.tif\n"
     ]
    },
    {
     "data": {
      "application/vnd.jupyter.widget-view+json": {
       "model_id": "d8312c7c3d584acd904bfce1f679b1b1",
       "version_major": 2,
       "version_minor": 0
      },
      "text/plain": [
       "NIRv_2023_09.tif: |          | 0.00/3.64M (raw) [  0.0%] in 00:00 (eta:     ?)"
      ]
     },
     "metadata": {},
     "output_type": "display_data"
    },
    {
     "name": "stdout",
     "output_type": "stream",
     "text": [
      "   ✅ NIRv export completed: NIRv_2023_09.tif\n",
      "✅ 2023_09 successfully exported\n",
      "\n",
      "--- Processing 2023_10 ---\n",
      "    🛰️  Trying Sentinel-2...\n",
      "      📅 Expanding time window ±7 days: 2023-09-24 to 2023-11-07\n",
      "      ✅ Found 6 images\n",
      "    🛰️  Falling back to Landsat...\n",
      "      📅 Expanding time window ±7 days: 2023-09-24 to 2023-11-07\n",
      "      ✅ Found 6 images\n",
      "      🔧 Using relaxed masking mode (clouds only)\n",
      "      🔧 Using relaxed masking mode (clouds only)\n",
      "      🔧 Using relaxed masking mode (clouds only)\n",
      "   📤 Preparing to export NDVI: NDVI_2023_10.tif\n"
     ]
    },
    {
     "data": {
      "application/vnd.jupyter.widget-view+json": {
       "model_id": "ee378a716ad4445db2b55502c7a0f0cb",
       "version_major": 2,
       "version_minor": 0
      },
      "text/plain": [
       "NDVI_2023_10.tif: |          | 0.00/1.82M (raw) [  0.0%] in 00:00 (eta:     ?)"
      ]
     },
     "metadata": {},
     "output_type": "display_data"
    },
    {
     "name": "stdout",
     "output_type": "stream",
     "text": [
      "   ✅ NDVI export completed: NDVI_2023_10.tif\n",
      "   📤 Preparing to export NIRv: NIRv_2023_10.tif\n"
     ]
    },
    {
     "data": {
      "application/vnd.jupyter.widget-view+json": {
       "model_id": "37fb9ead752f444eab97859d67f3c3fb",
       "version_major": 2,
       "version_minor": 0
      },
      "text/plain": [
       "NIRv_2023_10.tif: |          | 0.00/3.64M (raw) [  0.0%] in 00:00 (eta:     ?)"
      ]
     },
     "metadata": {},
     "output_type": "display_data"
    },
    {
     "name": "stdout",
     "output_type": "stream",
     "text": [
      "   ✅ NIRv export completed: NIRv_2023_10.tif\n",
      "✅ 2023_10 successfully exported\n",
      "\n",
      "--- Processing 2023_11 ---\n",
      "    🛰️  Trying Sentinel-2...\n",
      "      📅 Expanding time window ±7 days: 2023-10-25 to 2023-12-07\n",
      "      ✅ Found 1 images\n",
      "    🛰️  Falling back to Landsat...\n",
      "      📅 Expanding time window ±7 days: 2023-10-25 to 2023-12-07\n",
      "      ✅ Found 5 images\n",
      "      🔧 Using relaxed masking mode (clouds only)\n",
      "      🔧 Using relaxed masking mode (clouds only)\n",
      "      🔧 Using relaxed masking mode (clouds only)\n",
      "   📤 Preparing to export NDVI: NDVI_2023_11.tif\n"
     ]
    },
    {
     "data": {
      "application/vnd.jupyter.widget-view+json": {
       "model_id": "2e57ee0217834c738f0ae5217c6b69c5",
       "version_major": 2,
       "version_minor": 0
      },
      "text/plain": [
       "NDVI_2023_11.tif: |          | 0.00/1.82M (raw) [  0.0%] in 00:00 (eta:     ?)"
      ]
     },
     "metadata": {},
     "output_type": "display_data"
    },
    {
     "name": "stdout",
     "output_type": "stream",
     "text": [
      "   ✅ NDVI export completed: NDVI_2023_11.tif\n",
      "   📤 Preparing to export NIRv: NIRv_2023_11.tif\n"
     ]
    },
    {
     "data": {
      "application/vnd.jupyter.widget-view+json": {
       "model_id": "3cb52db2525c44619b1e19ac375634ac",
       "version_major": 2,
       "version_minor": 0
      },
      "text/plain": [
       "NIRv_2023_11.tif: |          | 0.00/3.64M (raw) [  0.0%] in 00:00 (eta:     ?)"
      ]
     },
     "metadata": {},
     "output_type": "display_data"
    },
    {
     "name": "stdout",
     "output_type": "stream",
     "text": [
      "   ✅ NIRv export completed: NIRv_2023_11.tif\n",
      "✅ 2023_11 successfully exported\n",
      "\n",
      "--- Processing 2023_12 ---\n",
      "    🛰️  Trying Sentinel-2...\n",
      "      📅 Expanding time window ±7 days: 2023-11-24 to 2024-01-07\n",
      "      ✅ Found 4 images\n",
      "    🛰️  Falling back to Landsat...\n",
      "      📅 Expanding time window ±7 days: 2023-11-24 to 2024-01-07\n",
      "      ✅ Found 3 images\n",
      "      🔧 Using relaxed masking mode (clouds only)\n",
      "      🔧 Using relaxed masking mode (clouds only)\n",
      "      🔧 Using relaxed masking mode (clouds only)\n",
      "   📤 Preparing to export NDVI: NDVI_2023_12.tif\n"
     ]
    },
    {
     "data": {
      "application/vnd.jupyter.widget-view+json": {
       "model_id": "bd184595fe6e4d9686b46b1e79f277ac",
       "version_major": 2,
       "version_minor": 0
      },
      "text/plain": [
       "NDVI_2023_12.tif: |          | 0.00/1.82M (raw) [  0.0%] in 00:00 (eta:     ?)"
      ]
     },
     "metadata": {},
     "output_type": "display_data"
    },
    {
     "name": "stdout",
     "output_type": "stream",
     "text": [
      "   ✅ NDVI export completed: NDVI_2023_12.tif\n",
      "   📤 Preparing to export NIRv: NIRv_2023_12.tif\n"
     ]
    },
    {
     "data": {
      "application/vnd.jupyter.widget-view+json": {
       "model_id": "0bddbb1ca62b430d900a9f5c3f4e248d",
       "version_major": 2,
       "version_minor": 0
      },
      "text/plain": [
       "NIRv_2023_12.tif: |          | 0.00/3.64M (raw) [  0.0%] in 00:00 (eta:     ?)"
      ]
     },
     "metadata": {},
     "output_type": "display_data"
    },
    {
     "name": "stdout",
     "output_type": "stream",
     "text": [
      "   ✅ NIRv export completed: NIRv_2023_12.tif\n",
      "✅ 2023_12 successfully exported\n",
      "\n",
      "--- Processing 2024_01 ---\n",
      "    🛰️  Trying Sentinel-2...\n",
      "      📅 Expanding time window ±7 days: 2023-12-25 to 2024-02-07\n",
      "      ✅ Found 12 images\n",
      "    🛰️  Falling back to Landsat...\n",
      "      📅 Expanding time window ±7 days: 2023-12-25 to 2024-02-07\n",
      "      ✅ Found 3 images\n",
      "      🔧 Using relaxed masking mode (clouds only)\n",
      "      🔧 Using relaxed masking mode (clouds only)\n",
      "      🔧 Using relaxed masking mode (clouds only)\n",
      "   📤 Preparing to export NDVI: NDVI_2024_01.tif\n"
     ]
    },
    {
     "data": {
      "application/vnd.jupyter.widget-view+json": {
       "model_id": "f8bbd07b3ac34535bb5db7302734ad65",
       "version_major": 2,
       "version_minor": 0
      },
      "text/plain": [
       "NDVI_2024_01.tif: |          | 0.00/1.82M (raw) [  0.0%] in 00:00 (eta:     ?)"
      ]
     },
     "metadata": {},
     "output_type": "display_data"
    },
    {
     "name": "stdout",
     "output_type": "stream",
     "text": [
      "   ✅ NDVI export completed: NDVI_2024_01.tif\n",
      "   📤 Preparing to export NIRv: NIRv_2024_01.tif\n"
     ]
    },
    {
     "data": {
      "application/vnd.jupyter.widget-view+json": {
       "model_id": "9e62ca05ae8a4791b624d2ee06392c10",
       "version_major": 2,
       "version_minor": 0
      },
      "text/plain": [
       "NIRv_2024_01.tif: |          | 0.00/3.64M (raw) [  0.0%] in 00:00 (eta:     ?)"
      ]
     },
     "metadata": {},
     "output_type": "display_data"
    },
    {
     "name": "stdout",
     "output_type": "stream",
     "text": [
      "   ✅ NIRv export completed: NIRv_2024_01.tif\n",
      "✅ 2024_01 successfully exported\n",
      "\n",
      "--- Processing 2024_02 ---\n",
      "    🛰️  Trying Sentinel-2...\n",
      "      📅 Expanding time window ±7 days: 2024-01-25 to 2024-03-07\n",
      "      ✅ Found 9 images\n",
      "    🛰️  Falling back to Landsat...\n",
      "      📅 Expanding time window ±7 days: 2024-01-25 to 2024-03-07\n",
      "      ✅ Found 1 images\n",
      "      🔧 Using relaxed masking mode (clouds only)\n",
      "      🔧 Using relaxed masking mode (clouds only)\n",
      "      🔧 Using relaxed masking mode (clouds only)\n",
      "   📤 Preparing to export NDVI: NDVI_2024_02.tif\n"
     ]
    },
    {
     "data": {
      "application/vnd.jupyter.widget-view+json": {
       "model_id": "a66e37eff72d4a75b34a4d7eeacb0e4d",
       "version_major": 2,
       "version_minor": 0
      },
      "text/plain": [
       "NDVI_2024_02.tif: |          | 0.00/1.82M (raw) [  0.0%] in 00:00 (eta:     ?)"
      ]
     },
     "metadata": {},
     "output_type": "display_data"
    },
    {
     "name": "stdout",
     "output_type": "stream",
     "text": [
      "   ✅ NDVI export completed: NDVI_2024_02.tif\n",
      "   📤 Preparing to export NIRv: NIRv_2024_02.tif\n"
     ]
    },
    {
     "data": {
      "application/vnd.jupyter.widget-view+json": {
       "model_id": "6349ec663d694c0b961b8786c0854f65",
       "version_major": 2,
       "version_minor": 0
      },
      "text/plain": [
       "NIRv_2024_02.tif: |          | 0.00/3.64M (raw) [  0.0%] in 00:00 (eta:     ?)"
      ]
     },
     "metadata": {},
     "output_type": "display_data"
    },
    {
     "name": "stdout",
     "output_type": "stream",
     "text": [
      "   ✅ NIRv export completed: NIRv_2024_02.tif\n",
      "✅ 2024_02 successfully exported\n",
      "\n",
      "--- Processing 2024_03 ---\n",
      "    🛰️  Trying Sentinel-2...\n",
      "      📅 Expanding time window ±7 days: 2024-02-23 to 2024-04-07\n",
      "      ✅ Found 4 images\n",
      "    🛰️  Falling back to Landsat...\n",
      "      📅 Expanding time window ±7 days: 2024-02-23 to 2024-04-07\n",
      "      ✅ Found 4 images\n",
      "      🔧 Using relaxed masking mode (clouds only)\n",
      "      🔧 Using relaxed masking mode (clouds only)\n",
      "      🔧 Using relaxed masking mode (clouds only)\n",
      "   📤 Preparing to export NDVI: NDVI_2024_03.tif\n"
     ]
    },
    {
     "data": {
      "application/vnd.jupyter.widget-view+json": {
       "model_id": "10cc5b9a34e745a6a49b1a3dddfd289c",
       "version_major": 2,
       "version_minor": 0
      },
      "text/plain": [
       "NDVI_2024_03.tif: |          | 0.00/1.82M (raw) [  0.0%] in 00:00 (eta:     ?)"
      ]
     },
     "metadata": {},
     "output_type": "display_data"
    },
    {
     "name": "stdout",
     "output_type": "stream",
     "text": [
      "   ✅ NDVI export completed: NDVI_2024_03.tif\n",
      "   📤 Preparing to export NIRv: NIRv_2024_03.tif\n"
     ]
    },
    {
     "data": {
      "application/vnd.jupyter.widget-view+json": {
       "model_id": "546e7f3235a14b5ab5516c58f0f6c82e",
       "version_major": 2,
       "version_minor": 0
      },
      "text/plain": [
       "NIRv_2024_03.tif: |          | 0.00/3.64M (raw) [  0.0%] in 00:00 (eta:     ?)"
      ]
     },
     "metadata": {},
     "output_type": "display_data"
    },
    {
     "name": "stdout",
     "output_type": "stream",
     "text": [
      "   ✅ NIRv export completed: NIRv_2024_03.tif\n",
      "✅ 2024_03 successfully exported\n",
      "\n",
      "--- Processing 2024_04 ---\n",
      "    🛰️  Trying Sentinel-2...\n",
      "      📅 Expanding time window ±7 days: 2024-03-25 to 2024-05-07\n",
      "      ✅ Found 3 images\n",
      "    🛰️  Falling back to Landsat...\n",
      "      📅 Expanding time window ±7 days: 2024-03-25 to 2024-05-07\n",
      "      ✅ Found 1 images\n",
      "      🔧 Using relaxed masking mode (clouds only)\n",
      "      🔧 Using relaxed masking mode (clouds only)\n",
      "      🔧 Using relaxed masking mode (clouds only)\n",
      "   📤 Preparing to export NDVI: NDVI_2024_04.tif\n"
     ]
    },
    {
     "data": {
      "application/vnd.jupyter.widget-view+json": {
       "model_id": "5ec6f243fc5a478f8f7a6af6b8bb89a2",
       "version_major": 2,
       "version_minor": 0
      },
      "text/plain": [
       "NDVI_2024_04.tif: |          | 0.00/1.82M (raw) [  0.0%] in 00:00 (eta:     ?)"
      ]
     },
     "metadata": {},
     "output_type": "display_data"
    },
    {
     "name": "stdout",
     "output_type": "stream",
     "text": [
      "   ✅ NDVI export completed: NDVI_2024_04.tif\n",
      "   📤 Preparing to export NIRv: NIRv_2024_04.tif\n"
     ]
    },
    {
     "data": {
      "application/vnd.jupyter.widget-view+json": {
       "model_id": "b1f2dbfc96aa4aabab6ae427ac71f1f5",
       "version_major": 2,
       "version_minor": 0
      },
      "text/plain": [
       "NIRv_2024_04.tif: |          | 0.00/3.64M (raw) [  0.0%] in 00:00 (eta:     ?)"
      ]
     },
     "metadata": {},
     "output_type": "display_data"
    },
    {
     "name": "stdout",
     "output_type": "stream",
     "text": [
      "   ✅ NIRv export completed: NIRv_2024_04.tif\n",
      "✅ 2024_04 successfully exported\n",
      "\n",
      "--- Processing 2024_05 ---\n",
      "    🛰️  Trying Sentinel-2...\n",
      "      📅 Expanding time window ±7 days: 2024-04-24 to 2024-06-07\n",
      "      ✅ Found 9 images\n",
      "    🛰️  Falling back to Landsat...\n",
      "      📅 Expanding time window ±7 days: 2024-04-24 to 2024-06-07\n",
      "      ✅ Found 2 images\n",
      "      🔧 Using relaxed masking mode (clouds only)\n",
      "      🔧 Using relaxed masking mode (clouds only)\n",
      "      🔧 Using relaxed masking mode (clouds only)\n",
      "   📤 Preparing to export NDVI: NDVI_2024_05.tif\n"
     ]
    },
    {
     "data": {
      "application/vnd.jupyter.widget-view+json": {
       "model_id": "9800440d72ec4d58836bf6357fdf067b",
       "version_major": 2,
       "version_minor": 0
      },
      "text/plain": [
       "NDVI_2024_05.tif: |          | 0.00/1.82M (raw) [  0.0%] in 00:00 (eta:     ?)"
      ]
     },
     "metadata": {},
     "output_type": "display_data"
    },
    {
     "name": "stdout",
     "output_type": "stream",
     "text": [
      "   ✅ NDVI export completed: NDVI_2024_05.tif\n",
      "   📤 Preparing to export NIRv: NIRv_2024_05.tif\n"
     ]
    },
    {
     "data": {
      "application/vnd.jupyter.widget-view+json": {
       "model_id": "a1c0b94ac34c4bc390d14484b592c666",
       "version_major": 2,
       "version_minor": 0
      },
      "text/plain": [
       "NIRv_2024_05.tif: |          | 0.00/3.64M (raw) [  0.0%] in 00:00 (eta:     ?)"
      ]
     },
     "metadata": {},
     "output_type": "display_data"
    },
    {
     "name": "stdout",
     "output_type": "stream",
     "text": [
      "   ✅ NIRv export completed: NIRv_2024_05.tif\n",
      "✅ 2024_05 successfully exported\n",
      "\n",
      "--- Processing 2024_06 ---\n",
      "    🛰️  Trying Sentinel-2...\n",
      "      📅 Expanding time window ±5 days: 2024-05-27 to 2024-07-05\n",
      "      ✅ Found 3 images\n",
      "    🛰️  Falling back to Landsat...\n",
      "      📅 Expanding time window ±5 days: 2024-05-27 to 2024-07-05\n",
      "      ✅ Found 3 images\n",
      "   📤 Preparing to export NDVI: NDVI_2024_06.tif\n"
     ]
    },
    {
     "data": {
      "application/vnd.jupyter.widget-view+json": {
       "model_id": "1b04abf74f5146ab818fa392d9128789",
       "version_major": 2,
       "version_minor": 0
      },
      "text/plain": [
       "NDVI_2024_06.tif: |          | 0.00/1.82M (raw) [  0.0%] in 00:00 (eta:     ?)"
      ]
     },
     "metadata": {},
     "output_type": "display_data"
    },
    {
     "name": "stdout",
     "output_type": "stream",
     "text": [
      "   ✅ NDVI export completed: NDVI_2024_06.tif\n",
      "   📤 Preparing to export NIRv: NIRv_2024_06.tif\n"
     ]
    },
    {
     "data": {
      "application/vnd.jupyter.widget-view+json": {
       "model_id": "7660675e313a497da2d28af5774aa7e5",
       "version_major": 2,
       "version_minor": 0
      },
      "text/plain": [
       "NIRv_2024_06.tif: |          | 0.00/3.64M (raw) [  0.0%] in 00:00 (eta:     ?)"
      ]
     },
     "metadata": {},
     "output_type": "display_data"
    },
    {
     "name": "stdout",
     "output_type": "stream",
     "text": [
      "   ✅ NIRv export completed: NIRv_2024_06.tif\n",
      "✅ 2024_06 successfully exported\n",
      "\n",
      "--- Processing 2024_07 ---\n",
      "    🛰️  Trying Sentinel-2...\n",
      "      📅 Expanding time window ±5 days: 2024-06-26 to 2024-08-05\n",
      "      ✅ Found 9 images\n",
      "    🛰️  Falling back to Landsat...\n",
      "      📅 Expanding time window ±5 days: 2024-06-26 to 2024-08-05\n",
      "      ✅ Found 1 images\n",
      "   📤 Preparing to export NDVI: NDVI_2024_07.tif\n"
     ]
    },
    {
     "data": {
      "application/vnd.jupyter.widget-view+json": {
       "model_id": "b1d588d11b034f7a8712e59d89b4ebc7",
       "version_major": 2,
       "version_minor": 0
      },
      "text/plain": [
       "NDVI_2024_07.tif: |          | 0.00/1.82M (raw) [  0.0%] in 00:00 (eta:     ?)"
      ]
     },
     "metadata": {},
     "output_type": "display_data"
    },
    {
     "name": "stdout",
     "output_type": "stream",
     "text": [
      "   ✅ NDVI export completed: NDVI_2024_07.tif\n",
      "   📤 Preparing to export NIRv: NIRv_2024_07.tif\n"
     ]
    },
    {
     "data": {
      "application/vnd.jupyter.widget-view+json": {
       "model_id": "c4370cc0e92a4592af19474c92d50836",
       "version_major": 2,
       "version_minor": 0
      },
      "text/plain": [
       "NIRv_2024_07.tif: |          | 0.00/3.64M (raw) [  0.0%] in 00:00 (eta:     ?)"
      ]
     },
     "metadata": {},
     "output_type": "display_data"
    },
    {
     "name": "stdout",
     "output_type": "stream",
     "text": [
      "   ✅ NIRv export completed: NIRv_2024_07.tif\n",
      "✅ 2024_07 successfully exported\n",
      "\n",
      "--- Processing 2024_08 ---\n",
      "    🛰️  Trying Sentinel-2...\n",
      "      📅 Expanding time window ±5 days: 2024-07-27 to 2024-09-05\n",
      "      ✅ Found 14 images\n",
      "    🛰️  Falling back to Landsat...\n",
      "      📅 Expanding time window ±5 days: 2024-07-27 to 2024-09-05\n",
      "      ✅ Found 6 images\n",
      "   📤 Preparing to export NDVI: NDVI_2024_08.tif\n"
     ]
    },
    {
     "data": {
      "application/vnd.jupyter.widget-view+json": {
       "model_id": "f836c403a50d4e9da631dc3b22ecdcd3",
       "version_major": 2,
       "version_minor": 0
      },
      "text/plain": [
       "NDVI_2024_08.tif: |          | 0.00/1.82M (raw) [  0.0%] in 00:00 (eta:     ?)"
      ]
     },
     "metadata": {},
     "output_type": "display_data"
    },
    {
     "name": "stdout",
     "output_type": "stream",
     "text": [
      "   ✅ NDVI export completed: NDVI_2024_08.tif\n",
      "   📤 Preparing to export NIRv: NIRv_2024_08.tif\n"
     ]
    },
    {
     "data": {
      "application/vnd.jupyter.widget-view+json": {
       "model_id": "c7ace4f6191c43619b929c2b039ec439",
       "version_major": 2,
       "version_minor": 0
      },
      "text/plain": [
       "NIRv_2024_08.tif: |          | 0.00/3.64M (raw) [  0.0%] in 00:00 (eta:     ?)"
      ]
     },
     "metadata": {},
     "output_type": "display_data"
    },
    {
     "name": "stdout",
     "output_type": "stream",
     "text": [
      "   ✅ NIRv export completed: NIRv_2024_08.tif\n",
      "✅ 2024_08 successfully exported\n",
      "\n",
      "--- Processing 2024_09 ---\n",
      "    🛰️  Trying Sentinel-2...\n",
      "      📅 Expanding time window ±7 days: 2024-08-25 to 2024-10-07\n",
      "      ✅ Found 15 images\n",
      "    🛰️  Falling back to Landsat...\n",
      "      📅 Expanding time window ±7 days: 2024-08-25 to 2024-10-07\n",
      "      ✅ Found 5 images\n",
      "      🔧 Using relaxed masking mode (clouds only)\n",
      "      🔧 Using relaxed masking mode (clouds only)\n",
      "      🔧 Using relaxed masking mode (clouds only)\n",
      "   📤 Preparing to export NDVI: NDVI_2024_09.tif\n"
     ]
    },
    {
     "data": {
      "application/vnd.jupyter.widget-view+json": {
       "model_id": "5643a64fcd564f3ab1d67bb079dd408d",
       "version_major": 2,
       "version_minor": 0
      },
      "text/plain": [
       "NDVI_2024_09.tif: |          | 0.00/1.82M (raw) [  0.0%] in 00:00 (eta:     ?)"
      ]
     },
     "metadata": {},
     "output_type": "display_data"
    },
    {
     "name": "stdout",
     "output_type": "stream",
     "text": [
      "   ✅ NDVI export completed: NDVI_2024_09.tif\n",
      "   📤 Preparing to export NIRv: NIRv_2024_09.tif\n"
     ]
    },
    {
     "data": {
      "application/vnd.jupyter.widget-view+json": {
       "model_id": "87c1184f3c764161bd8287bd27624f2f",
       "version_major": 2,
       "version_minor": 0
      },
      "text/plain": [
       "NIRv_2024_09.tif: |          | 0.00/3.64M (raw) [  0.0%] in 00:00 (eta:     ?)"
      ]
     },
     "metadata": {},
     "output_type": "display_data"
    },
    {
     "name": "stdout",
     "output_type": "stream",
     "text": [
      "   ✅ NIRv export completed: NIRv_2024_09.tif\n",
      "✅ 2024_09 successfully exported\n",
      "\n",
      "--- Processing 2024_10 ---\n",
      "    🛰️  Trying Sentinel-2...\n",
      "      📅 Expanding time window ±7 days: 2024-09-24 to 2024-11-07\n",
      "      ✅ Found 7 images\n",
      "    🛰️  Falling back to Landsat...\n",
      "      📅 Expanding time window ±7 days: 2024-09-24 to 2024-11-07\n",
      "      ✅ Found 2 images\n",
      "      🔧 Using relaxed masking mode (clouds only)\n",
      "      🔧 Using relaxed masking mode (clouds only)\n",
      "      🔧 Using relaxed masking mode (clouds only)\n",
      "   📤 Preparing to export NDVI: NDVI_2024_10.tif\n"
     ]
    },
    {
     "data": {
      "application/vnd.jupyter.widget-view+json": {
       "model_id": "a791c35bb60f4ad19d8a72db7862f3b8",
       "version_major": 2,
       "version_minor": 0
      },
      "text/plain": [
       "NDVI_2024_10.tif: |          | 0.00/1.82M (raw) [  0.0%] in 00:00 (eta:     ?)"
      ]
     },
     "metadata": {},
     "output_type": "display_data"
    },
    {
     "name": "stdout",
     "output_type": "stream",
     "text": [
      "   ✅ NDVI export completed: NDVI_2024_10.tif\n",
      "   📤 Preparing to export NIRv: NIRv_2024_10.tif\n"
     ]
    },
    {
     "data": {
      "application/vnd.jupyter.widget-view+json": {
       "model_id": "05eb8329724043f5a858b55d1ae47675",
       "version_major": 2,
       "version_minor": 0
      },
      "text/plain": [
       "NIRv_2024_10.tif: |          | 0.00/3.64M (raw) [  0.0%] in 00:00 (eta:     ?)"
      ]
     },
     "metadata": {},
     "output_type": "display_data"
    },
    {
     "name": "stdout",
     "output_type": "stream",
     "text": [
      "   ✅ NIRv export completed: NIRv_2024_10.tif\n",
      "✅ 2024_10 successfully exported\n",
      "\n",
      "--- Processing 2024_11 ---\n",
      "    🛰️  Trying Sentinel-2...\n",
      "      📅 Expanding time window ±7 days: 2024-10-25 to 2024-12-07\n",
      "      ✅ Found 8 images\n",
      "    🛰️  Falling back to Landsat...\n",
      "      📅 Expanding time window ±7 days: 2024-10-25 to 2024-12-07\n",
      "      ✅ Found 1 images\n",
      "      🔧 Using relaxed masking mode (clouds only)\n",
      "      🔧 Using relaxed masking mode (clouds only)\n",
      "      🔧 Using relaxed masking mode (clouds only)\n",
      "   📤 Preparing to export NDVI: NDVI_2024_11.tif\n"
     ]
    },
    {
     "data": {
      "application/vnd.jupyter.widget-view+json": {
       "model_id": "d49552bb7670447890f8e7a560fec877",
       "version_major": 2,
       "version_minor": 0
      },
      "text/plain": [
       "NDVI_2024_11.tif: |          | 0.00/1.82M (raw) [  0.0%] in 00:00 (eta:     ?)"
      ]
     },
     "metadata": {},
     "output_type": "display_data"
    },
    {
     "name": "stdout",
     "output_type": "stream",
     "text": [
      "   ✅ NDVI export completed: NDVI_2024_11.tif\n",
      "   📤 Preparing to export NIRv: NIRv_2024_11.tif\n"
     ]
    },
    {
     "data": {
      "application/vnd.jupyter.widget-view+json": {
       "model_id": "c1b5d33a8b284bb6a22cd98bd0a05b3a",
       "version_major": 2,
       "version_minor": 0
      },
      "text/plain": [
       "NIRv_2024_11.tif: |          | 0.00/3.64M (raw) [  0.0%] in 00:00 (eta:     ?)"
      ]
     },
     "metadata": {},
     "output_type": "display_data"
    },
    {
     "name": "stdout",
     "output_type": "stream",
     "text": [
      "   ✅ NIRv export completed: NIRv_2024_11.tif\n",
      "✅ 2024_11 successfully exported\n",
      "\n",
      "--- Processing 2024_12 ---\n",
      "    🛰️  Trying Sentinel-2...\n",
      "      📅 Expanding time window ±7 days: 2024-11-24 to 2025-01-07\n",
      "      ✅ Found 3 images\n",
      "    🛰️  Falling back to Landsat...\n",
      "      📅 Expanding time window ±7 days: 2024-11-24 to 2025-01-07\n",
      "      ✅ Found 1 images\n",
      "      🔧 Using relaxed masking mode (clouds only)\n",
      "      🔧 Using relaxed masking mode (clouds only)\n",
      "      🔧 Using relaxed masking mode (clouds only)\n",
      "   📤 Preparing to export NDVI: NDVI_2024_12.tif\n"
     ]
    },
    {
     "data": {
      "application/vnd.jupyter.widget-view+json": {
       "model_id": "7d0ce8f107e84ad290f7b4307863a0f4",
       "version_major": 2,
       "version_minor": 0
      },
      "text/plain": [
       "NDVI_2024_12.tif: |          | 0.00/1.82M (raw) [  0.0%] in 00:00 (eta:     ?)"
      ]
     },
     "metadata": {},
     "output_type": "display_data"
    },
    {
     "name": "stdout",
     "output_type": "stream",
     "text": [
      "   ✅ NDVI export completed: NDVI_2024_12.tif\n",
      "   📤 Preparing to export NIRv: NIRv_2024_12.tif\n"
     ]
    },
    {
     "data": {
      "application/vnd.jupyter.widget-view+json": {
       "model_id": "eb550d933b224ec09b23a05200b0386c",
       "version_major": 2,
       "version_minor": 0
      },
      "text/plain": [
       "NIRv_2024_12.tif: |          | 0.00/3.64M (raw) [  0.0%] in 00:00 (eta:     ?)"
      ]
     },
     "metadata": {},
     "output_type": "display_data"
    },
    {
     "name": "stdout",
     "output_type": "stream",
     "text": [
      "   ✅ NIRv export completed: NIRv_2024_12.tif\n",
      "✅ 2024_12 successfully exported\n",
      "\n",
      "==================================================\n",
      "✅ Monthly (Max Coverage Mode) Download Finished (1996-2024)\n",
      "📊 Success rate: 330/348 (94.8%)\n",
      "❌ Failed periods: 18 items\n",
      "   Details: 1999_01, 1999_02, 1999_03, 1999_04, 1999_05, 2005_01, 2005_02, 2006_01, 2006_12, 2007_01, 2008_01, 2008_02, 2009_01, 2010_01, 2010_02, 2011_01, 2013_01, 2013_02\n",
      "💡 Tip: If gaps still exist, consider:\n",
      "   1. Using subsequent time series interpolation methods\n",
      "   2. Checking specific failed months for image availability\n",
      "==================================================\n"
     ]
    }
   ],
   "source": [
    "# # 1. Standard monthly download (original quality)\n",
    "# download_satellite_data(\n",
    "#         roi=roi, \n",
    "#         start_year=1993,\n",
    "#         end_year=1996,\n",
    "#         parent_folder='GEEpreprocessing/monthly', # 输出文件夹\n",
    "#         monthly=True # 设置为 True 下载月度数据\n",
    "#         # months=[6, 7, 8] # 如果 monthly=True，可以指定月份\n",
    "#     )\n",
    "\n",
    "\n",
    "# 2. Maximum coverage mode monthly download (recommended)\n",
    "download_satellite_data(\n",
    "    roi=roi, \n",
    "    start_year=1996, \n",
    "    end_year=2024,\n",
    "    monthly=True,\n",
    "    max_coverage_mode=True,  # 🔑 Key parameter\n",
    "    parent_folder='GEEpreprocessing/monthly'\n",
    ")"
   ]
  }
 ],
 "metadata": {
  "kernelspec": {
   "display_name": "gee",
   "language": "python",
   "name": "python3"
  },
  "language_info": {
   "codemirror_mode": {
    "name": "ipython",
    "version": 3
   },
   "file_extension": ".py",
   "mimetype": "text/x-python",
   "name": "python",
   "nbconvert_exporter": "python",
   "pygments_lexer": "ipython3",
   "version": "3.11.11"
  }
 },
 "nbformat": 4,
 "nbformat_minor": 2
}
