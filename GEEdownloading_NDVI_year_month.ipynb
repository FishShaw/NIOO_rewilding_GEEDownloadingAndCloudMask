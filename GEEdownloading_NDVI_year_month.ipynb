{
 "cells": [
  {
   "cell_type": "code",
   "execution_count": null,
   "metadata": {},
   "outputs": [],
   "source": [
    "import ee\n",
    "\n",
    "# Initialize Google Earth Engine\n",
    "try:\n",
    "    ee.Initialize(project='gee-satellite-data-456115')\n",
    "    print(\"Earth Engine successfully initialized!\")\n",
    "except Exception as e:\n",
    "    print(\"Initialization failed. Please run 'earthengine authenticate' in command line first\")\n",
    "    print(f\"Error message: {str(e)}\")"
   ]
  },
  {
   "cell_type": "code",
   "execution_count": null,
   "metadata": {},
   "outputs": [],
   "source": [
    "import geemap\n",
    "import os\n",
    "import datetime\n",
    "import numpy as np\n",
    "import pandas as pd\n",
    "import geopandas as gpd\n",
    "import matplotlib.pyplot as plt\n",
    "import geedim as gd\n",
    "\n",
    "from satellite_indices_new import get_roi_from_shapefile, download_satellite_data"
   ]
  },
  {
   "cell_type": "code",
   "execution_count": null,
   "metadata": {},
   "outputs": [],
   "source": [
    "shapefile_path = 'shapefile/GeldersePoort_cliped.shp' # Ensure correct path\n",
    "roi = get_roi_from_shapefile(shapefile_path)"
   ]
  },
  {
   "cell_type": "code",
   "execution_count": null,
   "metadata": {},
   "outputs": [],
   "source": [
    "# Download yearly (growing season) data\n",
    "download_satellite_data(\n",
    "        roi=roi, # Pass the loaded ROI as parameter\n",
    "        start_year=1993,\n",
    "        end_year=2024,\n",
    "        parent_folder='GEEpreprocessing/yearly', # Output folder\n",
    "        monthly=False # Set to True for monthly data download\n",
    "        # months=[6, 7, 8] # If monthly=True, specific months can be specified\n",
    "    )"
   ]
  },
  {
   "cell_type": "code",
   "execution_count": null,
   "metadata": {},
   "outputs": [],
   "source": [
    "# # 1. Standard monthly download (original quality)\n",
    "# download_satellite_data(\n",
    "#         roi=roi, \n",
    "#         start_year=1993,\n",
    "#         end_year=1996,\n",
    "#         parent_folder='GEEpreprocessing/monthly', # 输出文件夹\n",
    "#         monthly=True # 设置为 True 下载月度数据\n",
    "#         # months=[6, 7, 8] # 如果 monthly=True，可以指定月份\n",
    "#     )\n",
    "\n",
    "\n",
    "# 2. Maximum coverage mode monthly download\n",
    "download_satellite_data(\n",
    "    roi=roi, \n",
    "    start_year=1996, \n",
    "    end_year=2024,\n",
    "    monthly=True,\n",
    "    max_coverage_mode=True,  # 🔑 Key parameter\n",
    "    parent_folder='GEEpreprocessing/monthly'\n",
    ")"
   ]
  }
 ],
 "metadata": {
  "kernelspec": {
   "display_name": "gee",
   "language": "python",
   "name": "python3"
  },
  "language_info": {
   "codemirror_mode": {
    "name": "ipython",
    "version": 3
   },
   "file_extension": ".py",
   "mimetype": "text/x-python",
   "name": "python",
   "nbconvert_exporter": "python",
   "pygments_lexer": "ipython3",
   "version": "3.11.11"
  }
 },
 "nbformat": 4,
 "nbformat_minor": 2
}
