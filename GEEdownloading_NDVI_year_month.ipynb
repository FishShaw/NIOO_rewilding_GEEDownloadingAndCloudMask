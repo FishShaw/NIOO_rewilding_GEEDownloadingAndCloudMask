{
 "cells": [
  {
   "cell_type": "code",
   "execution_count": 1,
   "metadata": {},
   "outputs": [
    {
     "name": "stdout",
     "output_type": "stream",
     "text": [
      "Earth Engine 已成功初始化!\n"
     ]
    }
   ],
   "source": [
    "import ee\n",
    "\n",
    "# 简化初始化逻辑\n",
    "try:\n",
    "    ee.Initialize(project='gee-satellite-data-456115')\n",
    "    print(\"Earth Engine 已成功初始化!\")\n",
    "except Exception as e:\n",
    "    print(\"初始化失败，请先在命令行运行 'earthengine authenticate'\")\n",
    "    print(f\"错误信息: {str(e)}\")"
   ]
  },
  {
   "cell_type": "code",
   "execution_count": 2,
   "metadata": {},
   "outputs": [],
   "source": [
    "import geemap\n",
    "import os\n",
    "import datetime\n",
    "import numpy as np\n",
    "import pandas as pd\n",
    "import geopandas as gpd\n",
    "import matplotlib.pyplot as plt\n",
    "import geedim as gd\n",
    "\n",
    "from satellite_indices_new import get_roi_from_shapefile, download_satellite_data"
   ]
  },
  {
   "cell_type": "code",
   "execution_count": 3,
   "metadata": {},
   "outputs": [
    {
     "data": {
      "text/html": [
       "\n",
       "            <style>\n",
       "                .geemap-dark {\n",
       "                    --jp-widgets-color: white;\n",
       "                    --jp-widgets-label-color: white;\n",
       "                    --jp-ui-font-color1: white;\n",
       "                    --jp-layout-color2: #454545;\n",
       "                    background-color: #383838;\n",
       "                }\n",
       "\n",
       "                .geemap-dark .jupyter-button {\n",
       "                    --jp-layout-color3: #383838;\n",
       "                }\n",
       "\n",
       "                .geemap-colab {\n",
       "                    background-color: var(--colab-primary-surface-color, white);\n",
       "                }\n",
       "\n",
       "                .geemap-colab .jupyter-button {\n",
       "                    --jp-layout-color3: var(--colab-primary-surface-color, white);\n",
       "                }\n",
       "            </style>\n",
       "            "
      ],
      "text/plain": [
       "<IPython.core.display.HTML object>"
      ]
     },
     "metadata": {},
     "output_type": "display_data"
    }
   ],
   "source": [
    "shapefile_path = 'shapefile/GeldersePoort_cliped.shp' # 确保路径正确\n",
    "roi = get_roi_from_shapefile(shapefile_path)"
   ]
  },
  {
   "cell_type": "code",
   "execution_count": 5,
   "metadata": {},
   "outputs": [
    {
     "data": {
      "text/html": [
       "\n",
       "            <style>\n",
       "                .geemap-dark {\n",
       "                    --jp-widgets-color: white;\n",
       "                    --jp-widgets-label-color: white;\n",
       "                    --jp-ui-font-color1: white;\n",
       "                    --jp-layout-color2: #454545;\n",
       "                    background-color: #383838;\n",
       "                }\n",
       "\n",
       "                .geemap-dark .jupyter-button {\n",
       "                    --jp-layout-color3: #383838;\n",
       "                }\n",
       "\n",
       "                .geemap-colab {\n",
       "                    background-color: var(--colab-primary-surface-color, white);\n",
       "                }\n",
       "\n",
       "                .geemap-colab .jupyter-button {\n",
       "                    --jp-layout-color3: var(--colab-primary-surface-color, white);\n",
       "                }\n",
       "            </style>\n",
       "            "
      ],
      "text/plain": [
       "<IPython.core.display.HTML object>"
      ]
     },
     "metadata": {},
     "output_type": "display_data"
    },
    {
     "name": "stdout",
     "output_type": "stream",
     "text": [
      "--- Starting Annual (Growing Season) Download (2003-2004) ---\n",
      "--- Output Directory: GEEpreprocessing/yearly\\annual_growing_season ---\n",
      "\n",
      "--- Processing 2003 ---\n",
      " Preparing to export NDVI: NDVI_2003.tif\n"
     ]
    },
    {
     "data": {
      "application/vnd.jupyter.widget-view+json": {
       "model_id": "a4301c80770f4090a6fa5e0acb193a71",
       "version_major": 2,
       "version_minor": 0
      },
      "text/plain": [
       "NDVI_2003.tif: |          | 0.00/1.82M (raw) [  0.0%] in 00:00 (eta:     ?)"
      ]
     },
     "metadata": {},
     "output_type": "display_data"
    },
    {
     "name": "stdout",
     "output_type": "stream",
     "text": [
      "✅ NDVI Exported: NDVI_2003.tif\n",
      " Preparing to export NIRv: NIRv_2003.tif\n"
     ]
    },
    {
     "data": {
      "application/vnd.jupyter.widget-view+json": {
       "model_id": "c4aaf42c40a14ae7a5b58f361600df42",
       "version_major": 2,
       "version_minor": 0
      },
      "text/plain": [
       "NIRv_2003.tif: |          | 0.00/3.64M (raw) [  0.0%] in 00:00 (eta:     ?)"
      ]
     },
     "metadata": {},
     "output_type": "display_data"
    },
    {
     "name": "stdout",
     "output_type": "stream",
     "text": [
      "✅ NIRv Exported: NIRv_2003.tif\n",
      "\n",
      "--- Processing 2004 ---\n",
      " Preparing to export NDVI: NDVI_2004.tif\n"
     ]
    },
    {
     "data": {
      "application/vnd.jupyter.widget-view+json": {
       "model_id": "dab53f429fc542a7aad43f5e523633e7",
       "version_major": 2,
       "version_minor": 0
      },
      "text/plain": [
       "NDVI_2004.tif: |          | 0.00/1.82M (raw) [  0.0%] in 00:00 (eta:     ?)"
      ]
     },
     "metadata": {},
     "output_type": "display_data"
    },
    {
     "name": "stdout",
     "output_type": "stream",
     "text": [
      "✅ NDVI Exported: NDVI_2004.tif\n",
      " Preparing to export NIRv: NIRv_2004.tif\n"
     ]
    },
    {
     "data": {
      "application/vnd.jupyter.widget-view+json": {
       "model_id": "58d5f29c0219489fa776fd37819e2e39",
       "version_major": 2,
       "version_minor": 0
      },
      "text/plain": [
       "NIRv_2004.tif: |          | 0.00/3.64M (raw) [  0.0%] in 00:00 (eta:     ?)"
      ]
     },
     "metadata": {},
     "output_type": "display_data"
    },
    {
     "name": "stdout",
     "output_type": "stream",
     "text": [
      "✅ NIRv Exported: NIRv_2004.tif\n",
      "\n",
      "✅ Annual (Growing Season) Download Finished (2003-2004)\n"
     ]
    }
   ],
   "source": [
    "# yearly data\n",
    "download_satellite_data(\n",
    "        roi=roi, # 将加载的 roi 作为参数传递\n",
    "        start_year=2003,\n",
    "        end_year=2004,\n",
    "        parent_folder='GEEpreprocessing/yearly', # 输出文件夹\n",
    "        monthly=False # 设置为 True 下载月度数据\n",
    "        # months=[6, 7, 8] # 如果 monthly=True，可以指定月份\n",
    "    )"
   ]
  },
  {
   "cell_type": "code",
   "execution_count": null,
   "metadata": {},
   "outputs": [],
   "source": [
    "# monthly data\n",
    "download_satellite_data(\n",
    "    start_year=1993, \n",
    "    end_year=2024, \n",
    "    parent_folder='GEEpreprocessing/monthly',\n",
    "    monthly=True,  # all 12 months data\n",
    "    months=None  # when [5,6,7,8,9] means growing season data\n",
    ")"
   ]
  }
 ],
 "metadata": {
  "kernelspec": {
   "display_name": "gee",
   "language": "python",
   "name": "python3"
  },
  "language_info": {
   "codemirror_mode": {
    "name": "ipython",
    "version": 3
   },
   "file_extension": ".py",
   "mimetype": "text/x-python",
   "name": "python",
   "nbconvert_exporter": "python",
   "pygments_lexer": "ipython3",
   "version": "3.11.11"
  }
 },
 "nbformat": 4,
 "nbformat_minor": 2
}
